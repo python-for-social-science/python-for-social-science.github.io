{
 "cells": [
  {
   "cell_type": "markdown",
   "id": "30415e3e-0cbb-4805-871a-27ac1a56a378",
   "metadata": {},
   "source": [
    "### Final Exam – Python Programming Concepts\n",
    "**Instructions:**  \n",
    "- Write clear, well-commented code.  \n",
    "\n",
    "- Ensure your code runs without errors.\n",
    "\n",
    "- Submit a compiled html file called `'midterm\\_<UID>'` where `<UID>` is your BruinID number.\n",
    "\n",
    "- Import any necessary libraries as appropriate.\n",
    "\n",
    "Good luck!"
   ]
  },
  {
   "cell_type": "markdown",
   "id": "873f8dc5-1161-4e68-8ebf-56d66c1194e9",
   "metadata": {},
   "source": [
    "### **Dataset: United States States Dataset with 2020 Presidential Vote Shares**\n",
    "\n",
    "You are provided with the following dataset, which includes population, median income, unemployment rate, and the 2020 Presidential Election vote shares for each U.S. state."
   ]
  },
  {
   "cell_type": "code",
   "execution_count": null,
   "id": "b2044af7-bc96-4aa4-8e65-c3725c7328b3",
   "metadata": {},
   "outputs": [],
   "source": [
    "states_data = [\n",
    "    {\"State\": \"Alabama\", \"Population\": 4903185, \"Median Income\": 50736, \"Unemployment Rate\": 3.6, \"Democrat Vote Share\": 36.6, \"Republican Vote Share\": 62.0, \"Region\": \"South\"},\n",
    "    {\"State\": \"Alaska\", \"Population\": 731545, \"Median Income\": 77640, \"Unemployment Rate\": 6.1, \"Democrat Vote Share\": 42.8, \"Republican Vote Share\": 52.8, \"Region\": \"West\"},\n",
    "    {\"State\": \"Arizona\", \"Population\": 7278717, \"Median Income\": 61529, \"Unemployment Rate\": 4.8, \"Democrat Vote Share\": 49.4, \"Republican Vote Share\": 49.1, \"Region\": \"Southwest\"},\n",
    "    {\"State\": \"Arkansas\", \"Population\": 3017804, \"Median Income\": 48376, \"Unemployment Rate\": 3.5, \"Democrat Vote Share\": 34.8, \"Republican Vote Share\": 62.4, \"Region\": \"South\"},\n",
    "    {\"State\": \"California\", \"Population\": 39512223, \"Median Income\": 75277, \"Unemployment Rate\": 4.3, \"Democrat Vote Share\": 63.5, \"Republican Vote Share\": 34.3, \"Region\": \"West\"},\n",
    "    {\"State\": \"Colorado\", \"Population\": 5758736, \"Median Income\": 72456, \"Unemployment Rate\": 3.2, \"Democrat Vote Share\": 55.4, \"Republican Vote Share\": 41.9, \"Region\": \"Mountain West\"},\n",
    "    {\"State\": \"Connecticut\", \"Population\": 3565287, \"Median Income\": 78105, \"Unemployment Rate\": 3.7, \"Democrat Vote Share\": 59.2, \"Republican Vote Share\": 39.2, \"Region\": \"Northeast\"},\n",
    "    {\"State\": \"Delaware\", \"Population\": 973764, \"Median Income\": 68187, \"Unemployment Rate\": 3.9, \"Democrat Vote Share\": 58.7, \"Republican Vote Share\": 39.8, \"Region\": \"Mid-Atlantic\"},\n",
    "    {\"State\": \"Florida\", \"Population\": 21477737, \"Median Income\": 55660, \"Unemployment Rate\": 4.0, \"Democrat Vote Share\": 47.9, \"Republican Vote Share\": 51.2, \"Region\": \"South\"},\n",
    "    {\"State\": \"Georgia\", \"Population\": 10617423, \"Median Income\": 61218, \"Unemployment Rate\": 3.7, \"Democrat Vote Share\": 49.5, \"Republican Vote Share\": 49.3, \"Region\": \"South\"},\n",
    "    {\"State\": \"Hawaii\", \"Population\": 1415872, \"Median Income\": 83502, \"Unemployment Rate\": 2.8, \"Democrat Vote Share\": 63.7, \"Republican Vote Share\": 34.3, \"Region\": \"West\"},\n",
    "    {\"State\": \"Idaho\", \"Population\": 1787065, \"Median Income\": 58912, \"Unemployment Rate\": 2.9, \"Democrat Vote Share\": 33.1, \"Republican Vote Share\": 63.9, \"Region\": \"Mountain West\"},\n",
    "    {\"State\": \"Illinois\", \"Population\": 12671821, \"Median Income\": 69296, \"Unemployment Rate\": 4.1, \"Democrat Vote Share\": 57.5, \"Republican Vote Share\": 40.5, \"Region\": \"Midwest\"},\n",
    "    {\"State\": \"Indiana\", \"Population\": 6732219, \"Median Income\": 57401, \"Unemployment Rate\": 3.2, \"Democrat Vote Share\": 41.0, \"Republican Vote Share\": 57.0, \"Region\": \"Midwest\"},\n",
    "    {\"State\": \"Iowa\", \"Population\": 3155070, \"Median Income\": 61201, \"Unemployment Rate\": 2.6, \"Democrat Vote Share\": 44.9, \"Republican Vote Share\": 53.1, \"Region\": \"Upper Midwest\"},\n",
    "    {\"State\": \"Kansas\", \"Population\": 2913314, \"Median Income\": 59838, \"Unemployment Rate\": 3.4, \"Democrat Vote Share\": 41.6, \"Republican Vote Share\": 56.2, \"Region\": \"Midwest\"},\n",
    "    {\"State\": \"Kentucky\", \"Population\": 4467673, \"Median Income\": 52238, \"Unemployment Rate\": 4.3, \"Democrat Vote Share\": 36.2, \"Republican Vote Share\": 62.1, \"Region\": \"South\"},\n",
    "    {\"State\": \"Louisiana\", \"Population\": 4648794, \"Median Income\": 47180, \"Unemployment Rate\": 4.6, \"Democrat Vote Share\": 39.9, \"Republican Vote Share\": 58.5, \"Region\": \"South\"},\n",
    "    {\"State\": \"Maine\", \"Population\": 1344212, \"Median Income\": 57644, \"Unemployment Rate\": 3.0, \"Democrat Vote Share\": 53.1, \"Republican Vote Share\": 44.0, \"Region\": \"Northeast\"},\n",
    "    {\"State\": \"Maryland\", \"Population\": 6045680, \"Median Income\": 86109, \"Unemployment Rate\": 3.8, \"Democrat Vote Share\": 65.4, \"Republican Vote Share\": 32.2, \"Region\": \"Mid-Atlantic\"},\n",
    "    {\"State\": \"Massachusetts\", \"Population\": 6892503, \"Median Income\": 86278, \"Unemployment Rate\": 2.9, \"Democrat Vote Share\": 65.6, \"Republican Vote Share\": 32.1, \"Region\": \"Northeast\"},\n",
    "    {\"State\": \"Michigan\", \"Population\": 9986857, \"Median Income\": 57338, \"Unemployment Rate\": 4.1, \"Democrat Vote Share\": 50.6, \"Republican Vote Share\": 47.8, \"Region\": \"Upper Midwest\"},\n",
    "    {\"State\": \"Minnesota\", \"Population\": 5639632, \"Median Income\": 74093, \"Unemployment Rate\": 2.8, \"Democrat Vote Share\": 52.4, \"Republican Vote Share\": 45.3, \"Region\": \"Upper Midwest\"},\n",
    "    {\"State\": \"Mississippi\", \"Population\": 2976149, \"Median Income\": 45284, \"Unemployment Rate\": 5.5, \"Democrat Vote Share\": 41.1, \"Republican Vote Share\": 57.6, \"Region\": \"South\"},\n",
    "    {\"State\": \"Missouri\", \"Population\": 6137428, \"Median Income\": 55561, \"Unemployment Rate\": 3.3, \"Democrat Vote Share\": 41.4, \"Republican Vote Share\": 56.8, \"Region\": \"Midwest\"},\n",
    "    {\"State\": \"Montana\", \"Population\": 1068778, \"Median Income\": 57792, \"Unemployment Rate\": 3.4, \"Democrat Vote Share\": 40.6, \"Republican Vote Share\": 56.9, \"Region\": \"Mountain West\"},\n",
    "    {\"State\": \"Nebraska\", \"Population\": 1934408, \"Median Income\": 62506, \"Unemployment Rate\": 2.8, \"Democrat Vote Share\": 39.2, \"Republican Vote Share\": 58.2, \"Region\": \"Midwest\"},\n",
    "    {\"State\": \"Nevada\", \"Population\": 3080156, \"Median Income\": 58352, \"Unemployment Rate\": 4.8, \"Democrat Vote Share\": 50.1, \"Republican Vote Share\": 47.7, \"Region\": \"Southwest\"},\n",
    "    {\"State\": \"New Hampshire\", \"Population\": 1359711, \"Median Income\": 76868, \"Unemployment Rate\": 2.4, \"Democrat Vote Share\": 52.7, \"Republican Vote Share\": 45.4, \"Region\": \"Northeast\"},\n",
    "    {\"State\": \"New Jersey\", \"Population\": 8882190, \"Median Income\": 85051, \"Unemployment Rate\": 3.4, \"Democrat Vote Share\": 57.3, \"Republican Vote Share\": 41.4, \"Region\": \"Mid-Atlantic\"},\n",
    "    {\"State\": \"New Mexico\", \"Population\": 2096829, \"Median Income\": 49686, \"Unemployment Rate\": 5.0, \"Democrat Vote Share\": 54.3, \"Republican Vote Share\": 43.5, \"Region\": \"Southwest\"},\n",
    "    {\"State\": \"New York\", \"Population\": 19453561, \"Median Income\": 67844, \"Unemployment Rate\": 4.3, \"Democrat Vote Share\": 60.9, \"Republican Vote Share\": 37.7, \"Region\": \"Mid-Atlantic\"},\n",
    "    {\"State\": \"North Carolina\", \"Population\": 10488084, \"Median Income\": 57034, \"Unemployment Rate\": 3.7, \"Democrat Vote Share\": 48.6, \"Republican Vote Share\": 50.1, \"Region\": \"South\"},\n",
    "    {\"State\": \"North Dakota\", \"Population\": 762062, \"Median Income\": 64111, \"Unemployment Rate\": 2.3, \"Democrat Vote Share\": 31.8, \"Republican Vote Share\": 65.1, \"Region\": \"Upper Midwest\"},\n",
    "    {\"State\": \"Ohio\", \"Population\": 11689100, \"Median Income\": 56473, \"Unemployment Rate\": 4.2, \"Democrat Vote Share\": 45.2, \"Republican Vote Share\": 53.3, \"Region\": \"Midwest\"},\n",
    "    {\"State\": \"Oklahoma\", \"Population\": 3956971, \"Median Income\": 51924, \"Unemployment Rate\": 3.5, \"Democrat Vote Share\": 32.3, \"Republican Vote Share\": 65.4, \"Region\": \"Southwest\"},\n",
    "    {\"State\": \"Oregon\", \"Population\": 4217737, \"Median Income\": 63426, \"Unemployment Rate\": 4.2, \"Democrat Vote Share\": 56.5, \"Republican Vote Share\": 40.4, \"Region\": \"West\"},\n",
    "    {\"State\": \"Pennsylvania\", \"Population\": 12801989, \"Median Income\": 63763, \"Unemployment Rate\": 4.5, \"Democrat Vote Share\": 50.0, \"Republican Vote Share\": 48.8, \"Region\": \"Mid-Atlantic\"},\n",
    "    {\"State\": \"Rhode Island\", \"Population\": 1059361, \"Median Income\": 64237, \"Unemployment Rate\": 3.9, \"Democrat Vote Share\": 59.4, \"Republican Vote Share\": 38.6, \"Region\": \"Northeast\"},\n",
    "    {\"State\": \"South Carolina\", \"Population\": 5148714, \"Median Income\": 56184, \"Unemployment Rate\": 3.5, \"Democrat Vote Share\": 44.2, \"Republican Vote Share\": 55.1, \"Region\": \"South\"},\n",
    "    {\"State\": \"South Dakota\", \"Population\": 884659, \"Median Income\": 59496, \"Unemployment Rate\": 2.9, \"Democrat Vote Share\": 35.6, \"Republican Vote Share\": 61.8, \"Region\": \"Upper Midwest\"},\n",
    "    {\"State\": \"Tennessee\", \"Population\": 6833174, \"Median Income\": 53720, \"Unemployment Rate\": 3.3, \"Democrat Vote Share\": 37.4, \"Republican Vote Share\": 60.7, \"Region\": \"South\"},\n",
    "    {\"State\": \"Texas\", \"Population\": 28995881, \"Median Income\": 61274, \"Unemployment Rate\": 3.4, \"Democrat Vote Share\": 46.5, \"Republican Vote Share\": 52.1, \"Region\": \"Southwest\"},\n",
    "    {\"State\": \"Utah\", \"Population\": 3205958, \"Median Income\": 71414, \"Unemployment Rate\": 2.3, \"Democrat Vote Share\": 37.6, \"Republican Vote Share\": 58.1, \"Region\": \"Mountain West\"},\n",
    "    {\"State\": \"Vermont\", \"Population\": 623989, \"Median Income\": 63001, \"Unemployment Rate\": 2.7, \"Democrat Vote Share\": 66.1, \"Republican Vote Share\": 30.8, \"Region\": \"Northeast\"},\n",
    "    {\"State\": \"Virginia\", \"Population\": 8535519, \"Median Income\": 76456, \"Unemployment Rate\": 2.8, \"Democrat Vote Share\": 54.1, \"Republican Vote Share\": 44.0, \"Region\": \"South\"},\n",
    "    {\"State\": \"Washington\", \"Population\": 7614893, \"Median Income\": 74889, \"Unemployment Rate\": 4.1, \"Democrat Vote Share\": 58.4, \"Republican Vote Share\": 38.8, \"Region\": \"West\"},\n",
    "    {\"State\": \"West Virginia\", \"Population\": 1792147, \"Median Income\": 45769, \"Unemployment Rate\": 5.3, \"Democrat Vote Share\": 30.6, \"Republican Vote Share\": 68.6, \"Region\": \"South\"},\n",
    "    {\"State\": \"Wisconsin\", \"Population\": 5822434, \"Median Income\": 63090, \"Unemployment Rate\": 3.4, \"Democrat Vote Share\": 49.4, \"Republican Vote Share\": 48.8, \"Region\": \"Upper Midwest\"},\n",
    "    {\"State\": \"Wyoming\", \"Population\": 578759, \"Median Income\": 64886, \"Unemployment Rate\": 3.7, \"Democrat Vote Share\": 26.6, \"Republican Vote Share\": 69.9, \"Region\": \"Mountain West\"}\n",
    "]"
   ]
  },
  {
   "cell_type": "code",
   "execution_count": null,
   "id": "ebfb4c0c-cbcb-4337-939c-d45e83b95dee",
   "metadata": {},
   "outputs": [],
   "source": [
    "This dataset includes:\n",
    "- **State**: The name of the state.\n",
    "- **Population**: The state's population in 2020.\n",
    "- **Median Income**: The state's median household income.\n",
    "- **Unemployment Rate**: The unemployment rate as of 2020.\n",
    "- **Democrat Vote Share**: Percentage of votes received by the Democratic candidate in the 2020 Presidential election.\n",
    "- **Republican Vote Share**: Percentage of votes received by the Republican candidate in the 2020 Presidential election.\n",
    "- **Region**: The geographic region of the state."
   ]
  },
  {
   "cell_type": "markdown",
   "id": "8b736adf-3910-43c7-99d4-605088b4f050",
   "metadata": {},
   "source": [
    "#### **Question 1: DataFrames**  \n",
    "1. Convert the provided `states_data` into a Pandas DataFrame."
   ]
  },
  {
   "cell_type": "markdown",
   "id": "b54e1911-8cd3-4066-8657-71c73d18af50",
   "metadata": {},
   "source": []
  },
  {
   "cell_type": "markdown",
   "id": "8b7bbff2-3cb3-4a10-838f-cba7478b9c37",
   "metadata": {},
   "source": [
    "2. Save the DataFrame as a CSV file named `states_data.csv`."
   ]
  },
  {
   "cell_type": "markdown",
   "id": "4935f366-0136-4a46-9730-bc030d614ac3",
   "metadata": {},
   "source": []
  },
  {
   "cell_type": "markdown",
   "id": "7dfa9188-9140-44d3-b7bd-639ba36866b9",
   "metadata": {},
   "source": [
    "3. Load the CSV file back into a DataFrame and display the **final 7 rows**."
   ]
  },
  {
   "cell_type": "code",
   "execution_count": null,
   "id": "628c7bea-e516-49b6-80c4-cf63c86bfb8f",
   "metadata": {},
   "outputs": [],
   "source": []
  },
  {
   "cell_type": "markdown",
   "id": "be7dea7d-ac20-4ec6-bcc2-325f9749bb37",
   "metadata": {},
   "source": [
    "#### **Question 2: Merging**  \n",
    "You are provided with the following dataset of education levels for all states, where the state names are represented by their two-letter abbreviations:"
   ]
  },
  {
   "cell_type": "code",
   "execution_count": null,
   "id": "2af2c31b-867d-4fc8-9132-4f63bfbdb38e",
   "metadata": {},
   "outputs": [],
   "source": [
    "education_data = [\n",
    "    {\"state\": \"AL\", \"Avg Education (Years)\": 12.7},\n",
    "    {\"state\": \"AK\", \"Avg Education (Years)\": 13.5},\n",
    "    {\"state\": \"AZ\", \"Avg Education (Years)\": 12.9},\n",
    "    {\"state\": \"AR\", \"Avg Education (Years)\": 12.4},\n",
    "    {\"state\": \"CA\", \"Avg Education (Years)\": 13.7},\n",
    "    {\"state\": \"CO\", \"Avg Education (Years)\": 14.0},\n",
    "    {\"state\": \"CT\", \"Avg Education (Years)\": 14.2},\n",
    "    {\"state\": \"DE\", \"Avg Education (Years)\": 13.1},\n",
    "    {\"state\": \"FL\", \"Avg Education (Years)\": 12.8},\n",
    "    {\"state\": \"GA\", \"Avg Education (Years)\": 12.9},\n",
    "    {\"state\": \"HI\", \"Avg Education (Years)\": 13.3},\n",
    "    {\"state\": \"ID\", \"Avg Education (Years)\": 12.6},\n",
    "    {\"state\": \"IL\", \"Avg Education (Years)\": 13.5},\n",
    "    {\"state\": \"IN\", \"Avg Education (Years)\": 12.8},\n",
    "    {\"state\": \"IA\", \"Avg Education (Years)\": 13.0},\n",
    "    {\"state\": \"KS\", \"Avg Education (Years)\": 13.2},\n",
    "    {\"state\": \"KY\", \"Avg Education (Years)\": 12.5},\n",
    "    {\"state\": \"LA\", \"Avg Education (Years)\": 12.4},\n",
    "    {\"state\": \"ME\", \"Avg Education (Years)\": 13.3},\n",
    "    {\"state\": \"MD\", \"Avg Education (Years)\": 14.1},\n",
    "    {\"state\": \"MA\", \"Avg Education (Years)\": 14.3},\n",
    "    {\"state\": \"MI\", \"Avg Education (Years)\": 13.0},\n",
    "    {\"state\": \"MN\", \"Avg Education (Years)\": 14.0},\n",
    "    {\"state\": \"MS\", \"Avg Education (Years)\": 12.2},\n",
    "    {\"state\": \"MO\", \"Avg Education (Years)\": 12.7},\n",
    "    {\"state\": \"MT\", \"Avg Education (Years)\": 12.9},\n",
    "    {\"state\": \"NE\", \"Avg Education (Years)\": 13.0},\n",
    "    {\"state\": \"NV\", \"Avg Education (Years)\": 12.5},\n",
    "    {\"state\": \"NH\", \"Avg Education (Years)\": 13.8},\n",
    "    {\"state\": \"NJ\", \"Avg Education (Years)\": 14.1},\n",
    "    {\"state\": \"NM\", \"Avg Education (Years)\": 12.3},\n",
    "    {\"state\": \"NY\", \"Avg Education (Years)\": 13.7},\n",
    "    {\"state\": \"NC\", \"Avg Education (Years)\": 12.9},\n",
    "    {\"state\": \"ND\", \"Avg Education (Years)\": 13.1},\n",
    "    {\"state\": \"OH\", \"Avg Education (Years)\": 12.8},\n",
    "    {\"state\": \"OK\", \"Avg Education (Years)\": 12.4},\n",
    "    {\"state\": \"OR\", \"Avg Education (Years)\": 13.5},\n",
    "    {\"state\": \"PA\", \"Avg Education (Years)\": 13.4},\n",
    "    {\"state\": \"RI\", \"Avg Education (Years)\": 13.6},\n",
    "    {\"state\": \"SC\", \"Avg Education (Years)\": 12.6},\n",
    "    {\"state\": \"SD\", \"Avg Education (Years)\": 12.7},\n",
    "    {\"state\": \"TN\", \"Avg Education (Years)\": 12.6},\n",
    "    {\"state\": \"TX\", \"Avg Education (Years)\": 12.5},\n",
    "    {\"state\": \"UT\", \"Avg Education (Years)\": 12.9},\n",
    "    {\"state\": \"VT\", \"Avg Education (Years)\": 13.9},\n",
    "    {\"state\": \"VA\", \"Avg Education (Years)\": 13.7},\n",
    "    {\"state\": \"WA\", \"Avg Education (Years)\": 13.6},\n",
    "    {\"state\": \"WV\", \"Avg Education (Years)\": 12.2},\n",
    "    {\"state\": \"WI\", \"Avg Education (Years)\": 13.2},\n",
    "    {\"state\": \"WY\", \"Avg Education (Years)\": 12.8}\n",
    "]"
   ]
  },
  {
   "cell_type": "markdown",
   "id": "b88a9bab-5970-4d1c-9c65-53d367ee1434",
   "metadata": {},
   "source": [
    "1. Make `education_data` a new DataFrame with the same name and display rows 15 to 22."
   ]
  },
  {
   "cell_type": "code",
   "execution_count": null,
   "id": "a78b0009-a32a-4a8d-b32c-8486d9f2907a",
   "metadata": {},
   "outputs": [],
   "source": []
  },
  {
   "cell_type": "markdown",
   "id": "c08c8263-a63c-4c16-b40d-719e6f62fff0",
   "metadata": {},
   "source": [
    "2. Rename the column `Avg Education (Years)` to `Avg. Educ. (Yrs.)`."
   ]
  },
  {
   "cell_type": "code",
   "execution_count": null,
   "id": "82134958-ef63-416e-90e5-18f8bddccfa1",
   "metadata": {},
   "outputs": [],
   "source": []
  },
  {
   "cell_type": "markdown",
   "id": "bbece0ae-6563-4b3e-9efe-0fa38d0c2626",
   "metadata": {},
   "source": [
    "3. Merge the `states_data` DataFrame with the updated `education_data` on the `State` column.  Call this DataFrame `df`."
   ]
  },
  {
   "cell_type": "code",
   "execution_count": null,
   "id": "d7415efd-bd11-4444-ba8e-408790d88c80",
   "metadata": {},
   "outputs": [],
   "source": []
  },
  {
   "cell_type": "markdown",
   "id": "2e9107ec-fb26-40a5-a67c-42accc66abe4",
   "metadata": {},
   "source": [
    "#### **Question 3: DataFrame Exploration**  "
   ]
  },
  {
   "cell_type": "markdown",
   "id": "89187a61-97da-4dae-8c12-0bd9e77bea43",
   "metadata": {},
   "source": [
    "1. Display the 5 states with the highest education level."
   ]
  },
  {
   "cell_type": "code",
   "execution_count": null,
   "id": "0ddbab80-8aab-446c-842c-7e894c4ef336",
   "metadata": {},
   "outputs": [],
   "source": []
  },
  {
   "cell_type": "markdown",
   "id": "71b8a4d8-23ae-4111-803d-b9add5b78486",
   "metadata": {},
   "source": [
    "2. Display the 8 states with the lowest education level."
   ]
  },
  {
   "cell_type": "markdown",
   "id": "aca92b8a-69e2-4f6b-8726-cbac53e6e3a2",
   "metadata": {},
   "source": []
  },
  {
   "cell_type": "markdown",
   "id": "d48e5f0c-7f64-4560-9f20-e85ba6575cc4",
   "metadata": {},
   "source": [
    "#### **Question 4: DataFrame Manipulation**  "
   ]
  },
  {
   "cell_type": "markdown",
   "id": "d9e76cb1-10b8-4558-b36c-d25c3447a685",
   "metadata": {},
   "source": [
    "1. Make a new column called `PopMillion` that is the population expressed in millions, e.g a population of 40,000,000 takes the value 40."
   ]
  },
  {
   "cell_type": "code",
   "execution_count": null,
   "id": "b036dcbd-1fea-4ff6-a0b0-398260c3c578",
   "metadata": {},
   "outputs": [],
   "source": []
  },
  {
   "cell_type": "markdown",
   "id": "15afed19-68cb-476f-8a91-d68f43d90ea4",
   "metadata": {
    "tags": []
   },
   "source": [
    "2.  Make a new column called `Dem` that is equal to 1 if the Democrats' vote share is greater than or equal to 50 and 0 otherwise."
   ]
  },
  {
   "cell_type": "code",
   "execution_count": null,
   "id": "eea6c067-1143-4037-8677-89e8e3ecb80b",
   "metadata": {},
   "outputs": [],
   "source": []
  },
  {
   "cell_type": "markdown",
   "id": "8df04efc-b21d-4f2d-a7c1-bfc94af3e6db",
   "metadata": {},
   "source": [
    "3. Display all states where the income per capita is above the median income for all states."
   ]
  },
  {
   "cell_type": "code",
   "execution_count": null,
   "id": "a67f1786-15c8-4c49-a15a-b69d6aa060e7",
   "metadata": {},
   "outputs": [],
   "source": []
  },
  {
   "cell_type": "markdown",
   "id": "3f9f2429-559c-44be-9eb9-a9a0bd4d789f",
   "metadata": {},
   "source": [
    "4. Calculate and display the **average** years of education for states where the **Democrat Vote Share** is greater than 50%."
   ]
  },
  {
   "cell_type": "code",
   "execution_count": null,
   "id": "e6d1f3ec-9996-4b2a-843b-05195f8ff49f",
   "metadata": {},
   "outputs": [],
   "source": []
  },
  {
   "cell_type": "markdown",
   "id": "4c88c2b3-6a87-4244-8f4f-982d10c5ae94",
   "metadata": {},
   "source": [
    "5. Group `df` by **Republican Vote Share** (rounded to the nearest 10%) and calculate the **median** unemployment rate for each group. Name this new DataFrame `df_rvs` and display it."
   ]
  },
  {
   "cell_type": "code",
   "execution_count": null,
   "id": "44fbe7b1-b3ed-4e31-8d40-1b4df2ab6d87",
   "metadata": {},
   "outputs": [],
   "source": []
  },
  {
   "cell_type": "markdown",
   "id": "1b55bfaa-ff1c-45ce-bf7d-e87b385c1d04",
   "metadata": {},
   "source": [
    "6. Make a new DataFrame with two rows, one representating Democrat states and the other Republican ones.  Calculate those states' average population, median income, average unemployment rate, and average education.  Call this DataFrame `df`_pol`."
   ]
  },
  {
   "cell_type": "code",
   "execution_count": null,
   "id": "a6b95dbd-4ddb-437b-beab-aec941e990c5",
   "metadata": {},
   "outputs": [],
   "source": []
  },
  {
   "cell_type": "markdown",
   "id": "8e30bbd4-7839-45e1-8ed1-95566ff0185e",
   "metadata": {},
   "source": [
    "#### **Question 4: Visualization**  \n",
    "1. Create a histogram showing the distribution of `Population` for all states."
   ]
  },
  {
   "cell_type": "code",
   "execution_count": null,
   "id": "ce522216-7adc-4685-a9ef-57ba72f4490b",
   "metadata": {},
   "outputs": [],
   "source": []
  },
  {
   "cell_type": "markdown",
   "id": "e3c9f473-7a35-4a46-9be5-6ab15006377b",
   "metadata": {},
   "source": [
    "2. Create a scatterplot showing the relationship between unemployment rate and average education.  Put education on the x-axis."
   ]
  },
  {
   "cell_type": "code",
   "execution_count": null,
   "id": "944bfa77-ccd0-4e55-bf37-c9cccf81db8f",
   "metadata": {},
   "outputs": [],
   "source": []
  },
  {
   "cell_type": "markdown",
   "id": "92b8f706-6eb6-40a2-b119-1518025b40bc",
   "metadata": {},
   "source": [
    "3. Make a barchart of median income by region where the highest income region is first and the lowest is last."
   ]
  },
  {
   "cell_type": "code",
   "execution_count": null,
   "id": "da1559a1-1b93-44df-a246-69268ecceea9",
   "metadata": {},
   "outputs": [],
   "source": []
  },
  {
   "cell_type": "code",
   "execution_count": null,
   "id": "5362d0e0-a9a7-48b6-b30e-92475d418ce7",
   "metadata": {},
   "outputs": [],
   "source": []
  },
  {
   "cell_type": "markdown",
   "id": "5bd7081d-b1d4-4848-99ce-e5436b0c3dfb",
   "metadata": {},
   "source": [
    "#### **Question 5: Control Structures**  \n",
    "1. Write a Python function `income_category` that takes a `Median Income` value and returns:\n",
    "   - \"Low\" if less than 50,000\n",
    "   - \"Middle\" if between 50,000 and 70,000\n",
    "   - \"High\" if greater than 70,000."
   ]
  },
  {
   "cell_type": "code",
   "execution_count": null,
   "id": "196b4ab2-2d14-4517-920c-27df2212da3c",
   "metadata": {},
   "outputs": [],
   "source": []
  },
  {
   "cell_type": "markdown",
   "id": "50d31f35-f8db-4bda-a2aa-f91e8b7901e3",
   "metadata": {},
   "source": [
    "2. Apply the function to create a new column `Income Category` for the `df` DataFrame."
   ]
  },
  {
   "cell_type": "markdown",
   "id": "4911c5b6-0143-4358-947c-bc9684acb9bf",
   "metadata": {},
   "source": []
  },
  {
   "cell_type": "markdown",
   "id": "161e4530-77b9-45e3-9765-748491d31370",
   "metadata": {},
   "source": [
    "3. Use a list comprehension to create a list of all states where the unemployment rate is above 4.0%.  Name this list `high_u`."
   ]
  },
  {
   "cell_type": "code",
   "execution_count": null,
   "id": "aaaae925-3704-4ae3-a327-1b7024846b55",
   "metadata": {},
   "outputs": [],
   "source": []
  },
  {
   "cell_type": "markdown",
   "id": "e7414f22-faaa-4de8-a765-b37a2d984602",
   "metadata": {},
   "source": [
    "#### **Question 9: Quantitative Data Analysis**  \n",
    "1. Compute the correlation between median income and Republican vote share."
   ]
  },
  {
   "cell_type": "code",
   "execution_count": null,
   "id": "e7c118bd-3b42-4530-867f-d812e817f16b",
   "metadata": {},
   "outputs": [],
   "source": []
  },
  {
   "cell_type": "markdown",
   "id": "6f9f628f-d5bf-466a-9836-2241ba342d6f",
   "metadata": {},
   "source": [
    "2. Perform a bivariate linear regression to predict `Unemployment Rate` based on `Median Income`. Show the results."
   ]
  },
  {
   "cell_type": "code",
   "execution_count": null,
   "id": "f8fc8721-1318-4f30-ae8e-05f6420daa81",
   "metadata": {},
   "outputs": [],
   "source": []
  },
  {
   "cell_type": "markdown",
   "id": "f0ea3ecb-0644-4cc5-a85f-2bfeb62c6de5",
   "metadata": {},
   "source": [
    "3. Using the regression model, predict the unemployment rate for a state with a median income of 54,839."
   ]
  },
  {
   "cell_type": "code",
   "execution_count": null,
   "id": "ab275e45-67b8-4df7-847e-3c9b3c4ecc2c",
   "metadata": {},
   "outputs": [],
   "source": []
  },
  {
   "cell_type": "markdown",
   "id": "bc153948-b7d8-414f-bbdf-b985d97427c4",
   "metadata": {},
   "source": [
    "#### **Question 10: Debugging**  \n",
    "The following questions show you code with error.  Your answer needs to provide the correct code and show the code executes.\n",
    "\n",
    "1. The following code should calculate an average but does not.  Provide correct code in the blank code cell after it."
   ]
  },
  {
   "cell_type": "code",
   "execution_count": null,
   "id": "dfa9b821-dc66-4971-9ecb-cbeaba87ba14",
   "metadata": {},
   "outputs": [],
   "source": [
    "numbers = ['34', '22', '19', '45', '50', '23', '18', '40', '38', '41', '25', '29', '21', '39', '36', '42', '33', '37', '26', '28', '30', '20', '24']\n",
    "\n",
    "# Attempt to calculate the average\n",
    "total = 0\n",
    "for num in numbers:\n",
    "    total += num\n",
    "average = total / len(numbers)\n",
    "print(\"Average:\", average)"
   ]
  },
  {
   "cell_type": "code",
   "execution_count": null,
   "id": "3dae321e-154b-4ce2-a105-aa4e901e0ed0",
   "metadata": {},
   "outputs": [],
   "source": []
  },
  {
   "cell_type": "markdown",
   "id": "8fcb7cce-856d-405c-9931-2f0c4e18be10",
   "metadata": {},
   "source": [
    "2. The following code is supposed to group by the region column and calculate the mean unemployment rate.  It fails.  In the blank code cell, correct it and show the resulting DAtaFrame."
   ]
  },
  {
   "cell_type": "code",
   "execution_count": null,
   "id": "3fb54e16-6493-4afc-9744-2164badd9a8d",
   "metadata": {},
   "outputs": [],
   "source": [
    "grouped_data = states_data.groupby('REgion').mean('UnemploymentRate')\n",
    "print(grouped_data)"
   ]
  },
  {
   "cell_type": "code",
   "execution_count": null,
   "id": "97931f56-9021-41fa-8a5a-7c8d605f32f8",
   "metadata": {},
   "outputs": [],
   "source": []
  },
  {
   "cell_type": "markdown",
   "id": "2b636299-5b98-48c7-b1a9-b516e853ace2",
   "metadata": {},
   "source": [
    "3. The following code should print the first 5 states matching the income condition but it prints every match.  Fix it in the blank code cell."
   ]
  },
  {
   "cell_type": "code",
   "execution_count": null,
   "id": "18d634de-304a-472f-bbda-06b7c1d2ee39",
   "metadata": {},
   "outputs": [],
   "source": [
    "max_matches = 5\n",
    "matches = 0  \n",
    "\n",
    "for state in states_data:\n",
    "    while matches < max_matches:\n",
    "        if state[\"Median Income\"] < 60000:\n",
    "            print(state[\"State\"])  # Print state name if the condition is matched\n",
    "        break  # The break ensures the while loop doesn't repeat for the same state"
   ]
  },
  {
   "cell_type": "code",
   "execution_count": null,
   "id": "58c92b18-6749-4dd0-a396-aff50556f833",
   "metadata": {},
   "outputs": [],
   "source": []
  }
 ],
 "metadata": {
  "kernelspec": {
   "display_name": "Python 3 (ipykernel)",
   "language": "python",
   "name": "python3"
  },
  "language_info": {
   "codemirror_mode": {
    "name": "ipython",
    "version": 3
   },
   "file_extension": ".py",
   "mimetype": "text/x-python",
   "name": "python",
   "nbconvert_exporter": "python",
   "pygments_lexer": "ipython3",
   "version": "3.10.13"
  }
 },
 "nbformat": 4,
 "nbformat_minor": 5
}
