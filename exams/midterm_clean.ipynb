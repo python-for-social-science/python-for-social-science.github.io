{
 "cells": [
  {
   "cell_type": "markdown",
   "id": "c5019e91-00c1-40bb-bf16-9cf95dc7ff89",
   "metadata": {},
   "source": [
    "### Midterm Exam – Python Programming Concepts\n",
    "\n",
    "---\n",
    "\n",
    "**Instructions:**  \n",
    "- Write clear, well-commented code.  \n",
    "\n",
    "- Ensure your code runs without errors.\n",
    "\n",
    "- Submit a compiled html file called `'midterm\\_<UID>'` where `<UID>` is your BruinID number.\n",
    "\n",
    "- Import any necessary libraries as appropriate.\n",
    "---\n",
    "\n",
    "Good luck!"
   ]
  },
  {
   "cell_type": "markdown",
   "id": "68b7e2b0-67f5-4202-9354-93c46ad787c0",
   "metadata": {},
   "source": [
    "#### **Question 1: DataFrames**  \n",
    "\n",
    "Answer the following questions using the following object."
   ]
  },
  {
   "cell_type": "code",
   "execution_count": null,
   "id": "3ae44cca-fbf9-4cb5-a919-119310439e54",
   "metadata": {},
   "outputs": [],
   "source": [
    "data = [\n",
    "    {\"Name\": \"Amara\", \"Family Name\": \"Singh\", \"Age\": 29, \"Score\": 85.0, \"Economic Class\": \"middle\", \"Income\": 58.4},\n",
    "    {\"Name\": \"Liam\", \"Family Name\": \"O'Reilly\", \"Age\": 24, \"Score\": 90.5, \"Economic Class\": \"upper\", \"Income\": 101.3},\n",
    "    {\"Name\": \"Carlos\", \"Family Name\": \"Gonzalez\", \"Age\": 35, \"Score\": 78.0, \"Economic Class\": \"low\", \"Income\": 24.1},\n",
    "    {\"Name\": \"Mei\", \"Family Name\": \"Wang\", \"Age\": 47, \"Score\": 92.0, \"Economic Class\": \"highest\", \"Income\": 132.5},\n",
    "    {\"Name\": \"Fatima\", \"Family Name\": \"Hassan\", \"Age\": 31, \"Score\": 88.0, \"Economic Class\": \"middle\", \"Income\": 46.9},\n",
    "    {\"Name\": \"John\", \"Family Name\": \"Smith\", \"Age\": 42, \"Score\": 75.0, \"Economic Class\": \"low\", \"Income\": 38.7},\n",
    "    {\"Name\": \"Olga\", \"Family Name\": \"Ivanova\", \"Age\": 23, \"Score\": 80.0, \"Economic Class\": \"upper\", \"Income\": 118.2},\n",
    "    {\"Name\": \"Ahmed\", \"Family Name\": \"Khan\", \"Age\": 27, \"Score\": 84.0, \"Economic Class\": \"middle\", \"Income\": 52.4},\n",
    "    {\"Name\": \"Leila\", \"Family Name\": \"Farah\", \"Age\": 36, \"Score\": 91.0, \"Economic Class\": \"highest\", \"Income\": 159.7},\n",
    "    {\"Name\": \"Dmitri\", \"Family Name\": \"Petrov\", \"Age\": 25, \"Score\": 77.0, \"Economic Class\": \"middle\", \"Income\": 65.3},\n",
    "    {\"Name\": \"Sofia\", \"Family Name\": \"Martinez\", \"Age\": 45, \"Score\": 89.0, \"Economic Class\": \"highest\", \"Income\": 202.5},\n",
    "    {\"Name\": \"Hiroshi\", \"Family Name\": \"Yamamoto\", \"Age\": 39, \"Score\": 87.0, \"Economic Class\": \"upper\", \"Income\": 132.9},\n",
    "    {\"Name\": \"Aisha\", \"Family Name\": \"Abdullah\", \"Age\": 44, \"Score\": 92.5, \"Economic Class\": \"highest\", \"Income\": 245.8},\n",
    "    {\"Name\": \"Ivan\", \"Family Name\": \"Volkov\", \"Age\": 28, \"Score\": 81.0, \"Economic Class\": \"middle\", \"Income\": 72.6},\n",
    "    {\"Name\": \"Lucas\", \"Family Name\": \"Mendes\", \"Age\": 48, \"Score\": 82.0, \"Economic Class\": \"upper\", \"Income\": 195.4},\n",
    "    {\"Name\": \"Marie\", \"Family Name\": \"Dubois\", \"Age\": 33, \"Score\": 86.5, \"Economic Class\": \"highest\", \"Income\": 289.1},\n",
    "    {\"Name\": \"Mohammed\", \"Family Name\": \"Al-Farsi\", \"Age\": 18, \"Score\": 78.5, \"Economic Class\": \"low\", \"Income\": 26.4},\n",
    "    {\"Name\": \"Emma\", \"Family Name\": \"Larsen\", \"Age\": 26, \"Score\": 93.0, \"Economic Class\": \"upper\", \"Income\": 137.5},\n",
    "    {\"Name\": \"Rajesh\", \"Family Name\": \"Patel\", \"Age\": 30, \"Score\": 88.0, \"Economic Class\": \"middle\", \"Income\": 78.5},\n",
    "    {\"Name\": \"Sophia\", \"Family Name\": \"Chen\", \"Age\": 38, \"Score\": 79.0, \"Economic Class\": \"middle\", \"Income\": 68.2},\n",
    "    {\"Name\": \"Benjamin\", \"Family Name\": \"Stevens\", \"Age\": 40, \"Score\": 83.0, \"Economic Class\": \"upper\", \"Income\": 149.6},\n",
    "    {\"Name\": \"Elena\", \"Family Name\": \"Rodriguez\", \"Age\": 52, \"Score\": 90.0, \"Economic Class\": \"highest\", \"Income\": 321.7},\n",
    "    {\"Name\": \"Ali\", \"Family Name\": \"Karimi\", \"Age\": 19, \"Score\": 81.5, \"Economic Class\": \"low\", \"Income\": 29.7},\n",
    "    {\"Name\": \"Isabella\", \"Family Name\": \"Rossi\", \"Age\": 34, \"Score\": 85.5, \"Economic Class\": \"middle\", \"Income\": 74.1},\n",
    "    {\"Name\": \"Xia\", \"Family Name\": \"Zhang\", \"Age\": 41, \"Score\": 77.5, \"Economic Class\": \"middle\", \"Income\": 65.9},\n",
    "    {\"Name\": \"Pavel\", \"Family Name\": \"Novak\", \"Age\": 46, \"Score\": 89.0, \"Economic Class\": \"highest\", \"Income\": 250.3},\n",
    "    {\"Name\": \"Ravi\", \"Family Name\": \"Subramanian\", \"Age\": 43, \"Score\": 82.0, \"Economic Class\": \"upper\", \"Income\": 135.8},\n",
    "    {\"Name\": \"Maya\", \"Family Name\": \"Rahman\", \"Age\": 37, \"Score\": 88.5, \"Economic Class\": \"middle\", \"Income\": 78.2},\n",
    "    {\"Name\": \"Yousef\", \"Family Name\": \"Bashir\", \"Age\": 54, \"Score\": 91.5, \"Economic Class\": \"highest\", \"Income\": 420.1},\n",
    "    {\"Name\": \"Gabriela\", \"Family Name\": \"Silva\", \"Age\": 32, \"Score\": 86.0, \"Economic Class\": \"upper\", \"Income\": 128.4},\n",
    "    {\"Name\": \"Santiago\", \"Family Name\": \"Gutierrez\", \"Age\": 29, \"Score\": 84.5, \"Economic Class\": \"middle\", \"Income\": 68.7},\n",
    "    {\"Name\": \"Anika\", \"Family Name\": \"Schmidt\", \"Age\": 35, \"Score\": 79.5, \"Economic Class\": \"middle\", \"Income\": 66.2}\n",
    "]"
   ]
  },
  {
   "cell_type": "markdown",
   "id": "04896e0e-3ad5-4d3b-8a8f-3f98b6c0140d",
   "metadata": {},
   "source": [
    "1. Convert the data into a Pandas DataFrame named `df`."
   ]
  },
  {
   "cell_type": "code",
   "execution_count": null,
   "id": "ee354dfb-f9ce-42ff-8c89-0f610ce86fa1",
   "metadata": {},
   "outputs": [],
   "source": []
  },
  {
   "cell_type": "markdown",
   "id": "63a0c72b-af32-49ae-8cc7-0320d60d5e48",
   "metadata": {},
   "source": [
    "2. Save the DataFrame as a CSV file named `respondents.csv`."
   ]
  },
  {
   "cell_type": "code",
   "execution_count": null,
   "id": "2be5cac4-29da-42b2-bdbd-b9c24838e9ec",
   "metadata": {},
   "outputs": [],
   "source": []
  },
  {
   "cell_type": "markdown",
   "id": "c82a5cd1-6891-4ded-b124-2bd84d450629",
   "metadata": {},
   "source": [
    "3. Load the CSV file back as a DataFrame in an objected called `df2`."
   ]
  },
  {
   "cell_type": "code",
   "execution_count": null,
   "id": "aa12079f-f0fe-41ef-b84e-5ce3779fff82",
   "metadata": {},
   "outputs": [],
   "source": []
  },
  {
   "cell_type": "markdown",
   "id": "4e53fcd5-9a43-4eb9-a129-63e5ea89d2b2",
   "metadata": {},
   "source": [
    "4. Display the first 12 rows of the DataFrame loaded from the file."
   ]
  },
  {
   "cell_type": "markdown",
   "id": "231e7eb3-b93e-47f0-aad4-edd9a4aab4d7",
   "metadata": {},
   "source": []
  },
  {
   "cell_type": "markdown",
   "id": "7d5b934b-1714-4fcc-9c6e-eb6e878484cd",
   "metadata": {},
   "source": [
    "#### **Question 2: Advanced Dataframe**  \n",
    "1. Sort `df2` by **Family Name** and display the result."
   ]
  },
  {
   "cell_type": "code",
   "execution_count": null,
   "id": "7045772b-28c8-4050-a02b-69ac4b2d6d30",
   "metadata": {},
   "outputs": [],
   "source": []
  },
  {
   "cell_type": "markdown",
   "id": "bb64037d-fd5d-403a-9494-c942a79b09af",
   "metadata": {},
   "source": [
    "2. Make a new column called `Full_name` that is the first name and family name separated by a space.  For example, the first value will be 'Amara Singh'."
   ]
  },
  {
   "cell_type": "code",
   "execution_count": null,
   "id": "2c53e331-c075-4633-9af2-3b2a1792deec",
   "metadata": {},
   "outputs": [],
   "source": []
  },
  {
   "cell_type": "markdown",
   "id": "1a29e6aa-8fdd-4439-8a03-4c84a28ff059",
   "metadata": {},
   "source": [
    "3. In `df2`, create a new column called `Letter` with the following values:\n",
    "   - `F`: Score below 60\n",
    "   - `D`: Score between 60-69\n",
    "   - `C`: Score between 70-79\n",
    "   - `B`: Score between 80-89\n",
    "   - `A`: Score between 90-100"
   ]
  },
  {
   "cell_type": "code",
   "execution_count": null,
   "id": "a16d5d6b-12fd-4874-b84a-56ebc2257ca5",
   "metadata": {},
   "outputs": [],
   "source": []
  },
  {
   "cell_type": "markdown",
   "id": "b1d32300-0f17-466a-a897-945b0455b55b",
   "metadata": {},
   "source": [
    "4.  Make a new DataFrame containing only students aged 25 or older.  Name it `df_older`."
   ]
  },
  {
   "cell_type": "code",
   "execution_count": null,
   "id": "a609c6cb-d256-4df9-abf6-543bae1863e2",
   "metadata": {},
   "outputs": [],
   "source": []
  },
  {
   "cell_type": "markdown",
   "id": "96ab77b6-8fbd-4e76-a431-7c91a35215a7",
   "metadata": {},
   "source": [
    "5.  Make a new DataFrame containing students not in `df_older`.  Name it `df_younger`. "
   ]
  },
  {
   "cell_type": "markdown",
   "id": "baa9a10a-8acb-452b-82f0-303830a0426b",
   "metadata": {},
   "source": []
  },
  {
   "cell_type": "markdown",
   "id": "ebc1bbb0-5d7f-4502-a6d8-4ea07772a0b7",
   "metadata": {},
   "source": [
    "#### **Question 3: Descriptive Statistics**  \n",
    "Using `df2`:\n",
    "\n",
    "1. Compute the mean, median, and standard deviation of the `Score` column for `df_older` and `df_younger`."
   ]
  },
  {
   "cell_type": "code",
   "execution_count": null,
   "id": "ab628bde-5866-440d-a920-7e8c5827ac2b",
   "metadata": {},
   "outputs": [],
   "source": []
  },
  {
   "cell_type": "markdown",
   "id": "ff519526-9494-4877-b56a-29a55fc3bdcb",
   "metadata": {},
   "source": [
    "2. Describe any differences you see in those three statistics for the two DataFrames."
   ]
  },
  {
   "cell_type": "markdown",
   "id": "fa99770b-6814-4cf0-b2e3-af6b0f535c34",
   "metadata": {},
   "source": []
  },
  {
   "cell_type": "markdown",
   "id": "020b1441-2c39-4ef0-99de-ee981ce67a8f",
   "metadata": {},
   "source": [
    "3. Make a new object that contains descriptive statistics of the `Income` column in `df2`.  Name it `inc_desc` and display it."
   ]
  },
  {
   "cell_type": "code",
   "execution_count": null,
   "id": "3ca29e4e-7aab-4295-87b2-17c9e1cfe630",
   "metadata": {},
   "outputs": [],
   "source": []
  },
  {
   "cell_type": "markdown",
   "id": "7634c2ff-eb57-46cf-ae92-2e7cb8d4aaa0",
   "metadata": {},
   "source": [
    "#### **Question 4: Functions**  \n",
    "\n",
    "1. Write a Python function called `describe_score` that outputs the following statement: `'<person>\\'s score is a <value>.'` where `<value>` is calculated as:\n",
    "    1. If the score is below 70, print 'Fail'.\n",
    "    2. If the score is between 70 and 89, print 'Pass'.\n",
    "    3. If the score is 90 or higher, print 'Excellent'.\n",
    "\n",
    "The function will take one argument called `the_names` and another `the_scores`.  Use the appropriate columns from `df2`.  \n",
    "    \n",
    "Your answer needs to print a result for every row of `df2`.  For example, the first line of output should be 'Amara Sing's score is a Pass'."
   ]
  },
  {
   "cell_type": "code",
   "execution_count": null,
   "id": "b5656619-6ffc-476f-ad7c-801ecff3d52a",
   "metadata": {},
   "outputs": [],
   "source": []
  },
  {
   "cell_type": "markdown",
   "id": "82fc0461-da71-4101-b727-af883e531e4c",
   "metadata": {},
   "source": [
    "#### **Question 5: Control Structures**  \n",
    "\n",
    "1. Convert the `Income` column in `df2` to a list called `income_l`.  Then, write a for loop that iterates through it and prints the phrase 'This person earns <income>.' when the value is greater than 90. "
   ]
  },
  {
   "cell_type": "code",
   "execution_count": null,
   "id": "c97bf6f0-5d93-437a-88f2-62c4eb239e15",
   "metadata": {},
   "outputs": [],
   "source": []
  },
  {
   "cell_type": "markdown",
   "id": "fd215f80-0c8b-4db2-8ac5-1661f31b00d3",
   "metadata": {},
   "source": [
    "2. Write a `while` loop that prints each value from from the `Economic Class` column until it encounters a value of `highest`, then stop the loop."
   ]
  },
  {
   "cell_type": "code",
   "execution_count": null,
   "id": "f2076a13-eff3-4d4f-b826-bc56edd44701",
   "metadata": {},
   "outputs": [],
   "source": []
  },
  {
   "cell_type": "markdown",
   "id": "4cc82fac-60ac-45f8-86e3-08a5dbe35395",
   "metadata": {},
   "source": [
    "3.  Make a `while` loop with a `break` statement.  Specifically, the loop should break when the value of `Income` reaches a value greater than 100 for the _third time_."
   ]
  },
  {
   "cell_type": "code",
   "execution_count": null,
   "id": "78befdc5-672e-40d2-b3ab-e85a4ac71f41",
   "metadata": {},
   "outputs": [],
   "source": []
  },
  {
   "cell_type": "markdown",
   "id": "25299005-baed-4d6c-bee3-ba4e42014087",
   "metadata": {},
   "source": [
    "4.  Write a function `handle_data` that accepts a dictionary where the keys are strings and the values are lists of integers. The function should compute the average of the values for each key and handle any exception that might occur if the value is not a list of integers. Test it with the following dictionary:"
   ]
  },
  {
   "cell_type": "markdown",
   "id": "023de66e-0225-42d8-a042-b8fedf571a25",
   "metadata": {},
   "source": [
    "student_scores = {\n",
    "       \"Alice\": [85, 90, 78],\n",
    "       \"Bob\": [92, \"N/A\", 80],\n",
    "       \"Charlie\": [70, 75, 65]\n",
    "   }\n"
   ]
  },
  {
   "cell_type": "markdown",
   "id": "fbe1fd63-e850-4549-a07f-21c3b53f4be3",
   "metadata": {},
   "source": []
  }
 ],
 "metadata": {
  "kernelspec": {
   "display_name": "Python 3 (ipykernel)",
   "language": "python",
   "name": "python3"
  },
  "language_info": {
   "codemirror_mode": {
    "name": "ipython",
    "version": 3
   },
   "file_extension": ".py",
   "mimetype": "text/x-python",
   "name": "python",
   "nbconvert_exporter": "python",
   "pygments_lexer": "ipython3",
   "version": "3.10.13"
  }
 },
 "nbformat": 4,
 "nbformat_minor": 5
}
