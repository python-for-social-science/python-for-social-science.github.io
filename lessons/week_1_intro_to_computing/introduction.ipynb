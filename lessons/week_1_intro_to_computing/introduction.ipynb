{
 "cells": [
  {
   "cell_type": "markdown",
   "id": "18d023ba-5ffe-4737-b466-b55abb310c5c",
   "metadata": {},
   "source": [
    "# Introduction to Computing with Python\n",
    "\n",
    "## Why should social scientists care about learning programming in Python?\n",
    "\n",
    "While Python is a programming language at heart, used to create computer programs and web applications, it is also a powerful analytical toolkit that institutions rely on to understand people. Students and researchers of social phenomena collect, manage, and analyze real data every day, and the methods that social scientists use to make inferences about groups of people rely on the quality of that data. Whether those methods are quantitative or qualitative in nature, Python's programming environment includes tools that can help automate and accelerate almost all of those social research methods in one single environment that is freely available, compatible, and reproducible. \n",
    "\n",
    "Python is also one of the most widely used programming language today. Given its popularity, Python offers a lot of advantages to beginner programmers, data scientists, and social scientists: Widely available tutorials and support on the internet; thousands of third-party libraries for customized or stock analyses; and easy cross-platform compatibility for users looking to program on Macinstosh, Windows, Linux, and web platforms. Given the broad appeal Python has, we wrote this book specifically for students and researchers of the social sciences who have little to no background in computing and programming. \n",
    "\n",
    "This book is a first step into understanding how social research methods are applied to real social data, from actual publicly available data, in the Python programming language. We intend the reader to experience and experiment with multiple qualitative and quantitative methods, starting with basic descriptive statistics of sample data, to correlation and linear models. The book also introduces the foundations of Natural Language Processing to prepare analyze-able data from text, in order to help sort and describe qualitative data. Finally, for researchers looking to incorporate geographical data and social phenomena in the world, we will introduce the principles of geospatial data analysis in Python.\n",
    "\n",
    "This book is **not** for readers interested in learning to create hardware or software applications, nor utilizing machine learning on large datasets, nor is it for learning to optimize big-data workflows. Those are fairly advanced topics outside the scope of a beginner's book. Nevertheless, we feel this first course in Python for Social Science can surely prepare you to approach programming and development, data analytics, and machine learning as a next step.\n",
    "\n",
    "## Whats in this Book?\n",
    "\n",
    "Python for Social Science presents aims to give readers experience writing and executing Python code, using and manipulating real public data, drawing basic inferences from social data, and presenting and visualizing the data. To do all of this as simply as possible for every level of beginner, we recommend readers install [Anaconda](https://www.anaconda.com/download), which handles the correct installation of [Python](https://www.python.org/), [packages](https://pypi.org), and [Jupyter](https://jupyter.org), all within a single standalone piece of software. JupyterLab, launched from the Anaconda environment, will be our Python IDE (Integrated Development Environment, more on that later). You can run code, segments of code, and write formatted text alongside your code with it; this book was written in JupyterLab!\n",
    "\n",
    "After this introductory chapter, the following two chapters are dedicated to using and manipulating real data sets into __dataframes__. We hope that experience and a hands-on approach will help you start making connections immediately between your research interests, the concept of data, and the Python programminglanguage. You'll learn that data comes in many shapes and sizes, and that researchers must \"clean\" their data before it can answer our questions.\n",
    "\n",
    "Following our crash course into dataframes, we introduce the base features of the Python programming language. You'll first learn about using math operators on variables, how Python classifies variable types, the structures that variables can possess. We'll also go into writing basic algorithms: logical statements that make your code start, loop, and stop based on the values in your data. And when code tends to fail in Python, you'll learn about basic techniques to catch those bugs and address them.\n",
    "\n",
    "Returning to practical coding and data analysis, the following chapters will give you experience describing and communicating ideas with visualizations. We will expand upon the descriptive tables introduced in chapter 3, and introduce pivot tables, scatterplots, time series, multiple-group plots, and more.\n",
    "\n",
    "The next three lessons deal with three analytical approaches: Quantitative, qualitative, and spatial data analysis. For quantitative methods we will go over correlation, means testing, and linear regression for different variable types. Qualitative data methods in Python entail the processing of __natural language__, longer strings of open ended of naturally generated human language. You'll learn ways to automate the cleaning sorting of text so that your final data will be clean, manageable, readable and ready for qualitative coding and analysis. Finally, we present the ways you can use spatial data to orient your research findings in space with the most commonly used coordinate systems.\n",
    "\n",
    "APIs are our last lesson, and should provide a springboard for motivated researchers to begin collecting interesting data from all over the web. Organizations across the internet offer their data as a product, sometimes for sale, and sometimes for public queries. We will guide you through a real example, and you'll learn to program your own functions to access web data on-demand for processing and analysis. \n",
    "\n",
    "## Computing Basics: Files and File Paths\n",
    "\n",
    "If you cut everything in computing down to its basic parts, you could visualize everything in your computer as a very large and very messy collection of files. Abstracted further, everything in those files is simply text (We will get into that when we start talking about programming). For now let's stick with the idea of files; Back when computing and computers were first being designed, people decided that when you stored files on a computer, they would all fit into folders. And those folders would have more folders inside to make it easier to categorize, sort, and later find those files. Another name for folders would be a _directory_, because they mark file locations like an address. The specific string of directories where one file is located if called the _file path_.\n",
    "\n",
    "Computers today still follow this metaphor of files in folders, and sub-folders in folders. Look in your computer's file browser and you will likely see folders for music, photos, videos, downloads... Even your desktop is a folder in your system. More than likely, each of those folders we mentioned are located in your User Folder, or Home Folder, which would be named after yourself or whatever name you chose for your account when you first got your computer. Working with data requires being mindful of how you organize your files. So let's get started by making a working folder for this book: \n",
    "\n",
    "1. Open your computer's file browser, and use it to navigate to your home/user directory. That folder should contain your folders for music, videos, documents, and downloads (among others).\n",
    "2. Go into the \"Documents\" folder that is inside your home/user folder. If there is no folder with that name, use the folder where you keep all of your work, or create a new one. You can create a new folder by clicking \"file > New Window, or right-clicking on a blank space in the file browser.\n",
    "3. Click to enter your Documents folder and create a new folder there called \"Python for Social Science\". Now all of the projects you create for this book can be saved and launched from the Python for Social Science directory! Let's find it in JupyterLab:\n",
    "4. Launch JupyterLab from the Anaconda launcher and open the File Browser Tab if it's not already open. You may click to it on the <img src='./images/folder_icon.svg' width=\"25\" height=\"25\"></img> icon or press `Ctrl+shift+F`. You will likely be in your home directory if this is the first time opening JupyterLab. You can tell by the folder icon followed by a `/` symbol and nothing else. <img src='./images/file_browser_1.png' width=\"800\" height=\"auto\"></img>\n",
    "5. Click through the folders in the File Browser and you will see folder names added to the `home/` icon. Go to your Documents folder, then find and enter the Python for Social Science folder. <img src='./images/file_browser_2.png' width=\"800\" height=\"auto\"></img>\n",
    "6. Now try creating a folder using JupyterLab instead of your computer's files app: In the Python for Social Science folder you just created, you can right-click anywhere in the file browser to create a new folder, or you can use the New Folder button next to the `+` icon. Name this folder \"Data\", and from chapter 2 onwards, this is where you will be storing data files.\n",
    "\n",
    "Congratulations: Whether you knew it or not, you are now inside your Working Directory. The Python for Social Science folder will be the directory where you can download, organize, and save all of the data sets, python scripts, and Jupyter notebook files you will be using as you work through this book. You can use the File Browser window to create new files and folders, click into sub-folders, and use the file path at the top of the file browser to move back to your previous folders.\n",
    "\n",
    "### File Types\n",
    "Acquiring files online and storing them on your computer is one of the most common activities in research, from scripts to documents to datasets. There is an important distinction between files on the web and files on your computer. Online or _remote_ files are easily accessible and don't take up valuable storage space on your computer, but they are also out of your control and can become inaccessible if there are any outages or the organization hosting the files decides to move or even delete them.\n",
    "\n",
    "On the other hand, _local files_ on your computer are safe, static, and only accessible and alterable by you. Analysis often requires modifying this data to conform to your needs, and you generally can't edit remote data without the right permissions. \n",
    "\n",
    "In this book, we will be working with a few main file types:\n",
    "| File type | Extension | Use |\n",
    "|:----------|:----------------------|:-|\n",
    "| Python Scripts | _.py_               |Run python code|\n",
    "| Jupyter Notebooks | _.ipynb_ |Run python code in presentable format|\n",
    "| PDF |_.pdf_|Portable Document Format for readable documents|\n",
    "| Excel Workbooks | _.xlsx_ | Spreadsheets with data in cells and multiple sheets|\n",
    "| CSV Files | _.csv_ | Data file with comma separated values |\n",
    "...\n",
    "\n",
    "## JupyterLab, Notebooks, and Running your first Python Script\n",
    "Let's keep on practicing. We have an example python script for you to download and save, and you will run that script inside of a Jupyter Notebook. If you don't have JupyterLab open already, launch it from Anaconda and go to the Python for Social Science folder in the JupyterLab file browser again.\n",
    "\n",
    "In JupyterLab, right-click with your mouse anywhere in file browser and get the option to create a new notebook: \n",
    "\n",
    "<img src='./images/new_notebook.png' width=\"auto\" height=\"auto\"></img> \n",
    "\n",
    "JupyterLab will ask you which Kernel you want to use. Select the default. This is the core version of Python that will power your code, and you shouldn't have any other kernels to choose from at this point in time. There will now be a new notebook called \"Untitled.ipynb\" which you should rename into \"introduction.ipynb\" or anything easy to remember as your notebook for this chapter. You can rename it by right-clicking on the file name, either in the file browser or on the untitled tab that we just created.\n",
    "\n",
    "<img src='./images/rename.png' width=\"auto\" height=\"auto\"></img> \n",
    "\n",
    "Now you are ready to do some writing and run some code. In notebooks, you write code and normal text inside of \"cells\", which are the rectangles you see in the new notebook file. Give it a shot! write or copy & paste the following into your first cell in the notebook: `print('Hello, world!')`. Press the triangle/play button at the top of the notebook, or use `Ctrl+Enter` on your keyboard and the notebook will give you output below the cell.\n",
    "\n",
    "You might have noticed a new cell was created below \"Hello, world!\". Notebooks allow you to run distinct pieces of code in different cells. This is a major difference with Python script (_.py_) files which run the entirety of the code in one go and do not let you run single lines of groups of lines of code. \n",
    "\n",
    "Click on the second cell of your notebook and write some text congratulating yourself for getting started coding. Now run that cell and you should get an error! `SyntaxError: invalid syntax`. That's because we haven't changed the cell from a Python code cell into a \"markdown\" cell for formatted text. You can do this by clicking inside of a cell and choosing \"Markdown\" from a pull-down tab at the top of the notebook \n",
    "\n",
    "<img src='./images/chunk.png' width=\"auto\" height=\"auto\"></img> \n",
    "\n",
    "Now if you run what's in the markdown cell, the text will look like the readable text in this book. You can always double-click the markdown text to go back to editing mode. We hope that you will create as many code and text cells as you need while coding throughout this book. Markdown cells help you keep track of your steps while coding and learning about your data and programming."
   ]
  },
  {
   "cell_type": "markdown",
   "id": "54f36d9b-b001-4c40-91f6-905f1fb4b9b3",
   "metadata": {},
   "source": [
    "### Relative File Paths with a Python Script\n",
    "\n",
    "Let's run a simple rock, paper, scissors script written by [Punit Sakre](https://github.com/punitsakre23) for the [Awesome Python Scripts](https://github.com/hastagAB/Awesome-Python-Scripts) repository on github. This exercise is to make you familiar with Python script `*.py` file types, using Python libraries to load functions, downloading files, and relative file paths within your working directory. We will give you the python code in cells below, which you can copy into your own notebook for chapter one. Use as many or as few code cells as you prefer, and don't worry about making mistakes. You can always edit your code or start over. \n",
    "\n",
    "First we will load a core Python function which can retrieve a file from a url/link. Copy the code below into your notebook file to load the function from the `urllib` library."
   ]
  },
  {
   "cell_type": "code",
   "execution_count": 8,
   "id": "fba44390-1046-41d1-b5a9-432718c64598",
   "metadata": {},
   "outputs": [],
   "source": [
    "from urllib.request import urlretrieve"
   ]
  },
  {
   "cell_type": "markdown",
   "id": "b0e5afd2-fd13-41e4-8070-0325c699ca86",
   "metadata": {},
   "source": [
    "There won't be any output, but there also shouldn't be any errors calling the `urlretrieve` function. \n",
    "\n",
    "Now you can use that function, specify the link to the file and the name that you want to give that file on your local directory with the code below. The web link must be identical, but you can name the final file anything you like; we chose to call the rock-paper-scissors script \"RPS.py\". "
   ]
  },
  {
   "cell_type": "code",
   "execution_count": 10,
   "id": "654105e1-9b20-4976-b225-e3ed20815631",
   "metadata": {},
   "outputs": [
    {
     "data": {
      "text/plain": [
       "('RPS.py', <http.client.HTTPMessage at 0x7f18a402f690>)"
      ]
     },
     "execution_count": 10,
     "metadata": {},
     "output_type": "execute_result"
    }
   ],
   "source": [
    "urlretrieve('https://raw.githubusercontent.com/hastagAB/Awesome-Python-Scripts/master/Rock-Paper-Scissor/Rock-Paper-Scissor.py', 'RPS.py')"
   ]
  },
  {
   "cell_type": "markdown",
   "id": "9dc4b8ae-6964-4f89-b83d-98dd21d9c8be",
   "metadata": {},
   "source": [
    "You should notice a few things after running the `urlretrieve()` command: \n",
    "1. The link to the remote file and the name you wish to give the local file must be in quotes.\n",
    "2. The remote link and local file name must also be separated by a comma (more on that in chapter four).\n",
    "3. After running the code cell, a new file will eventually appear on your file browser on the right with the name we specified: \"RPS.py\".\n",
    "\n",
    "By default, files downloaded from code in a Notebook will download in the same folder where the notebook .ipynb file is. That is because the location of the notebook is your _working directory_. Check it by running the python code below.\n",
    "\n"
   ]
  },
  {
   "cell_type": "code",
   "execution_count": 13,
   "id": "1817751f-5fd4-44bf-9c86-c2000df211fb",
   "metadata": {},
   "outputs": [
    {
     "name": "stdout",
     "output_type": "stream",
     "text": [
      "/home/fernando/Documents/UCLA/DataX/Python_for_Social_Science/lessons/intro_to_computing\n"
     ]
    }
   ],
   "source": [
    "import os #Call the os library which has the 'getcwd' command\n",
    "print(os.getcwd()) #Print the current working directory"
   ]
  },
  {
   "cell_type": "markdown",
   "id": "f18c0ff6-b1d5-4a97-8920-4da191ada5dc",
   "metadata": {},
   "source": [
    "The output to this cell is your notebook's working directory/file path. Because the current working directory is exactly where the\n",
    " rock-paper-scissors script file is saved, we can run the script using the code below. Try playing rock paper scissors against Python from within the notebook:"
   ]
  },
  {
   "cell_type": "code",
   "execution_count": 11,
   "id": "fd57d6cb-4169-4874-8c48-9bb3ac4cf81c",
   "metadata": {},
   "outputs": [
    {
     "name": "stdin",
     "output_type": "stream",
     "text": [
      "Please Enter your input out of - R | P | S =  r\n",
      "Please Enter your input out of - R | P | S =  r\n"
     ]
    },
    {
     "name": "stdout",
     "output_type": "stream",
     "text": [
      "Bot Entered - r\n",
      "Winner is -  Draw\n",
      "-----Score Board-----\n",
      "-----Player----- 1\n",
      "-----Bot----- 1\n",
      " \n"
     ]
    },
    {
     "name": "stdin",
     "output_type": "stream",
     "text": [
      "You want to end Y/N -  n\n",
      "Please Enter your input out of - R | P | S =  p\n"
     ]
    },
    {
     "name": "stdout",
     "output_type": "stream",
     "text": [
      "Bot Entered - r\n",
      "Winner is -  Player\n",
      "-----Score Board-----\n",
      "-----Player----- 3\n",
      "-----Bot----- 1\n",
      " \n"
     ]
    },
    {
     "name": "stdin",
     "output_type": "stream",
     "text": [
      "You want to end Y/N -  y\n"
     ]
    }
   ],
   "source": [
    "%run RPS.py"
   ]
  },
  {
   "cell_type": "markdown",
   "id": "9476f949-db6e-48e6-9e20-8809a69285ac",
   "metadata": {},
   "source": [
    "Let's say we just don't want the RPS.py file in our working directory: It looks messy, it's confusing, and we would like many more script files in our project at some point. In that case, create a new folder in your current working directory called \"scripts\". Right-click anywhere in the file browser to create a new folder, name it \"scripts\". Use the mouse to drag and drop RPS.py into that folder. Now to play rock, paper, scissors you need to tell Python about the files new location:"
   ]
  },
  {
   "cell_type": "code",
   "execution_count": null,
   "id": "d84b6906-f8ea-4d7b-b381-42c194a62756",
   "metadata": {},
   "outputs": [
    {
     "name": "stdin",
     "output_type": "stream",
     "text": [
      "Please Enter your input out of - R | P | S =  p\n",
      "Please Enter your input out of - R | P | S =  p\n"
     ]
    },
    {
     "name": "stdout",
     "output_type": "stream",
     "text": [
      "Bot Entered - s\n",
      "Winner is -  Bot\n",
      "-----Score Board-----\n",
      "-----Player----- 0\n",
      "-----Bot----- 2\n",
      " \n"
     ]
    }
   ],
   "source": [
    "%run scripts/RPS.py"
   ]
  },
  {
   "cell_type": "markdown",
   "id": "0bf364eb-ec66-43b2-82ab-ecce3fc3e4b3",
   "metadata": {},
   "source": [
    "What's different here? We wrote `scripts/` before the name of the RPS.py file. This tells Python what folder the script is in, and that the folder is inside the current working directory. \n",
    "\n",
    "You could create an additional folder within `scripts` called `games` and move the \"RPS.py\" file there. Then the relative path to the file would be `scripts/games/RPS.py`.  \n",
    "\n",
    "Assuming the Python for Social Science folder is your working directory, and it is inside your \"Documents\" folder, what if you moved the \"scripts\" folder into \"Documents\"? One folder \"before\" your working directory is represented by two periods and a forward slash: `../`. Thus the path of \"RPS.py\" relative to the current working directory would be `../scripts/RPS.py`.\n",
    "\n",
    "Test out any of those options for yourself moving RPS.py round your computer and try running the script from your own notebook in a new code cell."
   ]
  },
  {
   "cell_type": "markdown",
   "id": "a81f7d86-6b08-4372-a937-c76295434b3c",
   "metadata": {},
   "source": [
    "## Python Packages\n",
    "\n",
    "Python is a broad eco-system of coding tools and to really take advantage of these tools, we need to access them! Developers have created thousands of different packages for different types of coding needs. There are several packages we will be using throughout this book: Pandas for manipulating datasets, Numpy for mathematical operations, and Geopandas for spatial data analysis, just to name a few of the main packages in this book. Calling a package looks like this:"
   ]
  },
  {
   "cell_type": "code",
   "execution_count": 2,
   "id": "a00c5a85-fcac-4602-be70-86b1ed3da5a8",
   "metadata": {},
   "outputs": [],
   "source": [
    "import pandas as pd"
   ]
  },
  {
   "cell_type": "markdown",
   "id": "6598cc93-7c96-4839-8fc1-4b3fa824b7dd",
   "metadata": {},
   "source": [
    "You use the `import` command to call the package, which is pandas in this case, and you give it a name for your session. We bind any pandas functions to the name `pd`; we could have named this anything, but the convention is to use pd because it reminds the reader of the word \"pandas\", and other Python coders will recognize it when reading your code.\n",
    "\n",
    "Some packages do not come pre-installed with anaconda, for example the `pingouin` statistical analysis package which you will learn to use in the quantitative methods chapter. We will show you how to install any new packages in each chapter, but the command is relatively simple. You must enter a terminal window (in anaconda would be easiest), write `conda install <package name>` and hit enter. Anaconda will handle the rest. \n",
    "\n",
    "Each package comes with a set of __functions__ that perform distinct operations on our data, like creating a dataframe. The functions, as mentioned, carry the package's prefix, followed by a point `.`, the function name, and brackets `()`. The cell below shows an example of a simple dataframe with the pandas `Dataframe()` function."
   ]
  },
  {
   "cell_type": "code",
   "execution_count": 7,
   "id": "fbbff7b2-d8e1-4e9d-97f0-52156027e8ce",
   "metadata": {},
   "outputs": [
    {
     "data": {
      "text/html": [
       "<div>\n",
       "<style scoped>\n",
       "    .dataframe tbody tr th:only-of-type {\n",
       "        vertical-align: middle;\n",
       "    }\n",
       "\n",
       "    .dataframe tbody tr th {\n",
       "        vertical-align: top;\n",
       "    }\n",
       "\n",
       "    .dataframe thead th {\n",
       "        text-align: right;\n",
       "    }\n",
       "</style>\n",
       "<table border=\"1\" class=\"dataframe\">\n",
       "  <thead>\n",
       "    <tr style=\"text-align: right;\">\n",
       "      <th></th>\n",
       "      <th>City</th>\n",
       "      <th>State</th>\n",
       "      <th>Population</th>\n",
       "    </tr>\n",
       "  </thead>\n",
       "  <tbody>\n",
       "    <tr>\n",
       "      <th>0</th>\n",
       "      <td>Atlanta</td>\n",
       "      <td>GA</td>\n",
       "      <td>496461</td>\n",
       "    </tr>\n",
       "    <tr>\n",
       "      <th>1</th>\n",
       "      <td>Detroit</td>\n",
       "      <td>MI</td>\n",
       "      <td>632464</td>\n",
       "    </tr>\n",
       "    <tr>\n",
       "      <th>2</th>\n",
       "      <td>Topeka</td>\n",
       "      <td>KS</td>\n",
       "      <td>125963</td>\n",
       "    </tr>\n",
       "  </tbody>\n",
       "</table>\n",
       "</div>"
      ],
      "text/plain": [
       "      City State  Population\n",
       "0  Atlanta    GA      496461\n",
       "1  Detroit    MI      632464\n",
       "2   Topeka    KS      125963"
      ]
     },
     "execution_count": 7,
     "metadata": {},
     "output_type": "execute_result"
    }
   ],
   "source": [
    "df = pd.DataFrame(\n",
    "    {\n",
    "        \"City\":[\"Atlanta\", \"Detroit\", \"Topeka\"],\n",
    "        \"State\":[\"GA\",\"MI\",\"KS\"],\n",
    "        \"Population\":[496461,632464,125963],\n",
    "    }\n",
    ")\n",
    "\n",
    "df"
   ]
  },
  {
   "cell_type": "markdown",
   "id": "74988bf6-493e-41c3-8b07-0f411a439101",
   "metadata": {},
   "source": [
    "## The Terminal\n",
    "A final handy helper for many Python projects is the terminal. Every operating system in existence has one to run text-based commands and programs on the computer. However, because we have asked you to install Python and JupyterLab through the Anaconda distribution, you will also need to use the terminal in this environment. The terminal will mainly serve to install Python libraries that do not come with the initial installation of Anaconda. Let's give it a shot and see why it's so different to run python scripts alone versus inside a Jupyter Notebook.\n",
    "\n",
    "In the File Browser, click on the plus sign that opens a Launcher tab.\n",
    "\n",
    "<img src='./images/new_launcher.png' width=\"auto\" height=\"auto\"></img> \n",
    "\n",
    "Within the Launcher tab, open the Terminal under \"Other\". You'll be directed to yet another tab that is text-only, with your user name and the current working directory name in square brackets. \n",
    "\n",
    "Now let's try running the rock-paper-scissors script from the terminal. Depending on where you stored the RPS.py file, you would run it from the terminal by typing `python RPS.py`. If the script is not in the current working directory, you can change into a directory using the command `cd` followed by the path to the scripts folder. For example `cd scripts/` and then run your script with `python RPS.py`. "
   ]
  },
  {
   "cell_type": "markdown",
   "id": "9b88d6ae-e492-4fbc-bd24-82a5c333ede8",
   "metadata": {},
   "source": [
    "# To-do outline\n",
    "\n",
    "- Intro paragraph: Why should social scientists be interested in using python? Who is this book for and who is it _not_ for?\n",
    "\n",
    "- Outline of this book, IDE we will be using, the chapters and rationale for these lessons.\n",
    "\n",
    "- Introduction to files and file paths for readers who are unfamiliar with coding, data project management, and data analysis. \n",
    "    - Common file types to use: xlsx, csv, spatial files, .ipynb files, .py files\n",
    "    - File paths: Use names like \"Folder, directory, path\". The folder metaphor or the drawers metaphor, the home folder, the working directory, relative paths. \n",
    "    - Example with jupyterlab file browser. Creating the lesson 1 folder, downloading, opening, and saving a test script file.\n",
    "    - https://raw.githubusercontent.com/hastagAB/Awesome-Python-Scripts/master/Download-page-as-pdf/download-page-as-pdf.py\n",
    "    \n",
    "- Writing code in an IDE and a text editor. \n",
    "\n",
    "- Python packages rundown\n",
    "\n",
    "\n",
    "\n"
   ]
  },
  {
   "cell_type": "code",
   "execution_count": null,
   "id": "9ae4019a-45cd-4ac0-b81a-f8a4eed07b79",
   "metadata": {},
   "outputs": [],
   "source": []
  }
 ],
 "metadata": {
  "kernelspec": {
   "display_name": "Python 3 (ipykernel)",
   "language": "python",
   "name": "python3"
  },
  "language_info": {
   "codemirror_mode": {
    "name": "ipython",
    "version": 3
   },
   "file_extension": ".py",
   "mimetype": "text/x-python",
   "name": "python",
   "nbconvert_exporter": "python",
   "pygments_lexer": "ipython3",
   "version": "3.11.7"
  }
 },
 "nbformat": 4,
 "nbformat_minor": 5
}
