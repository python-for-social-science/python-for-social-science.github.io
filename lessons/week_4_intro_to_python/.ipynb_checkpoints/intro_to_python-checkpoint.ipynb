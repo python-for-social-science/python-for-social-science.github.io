{
 "cells": [
  {
   "cell_type": "markdown",
   "id": "149f668c-f4b6-49a0-8c50-854b61e7161e",
   "metadata": {},
   "source": [
    "# Introduction to Python\n",
    "You have already done a great deal of management and analysis of social science data with Python in this book. It may seem silly to introduce python in the fourth chapter of this book, but we wanted to motivate readers with hands-on experience programming real data about the real world. However, it is now time to delve into the programming language you have been running since chapter one. This chapter introduces core Python concepts that will accompany you every step of the way as you code more and more scripts and projects. They are concepts that all Python programmers understand innately, whether they're social scientists, data scientists, or software developers. \n",
    "\n",
    "The concepts are very concrete, so don't fear that this chapter is especially theoretical. You'll learn about the 'object' in 'object-oriented programming', data _types_, data _structures_, math operations, using and creating functions, and package management.   \n",
    "\n",
    "...\n",
    "\n",
    "## Objects\n",
    "Think back to the previous chapters of this book where we talked about 'assigning' something a name using the `=` sign. What you were doing here was creating, sometimes updating, an object in Python. Objects can have take on many different forms and can be described many ways, and that is what the subsequent sections of this chapter are about. But first we want to really drive home that objects are the bread and butter of programming in Python. \n",
    "\n",
    "You've already seen us assign data into dataframe objects like so:"
   ]
  },
  {
   "cell_type": "code",
   "execution_count": 13,
   "id": "6a56ed58-ff96-4031-a35b-a8995f8ba46c",
   "metadata": {},
   "outputs": [],
   "source": [
    "# This code cell will be in every one of our chapters in Jupyter Notebook\n",
    "# It will have the muli-line output code and any important packages to pre-load\n",
    "\n",
    "# The function allows you to see every line of output when the code has multiple lines\n",
    "from IPython.core.interactiveshell import InteractiveShell\n",
    "InteractiveShell.ast_node_interactivity = 'all'\n",
    "\n",
    "# Load pandas\n",
    "import pandas as pd"
   ]
  },
  {
   "cell_type": "code",
   "execution_count": 11,
   "id": "9e28844c-1be2-4eb8-ad31-1de654eab1dc",
   "metadata": {},
   "outputs": [],
   "source": [
    "ACS_2022 = pd.read_csv('../../Data/ACS/DP02/County/ACSDP1Y2022.DP02-Data.csv')"
   ]
  },
  {
   "cell_type": "markdown",
   "id": "4d10ad34-f027-4b52-84df-bd5608c1c89c",
   "metadata": {},
   "source": [
    "We made an object called `ACS_2022` by the mere act of writing its name and giving it values after the `=` sign. We also made a two-dimensional series of values into an object in chapter two:"
   ]
  },
  {
   "cell_type": "code",
   "execution_count": 12,
   "id": "2cda4c52-0984-424e-b325-d104472098a3",
   "metadata": {},
   "outputs": [],
   "source": [
    "patient_height = [177, 174, 170, 183, 168, 182, 163, \n",
    "                  191, 177, 176, 173, 186, 174, 168, \n",
    "                  184, 170, 170, 192, 181, 173]"
   ]
  },
  {
   "cell_type": "markdown",
   "id": "2c48b418-0596-4704-83a8-fcb36a731996",
   "metadata": {},
   "source": [
    "You can make pretty much anything into an object: single digits, lists, lists of lists, a complicated algorithm, picture files, entire python script files, etc... You can also use those objects in very handy ways which could have made a lot of our code shorter and more efficient in past chapters. Let's look at the main data types in Python by making some objects and inspecting them.\n",
    "\n",
    "So far we have been inspecting objects with `.info()`, which is a pandas function. Useful as it may be, for this chapter we'll be doing it the base-Python way with `type()`. Let's inspect our objects. "
   ]
  },
  {
   "cell_type": "code",
   "execution_count": 76,
   "id": "5eeae95e-e4a1-4003-8e04-011fb374019a",
   "metadata": {},
   "outputs": [
    {
     "name": "stdout",
     "output_type": "stream",
     "text": [
      "a is  <class 'str'>\n",
      "('a', 'b', 'c') is  <class 'tuple'>\n",
      "['b', 'c', 'd'] is  <class 'list'>\n",
      "1 is  <class 'int'>\n",
      "2 is  <class 'int'>\n",
      "2.5 is  <class 'float'>\n",
      "(1, 2, 3) is  <class 'tuple'>\n",
      "[1, 2, 3] is  <class 'list'>\n"
     ]
    }
   ],
   "source": [
    "a = 'a'\n",
    "b = 'a','b','c'\n",
    "c = ['b','c','d']\n",
    "d = 1\n",
    "e = (2)\n",
    "f = 2.5\n",
    "g = 1,2,3\n",
    "h = [1,2,3]\n",
    "\n",
    "print(a, 'is ',type(a))\n",
    "print(b, 'is ',type(b))\n",
    "print(c, 'is ',type(c))\n",
    "print(d, 'is ',type(d))\n",
    "print(e, 'is ',type(e))\n",
    "print(f, 'is ',type(f))\n",
    "print(g, 'is ',type(g))\n",
    "print(h, 'is ',type(h))"
   ]
  },
  {
   "cell_type": "markdown",
   "id": "e9069960-4088-4815-a506-f0e9d9380f3e",
   "metadata": {},
   "source": [
    "### Variable types\n",
    "In our examples above, the objects `a`, `d`, `e`, and `f` would be clasified as variables in Python; a single unique value assigned to one object. We could make this more concrete with a human example: like `a = 'a'` in our code, a person in our data is named `Helen`. And like the name Helen, variable `a` is a `str` or string variable. This is as simple as can be, although managing string variables is a\n",
    "\n",
    "The two other variable types are numeric, as you can see in the code cell above. One type is the `int` or integer variable type, i.e.: whole numbers. The second is the `float` type, which is used for numbers that include a fraction or decimal point. We'll illustrate once more."
   ]
  },
  {
   "cell_type": "code",
   "execution_count": null,
   "id": "d43323d9-8c3e-44e1-abf4-16ea97d7f730",
   "metadata": {},
   "outputs": [],
   "source": []
  },
  {
   "cell_type": "code",
   "execution_count": null,
   "id": "d7f3617f-90b6-411a-a43b-bd29eacac629",
   "metadata": {},
   "outputs": [],
   "source": []
  },
  {
   "cell_type": "code",
   "execution_count": null,
   "id": "a6e687c9-0d5f-42bd-b674-27c4fd6943c4",
   "metadata": {},
   "outputs": [],
   "source": []
  },
  {
   "cell_type": "code",
   "execution_count": null,
   "id": "6229aba1-a923-4ad5-89cc-38fe5437be94",
   "metadata": {},
   "outputs": [],
   "source": []
  },
  {
   "cell_type": "code",
   "execution_count": null,
   "id": "a1c3af43-1707-4b8f-88d9-3597233afb1c",
   "metadata": {},
   "outputs": [],
   "source": []
  },
  {
   "cell_type": "code",
   "execution_count": null,
   "id": "5a50f079-93f4-420b-b1e0-8c28f1f0cabe",
   "metadata": {},
   "outputs": [],
   "source": []
  },
  {
   "cell_type": "code",
   "execution_count": null,
   "id": "7c147282-75ac-4e4f-857f-bddde5306f38",
   "metadata": {},
   "outputs": [],
   "source": []
  },
  {
   "cell_type": "code",
   "execution_count": null,
   "id": "1f6d7f39-ec4e-45a9-a2a7-36651ce8f1cc",
   "metadata": {},
   "outputs": [],
   "source": []
  },
  {
   "cell_type": "code",
   "execution_count": null,
   "id": "0dd610c7-9964-486a-a4d7-667ab620cbc7",
   "metadata": {},
   "outputs": [],
   "source": []
  },
  {
   "cell_type": "code",
   "execution_count": null,
   "id": "06960353-4374-4c96-b126-917f586443a4",
   "metadata": {},
   "outputs": [],
   "source": []
  },
  {
   "cell_type": "code",
   "execution_count": null,
   "id": "05718684-7746-4385-9b27-2505510ea005",
   "metadata": {},
   "outputs": [],
   "source": []
  },
  {
   "cell_type": "code",
   "execution_count": null,
   "id": "a67d18b6-144d-465b-9cb2-7da81437cfe5",
   "metadata": {},
   "outputs": [],
   "source": []
  },
  {
   "cell_type": "markdown",
   "id": "8af78788-760d-49cf-920e-f477b03090ce",
   "metadata": {
    "jp-MarkdownHeadingCollapsed": true
   },
   "source": [
    "# to-do\n",
    "- Objects.\n",
    "- Data types:\n",
    "    - integer,\n",
    "    - numeric,\n",
    "    - string.\n",
    "\n",
    "- Data structures:\n",
    "    - dictionary,\n",
    "    - list,\n",
    "    - tuple, \n",
    "    - arrays.\n",
    "- Math operations.\n",
    "- Functions.\n",
    "- Package management.   <- i sort of introduce this in chapter 1. will see how long this need to be.\n"
   ]
  }
 ],
 "metadata": {
  "kernelspec": {
   "display_name": "Python 3 (ipykernel)",
   "language": "python",
   "name": "python3"
  },
  "language_info": {
   "codemirror_mode": {
    "name": "ipython",
    "version": 3
   },
   "file_extension": ".py",
   "mimetype": "text/x-python",
   "name": "python",
   "nbconvert_exporter": "python",
   "pygments_lexer": "ipython3",
   "version": "3.11.7"
  }
 },
 "nbformat": 4,
 "nbformat_minor": 5
}
