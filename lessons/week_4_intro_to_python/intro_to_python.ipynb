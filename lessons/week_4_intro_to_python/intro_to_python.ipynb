{
 "cells": [
  {
   "cell_type": "markdown",
   "id": "149f668c-f4b6-49a0-8c50-854b61e7161e",
   "metadata": {},
   "source": [
    "# Introduction to Python\n",
    "You have already done a great deal of management and analysis of social science data with Python in this book. It may seem silly to introduce python in the fourth chapter of this book, but we wanted to motivate readers with hands-on experience programming real data about the real world. However, it is now time to delve into the programming language you have been running since chapter one. This chapter introduces core Python concepts that will accompany you every step of the way as you code more and more scripts and projects. They are concepts that all Python programmers understand innately, whether they're social scientists, data scientists, or software developers. \n",
    "\n",
    "The concepts are very concrete, so don't worry about whether this chapter is especially theoretical. You'll learn about the 'object' in 'object-oriented programming', data _types_, data _structures_, math operations, using and creating functions, and package management.   \n",
    "\n",
    "## Objects\n",
    "Think back to the previous chapters of this book where we talked about 'assigning' something a name using the `=` sign. What you were doing here was creating, sometimes updating, an object in Python. Objects can have take on many different forms and can be described many ways, and that is what the subsequent sections of this chapter are about. But first we want to really drive home that objects are the bread and butter of programming in Python. \n",
    "\n",
    "You've already seen us assign data into dataframe objects like so:"
   ]
  },
  {
   "cell_type": "code",
   "execution_count": 1,
   "id": "6a56ed58-ff96-4031-a35b-a8995f8ba46c",
   "metadata": {},
   "outputs": [],
   "source": [
    "# This code cell will be in every one of our chapters in Jupyter Notebook\n",
    "# The function allows you to see every line of output when the code has multiple lines\n",
    "from IPython.core.interactiveshell import InteractiveShell\n",
    "InteractiveShell.ast_node_interactivity = 'all'\n",
    "\n",
    "# Load pandas\n",
    "import pandas as pd"
   ]
  },
  {
   "cell_type": "code",
   "execution_count": 2,
   "id": "9e28844c-1be2-4eb8-ad31-1de654eab1dc",
   "metadata": {},
   "outputs": [],
   "source": [
    "ACS_2022 = pd.read_csv('../../Data/ACS/DP02/County/ACSDP1Y2022.DP02-Data.csv')"
   ]
  },
  {
   "cell_type": "markdown",
   "id": "4d10ad34-f027-4b52-84df-bd5608c1c89c",
   "metadata": {},
   "source": [
    "We made an object called `ACS_2022` by the mere act of writing its name and giving it values after the `=` sign. We also made a two-dimensional series of values into an object in chapter two:"
   ]
  },
  {
   "cell_type": "code",
   "execution_count": 3,
   "id": "2cda4c52-0984-424e-b325-d104472098a3",
   "metadata": {},
   "outputs": [],
   "source": [
    "patient_height = [177, 174, 170, 183, 168, \n",
    "          182, 163, 191, 177, 176, \n",
    "          173, 186, 174, 168, 184, \n",
    "          170, 170, 192, 181, 173]"
   ]
  },
  {
   "cell_type": "markdown",
   "id": "2204e451-84a7-41df-a118-933f932aff4c",
   "metadata": {},
   "source": [
    "Python even lets you assign many objects simultaneously."
   ]
  },
  {
   "cell_type": "code",
   "execution_count": 4,
   "id": "74b6aa75-71ef-437f-a8df-5e02d18b5855",
   "metadata": {},
   "outputs": [
    {
     "data": {
      "text/plain": [
       "1"
      ]
     },
     "execution_count": 4,
     "metadata": {},
     "output_type": "execute_result"
    },
    {
     "data": {
      "text/plain": [
       "2"
      ]
     },
     "execution_count": 4,
     "metadata": {},
     "output_type": "execute_result"
    },
    {
     "data": {
      "text/plain": [
       "'three'"
      ]
     },
     "execution_count": 4,
     "metadata": {},
     "output_type": "execute_result"
    },
    {
     "data": {
      "text/plain": [
       "'four'"
      ]
     },
     "execution_count": 4,
     "metadata": {},
     "output_type": "execute_result"
    }
   ],
   "source": [
    "a, b, c, d = 1, 2, 'three', 'four'\n",
    "a\n",
    "b\n",
    "c\n",
    "d"
   ]
  },
  {
   "cell_type": "markdown",
   "id": "2c48b418-0596-4704-83a8-fcb36a731996",
   "metadata": {},
   "source": [
    "You can make pretty much anything into an object: single digits, lists, lists of lists, a complicated algorithm, picture files, entire python script files, etc... You can also use those objects in very handy ways which could have made a lot of our code shorter and more efficient in past chapters. Let's look at the main data types in Python by making some objects and inspecting them. \n",
    "\n",
    "We are going to create a lot of text and numeric objects below as we introduce variables and data structures, which are collections of variables. So far you have been inspecting objects with `.info()`, which is a pandas function. Useful as it may be, this chapter will do things the base-Python way with `type()`."
   ]
  },
  {
   "cell_type": "code",
   "execution_count": 5,
   "id": "5eeae95e-e4a1-4003-8e04-011fb374019a",
   "metadata": {},
   "outputs": [
    {
     "name": "stdout",
     "output_type": "stream",
     "text": [
      "a is  <class 'str'>\n",
      "('a', 'b', 'c') is  <class 'tuple'>\n",
      "['b', 'c', 'd'] is  <class 'list'>\n",
      "1 is  <class 'int'>\n",
      "2 is  <class 'int'>\n",
      "2.5 is  <class 'float'>\n",
      "(1, 2, 3) is  <class 'tuple'>\n",
      "[1, 1, 2, 3] is  <class 'list'>\n",
      "{'strings': ['one', 'two', 'three'], 'integers': [2, 4, 8], 'floats': [1.5, 0.5, 3.3333333333333335]} is  <class 'dict'>\n"
     ]
    }
   ],
   "source": [
    "a = 'a'\n",
    "b = 'a','b','c'\n",
    "c = ['b','c','d']\n",
    "d = 1\n",
    "e = (2)\n",
    "f = 2.5\n",
    "g = 1,2,3\n",
    "h = [1,1,2,3]\n",
    "i = {'strings':['one','two','three'],'integers':[2,4,8],'floats':[1.5,7/14,10/3]}\n",
    "\n",
    "print(a, 'is ',type(a))\n",
    "print(b, 'is ',type(b))\n",
    "print(c, 'is ',type(c))\n",
    "print(d, 'is ',type(d))\n",
    "print(e, 'is ',type(e))\n",
    "print(f, 'is ',type(f))\n",
    "print(g, 'is ',type(g))\n",
    "print(h, 'is ',type(h))\n",
    "print(i, 'is ',type(i))"
   ]
  },
  {
   "cell_type": "markdown",
   "id": "e9069960-4088-4815-a506-f0e9d9380f3e",
   "metadata": {},
   "source": [
    "## Variable types\n",
    "### String variables\n",
    "In our examples above, the objects `a`, `d`, `e`, and `f` are classified as variables in Python because they are a single unique value connected to one object. Only one variable is classified as a __string__ type: variable `a`. Strings are any imaginable text value, from a single name or word to entire paragraphs (imagine surveys that ask you to explain your thought about a topic). Though objects `b` and `c` store string values, they are not variables but structures. More on these later.\n",
    "\n",
    "### Numeric variables - int and float\n",
    "The two other variable types are numeric, as you can see in the code cell above. Variables `d` and `e` are classified as __int__ or integer variables, i.e.: whole numbers. The second kind of numeric variable is a __float__ class, in this case assigned to `f = 2.5`. `Float` is used for numbers that include a fraction or decimal point. We'll illustrate once more below."
   ]
  },
  {
   "cell_type": "code",
   "execution_count": 6,
   "id": "d43323d9-8c3e-44e1-abf4-16ea97d7f730",
   "metadata": {},
   "outputs": [
    {
     "name": "stdout",
     "output_type": "stream",
     "text": [
      "5.0  is a  <class 'float'>\n",
      "5  is a  <class 'int'>\n",
      "5.5  is a  <class 'float'>\n",
      "-5  is a  <class 'int'>\n"
     ]
    }
   ],
   "source": [
    "five = 10/2\n",
    "print(five, ' is a ', type(five))\n",
    "\n",
    "five = 5\n",
    "print(five, ' is a ', type(five))\n",
    "\n",
    "five = 5.5\n",
    "print(five, ' is a ', type(five))\n",
    "\n",
    "five = -5\n",
    "print(five, ' is a ', type(five))"
   ]
  },
  {
   "cell_type": "markdown",
   "id": "319352ac-8790-49eb-b3aa-d0b0d4ae8bc3",
   "metadata": {},
   "source": [
    "## Data Structures\n",
    "Having a single python object assigned a single numeric or text value is not too useful, nor is it very common. What you are used to seeing as a social science researcher are individual values strung together into an __array__ as we have talked about in the previous chapters. Further back, when you created objects `a` through `i`, only four of these were variable classes. The rest of the variables were data structures `b, c, g, h, i`:"
   ]
  },
  {
   "cell_type": "code",
   "execution_count": 7,
   "id": "a1c3af43-1707-4b8f-88d9-3597233afb1c",
   "metadata": {},
   "outputs": [
    {
     "name": "stdout",
     "output_type": "stream",
     "text": [
      "('a', 'b', 'c') is  <class 'tuple'>\n",
      "['b', 'c', 'd'] is  <class 'list'>\n",
      "(1, 2, 3) is  <class 'tuple'>\n",
      "[1, 1, 2, 3] is  <class 'list'>\n",
      "{'strings': ['one', 'two', 'three'], 'integers': [2, 4, 8], 'floats': [1.5, 0.5, 3.3333333333333335]} is  <class 'dict'>\n"
     ]
    }
   ],
   "source": [
    "print(b, 'is ',type(b))\n",
    "print(c, 'is ',type(c))\n",
    "print(g, 'is ',type(g))\n",
    "print(h, 'is ',type(h))\n",
    "print(i, 'is ',type(i))"
   ]
  },
  {
   "cell_type": "markdown",
   "id": "16b4548e-bbd4-4559-a2e7-442e31683a5a",
   "metadata": {},
   "source": [
    "Now our classification becomes a little more nuanced. The first four objects are all what we have so far been calling _arrays_, _vectors_, or pandas' _series_: one-dimensional lists of values with some length greater than one. This is still true despite Python's classifications `tuple` and `list`. These two data structure are, however, distinct in the way that they can be used and manipulated. At the same time, tuples and lists share many characteristics, so we will first talk about their features in common.\n",
    "\n",
    "## Tuples and Lists - Common Features\n",
    "You've already seen one very superficial distinction between a tuple and a list, which is at the moment of assigning your object. Lists and Tuple objects will receive multiple variables of numeric and/or string values separated by a comma. However, you can assign values to a tuple either in parentheses or without any kind of enclosure. Lists, on the other hand, make use of square brackets.\n"
   ]
  },
  {
   "cell_type": "code",
   "execution_count": 8,
   "id": "0725f7d3-008a-4bdf-95d8-7761ea4e700b",
   "metadata": {},
   "outputs": [
    {
     "data": {
      "text/plain": [
       "(1, 2, 3)"
      ]
     },
     "execution_count": 8,
     "metadata": {},
     "output_type": "execute_result"
    },
    {
     "data": {
      "text/plain": [
       "(1, 2, 3)"
      ]
     },
     "execution_count": 8,
     "metadata": {},
     "output_type": "execute_result"
    },
    {
     "data": {
      "text/plain": [
       "[1, 2, 3]"
      ]
     },
     "execution_count": 8,
     "metadata": {},
     "output_type": "execute_result"
    },
    {
     "data": {
      "text/plain": [
       "tuple"
      ]
     },
     "execution_count": 8,
     "metadata": {},
     "output_type": "execute_result"
    },
    {
     "data": {
      "text/plain": [
       "tuple"
      ]
     },
     "execution_count": 8,
     "metadata": {},
     "output_type": "execute_result"
    },
    {
     "data": {
      "text/plain": [
       "list"
      ]
     },
     "execution_count": 8,
     "metadata": {},
     "output_type": "execute_result"
    }
   ],
   "source": [
    "tuple1 = 1,2,3\n",
    "tuple2 = (1,2,3)\n",
    "list1 = [1,2,3]\n",
    "\n",
    "tuple1\n",
    "tuple2\n",
    "list1\n",
    "\n",
    "type(tuple1)\n",
    "type(tuple2)\n",
    "type(list1)"
   ]
  },
  {
   "cell_type": "markdown",
   "id": "c8873181-91d7-47a7-9786-1e4810f1b45c",
   "metadata": {},
   "source": [
    "After that, these data vectors work almost identically for many use-cases. Let's go over these. \n",
    "\n",
    "### Indexing\n",
    "As a vector of data, you can point to a specific value within either tuples or lists with the index. The index is the position taken by value _x_ in a vector, starting with position 0. You use square brackets `[]` after your object and provide the position of the value you want to access. Let's use the `patient_height` object we created at the beginning of the chapter. Incidentally, `patient_height` is a list, but we can force a vector into either class with `tuple()` and `list`"
   ]
  },
  {
   "cell_type": "code",
   "execution_count": 9,
   "id": "67ac31ac-d047-47b7-bc68-128f9dd8e034",
   "metadata": {},
   "outputs": [
    {
     "data": {
      "text/plain": [
       "tuple"
      ]
     },
     "execution_count": 9,
     "metadata": {},
     "output_type": "execute_result"
    },
    {
     "data": {
      "text/plain": [
       "177"
      ]
     },
     "execution_count": 9,
     "metadata": {},
     "output_type": "execute_result"
    },
    {
     "data": {
      "text/plain": [
       "(177, 174, 170, 183)"
      ]
     },
     "execution_count": 9,
     "metadata": {},
     "output_type": "execute_result"
    },
    {
     "data": {
      "text/plain": [
       "list"
      ]
     },
     "execution_count": 9,
     "metadata": {},
     "output_type": "execute_result"
    },
    {
     "data": {
      "text/plain": [
       "177"
      ]
     },
     "execution_count": 9,
     "metadata": {},
     "output_type": "execute_result"
    },
    {
     "data": {
      "text/plain": [
       "[177, 174, 170, 183]"
      ]
     },
     "execution_count": 9,
     "metadata": {},
     "output_type": "execute_result"
    }
   ],
   "source": [
    "patient_height = [177, 174, 170, 183, 168, \n",
    "                  182, 163, 191, 177, 176, \n",
    "                  173, 186, 174, 168, 184, \n",
    "                  170, 170, 192, 181, 173]\n",
    "\n",
    "# a tuple\n",
    "height = tuple(patient_height)\n",
    "type(height)\n",
    "height[0] # First position\n",
    "height[0:4] # From position Zero and stop at Four (doesn't include four!)\n",
    "\n",
    "# and a list\n",
    "height = list(patient_height) \n",
    "type(height)\n",
    "height[0] # First position\n",
    "height[0:4] # From position Zero and stop at Four (doesn't include four!)"
   ]
  },
  {
   "cell_type": "markdown",
   "id": "b87aa23b-f13a-43af-bf61-3931e21326da",
   "metadata": {},
   "source": [
    "Taking some values out of a larger vector like this is called 'slicing', and knowing the index position is crucial for this task. You can use a colon `:` between index values for the start and end points of the slice, but be aware that the final index number that you provide (i.e.: `height[0:4]`) is precisely where the slice _stops_, and does not include that index. Finally, if you want to slice two or more non-consecutive indexes, you have to actually specify the object and index multiple times:"
   ]
  },
  {
   "cell_type": "code",
   "execution_count": 10,
   "id": "d1e7f64b-2d1a-4b18-94c7-052d3ee1a259",
   "metadata": {},
   "outputs": [
    {
     "data": {
      "text/plain": [
       "174"
      ]
     },
     "execution_count": 10,
     "metadata": {},
     "output_type": "execute_result"
    },
    {
     "data": {
      "text/plain": [
       "173"
      ]
     },
     "execution_count": 10,
     "metadata": {},
     "output_type": "execute_result"
    },
    {
     "data": {
      "text/plain": [
       "(174, 173)"
      ]
     },
     "execution_count": 10,
     "metadata": {},
     "output_type": "execute_result"
    }
   ],
   "source": [
    "height[1]\n",
    "height[19]\n",
    "\n",
    "(height[1],height[19])"
   ]
  },
  {
   "cell_type": "markdown",
   "id": "42c05478-8230-45b3-9ed3-49ff9efa11da",
   "metadata": {},
   "source": [
    "Tuples and Lists, and slices of tuples and lists, can be concatenated to make a longer vector. You can also take single values from a list or a tuple with indexing and perform functions as if they were variable values (because they are). However, distinct classes of data means that you cannot do any kind of operations between a tuple and list or any mismatched data types. This means operations like the following would give you an error message:\n",
    "- `'one'+1`\n",
    "- `(1,2,3)+[4,5,6]`\n",
    "- `list1+tuple1`\n",
    "\n",
    "Either way, using math operators on a vector is not the same as using math on a value in a vector."
   ]
  },
  {
   "cell_type": "code",
   "execution_count": 11,
   "id": "7c147282-75ac-4e4f-857f-bddde5306f38",
   "metadata": {},
   "outputs": [
    {
     "data": {
      "text/plain": [
       "(1, 2, 3, 1, 2, 3)"
      ]
     },
     "execution_count": 11,
     "metadata": {},
     "output_type": "execute_result"
    },
    {
     "data": {
      "text/plain": [
       "[1, 2, 2, 3]"
      ]
     },
     "execution_count": 11,
     "metadata": {},
     "output_type": "execute_result"
    },
    {
     "data": {
      "text/plain": [
       "-2"
      ]
     },
     "execution_count": 11,
     "metadata": {},
     "output_type": "execute_result"
    },
    {
     "data": {
      "text/plain": [
       "1.5"
      ]
     },
     "execution_count": 11,
     "metadata": {},
     "output_type": "execute_result"
    },
    {
     "data": {
      "text/plain": [
       "4"
      ]
     },
     "execution_count": 11,
     "metadata": {},
     "output_type": "execute_result"
    }
   ],
   "source": [
    "# We can concatenate two vectors of the same class\n",
    "tuple1+tuple2\n",
    "\n",
    "list1[0:2]+list1[1:3]\n",
    "\n",
    "# Or perform some basic bath on individual variable values\n",
    "tuple1[0]-tuple1[2]\n",
    "\n",
    "tuple2[2]/tuple1[1]\n",
    "\n",
    "list1[0]+tuple1[2]"
   ]
  },
  {
   "cell_type": "markdown",
   "id": "99cb958c-aec5-4c23-8287-8441af6a5b7c",
   "metadata": {},
   "source": [
    "## Tuples and Lists - Immutability\n",
    "The real difference between lists and tuple classes is that, once defined, you can alter a list's values but you can not alter a tuple's values. One can update a specific value in a list using indexes, by putting the indexed value to change on the left of the `=` sign and the new value to the right. One can also use the commands `.append()`, `.insert()`, and `.remove()` to enter new values at different points of the list: "
   ]
  },
  {
   "cell_type": "code",
   "execution_count": 12,
   "id": "0dd610c7-9964-486a-a4d7-667ab620cbc7",
   "metadata": {},
   "outputs": [
    {
     "data": {
      "text/plain": [
       "[1, 3, 4]"
      ]
     },
     "execution_count": 12,
     "metadata": {},
     "output_type": "execute_result"
    },
    {
     "data": {
      "text/plain": [
       "[1, 2, 4]"
      ]
     },
     "execution_count": 12,
     "metadata": {},
     "output_type": "execute_result"
    },
    {
     "data": {
      "text/plain": [
       "[1, 2, 3, 4]"
      ]
     },
     "execution_count": 12,
     "metadata": {},
     "output_type": "execute_result"
    },
    {
     "data": {
      "text/plain": [
       "[1, 2, 3, 4, 5]"
      ]
     },
     "execution_count": 12,
     "metadata": {},
     "output_type": "execute_result"
    },
    {
     "data": {
      "text/plain": [
       "[1, 2, 4, 5]"
      ]
     },
     "execution_count": 12,
     "metadata": {},
     "output_type": "execute_result"
    }
   ],
   "source": [
    "list1=[1,3,4]\n",
    "list1\n",
    "\n",
    "# Change '3' to '2'\n",
    "list1[1]=2\n",
    "list1\n",
    "\n",
    "# Insert '3' after '2'\n",
    "list1.insert(2,3)\n",
    "list1\n",
    "\n",
    "# Append '5' at the end\n",
    "list1.append(5)\n",
    "list1\n",
    "\n",
    "# Remove '3'\n",
    "list1.remove(3)\n",
    "list1"
   ]
  },
  {
   "cell_type": "markdown",
   "id": "db8003cb-1c84-4525-89a2-0131429e54bf",
   "metadata": {},
   "source": [
    "On a tuple, none of these operations are possible. You are only allowed to view tuples and extract values from them, but as objects they remain immutable by definition."
   ]
  },
  {
   "cell_type": "markdown",
   "id": "a91d937c-26da-4baa-b08a-a4a625623cf2",
   "metadata": {},
   "source": [
    "## Back to Strings\n",
    "We turn your attention back to string variables for a moment because they have some features that make them _similar_ to vectors. While we obviously can't add or subtract string values from string values, nor can we add numeric to string, we _can_ treat strings like a vector if that text value has more than one letter!\n",
    "\n",
    "If a string variable has more than one letter, then you can index characters by their position. Let's take the word \"Python\" for example:"
   ]
  },
  {
   "cell_type": "code",
   "execution_count": 13,
   "id": "0ad4cbaa-cb8f-4499-b4cb-a1b5e8962f38",
   "metadata": {},
   "outputs": [
    {
     "data": {
      "text/plain": [
       "str"
      ]
     },
     "execution_count": 13,
     "metadata": {},
     "output_type": "execute_result"
    },
    {
     "data": {
      "text/plain": [
       "6"
      ]
     },
     "execution_count": 13,
     "metadata": {},
     "output_type": "execute_result"
    },
    {
     "data": {
      "text/plain": [
       "'py'"
      ]
     },
     "execution_count": 13,
     "metadata": {},
     "output_type": "execute_result"
    },
    {
     "data": {
      "text/plain": [
       "('t', 'h')"
      ]
     },
     "execution_count": 13,
     "metadata": {},
     "output_type": "execute_result"
    },
    {
     "data": {
      "text/plain": [
       "'on'"
      ]
     },
     "execution_count": 13,
     "metadata": {},
     "output_type": "execute_result"
    }
   ],
   "source": [
    "python='python'\n",
    "type(python)\n",
    "len(python)\n",
    "python[-6:-4]\n",
    "python[2],python[3]\n",
    "python[4:6]"
   ]
  },
  {
   "cell_type": "markdown",
   "id": "e280017a-c511-45a6-bb6a-c838f69b7021",
   "metadata": {},
   "source": [
    "Strings, like tuples, are also immutable; we cannot alter a character inside of a string variable with indexing. However, there are a wealth of string-specific python functions that do allow you to analyze and alter text. We already saw some examples of capitalization functions in the pandas II chapter, and there will be much more on string manipulation in later chapters. \n",
    "\n",
    "## Dictionaries\n",
    "The last data class we will showcase in this chapter (yes there are more) is the __dictionary__, which you had previously assigned as object `i`."
   ]
  },
  {
   "cell_type": "code",
   "execution_count": 14,
   "id": "317d07f2-fa0e-48d4-82e1-152528f124cd",
   "metadata": {},
   "outputs": [
    {
     "data": {
      "text/plain": [
       "{'strings': ['one', 'two', 'three'],\n",
       " 'integers': [2, 4, 8],\n",
       " 'floats': [1.5, 0.5, 3.3333333333333335]}"
      ]
     },
     "execution_count": 14,
     "metadata": {},
     "output_type": "execute_result"
    },
    {
     "data": {
      "text/plain": [
       "dict"
      ]
     },
     "execution_count": 14,
     "metadata": {},
     "output_type": "execute_result"
    },
    {
     "data": {
      "text/plain": [
       "[2, 4, 8]"
      ]
     },
     "execution_count": 14,
     "metadata": {},
     "output_type": "execute_result"
    }
   ],
   "source": [
    "i\n",
    "type(i)\n",
    "i['integers']"
   ]
  },
  {
   "cell_type": "markdown",
   "id": "666f4489-b028-41f6-a3d3-508a5e30738b",
   "metadata": {},
   "source": [
    "The dictionary class looks a bit like a dataframe, but they are _not_ dataframes and it won't do for you to confuse the two. Dictionaries are composed of two parts, __keys__ and their __values__. You could think of the key as a variable name or column name, and you can index. or identify, specific values of a key in square brackets as usual. Keys need not be strings at all, however: you are free to use numeric values, strings, and even tuples as dictionary keys. You cannot, however, use a list class for keys; Remember how tuples are immutable? So are dictionary keys once they've been assigned. \n",
    "\n",
    "Dictionary values can be any data class as well, and you are not limited to keeping values the same data class. In short, dictionaries have keys and values: keys can be any class but lists, and values can be any kind of data type that you want. "
   ]
  },
  {
   "cell_type": "code",
   "execution_count": 15,
   "id": "e676038e-e449-41ca-a0cc-d9979c87ad41",
   "metadata": {},
   "outputs": [
    {
     "data": {
      "text/plain": [
       "['Santas workshop, The North Pole', '90.0000, 135.0000']"
      ]
     },
     "execution_count": 15,
     "metadata": {},
     "output_type": "execute_result"
    },
    {
     "data": {
      "text/plain": [
       "'golden rings'"
      ]
     },
     "execution_count": 15,
     "metadata": {},
     "output_type": "execute_result"
    }
   ],
   "source": [
    "santa = {'telephone':('999-99-99',9999999),('address','latitude and longitude'):['Santas workshop, The North Pole','90.0000, 135.0000'],5:'golden rings'}\n",
    "santa['address','latitude and longitude']\n",
    "santa[5]"
   ]
  },
  {
   "cell_type": "markdown",
   "id": "ef47eaee-efb0-406e-ab5a-871da89f4dd0",
   "metadata": {},
   "source": [
    "## Python Math and Logic Operators\n",
    "Python has a multitude of operations that you can execute on variables and structures to comprehend and manipulate data. In this section we show you the most common types of operators and the results of using Python like a calculator. The operations in this section are [by no means exhaustive](https://www.w3schools.com/python/python_operators.asp), but they are the most common in data analysis (as opposed to software development or other types of advanced algorithms)\n",
    "\n",
    "Numeric variables can work with basic mathematical operators, and it doesn't matter if they are classified as `int` or `float`. The same way you can use Python as a basic calculator, we can assign numbers to objects and perform these same calculations. \n",
    "The math operators you are able to use on numeric variables in base python are \n",
    "Operator |\tName |\tExample |\t\n",
    "|:-:|:-:|:-:|\n",
    "|+|Addition\t|x + y|\t\n",
    "|-|Subtraction|x - y|\t\n",
    "|*|Multiplication|x * y|\n",
    "|/|Division|x / y|\n",
    "|**|Exponentiation|x ** y|\n"
   ]
  },
  {
   "cell_type": "code",
   "execution_count": 16,
   "id": "a6e687c9-0d5f-42bd-b674-27c4fd6943c4",
   "metadata": {},
   "outputs": [
    {
     "data": {
      "text/plain": [
       "16"
      ]
     },
     "execution_count": 16,
     "metadata": {},
     "output_type": "execute_result"
    },
    {
     "data": {
      "text/plain": [
       "16"
      ]
     },
     "execution_count": 16,
     "metadata": {},
     "output_type": "execute_result"
    },
    {
     "data": {
      "text/plain": [
       "25"
      ]
     },
     "execution_count": 16,
     "metadata": {},
     "output_type": "execute_result"
    },
    {
     "data": {
      "text/plain": [
       "25"
      ]
     },
     "execution_count": 16,
     "metadata": {},
     "output_type": "execute_result"
    }
   ],
   "source": [
    "# Multiplication\n",
    "4*4 \n",
    "four=4\n",
    "four*four\n",
    "\n",
    "# Exponentiation\n",
    "5**2\n",
    "five=5\n",
    "two=2\n",
    "five**two"
   ]
  },
  {
   "cell_type": "markdown",
   "id": "bfcd3893-6dea-4b63-8bac-4688d14af070",
   "metadata": {},
   "source": [
    "You can also employ comparison operators as shown in the table below. These are extremely handy for acquiring ranges and subsets of data. \n",
    "|Operator|\tName|\tExample|\n",
    "|:-:|:-:|:-:|\n",
    "|==\t|Equal|\tx == y|\t\n",
    "|!=\t|Not equal|\tx != y\t|\n",
    "|>\t|Greater than|\tx > y|\t\n",
    "|<\t|Less than|\tx < y\t|\n",
    "|>=\t|Greater than or equal to\t|x >= y|\t\n",
    "|<=\t|Less than or equal to|\tx <= y|\n",
    "\n",
    "These are the first in a series of logical operators that return `True` and `False` values, which are necessary when manipulating vectors and dataframes. Let's say we very simply want to shorten our `height` vector to only those heights greater than or equal to the average. When we created the height vector, we specified the average height would be 177. "
   ]
  },
  {
   "cell_type": "code",
   "execution_count": 17,
   "id": "27460a20-5e10-4693-9282-5beff60920cb",
   "metadata": {},
   "outputs": [
    {
     "data": {
      "text/plain": [
       "True"
      ]
     },
     "execution_count": 17,
     "metadata": {},
     "output_type": "execute_result"
    },
    {
     "ename": "TypeError",
     "evalue": "'>=' not supported between instances of 'list' and 'int'",
     "output_type": "error",
     "traceback": [
      "\u001b[0;31m---------------------------------------------------------------------------\u001b[0m",
      "\u001b[0;31mTypeError\u001b[0m                                 Traceback (most recent call last)",
      "Cell \u001b[0;32mIn[17], line 2\u001b[0m\n\u001b[1;32m      1\u001b[0m height[\u001b[38;5;241m0\u001b[39m] \u001b[38;5;241m>\u001b[39m\u001b[38;5;241m=\u001b[39m \u001b[38;5;241m177\u001b[39m\n\u001b[0;32m----> 2\u001b[0m height \u001b[38;5;241m>\u001b[39m\u001b[38;5;241m=\u001b[39m \u001b[38;5;241m177\u001b[39m\n",
      "\u001b[0;31mTypeError\u001b[0m: '>=' not supported between instances of 'list' and 'int'"
     ]
    }
   ],
   "source": [
    "height[0] >= 177\n",
    "height >= 177"
   ]
  },
  {
   "cell_type": "markdown",
   "id": "42c5a3a5-bf6d-45c4-9138-450398f1a85e",
   "metadata": {},
   "source": [
    "Note that line 1 in the cell above returned `True`, but line 2 prints a TypeError message instead. We would have liked or expected to get a vector of True and False values for every observation of `height` instead of an error. In base Python, you can only compare objects of the same class and the same length, so you cannot perform vector operations with a single comparison value the way you can with pandas. That kind of True-False vector would be extremely handy if you wanted to generate, subset, or clean any data in observations where some vector's value met your selection criteria. We'll show you a few solutions to this using third party packages like pandas and numpy, or using looping and iteration algorithms in the following chapter. "
   ]
  },
  {
   "cell_type": "markdown",
   "id": "75688a64-a8fe-4c9b-ba2c-53b12c6f2f9a",
   "metadata": {},
   "source": [
    "Below is a final list of commonly used operators that classified as 'logical', 'identity', and 'membership' operators \n",
    "|Operator|\tName|\tExample|\n",
    "|:-:|:-:|:-:|\n",
    "||__Logical__||\n",
    "|and |\tReturns True if both statements are true\t|x < 5 and  x < 10\t|\n",
    "|or|\tReturns True if one of the statements is true|\tx < 5 or x < 4\t|\n",
    "|not|\tReverse the result, returns False if the result is true|\tnot(x < 5 and x < 10)|\t\n",
    "||__Identity__||\n",
    "|is |\tReturns True if both variables are the same object|\tx is y\t|\n",
    "|is not|\tReturns True if both variables are not the same object|\tx is not y\t\n",
    "||__Membership__||\n",
    "|in |\tReturns True if a sequence with the specified value is present in the object\t|x in y\t|\n",
    "|not in\t|Returns True if a sequence with the specified value is not present in the object\t|x not in y|\n",
    "\n",
    "The general logic that we cannot operate a single variable value on a vector still holds true, with some notable exceptions in the 'identity' and 'membership' operators. There, it is possible to ask python whether a specific value can be found in or not in some other object. "
   ]
  },
  {
   "cell_type": "code",
   "execution_count": 18,
   "id": "48cb42f4-b038-49b2-9219-98696ca58e67",
   "metadata": {},
   "outputs": [
    {
     "data": {
      "text/plain": [
       "False"
      ]
     },
     "execution_count": 18,
     "metadata": {},
     "output_type": "execute_result"
    },
    {
     "data": {
      "text/plain": [
       "True"
      ]
     },
     "execution_count": 18,
     "metadata": {},
     "output_type": "execute_result"
    },
    {
     "data": {
      "text/plain": [
       "True"
      ]
     },
     "execution_count": 18,
     "metadata": {},
     "output_type": "execute_result"
    },
    {
     "data": {
      "text/plain": [
       "False"
      ]
     },
     "execution_count": 18,
     "metadata": {},
     "output_type": "execute_result"
    },
    {
     "data": {
      "text/plain": [
       "False"
      ]
     },
     "execution_count": 18,
     "metadata": {},
     "output_type": "execute_result"
    },
    {
     "data": {
      "text/plain": [
       "True"
      ]
     },
     "execution_count": 18,
     "metadata": {},
     "output_type": "execute_result"
    },
    {
     "data": {
      "text/plain": [
       "False"
      ]
     },
     "execution_count": 18,
     "metadata": {},
     "output_type": "execute_result"
    },
    {
     "data": {
      "text/plain": [
       "True"
      ]
     },
     "execution_count": 18,
     "metadata": {},
     "output_type": "execute_result"
    },
    {
     "data": {
      "text/plain": [
       "True"
      ]
     },
     "execution_count": 18,
     "metadata": {},
     "output_type": "execute_result"
    }
   ],
   "source": [
    "height[0]==177 and height[1]==177 # False because height 1 = 174\n",
    "height[0]==177 and height[8]==177 # True\n",
    "height[0]==177 or height[1]==177  # Either index can be = 177\n",
    "not(height[0]==177 or height[1]==177)  # reverse whatever operator outcome is in parentheses\n",
    "height is patient_height          # These are not the same even though the vector values are identical\n",
    "height[0] is patient_height[0]    # Specific values across object do share identity, however\n",
    "type(height) is not type(patient_height) # You could even check whether python functions return the same thing\n",
    "177 in height\n",
    "132 not in height"
   ]
  },
  {
   "cell_type": "markdown",
   "id": "ce5fc23a-a557-4a3e-a7c5-9886057cb279",
   "metadata": {},
   "source": [
    "## Functions\n",
    "In python, we can not only assign values to objects in the sense that they are observations of real world data. Because we're dealing with a programming language, we can also assign entire lines of code into an object called a __function__. Functions let you repeat a specific code at will, but generalized to all sorts of inputs and situations. We can start off simple and create a basic function that tells us the average of all the values in a vector. After all, base Python has no built-in functions to calculate the arithmetic mean: We would have to import it from pandas or numpy or some other package where it was written for you.\n",
    "\n",
    "Or you could write a function yourself. The arithmetic mean is calculated as the sum of all the values in a vector, divided by the number of observations in the vector: $\\frac{1}{n}(\\sum x_n) =\\frac{x_1 + x_2 + x_3 ... x_n}{n}$. We could make a loop summing values of `height` into a running total, but we will save that for the next chapter where we introduce loops. In the meantime we can use base Python's `sum()` and `len()` functions to calculate these values.\n",
    "\n",
    "To define a function, we must first give it a name using `def`. We will call this function `avg()` so that we don't get it confused with other packages' mean functions. Second, you want to tell this function what kind of object it will accept as input. We call these _arguments_ and they go in parentheses after the definition. Because this is a vector of numeric values, we will tell this function to turn the input object into a _tuple_ with `*args`. Finally, you must tell the function to return some value after running. Yes it must be told, because there might be a lot of new information in our function we don't really care about except the final output. Putting these all together you get a very brief function:"
   ]
  },
  {
   "cell_type": "code",
   "execution_count": 19,
   "id": "6725f14d-edd5-46ee-b42e-af2b2f44004a",
   "metadata": {},
   "outputs": [
    {
     "data": {
      "text/plain": [
       "3.0"
      ]
     },
     "execution_count": 19,
     "metadata": {},
     "output_type": "execute_result"
    },
    {
     "data": {
      "text/plain": [
       "176.6"
      ]
     },
     "execution_count": 19,
     "metadata": {},
     "output_type": "execute_result"
    },
    {
     "ename": "TypeError",
     "evalue": "unsupported operand type(s) for +: 'int' and 'list'",
     "output_type": "error",
     "traceback": [
      "\u001b[0;31m---------------------------------------------------------------------------\u001b[0m",
      "\u001b[0;31mTypeError\u001b[0m                                 Traceback (most recent call last)",
      "Cell \u001b[0;32mIn[19], line 6\u001b[0m\n\u001b[1;32m      4\u001b[0m avg(\u001b[38;5;241m1\u001b[39m,\u001b[38;5;241m2\u001b[39m,\u001b[38;5;241m3\u001b[39m,\u001b[38;5;241m4\u001b[39m,\u001b[38;5;241m5\u001b[39m)\n\u001b[1;32m      5\u001b[0m avg(\u001b[38;5;241m*\u001b[39mheight)\n\u001b[0;32m----> 6\u001b[0m avg(height)\n",
      "Cell \u001b[0;32mIn[19], line 2\u001b[0m, in \u001b[0;36mavg\u001b[0;34m(*args)\u001b[0m\n\u001b[1;32m      1\u001b[0m \u001b[38;5;28;01mdef\u001b[39;00m \u001b[38;5;21mavg\u001b[39m(\u001b[38;5;241m*\u001b[39margs):\n\u001b[0;32m----> 2\u001b[0m     \u001b[38;5;28;01mreturn\u001b[39;00m \u001b[38;5;28msum\u001b[39m(args) \u001b[38;5;241m/\u001b[39m \u001b[38;5;28mlen\u001b[39m(args)\n",
      "\u001b[0;31mTypeError\u001b[0m: unsupported operand type(s) for +: 'int' and 'list'"
     ]
    }
   ],
   "source": [
    "def avg(*args):\n",
    "    return sum(args) / len(args)\n",
    "\n",
    "avg(1,2,3,4,5)\n",
    "avg(*height)\n",
    "avg(height) # this gives a type error"
   ]
  },
  {
   "cell_type": "markdown",
   "id": "539c5cce-1ea3-4a28-87ff-6fc2761a2292",
   "metadata": {},
   "source": [
    "To get an average, you simply call your function as `avg()` and provide the numbers from which you want to calculate the average. This can be a series of numbers, like the first argument `(1,2,3,4,5)`, or you can provide a vector of data to this new function. Note a type error in line three, where we did not pass the argument `height` with an asterisk. When you define an argument as packing a list or tuple class, you use the asterisk `*` when you define the function as well as when you call it."
   ]
  },
  {
   "cell_type": "markdown",
   "id": "d0e35960-5d5e-4614-9f34-33c3d987b834",
   "metadata": {},
   "source": [
    "## Package Management\n",
    "Custom functions like our mini `avg()` function can be found all across the Python ecosystem with the help of __packages__. You already have good experience with importing and using pandas, so you can imagine packages as comprehensive collections of custom functions that very talented developers and developer comunities created to make your life a little bit easier. Earlier in this chapter we lamented that vector math was not possible to do with the base python functions. For example, if we wanted to transform `height` from centimeters into inches, we would want to multiply each value by 0.393701. "
   ]
  },
  {
   "cell_type": "code",
   "execution_count": 20,
   "id": "bd07256c-8c22-4083-858a-2f3aba52f7c7",
   "metadata": {},
   "outputs": [
    {
     "ename": "TypeError",
     "evalue": "can't multiply sequence by non-int of type 'float'",
     "output_type": "error",
     "traceback": [
      "\u001b[0;31m---------------------------------------------------------------------------\u001b[0m",
      "\u001b[0;31mTypeError\u001b[0m                                 Traceback (most recent call last)",
      "Cell \u001b[0;32mIn[20], line 1\u001b[0m\n\u001b[0;32m----> 1\u001b[0m height\u001b[38;5;241m*\u001b[39m\u001b[38;5;241m0.393701\u001b[39m\n",
      "\u001b[0;31mTypeError\u001b[0m: can't multiply sequence by non-int of type 'float'"
     ]
    }
   ],
   "source": [
    "height*0.393701"
   ]
  },
  {
   "cell_type": "markdown",
   "id": "fd299bda-68ef-420e-8c65-784c02697383",
   "metadata": {},
   "source": [
    "This is not possible with base python unless we got into loops, which is a topic for next chapter. We also saw how pandas was able to transform numeric columns in this way, when we moved a percentage value's decimal point by multiplying by 0.1. We can also use the package NumPy, a great collection of mathematical functions and which allows us to perform vector math. We are limited by space in this chapter and won't go over numpy in detail here. Instead you will see Numpy imported frequently along future chapters when performing data analysis with our data. Let's load the package in the code cell below and test out how we can obtain the vectors we need using numpy. The first function is `np.mean()`, which performs the same as our custom function. The second line shows how numpy allows you to multiply elements within a function: call `np.multiply()` and supply your two values as arguments; Numpy won't mind if one is a list and the other is a _float_!"
   ]
  },
  {
   "cell_type": "code",
   "execution_count": 21,
   "id": "225a9eed-e53b-40eb-b633-0eb6a69754b5",
   "metadata": {},
   "outputs": [
    {
     "data": {
      "text/plain": [
       "176.6"
      ]
     },
     "execution_count": 21,
     "metadata": {},
     "output_type": "execute_result"
    },
    {
     "data": {
      "text/plain": [
       "array([69.685077, 68.503974, 66.92917 , 72.047283, 66.141768, 71.653582,\n",
       "       64.173263, 75.196891, 69.685077, 69.291376, 68.110273, 73.228386,\n",
       "       68.503974, 66.141768, 72.440984, 66.92917 , 66.92917 , 75.590592,\n",
       "       71.259881, 68.110273])"
      ]
     },
     "execution_count": 21,
     "metadata": {},
     "output_type": "execute_result"
    }
   ],
   "source": [
    "import numpy as np\n",
    "np.mean(height) # vector mean\n",
    "np.multiply(height, 0.393701) # height in inches"
   ]
  },
  {
   "cell_type": "markdown",
   "id": "2ef9ed05-93f1-4345-81e5-fe9ff3453a1f",
   "metadata": {},
   "source": [
    "See how the output of our last line is called an _array_? Yet another synonym for vectors: A one dimensional vector is called an array in NumPy, the same way they are called _series_ in pandas, and we can call them vectors when they stand alone, or columns/variables in the context of a dataframe. \n",
    "\n",
    "### Sub-modules\n",
    "\n",
    "Other packages that we will be teaching you about in this book have several __sub-modules__ contained within them. If you import pandas as pd, the way we have done previously in this book, you have access to virtually every function in the pandas environment. This is also true for every package in python. However, some packages such as [matplolib](https://matplotlib.org) or [SciPy]() make use of sub-modules more frequently than pandas or numpy and you will see this frequently as you begin searching the web and reading other tutorials about python. We'll introduce sub-modules to you here so you don't get as confused as we were. \n",
    "\n",
    "We'll use matplotlib as an example. Matplotlib has a module within it named `pyplot` that provides the majority of functions for making charts and graphs to make data visualizations. In the data visualization chapter, we will be importing that module like it was its own package, because we won't usually need functions beyond matplotlib's pyplot. \n",
    "\n",
    "You can import matplotlib the same way that we import pandas or NumPy, but you will not have access to pyplot without calling it from the import function! Observe the error below:"
   ]
  },
  {
   "cell_type": "code",
   "execution_count": 25,
   "id": "137b0012-a278-469f-859e-a5d0b5ef1e87",
   "metadata": {},
   "outputs": [
    {
     "ename": "AttributeError",
     "evalue": "module 'matplotlib' has no attribute 'pyplot'",
     "output_type": "error",
     "traceback": [
      "\u001b[0;31m---------------------------------------------------------------------------\u001b[0m",
      "\u001b[0;31mAttributeError\u001b[0m                            Traceback (most recent call last)",
      "Cell \u001b[0;32mIn[25], line 3\u001b[0m\n\u001b[1;32m      1\u001b[0m \u001b[38;5;66;03m# alternative import method\u001b[39;00m\n\u001b[1;32m      2\u001b[0m \u001b[38;5;28;01mimport\u001b[39;00m \u001b[38;5;21;01mmatplotlib\u001b[39;00m \u001b[38;5;28;01mas\u001b[39;00m \u001b[38;5;21;01mmpl\u001b[39;00m\n\u001b[0;32m----> 3\u001b[0m mpl\u001b[38;5;241m.\u001b[39mpyplot\u001b[38;5;241m.\u001b[39mplot([\u001b[38;5;241m177\u001b[39m, \u001b[38;5;241m174\u001b[39m, \u001b[38;5;241m170\u001b[39m, \u001b[38;5;241m183\u001b[39m, \u001b[38;5;241m168\u001b[39m, \u001b[38;5;241m182\u001b[39m, \u001b[38;5;241m163\u001b[39m, \u001b[38;5;241m191\u001b[39m, \u001b[38;5;241m177\u001b[39m, \u001b[38;5;241m176\u001b[39m], \n\u001b[1;32m      4\u001b[0m          [\u001b[38;5;241m86.43\u001b[39m,  \u001b[38;5;241m96.41\u001b[39m,  \u001b[38;5;241m76.07\u001b[39m,  \u001b[38;5;241m81.31\u001b[39m,  \u001b[38;5;241m78.92\u001b[39m,  \u001b[38;5;241m70.83\u001b[39m,  \u001b[38;5;241m60.63\u001b[39m,  \u001b[38;5;241m68.2\u001b[39m , \u001b[38;5;241m67.69\u001b[39m,  \u001b[38;5;241m95.06\u001b[39m], \n\u001b[1;32m      5\u001b[0m          \u001b[38;5;124m'\u001b[39m\u001b[38;5;124mb^\u001b[39m\u001b[38;5;124m'\u001b[39m)\n",
      "File \u001b[0;32m~/.local/lib/python3.11/site-packages/matplotlib/_api/__init__.py:217\u001b[0m, in \u001b[0;36mcaching_module_getattr.<locals>.__getattr__\u001b[0;34m(name)\u001b[0m\n\u001b[1;32m    215\u001b[0m \u001b[38;5;28;01mif\u001b[39;00m name \u001b[38;5;129;01min\u001b[39;00m props:\n\u001b[1;32m    216\u001b[0m     \u001b[38;5;28;01mreturn\u001b[39;00m props[name]\u001b[38;5;241m.\u001b[39m\u001b[38;5;21m__get__\u001b[39m(instance)\n\u001b[0;32m--> 217\u001b[0m \u001b[38;5;28;01mraise\u001b[39;00m \u001b[38;5;167;01mAttributeError\u001b[39;00m(\n\u001b[1;32m    218\u001b[0m     \u001b[38;5;124mf\u001b[39m\u001b[38;5;124m\"\u001b[39m\u001b[38;5;124mmodule \u001b[39m\u001b[38;5;132;01m{\u001b[39;00m\u001b[38;5;28mcls\u001b[39m\u001b[38;5;241m.\u001b[39m\u001b[38;5;18m__module__\u001b[39m\u001b[38;5;132;01m!r}\u001b[39;00m\u001b[38;5;124m has no attribute \u001b[39m\u001b[38;5;132;01m{\u001b[39;00mname\u001b[38;5;132;01m!r}\u001b[39;00m\u001b[38;5;124m\"\u001b[39m)\n",
      "\u001b[0;31mAttributeError\u001b[0m: module 'matplotlib' has no attribute 'pyplot'"
     ]
    }
   ],
   "source": [
    "# this method does not import pyplot\n",
    "import matplotlib as mpl\n",
    "mpl.pyplot.plot([177, 174, 170, 183, 168, 182, 163, 191, 177, 176], \n",
    "         [86.43,  96.41,  76.07,  81.31,  78.92,  70.83,  60.63,  68.2 , 67.69,  95.06], \n",
    "         'b^')"
   ]
  },
  {
   "cell_type": "markdown",
   "id": "9ebd1579-6e38-4bc9-ab15-bba9433601e8",
   "metadata": {},
   "source": [
    "Instead, you can import the pyplot module itself with a period after matplotlib."
   ]
  },
  {
   "cell_type": "code",
   "execution_count": 26,
   "id": "55699428-a206-48ea-b54c-ae42e968c215",
   "metadata": {},
   "outputs": [
    {
     "data": {
      "text/plain": [
       "[<matplotlib.lines.Line2D at 0x7f3a466e4f10>]"
      ]
     },
     "execution_count": 26,
     "metadata": {},
     "output_type": "execute_result"
    },
    {
     "data": {
      "image/png": "[encoded data removed]",
      "text/plain": [
       "<Figure size 640x480 with 1 Axes>"
      ]
     },
     "metadata": {},
     "output_type": "display_data"
    }
   ],
   "source": [
    "# this imports the pyplot module\n",
    "import matplotlib.pyplot as plt\n",
    "plt.plot([177, 174, 170, 183, 168, 182, 163, 191, 177, 176], \n",
    "         [86.43,  96.41,  76.07,  81.31,  78.92,  70.83,  60.63,  68.2 , 67.69,  95.06], \n",
    "         'b^')"
   ]
  },
  {
   "cell_type": "markdown",
   "id": "0e38d8c5-64be-4d4c-9192-a7125e96a68b",
   "metadata": {},
   "source": [
    "Alternatively, you can also import pyplot from matplotlib with a different syntax. Both ways are equivalent as you can see from the resulting scatterplots."
   ]
  },
  {
   "cell_type": "code",
   "execution_count": 27,
   "id": "13c28d72-6ade-43ef-ab03-18317fb18fc8",
   "metadata": {},
   "outputs": [
    {
     "data": {
      "text/plain": [
       "[<matplotlib.lines.Line2D at 0x7f3a465b7050>]"
      ]
     },
     "execution_count": 27,
     "metadata": {},
     "output_type": "execute_result"
    },
    {
     "data": {
      "image/png": "[encoded data removed]",
      "text/plain": [
       "<Figure size 640x480 with 1 Axes>"
      ]
     },
     "metadata": {},
     "output_type": "display_data"
    }
   ],
   "source": [
    "# call submodule from the package\n",
    "from matplotlib import pyplot as plt\n",
    "plt.plot([177, 174, 170, 183, 168, 182, 163, 191, 177, 176], \n",
    "         [86.43,  96.41,  76.07,  81.31,  78.92,  70.83,  60.63,  68.2 , 67.69,  95.06], \n",
    "         'b^')"
   ]
  },
  {
   "cell_type": "markdown",
   "id": "f9786ee6-dc4d-4187-87f4-e8f5362be9d8",
   "metadata": {},
   "source": [
    "There are more submodules like matplotlib.colors. Or the package SciPy which has a statitics module (scipy.stats) that you will be learning about too. So when reading python tutorials in the future and you see different ways of importing a package and its submodules, do not fret and remember that python is flexible. Just mind your naming conventions, your dots, and your parentheses!"
   ]
  },
  {
   "cell_type": "markdown",
   "id": "8af78788-760d-49cf-920e-f477b03090ce",
   "metadata": {
    "jp-MarkdownHeadingCollapsed": true
   },
   "source": [
    "# to-do\n",
    "- \n",
    "- Package management.   <- i sort of introduce this in chapter 1. will see how long this needs to be.\n"
   ]
  }
 ],
 "metadata": {
  "kernelspec": {
   "display_name": "Python 3 (ipykernel)",
   "language": "python",
   "name": "python3"
  },
  "language_info": {
   "codemirror_mode": {
    "name": "ipython",
    "version": 3
   },
   "file_extension": ".py",
   "mimetype": "text/x-python",
   "name": "python",
   "nbconvert_exporter": "python",
   "pygments_lexer": "ipython3",
   "version": "3.11.7"
  }
 },
 "nbformat": 4,
 "nbformat_minor": 5
}
