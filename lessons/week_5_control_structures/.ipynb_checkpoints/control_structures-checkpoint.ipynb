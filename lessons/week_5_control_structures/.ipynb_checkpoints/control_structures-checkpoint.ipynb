{
 "cells": [
  {
   "cell_type": "markdown",
   "id": "32af8c7d-9d31-4288-961b-ae8915dd3a08",
   "metadata": {},
   "source": [
    "# Control Structures\n",
    "The last chapter promised a look into loops as a solution to a few limitations of the base python functions. The idea that we were limited is not true of course! Programming in general relies heavily on iterative lines of code that can repeat, change values, and follow steps of logic written by the programmer. Consider any sort of repetitive tasks you have to perform often, and think about how much easier it would be if you could automate those tasks. Consider, for example, one of your responsibilities was to update your school's ACLED conflict data once every quarter. This would mean having to download all regions' individual CSV files, merging, and cleaning some variables you pay close attention to. This is what you will get practice doing in this chapter, creating loops (and functions!) that can repeat these steps as many times as there are CSV files to merge so your job will be that much easier by next quarter.\n",
    "\n",
    "It has been our personal experience that many Python lessons and tutorials give abstract examples when teaching learners about looping and conditional statements. Hopefully this chapter will keep the lessons and examples grounded in real data with real tasks you might perform as a social science researcher and analyst. However, you will still need to see some abstract examples to start off each section of this chapter. It is important that you can recognize all the components of a loop before focusing on practical applications. \n",
    "(more?)\n",
    "\n",
    "### Basic concepts\n",
    "When writing loops, you will be repeating (or _iterating_) functions _x_ number of times. The value of that _x_ is _very_ important, and the value usually comes from the shape of a data object: Rows or columns. If we wanted to capitalize all the string characters in a dataframe, we would loop over the dataframe's columns. If we wanted to get True and False values for values greater than 170 in our `height` data, we would loop over the number of observations. To access these, we are going to be using a number of functions that you've come across reading this book like pandas' `.columns` function, and `len()` to obtain the number of observations in a vector. You will also need to combine `len()` with `range()`, which gives you start and end values for your loops. And you will most definitely become better acquainted with vector indexes to extract specific values from a vector.\n",
    "\n",
    "Let's start with thinking about how many observations/how much data we're dealing with: Create the `height` object once again and see what len() and range() give you. "
   ]
  },
  {
   "cell_type": "code",
   "execution_count": 1,
   "id": "76c9e7cd-9558-4ac7-b03c-aa4a424ad682",
   "metadata": {},
   "outputs": [],
   "source": [
    "# This code cell will be in every one of our chapters in Jupyter Notebook\n",
    "# The function allows you to see every line of output when the code has multiple lines\n",
    "from IPython.core.interactiveshell import InteractiveShell\n",
    "InteractiveShell.ast_node_interactivity = 'all'"
   ]
  },
  {
   "cell_type": "code",
   "execution_count": 2,
   "id": "d1f70bd5-9b47-4e90-b6ca-7450444e5ec8",
   "metadata": {},
   "outputs": [
    {
     "data": {
      "text/plain": [
       "[177,\n",
       " 174,\n",
       " 170,\n",
       " 183,\n",
       " 168,\n",
       " 182,\n",
       " 163,\n",
       " 191,\n",
       " 177,\n",
       " 176,\n",
       " 173,\n",
       " 186,\n",
       " 174,\n",
       " 168,\n",
       " 184,\n",
       " 170,\n",
       " 170,\n",
       " 192,\n",
       " 181,\n",
       " 173]"
      ]
     },
     "execution_count": 2,
     "metadata": {},
     "output_type": "execute_result"
    },
    {
     "data": {
      "text/plain": [
       "20"
      ]
     },
     "execution_count": 2,
     "metadata": {},
     "output_type": "execute_result"
    },
    {
     "data": {
      "text/plain": [
       "range(0, 20)"
      ]
     },
     "execution_count": 2,
     "metadata": {},
     "output_type": "execute_result"
    },
    {
     "data": {
      "text/plain": [
       "range(0, 20)"
      ]
     },
     "execution_count": 2,
     "metadata": {},
     "output_type": "execute_result"
    }
   ],
   "source": [
    "height = [177, 174, 170, 183, 168, \n",
    "          182, 163, 191, 177, 176, \n",
    "          173, 186, 174, 168, 184, \n",
    "          170, 170, 192, 181, 173]\n",
    "height\n",
    "len(height)\n",
    "range(20)\n",
    "range(len(height))"
   ]
  },
  {
   "cell_type": "markdown",
   "id": "7bc1ae69-0303-4d3f-a3e6-367e217cb281",
   "metadata": {},
   "source": [
    "## For Loops\n",
    "The for-loop repeats itself as many times as the values you give it, \"for this many values\". If a vector had twenty values, a for loop that iterated over this vector would do so twenty times, until it reached the end of the length the object. This is why len() and range() work so well together in for-loops. The basic grammar is:\n",
    "\n",
    "`for i in x: do y()`\n",
    "\n",
    "We use some random variable after 'for' (and by that we mean a letter like in algebra) as the object to store the value of the current iteration. Historically this is the letter `i`. It does not _need_ to be `i`, it is merely the first letter of the word 'iteration'.\n",
    "\n",
    "<div class=\"alert alert-block alert-info\">Note: as you type the first line \"for i in height:\", when you press the enter key after the colon :, jupyter notebook automatically makes an indentation, extra space on the left. This lets Python know that this is not a separate line of code but a visual break and still a part of the code. You could also keep the print() function on the same line without a line break, we just think it looks neater.</div>\n",
    "\n",
    "The function you're calling in these examples is just `i` because we want you to know what `i`, the variable after 'for', means. Depending on the python object after 'in', the value of `i` changes. If you are still confused, refer to the previous code cell where we printed the values of `height`, `len(height)`, and `range(len(height))`."
   ]
  },
  {
   "cell_type": "code",
   "execution_count": 3,
   "id": "dd36896f-cc4e-4560-b2c9-eb0c4b33ca45",
   "metadata": {},
   "outputs": [
    {
     "data": {
      "text/plain": [
       "177"
      ]
     },
     "execution_count": 3,
     "metadata": {},
     "output_type": "execute_result"
    },
    {
     "data": {
      "text/plain": [
       "174"
      ]
     },
     "execution_count": 3,
     "metadata": {},
     "output_type": "execute_result"
    },
    {
     "data": {
      "text/plain": [
       "170"
      ]
     },
     "execution_count": 3,
     "metadata": {},
     "output_type": "execute_result"
    },
    {
     "data": {
      "text/plain": [
       "183"
      ]
     },
     "execution_count": 3,
     "metadata": {},
     "output_type": "execute_result"
    },
    {
     "data": {
      "text/plain": [
       "168"
      ]
     },
     "execution_count": 3,
     "metadata": {},
     "output_type": "execute_result"
    },
    {
     "data": {
      "text/plain": [
       "182"
      ]
     },
     "execution_count": 3,
     "metadata": {},
     "output_type": "execute_result"
    },
    {
     "data": {
      "text/plain": [
       "163"
      ]
     },
     "execution_count": 3,
     "metadata": {},
     "output_type": "execute_result"
    },
    {
     "data": {
      "text/plain": [
       "191"
      ]
     },
     "execution_count": 3,
     "metadata": {},
     "output_type": "execute_result"
    },
    {
     "data": {
      "text/plain": [
       "177"
      ]
     },
     "execution_count": 3,
     "metadata": {},
     "output_type": "execute_result"
    },
    {
     "data": {
      "text/plain": [
       "176"
      ]
     },
     "execution_count": 3,
     "metadata": {},
     "output_type": "execute_result"
    },
    {
     "data": {
      "text/plain": [
       "173"
      ]
     },
     "execution_count": 3,
     "metadata": {},
     "output_type": "execute_result"
    },
    {
     "data": {
      "text/plain": [
       "186"
      ]
     },
     "execution_count": 3,
     "metadata": {},
     "output_type": "execute_result"
    },
    {
     "data": {
      "text/plain": [
       "174"
      ]
     },
     "execution_count": 3,
     "metadata": {},
     "output_type": "execute_result"
    },
    {
     "data": {
      "text/plain": [
       "168"
      ]
     },
     "execution_count": 3,
     "metadata": {},
     "output_type": "execute_result"
    },
    {
     "data": {
      "text/plain": [
       "184"
      ]
     },
     "execution_count": 3,
     "metadata": {},
     "output_type": "execute_result"
    },
    {
     "data": {
      "text/plain": [
       "170"
      ]
     },
     "execution_count": 3,
     "metadata": {},
     "output_type": "execute_result"
    },
    {
     "data": {
      "text/plain": [
       "170"
      ]
     },
     "execution_count": 3,
     "metadata": {},
     "output_type": "execute_result"
    },
    {
     "data": {
      "text/plain": [
       "192"
      ]
     },
     "execution_count": 3,
     "metadata": {},
     "output_type": "execute_result"
    },
    {
     "data": {
      "text/plain": [
       "181"
      ]
     },
     "execution_count": 3,
     "metadata": {},
     "output_type": "execute_result"
    },
    {
     "data": {
      "text/plain": [
       "173"
      ]
     },
     "execution_count": 3,
     "metadata": {},
     "output_type": "execute_result"
    },
    {
     "data": {
      "text/plain": [
       "0"
      ]
     },
     "execution_count": 3,
     "metadata": {},
     "output_type": "execute_result"
    },
    {
     "data": {
      "text/plain": [
       "1"
      ]
     },
     "execution_count": 3,
     "metadata": {},
     "output_type": "execute_result"
    },
    {
     "data": {
      "text/plain": [
       "2"
      ]
     },
     "execution_count": 3,
     "metadata": {},
     "output_type": "execute_result"
    },
    {
     "data": {
      "text/plain": [
       "3"
      ]
     },
     "execution_count": 3,
     "metadata": {},
     "output_type": "execute_result"
    },
    {
     "data": {
      "text/plain": [
       "4"
      ]
     },
     "execution_count": 3,
     "metadata": {},
     "output_type": "execute_result"
    },
    {
     "data": {
      "text/plain": [
       "5"
      ]
     },
     "execution_count": 3,
     "metadata": {},
     "output_type": "execute_result"
    },
    {
     "data": {
      "text/plain": [
       "6"
      ]
     },
     "execution_count": 3,
     "metadata": {},
     "output_type": "execute_result"
    },
    {
     "data": {
      "text/plain": [
       "7"
      ]
     },
     "execution_count": 3,
     "metadata": {},
     "output_type": "execute_result"
    },
    {
     "data": {
      "text/plain": [
       "8"
      ]
     },
     "execution_count": 3,
     "metadata": {},
     "output_type": "execute_result"
    },
    {
     "data": {
      "text/plain": [
       "9"
      ]
     },
     "execution_count": 3,
     "metadata": {},
     "output_type": "execute_result"
    },
    {
     "data": {
      "text/plain": [
       "10"
      ]
     },
     "execution_count": 3,
     "metadata": {},
     "output_type": "execute_result"
    },
    {
     "data": {
      "text/plain": [
       "11"
      ]
     },
     "execution_count": 3,
     "metadata": {},
     "output_type": "execute_result"
    },
    {
     "data": {
      "text/plain": [
       "12"
      ]
     },
     "execution_count": 3,
     "metadata": {},
     "output_type": "execute_result"
    },
    {
     "data": {
      "text/plain": [
       "13"
      ]
     },
     "execution_count": 3,
     "metadata": {},
     "output_type": "execute_result"
    },
    {
     "data": {
      "text/plain": [
       "14"
      ]
     },
     "execution_count": 3,
     "metadata": {},
     "output_type": "execute_result"
    },
    {
     "data": {
      "text/plain": [
       "15"
      ]
     },
     "execution_count": 3,
     "metadata": {},
     "output_type": "execute_result"
    },
    {
     "data": {
      "text/plain": [
       "16"
      ]
     },
     "execution_count": 3,
     "metadata": {},
     "output_type": "execute_result"
    },
    {
     "data": {
      "text/plain": [
       "17"
      ]
     },
     "execution_count": 3,
     "metadata": {},
     "output_type": "execute_result"
    },
    {
     "data": {
      "text/plain": [
       "18"
      ]
     },
     "execution_count": 3,
     "metadata": {},
     "output_type": "execute_result"
    },
    {
     "data": {
      "text/plain": [
       "19"
      ]
     },
     "execution_count": 3,
     "metadata": {},
     "output_type": "execute_result"
    }
   ],
   "source": [
    "for i in height:\n",
    "    i # here, 'i' stands for the vector index's value, or height[i]\n",
    "\n",
    "\n",
    "for i in range(len(height)):\n",
    "    i # here 'i' stands for a value in the range of 0 - 20"
   ]
  },
  {
   "cell_type": "markdown",
   "id": "6fea920b-7933-412e-a7b9-db48824ecd61",
   "metadata": {},
   "source": [
    "With the second loop, where we iterate over the _range of the length_ of the height vector, we get values from 0 to 19. Incidentally, these are the indexes for the position of each observation in the vector. So we can extract a vector's values in order and perform math operations on each value. Remember last chapter we needed NumPy to obtain the transformation of `height` into inches? "
   ]
  },
  {
   "cell_type": "code",
   "execution_count": 4,
   "id": "389c67b1-f449-4905-8034-f76716df532c",
   "metadata": {},
   "outputs": [
    {
     "data": {
      "text/plain": [
       "69.685077"
      ]
     },
     "execution_count": 4,
     "metadata": {},
     "output_type": "execute_result"
    },
    {
     "data": {
      "text/plain": [
       "68.503974"
      ]
     },
     "execution_count": 4,
     "metadata": {},
     "output_type": "execute_result"
    },
    {
     "data": {
      "text/plain": [
       "66.92917"
      ]
     },
     "execution_count": 4,
     "metadata": {},
     "output_type": "execute_result"
    },
    {
     "data": {
      "text/plain": [
       "72.04728300000001"
      ]
     },
     "execution_count": 4,
     "metadata": {},
     "output_type": "execute_result"
    },
    {
     "data": {
      "text/plain": [
       "66.141768"
      ]
     },
     "execution_count": 4,
     "metadata": {},
     "output_type": "execute_result"
    },
    {
     "data": {
      "text/plain": [
       "71.653582"
      ]
     },
     "execution_count": 4,
     "metadata": {},
     "output_type": "execute_result"
    },
    {
     "data": {
      "text/plain": [
       "64.173263"
      ]
     },
     "execution_count": 4,
     "metadata": {},
     "output_type": "execute_result"
    },
    {
     "data": {
      "text/plain": [
       "75.19689100000001"
      ]
     },
     "execution_count": 4,
     "metadata": {},
     "output_type": "execute_result"
    },
    {
     "data": {
      "text/plain": [
       "69.685077"
      ]
     },
     "execution_count": 4,
     "metadata": {},
     "output_type": "execute_result"
    },
    {
     "data": {
      "text/plain": [
       "69.291376"
      ]
     },
     "execution_count": 4,
     "metadata": {},
     "output_type": "execute_result"
    },
    {
     "data": {
      "text/plain": [
       "68.110273"
      ]
     },
     "execution_count": 4,
     "metadata": {},
     "output_type": "execute_result"
    },
    {
     "data": {
      "text/plain": [
       "73.228386"
      ]
     },
     "execution_count": 4,
     "metadata": {},
     "output_type": "execute_result"
    },
    {
     "data": {
      "text/plain": [
       "68.503974"
      ]
     },
     "execution_count": 4,
     "metadata": {},
     "output_type": "execute_result"
    },
    {
     "data": {
      "text/plain": [
       "66.141768"
      ]
     },
     "execution_count": 4,
     "metadata": {},
     "output_type": "execute_result"
    },
    {
     "data": {
      "text/plain": [
       "72.440984"
      ]
     },
     "execution_count": 4,
     "metadata": {},
     "output_type": "execute_result"
    },
    {
     "data": {
      "text/plain": [
       "66.92917"
      ]
     },
     "execution_count": 4,
     "metadata": {},
     "output_type": "execute_result"
    },
    {
     "data": {
      "text/plain": [
       "66.92917"
      ]
     },
     "execution_count": 4,
     "metadata": {},
     "output_type": "execute_result"
    },
    {
     "data": {
      "text/plain": [
       "75.590592"
      ]
     },
     "execution_count": 4,
     "metadata": {},
     "output_type": "execute_result"
    },
    {
     "data": {
      "text/plain": [
       "71.25988100000001"
      ]
     },
     "execution_count": 4,
     "metadata": {},
     "output_type": "execute_result"
    },
    {
     "data": {
      "text/plain": [
       "68.110273"
      ]
     },
     "execution_count": 4,
     "metadata": {},
     "output_type": "execute_result"
    }
   ],
   "source": [
    "for i in range(len(height)):\n",
    "    height[i]*0.393701"
   ]
  },
  {
   "cell_type": "markdown",
   "id": "7150ca71-e2e4-40eb-8aa0-5eb29ad08fcd",
   "metadata": {},
   "source": [
    "This is a step in the right direction, but we didn't really get a list object back, only 20 independent values for height in inches. But we can take advantage of the `append()` function on an empty list!"
   ]
  },
  {
   "cell_type": "code",
   "execution_count": 5,
   "id": "0806102b-77d2-439f-9a6b-3e3bdb0bfbd2",
   "metadata": {},
   "outputs": [
    {
     "data": {
      "text/plain": [
       "[]"
      ]
     },
     "execution_count": 5,
     "metadata": {},
     "output_type": "execute_result"
    },
    {
     "data": {
      "text/plain": [
       "[69.685077,\n",
       " 68.503974,\n",
       " 66.92917,\n",
       " 72.04728300000001,\n",
       " 66.141768,\n",
       " 71.653582,\n",
       " 64.173263,\n",
       " 75.19689100000001,\n",
       " 69.685077,\n",
       " 69.291376,\n",
       " 68.110273,\n",
       " 73.228386,\n",
       " 68.503974,\n",
       " 66.141768,\n",
       " 72.440984,\n",
       " 66.92917,\n",
       " 66.92917,\n",
       " 75.590592,\n",
       " 71.25988100000001,\n",
       " 68.110273]"
      ]
     },
     "execution_count": 5,
     "metadata": {},
     "output_type": "execute_result"
    },
    {
     "data": {
      "text/plain": [
       "list"
      ]
     },
     "execution_count": 5,
     "metadata": {},
     "output_type": "execute_result"
    }
   ],
   "source": [
    "height_inches=list()\n",
    "height_inches\n",
    "\n",
    "\n",
    "for i in range(len(height)):\n",
    "    height_inches.append(height[i]*0.393701)\n",
    "\n",
    "height_inches\n",
    "type(height_inches)"
   ]
  },
  {
   "cell_type": "markdown",
   "id": "77816182-41f6-4a2d-a8ba-da63012f92bb",
   "metadata": {},
   "source": [
    "## List Comprehension\n",
    "If we are mainly interested in creating a new vector, however, __list comprehension__ is the preferred loop process in Python. It looks and behaves like the for-loop, but it has a more succinct syntax, and actually processes more quickly. The basic command for a list comprehension looks like this: \n",
    "\n",
    "`[do y for i in x]` \n",
    "\n",
    "The line comprehension is wrapped in square brackets, which is how you assign a list to an object. Look at some examples of the very base syntax of line comprehension below. The iteration process is similar to the for-loop, but the output is automatically formatted as a list class. "
   ]
  },
  {
   "cell_type": "code",
   "execution_count": 6,
   "id": "1beab31c-68fa-4234-85be-4325cddd5fff",
   "metadata": {},
   "outputs": [
    {
     "data": {
      "text/plain": [
       "[177,\n",
       " 174,\n",
       " 170,\n",
       " 183,\n",
       " 168,\n",
       " 182,\n",
       " 163,\n",
       " 191,\n",
       " 177,\n",
       " 176,\n",
       " 173,\n",
       " 186,\n",
       " 174,\n",
       " 168,\n",
       " 184,\n",
       " 170,\n",
       " 170,\n",
       " 192,\n",
       " 181,\n",
       " 173]"
      ]
     },
     "execution_count": 6,
     "metadata": {},
     "output_type": "execute_result"
    },
    {
     "data": {
      "text/plain": [
       "[0, 1, 2, 3, 4, 5, 6, 7, 8, 9, 10, 11, 12, 13, 14, 15, 16, 17, 18, 19]"
      ]
     },
     "execution_count": 6,
     "metadata": {},
     "output_type": "execute_result"
    },
    {
     "data": {
      "text/plain": [
       "[17.7,\n",
       " 17.4,\n",
       " 17.0,\n",
       " 18.3,\n",
       " 16.8,\n",
       " 18.2,\n",
       " 16.3,\n",
       " 19.1,\n",
       " 17.7,\n",
       " 17.6,\n",
       " 17.3,\n",
       " 18.6,\n",
       " 17.4,\n",
       " 16.8,\n",
       " 18.4,\n",
       " 17.0,\n",
       " 17.0,\n",
       " 19.2,\n",
       " 18.1,\n",
       " 17.3]"
      ]
     },
     "execution_count": 6,
     "metadata": {},
     "output_type": "execute_result"
    }
   ],
   "source": [
    "[i for i in height] # 'i' stands for the value in the corresponding index of the vector. It returns the exact same vector.\n",
    "\n",
    "[i for i in range(len(height))] # 'i' stands for the position of the index, as opposed to the value. It still outputs a list class object\n",
    "\n",
    "[i/10 for i in height] # all our operations happen to the left of the 'for'"
   ]
  },
  {
   "cell_type": "markdown",
   "id": "5a011c7f-83df-4971-903e-6b4eeccbd6df",
   "metadata": {},
   "source": [
    "Now all that's left to get the height in inches vector again (and more efficiently) is to assign the new object to the list comprehension with nearly identical syntax to our last for-loop. The difference, as you can appreciate below, is that the assignment occurs to the left of the loop, and the operation $height \\times 0.393701$ happens to the left of the 'for' term."
   ]
  },
  {
   "cell_type": "code",
   "execution_count": 7,
   "id": "9545eccf-f8e8-4112-a2c7-eaa32c004f44",
   "metadata": {},
   "outputs": [
    {
     "data": {
      "text/plain": [
       "list"
      ]
     },
     "execution_count": 7,
     "metadata": {},
     "output_type": "execute_result"
    },
    {
     "data": {
      "text/plain": [
       "[69.685077,\n",
       " 68.503974,\n",
       " 66.92917,\n",
       " 72.04728300000001,\n",
       " 66.141768,\n",
       " 71.653582,\n",
       " 64.173263,\n",
       " 75.19689100000001,\n",
       " 69.685077,\n",
       " 69.291376,\n",
       " 68.110273,\n",
       " 73.228386,\n",
       " 68.503974,\n",
       " 66.141768,\n",
       " 72.440984,\n",
       " 66.92917,\n",
       " 66.92917,\n",
       " 75.590592,\n",
       " 71.25988100000001,\n",
       " 68.110273]"
      ]
     },
     "execution_count": 7,
     "metadata": {},
     "output_type": "execute_result"
    }
   ],
   "source": [
    "height_inches = [height[i]*0.393701 for i in range(len(height))]\n",
    "\n",
    "type(height_inches)\n",
    "height_inches"
   ]
  },
  {
   "cell_type": "markdown",
   "id": "b2da6847-c7f7-478c-a055-9803573178de",
   "metadata": {},
   "source": [
    "In case you were wondering about the awkward looking, double-nested expression `range(len(height))`, we used it because 'height' has the number of iterations we are interested in, and we don't know if that number might ever change. Who's to say that the height vector won't be thirty observations tomorrow? However, you can certainly give for-loops and list comprehensions an explicit range if you really want to:"
   ]
  },
  {
   "cell_type": "code",
   "execution_count": 8,
   "id": "dc3ae20f-c6c5-476f-b21f-924a7a99be0c",
   "metadata": {},
   "outputs": [
    {
     "data": {
      "text/plain": [
       "[69.685077,\n",
       " 68.503974,\n",
       " 66.92917,\n",
       " 72.04728300000001,\n",
       " 66.141768,\n",
       " 71.653582,\n",
       " 64.173263,\n",
       " 75.19689100000001,\n",
       " 69.685077,\n",
       " 69.291376,\n",
       " 68.110273,\n",
       " 73.228386,\n",
       " 68.503974,\n",
       " 66.141768,\n",
       " 72.440984,\n",
       " 66.92917,\n",
       " 66.92917,\n",
       " 75.590592,\n",
       " 71.25988100000001,\n",
       " 68.110273]"
      ]
     },
     "execution_count": 8,
     "metadata": {},
     "output_type": "execute_result"
    }
   ],
   "source": [
    "[height[i]*0.393701 for i in range(20)]"
   ]
  },
  {
   "cell_type": "markdown",
   "id": "4cd41d66-4b99-42b7-a903-cc9cf2641d47",
   "metadata": {},
   "source": [
    "## While Loops\n",
    "When the exact number of iterations in your loop depends on a condition, then a while loop can help you make iteration for as long as a logical true-false condition remains \"true\". This is called \"indefinite iteration\", and we lack any kind of 'for' object to reference. \n",
    "\n",
    "Add more here, cant think of good examples"
   ]
  },
  {
   "cell_type": "code",
   "execution_count": 9,
   "id": "32473aa2-5235-4ad0-8480-2e33695403e9",
   "metadata": {},
   "outputs": [
    {
     "name": "stdout",
     "output_type": "stream",
     "text": [
      "0  is less than 10\n",
      "1  is less than 10\n",
      "2  is less than 10\n",
      "3  is less than 10\n",
      "4  is less than 10\n",
      "5  is less than 10\n",
      "6  is less than 10\n",
      "7  is less than 10\n",
      "8  is less than 10\n",
      "9  is less than 10\n"
     ]
    }
   ],
   "source": [
    "i=0 # manually set a starting value\n",
    "while i < 10:\n",
    "    print(i,' is less than 10')\n",
    "    i=i+1 # and manually increment the value of 'i' since there is no reference object to follow along"
   ]
  },
  {
   "cell_type": "markdown",
   "id": "2b867886-31ff-4dcb-bf21-dc01553c5b97",
   "metadata": {},
   "source": [
    "## Break and Continue"
   ]
  },
  {
   "cell_type": "code",
   "execution_count": null,
   "id": "b6390e1d-f930-430b-b5fb-44ac37d95fd7",
   "metadata": {},
   "outputs": [],
   "source": []
  },
  {
   "cell_type": "markdown",
   "id": "0021abe0-eedf-453f-8409-21deab3a751d",
   "metadata": {},
   "source": [
    "## Nested Loops"
   ]
  },
  {
   "cell_type": "code",
   "execution_count": null,
   "id": "6423a9c5-8aab-4ee6-bebb-875e80e6564c",
   "metadata": {},
   "outputs": [],
   "source": []
  },
  {
   "cell_type": "markdown",
   "id": "d71fe7e9-ec5f-4263-8eee-57b4b325dfc1",
   "metadata": {},
   "source": [
    "## Conditional Statements"
   ]
  },
  {
   "cell_type": "code",
   "execution_count": null,
   "id": "763eeef3-e8c7-451d-bd04-4eb0c5881b52",
   "metadata": {},
   "outputs": [],
   "source": []
  },
  {
   "cell_type": "markdown",
   "id": "fd198177-1637-4c87-98ab-6f168b9b760b",
   "metadata": {},
   "source": [
    "## Applied Example\n",
    "- Reintroduce data briefly\n",
    "- Will be using three packages from the python common library\n",
    "- will use os to see local files and turn these intro string values using list comp\n",
    "- will use zipfile to extract CSV files from ZIP files.\n",
    "- will use pandas to make our dataframes within a for-loop\n",
    "- will keep track of progress with print and the iteration variable, and well as appending the number of unique countries in each iteration to a vector to check our final number of countries is correct.\n"
   ]
  },
  {
   "cell_type": "code",
   "execution_count": 55,
   "id": "e34ede85-0502-43dc-9f40-c6043e8242a3",
   "metadata": {},
   "outputs": [
    {
     "data": {
      "text/plain": [
       "'/home/fernando/Documents/UCLA/DataX/Python_for_Social_Science/lessons/control_structures'"
      ]
     },
     "execution_count": 55,
     "metadata": {},
     "output_type": "execute_result"
    },
    {
     "data": {
      "text/plain": [
       "['1900-01-01-2022-04-22-Middle_East.csv.zip',\n",
       " '1900-01-01-2022-04-22-South_Asia.csv.zip']"
      ]
     },
     "execution_count": 55,
     "metadata": {},
     "output_type": "execute_result"
    }
   ],
   "source": [
    "# Import the 'os' package that lets you browse your computer directories.\n",
    "import os\n",
    "os.getcwd()\n",
    "\n",
    "# make a text vector that has the filenames of all the zip files in the data folder. we use list comprehension for this task\n",
    "path = '../../Data/ACLED/'\n",
    "zip_files = [i for i in os.listdir(path) if i.endswith('.zip')]\n",
    "zip_files"
   ]
  },
  {
   "cell_type": "markdown",
   "id": "e790d0f4-61b9-4a3b-adef-ab1db3e509ba",
   "metadata": {},
   "source": [
    "Unzip all the files in your list. "
   ]
  },
  {
   "cell_type": "code",
   "execution_count": 56,
   "id": "889c946d-9824-453d-a8dd-473ef316b9ff",
   "metadata": {},
   "outputs": [],
   "source": [
    "# import the zipfile package to unzip it all in a simple for-loop\n",
    "\n",
    "from zipfile import ZipFile \n",
    "\n",
    "for i in range(len(zip_files)):\n",
    "    filename=path+zip_files[i]\n",
    "    with ZipFile(filename, 'r') as f:\n",
    "        f.extractall(path)"
   ]
  },
  {
   "cell_type": "markdown",
   "id": "c6e849af-f9c9-487d-ba86-df99fcc11f16",
   "metadata": {},
   "source": [
    "You are going to make another vector for all the CSV files in the ACLED directory. We can reuse the `path` object and we should also see the newly unzipped 'Middle East' and 'South Asia' CSV files. "
   ]
  },
  {
   "cell_type": "code",
   "execution_count": 57,
   "id": "e1f232e3-da33-4e41-9b1c-ac8072d3751f",
   "metadata": {},
   "outputs": [
    {
     "data": {
      "text/plain": [
       "['1900-01-01-2022-04-22-South_Asia.csv',\n",
       " '1900-01-01-2022-04-22-Southern_Africa.csv',\n",
       " '1900-01-01-2022-04-22-East_Asia.csv',\n",
       " '1900-01-01-2022-04-22-Southeast_Asia.csv',\n",
       " '1900-01-01-2022-04-22-Middle_Africa.csv',\n",
       " '1900-01-01-2022-04-22-Caucasus_and_Central_Asia.csv',\n",
       " '1900-01-01-2022-04-22-South_America.csv',\n",
       " '1900-01-01-2022-04-22-North_America.csv',\n",
       " '1900-01-01-2022-04-22-Northern_Africa.csv',\n",
       " '1900-01-01-2022-04-22-Central_America.csv',\n",
       " '1900-01-01-2022-04-22-Western_Africa.csv',\n",
       " '1900-01-01-2022-04-22-Europe.csv',\n",
       " '1900-01-01-2022-04-22-Caribbean.csv',\n",
       " '1900-01-01-2022-04-22-Eastern_Africa.csv',\n",
       " '1900-01-01-2022-04-22-Middle_East.csv',\n",
       " '1900-01-01-2022-04-22-Oceania.csv']"
      ]
     },
     "execution_count": 57,
     "metadata": {},
     "output_type": "execute_result"
    }
   ],
   "source": [
    "csv_files = [i for i in os.listdir(path) if i.endswith('.csv')]\n",
    "csv_files"
   ]
  },
  {
   "cell_type": "code",
   "execution_count": 51,
   "id": "b785280f-436c-4104-b7a9-87e1946f5041",
   "metadata": {},
   "outputs": [
    {
     "data": {
      "text/plain": [
       "pandas.core.frame.DataFrame"
      ]
     },
     "execution_count": 51,
     "metadata": {},
     "output_type": "execute_result"
    }
   ],
   "source": [
    "import pandas as pd\n",
    "\n",
    "acled_merge=[]\n",
    "acled_merge=pd.DataFrame(acled_merge)\n",
    "type(acled_merge)"
   ]
  },
  {
   "cell_type": "code",
   "execution_count": 58,
   "id": "b5660317-6cea-42c4-8057-927f2081087f",
   "metadata": {},
   "outputs": [
    {
     "name": "stdout",
     "output_type": "stream",
     "text": [
      "For csv file  1900-01-01-2022-04-22-South_Asia.csv  there are  7  unique countries\n",
      "For csv file  1900-01-01-2022-04-22-Southern_Africa.csv  there are  8  unique countries\n",
      "For csv file  1900-01-01-2022-04-22-East_Asia.csv  there are  6  unique countries\n",
      "For csv file  1900-01-01-2022-04-22-Southeast_Asia.csv  there are  11  unique countries\n",
      "For csv file  1900-01-01-2022-04-22-Middle_Africa.csv  there are  9  unique countries\n",
      "For csv file  1900-01-01-2022-04-22-Caucasus_and_Central_Asia.csv  there are  9  unique countries\n",
      "For csv file  1900-01-01-2022-04-22-South_America.csv  there are  14  unique countries\n",
      "For csv file  1900-01-01-2022-04-22-North_America.csv  there are  5  unique countries\n",
      "For csv file  1900-01-01-2022-04-22-Northern_Africa.csv  there are  6  unique countries\n",
      "For csv file  1900-01-01-2022-04-22-Central_America.csv  there are  7  unique countries\n",
      "For csv file  1900-01-01-2022-04-22-Western_Africa.csv  there are  16  unique countries\n",
      "For csv file  1900-01-01-2022-04-22-Europe.csv  there are  52  unique countries\n",
      "For csv file  1900-01-01-2022-04-22-Caribbean.csv  there are  27  unique countries\n",
      "For csv file  1900-01-01-2022-04-22-Eastern_Africa.csv  there are  18  unique countries\n",
      "For csv file  1900-01-01-2022-04-22-Middle_East.csv  there are  15  unique countries\n",
      "For csv file  1900-01-01-2022-04-22-Oceania.csv  there are  18  unique countries\n"
     ]
    },
    {
     "data": {
      "text/plain": [
       "228"
      ]
     },
     "execution_count": 58,
     "metadata": {},
     "output_type": "execute_result"
    },
    {
     "data": {
      "text/plain": [
       "228"
      ]
     },
     "execution_count": 58,
     "metadata": {},
     "output_type": "execute_result"
    }
   ],
   "source": [
    "# nest a for loop such that you have one iteration variable 'i' equal to the csv file name for loading\n",
    "# and another iterator where 'j' equals the numeric start and end of the range (do i need this?)\n",
    "unique_countries = list()\n",
    "for i in csv_files:\n",
    "    filename=path+i\n",
    "    temp=pd.read_csv(filename, low_memory=False)\n",
    "    acled_merge=pd.concat([acled_merge, temp])\n",
    "    print('For csv file ',i, ' there are ', len(temp['country'].unique()), ' unique countries.')\n",
    "    unique_countries.append(len(temp['country'].unique()))\n",
    "\n",
    "len(acled_merge['country'].unique())\n",
    "sum(unique_countries)"
   ]
  },
  {
   "cell_type": "code",
   "execution_count": 64,
   "id": "a3da5f47-12eb-4447-8b2b-7b5cf6398214",
   "metadata": {},
   "outputs": [
    {
     "name": "stdout",
     "output_type": "stream",
     "text": [
      "<class 'pandas.core.frame.DataFrame'>\n",
      "Index: 1399627 entries, 0 to 1734\n",
      "Data columns (total 31 columns):\n",
      " #   Column            Non-Null Count    Dtype  \n",
      "---  ------            --------------    -----  \n",
      " 0   data_id           1399627 non-null  int64  \n",
      " 1   iso               1399627 non-null  int64  \n",
      " 2   event_id_cnty     1399627 non-null  object \n",
      " 3   event_id_no_cnty  1399627 non-null  float64\n",
      " 4   event_date        1399627 non-null  object \n",
      " 5   year              1399627 non-null  int64  \n",
      " 6   time_precision    1399627 non-null  int64  \n",
      " 7   event_type        1399627 non-null  object \n",
      " 8   sub_event_type    1399627 non-null  object \n",
      " 9   actor1            1399627 non-null  object \n",
      " 10  assoc_actor_1     529562 non-null   object \n",
      " 11  inter1            1399627 non-null  int64  \n",
      " 12  actor2            717933 non-null   object \n",
      " 13  assoc_actor_2     179397 non-null   object \n",
      " 14  inter2            1399627 non-null  int64  \n",
      " 15  interaction       1399627 non-null  int64  \n",
      " 16  region            1399627 non-null  object \n",
      " 17  country           1399627 non-null  object \n",
      " 18  admin1            1399516 non-null  object \n",
      " 19  admin2            1348295 non-null  object \n",
      " 20  admin3            667120 non-null   object \n",
      " 21  location          1399624 non-null  object \n",
      " 22  latitude          1399627 non-null  float64\n",
      " 23  longitude         1399627 non-null  float64\n",
      " 24  geo_precision     1399627 non-null  int64  \n",
      " 25  source            1399627 non-null  object \n",
      " 26  source_scale      1399627 non-null  object \n",
      " 27  notes             1390339 non-null  object \n",
      " 28  fatalities        1399627 non-null  int64  \n",
      " 29  timestamp         1399627 non-null  int64  \n",
      " 30  iso3              1399627 non-null  object \n",
      "dtypes: float64(3), int64(10), object(18)\n",
      "memory usage: 341.7+ MB\n"
     ]
    }
   ],
   "source": [
    "acled_merge.info()"
   ]
  },
  {
   "cell_type": "markdown",
   "id": "21d9fe2d-95ce-4d60-bcfa-7765ee76c290",
   "metadata": {},
   "source": [
    "## To-do\n",
    "- Control structures\n",
    "    - Loops: for and while,\n",
    "    - list comprehension\n",
    "    - break and continue\n",
    "    - nesting.\n",
    "- Conditional statements:\n",
    "    - if,\n",
    "    - else,\n",
    "    - elif.\n",
    "- Errors - logs, try-catch, debugging. \n"
   ]
  }
 ],
 "metadata": {
  "kernelspec": {
   "display_name": "Python 3 (ipykernel)",
   "language": "python",
   "name": "python3"
  },
  "language_info": {
   "codemirror_mode": {
    "name": "ipython",
    "version": 3
   },
   "file_extension": ".py",
   "mimetype": "text/x-python",
   "name": "python",
   "nbconvert_exporter": "python",
   "pygments_lexer": "ipython3",
   "version": "3.10.13"
  }
 },
 "nbformat": 4,
 "nbformat_minor": 5
}
