{
 "cells": [
  {
   "cell_type": "markdown",
   "id": "5a4ef663-c87c-419c-b781-9cf679fb0596",
   "metadata": {},
   "source": [
    "# Control Structures\n",
    "The last chapter promised a look into loops as a solution to a few limitations of the base python functions. The idea that we were limited is not true of course! Programming in general relies heavily on iterative lines of code that can repeat, change values, and follow steps of logic written by the programmer. Consider any sort of repetitive tasks you have to perform often, and think about how much easier it would be if you could automate those tasks. Consider, for example, one of your responsibilities was to update your school's ACLED conflict data once every quarter. This would mean having to download all regions' individual CSV files, merging, and cleaning some variables you pay close attention to. This is what you will get practice doing in this chapter, creating loops (and functions!) that can repeat these steps as many times as there are CSV files to merge so your job will be that much easier by next quarter.\n",
    "\n",
    "It has been our personal experience that many Python lessons and tutorials give abstract examples when teaching learners about looping and conditional statements. Hopefully this chapter will keep the lessons and examples grounded in real data with real tasks you might perform as a social science researcher and analyst. However, you will still need to see some abstract examples to start off each section of this chapter. It is important that you can recognize all the components of a loop before focusing on practical applications. \n",
    "\n",
    "(more?)"
   ]
  },
  {
   "cell_type": "code",
   "execution_count": 1,
   "id": "76c9e7cd-9558-4ac7-b03c-aa4a424ad682",
   "metadata": {},
   "outputs": [],
   "source": [
    "# This code cell will be in every one of our chapters in Jupyter Notebook\n",
    "# The function allows you to see every line of output when the code has multiple lines\n",
    "from IPython.core.interactiveshell import InteractiveShell\n",
    "InteractiveShell.ast_node_interactivity = 'all'"
   ]
  },
  {
   "cell_type": "markdown",
   "id": "78315dc0-b0d8-49d3-a8a2-6a12db0fbfdf",
   "metadata": {},
   "source": [
    "### Basic concepts\n",
    "When writing loops, you will be repeating (or _iterating_) functions _x_ number of times. The value of that _x_ is _very_ important, and the value usually comes from the shape or _length_ of a data object, usually rows or columns. Length here means the number of columns or the number of rows/observations, and we have the `len()` function to obtain that number. You will also need to combine `len()` with `range()`, which gives you start and end values for your loops; Python loops can't accept a single number on which to loop/iterate, it must be a range. And you will most definitely become better acquainted with index numbers to extract specific values from a vector or a column in your data.\n",
    "\n",
    "Let's start with thinking about how many observations/how much data we're dealing with: Create the `height` object once again and see what len() and range() give you. "
   ]
  },
  {
   "cell_type": "code",
   "execution_count": 12,
   "id": "d1f70bd5-9b47-4e90-b6ca-7450444e5ec8",
   "metadata": {},
   "outputs": [
    {
     "name": "stdout",
     "output_type": "stream",
     "text": [
      "The \"height\" object is =\n"
     ]
    },
    {
     "data": {
      "text/plain": [
       "[177,\n",
       " 174,\n",
       " 170,\n",
       " 183,\n",
       " 168,\n",
       " 182,\n",
       " 163,\n",
       " 191,\n",
       " 177,\n",
       " 176,\n",
       " 173,\n",
       " 186,\n",
       " 174,\n",
       " 168,\n",
       " 184,\n",
       " 170,\n",
       " 170,\n",
       " 192,\n",
       " 181,\n",
       " 173]"
      ]
     },
     "execution_count": 12,
     "metadata": {},
     "output_type": "execute_result"
    },
    {
     "name": "stdout",
     "output_type": "stream",
     "text": [
      "The \"len(height)\" object is =\n"
     ]
    },
    {
     "data": {
      "text/plain": [
       "20"
      ]
     },
     "execution_count": 12,
     "metadata": {},
     "output_type": "execute_result"
    },
    {
     "name": "stdout",
     "output_type": "stream",
     "text": [
      "The \"range(20)\" object is =\n"
     ]
    },
    {
     "data": {
      "text/plain": [
       "range(0, 20)"
      ]
     },
     "execution_count": 12,
     "metadata": {},
     "output_type": "execute_result"
    },
    {
     "name": "stdout",
     "output_type": "stream",
     "text": [
      "The \"range(len(height))\" object is =\n"
     ]
    },
    {
     "data": {
      "text/plain": [
       "range(0, 20)"
      ]
     },
     "execution_count": 12,
     "metadata": {},
     "output_type": "execute_result"
    }
   ],
   "source": [
    "height = [177, 174, 170, 183, 168, \n",
    "          182, 163, 191, 177, 176, \n",
    "          173, 186, 174, 168, 184, \n",
    "          170, 170, 192, 181, 173]\n",
    "print('The \"height\" object is =')\n",
    "height\n",
    "print('The \"len(height)\" object is =')\n",
    "len(height)\n",
    "print('The \"range(20)\" object is =')\n",
    "range(20)\n",
    "print('The \"range(len(height))\" object is =')\n",
    "range(len(height))"
   ]
  },
  {
   "cell_type": "markdown",
   "id": "73325d56-23ef-4671-afe1-16e6c0d98166",
   "metadata": {},
   "source": [
    "## For Loops\n",
    "A for-loop is a control structure in python that repeats code inside the looping syntax, after a colon `:`. It repeats (or loops, or _iterates_) as many times as the values you give it, \"for this many values\". If a vector had twenty variables, a for loop that iterated over this vector would do so twenty times, until it reached the end of the length the object. This is why len() and range() work so together in for-loops. The basic grammar is:\n",
    "\n",
    "`for i in x: do y()`\n",
    "\n",
    "At its very simplest, a for-loop repeats a function _x_ number of times. The structure grammar means that `i` will take on _each_ value that exists in _x_:"
   ]
  },
  {
   "cell_type": "code",
   "execution_count": 13,
   "id": "d9238998-d778-4f7d-9961-a8ebde92fe0a",
   "metadata": {},
   "outputs": [
    {
     "data": {
      "text/plain": [
       "0"
      ]
     },
     "execution_count": 13,
     "metadata": {},
     "output_type": "execute_result"
    },
    {
     "data": {
      "text/plain": [
       "1"
      ]
     },
     "execution_count": 13,
     "metadata": {},
     "output_type": "execute_result"
    },
    {
     "data": {
      "text/plain": [
       "2"
      ]
     },
     "execution_count": 13,
     "metadata": {},
     "output_type": "execute_result"
    },
    {
     "data": {
      "text/plain": [
       "3"
      ]
     },
     "execution_count": 13,
     "metadata": {},
     "output_type": "execute_result"
    },
    {
     "data": {
      "text/plain": [
       "4"
      ]
     },
     "execution_count": 13,
     "metadata": {},
     "output_type": "execute_result"
    }
   ],
   "source": [
    "for i in range(5): i"
   ]
  },
  {
   "cell_type": "code",
   "execution_count": 15,
   "id": "dc106cce-b102-4f59-af54-b35b71644c2b",
   "metadata": {},
   "outputs": [
    {
     "data": {
      "text/plain": [
       "'apples'"
      ]
     },
     "execution_count": 15,
     "metadata": {},
     "output_type": "execute_result"
    },
    {
     "data": {
      "text/plain": [
       "'bananas'"
      ]
     },
     "execution_count": 15,
     "metadata": {},
     "output_type": "execute_result"
    },
    {
     "data": {
      "text/plain": [
       "99"
      ]
     },
     "execution_count": 15,
     "metadata": {},
     "output_type": "execute_result"
    },
    {
     "data": {
      "text/plain": [
       "[1, 2, 3]"
      ]
     },
     "execution_count": 15,
     "metadata": {},
     "output_type": "execute_result"
    }
   ],
   "source": [
    "# any list of values after 'in' becomes a value for 'i' in the iteration steps\n",
    "for i in ('apples','bananas',99,[1,2,3]): i"
   ]
  },
  {
   "cell_type": "code",
   "execution_count": 14,
   "id": "259cb0ef-a5a5-43a6-8e49-981424bb0416",
   "metadata": {},
   "outputs": [
    {
     "data": {
      "text/plain": [
       "5"
      ]
     },
     "execution_count": 14,
     "metadata": {},
     "output_type": "execute_result"
    },
    {
     "data": {
      "text/plain": [
       "'a'"
      ]
     },
     "execution_count": 14,
     "metadata": {},
     "output_type": "execute_result"
    },
    {
     "data": {
      "text/plain": [
       "'p'"
      ]
     },
     "execution_count": 14,
     "metadata": {},
     "output_type": "execute_result"
    },
    {
     "data": {
      "text/plain": [
       "'p'"
      ]
     },
     "execution_count": 14,
     "metadata": {},
     "output_type": "execute_result"
    },
    {
     "data": {
      "text/plain": [
       "'l'"
      ]
     },
     "execution_count": 14,
     "metadata": {},
     "output_type": "execute_result"
    },
    {
     "data": {
      "text/plain": [
       "'e'"
      ]
     },
     "execution_count": 14,
     "metadata": {},
     "output_type": "execute_result"
    },
    {
     "data": {
      "text/plain": [
       "'s'"
      ]
     },
     "execution_count": 14,
     "metadata": {},
     "output_type": "execute_result"
    },
    {
     "ename": "TypeError",
     "evalue": "'int' object is not iterable",
     "output_type": "error",
     "traceback": [
      "\u001b[0;31m---------------------------------------------------------------------------\u001b[0m",
      "\u001b[0;31mTypeError\u001b[0m                                 Traceback (most recent call last)",
      "Cell \u001b[0;32mIn[14], line 8\u001b[0m\n\u001b[1;32m      5\u001b[0m \u001b[38;5;28;01mfor\u001b[39;00m i \u001b[38;5;129;01min\u001b[39;00m \u001b[38;5;124m'\u001b[39m\u001b[38;5;124mapples\u001b[39m\u001b[38;5;124m'\u001b[39m: i\n\u001b[1;32m      7\u001b[0m \u001b[38;5;66;03m# but a single-value object after 'in' will give you an error!\u001b[39;00m\n\u001b[0;32m----> 8\u001b[0m \u001b[38;5;28;01mfor\u001b[39;00m i \u001b[38;5;129;01min\u001b[39;00m (\u001b[38;5;241m1\u001b[39m):i\n",
      "\u001b[0;31mTypeError\u001b[0m: 'int' object is not iterable"
     ]
    }
   ],
   "source": [
    "# a list object (in brackets] can be 'iterable' even if it only has a length of one\n",
    "for i in [5]: i\n",
    "\n",
    "# this is true for strings too, which are basically lists of letters\n",
    "for i in 'apples': i\n",
    "\n",
    "# but a single-value object after 'in' will give you an error!\n",
    "for i in (1): i"
   ]
  },
  {
   "cell_type": "markdown",
   "id": "6083f085-c0d1-4a45-ac3e-a687c2d77b33",
   "metadata": {},
   "source": [
    "We used the letter `i` after 'for' as the object for python to store the value of the current iteration. Historically this is the letter `i`. It does not _need_ to be `i`, it is merely the first letter of the word 'iteration'.\n",
    "\n",
    "<div class=\"alert alert-block alert-info\">Note: as you type the first line \"for i in height:\", when you press the enter key after the colon `:`, jupyter notebook automatically makes an indentation, or extra space on the left. This lets Python know that this is not a separate line of code but a visual break and still a part of the code. You could also keep the function on the same line without a line break, but it looks neater if you have a lot of code after the `for` declaration.</div>\n",
    "\n",
    "The function you're calling in these examples is just `i` because we want you to know what `i`, the variable after 'for', means. The iteration variable `i` takes on the values of the `height` vector in the first loop, and in the second loop, `i` represents the values of `range(len(height))` (which is the range of values in the integer '20' as we saw in the first code cell)."
   ]
  },
  {
   "cell_type": "code",
   "execution_count": 16,
   "id": "dd36896f-cc4e-4560-b2c9-eb0c4b33ca45",
   "metadata": {},
   "outputs": [
    {
     "data": {
      "text/plain": [
       "177"
      ]
     },
     "execution_count": 16,
     "metadata": {},
     "output_type": "execute_result"
    },
    {
     "data": {
      "text/plain": [
       "174"
      ]
     },
     "execution_count": 16,
     "metadata": {},
     "output_type": "execute_result"
    },
    {
     "data": {
      "text/plain": [
       "170"
      ]
     },
     "execution_count": 16,
     "metadata": {},
     "output_type": "execute_result"
    },
    {
     "data": {
      "text/plain": [
       "183"
      ]
     },
     "execution_count": 16,
     "metadata": {},
     "output_type": "execute_result"
    },
    {
     "data": {
      "text/plain": [
       "168"
      ]
     },
     "execution_count": 16,
     "metadata": {},
     "output_type": "execute_result"
    },
    {
     "data": {
      "text/plain": [
       "182"
      ]
     },
     "execution_count": 16,
     "metadata": {},
     "output_type": "execute_result"
    },
    {
     "data": {
      "text/plain": [
       "163"
      ]
     },
     "execution_count": 16,
     "metadata": {},
     "output_type": "execute_result"
    },
    {
     "data": {
      "text/plain": [
       "191"
      ]
     },
     "execution_count": 16,
     "metadata": {},
     "output_type": "execute_result"
    },
    {
     "data": {
      "text/plain": [
       "177"
      ]
     },
     "execution_count": 16,
     "metadata": {},
     "output_type": "execute_result"
    },
    {
     "data": {
      "text/plain": [
       "176"
      ]
     },
     "execution_count": 16,
     "metadata": {},
     "output_type": "execute_result"
    },
    {
     "data": {
      "text/plain": [
       "173"
      ]
     },
     "execution_count": 16,
     "metadata": {},
     "output_type": "execute_result"
    },
    {
     "data": {
      "text/plain": [
       "186"
      ]
     },
     "execution_count": 16,
     "metadata": {},
     "output_type": "execute_result"
    },
    {
     "data": {
      "text/plain": [
       "174"
      ]
     },
     "execution_count": 16,
     "metadata": {},
     "output_type": "execute_result"
    },
    {
     "data": {
      "text/plain": [
       "168"
      ]
     },
     "execution_count": 16,
     "metadata": {},
     "output_type": "execute_result"
    },
    {
     "data": {
      "text/plain": [
       "184"
      ]
     },
     "execution_count": 16,
     "metadata": {},
     "output_type": "execute_result"
    },
    {
     "data": {
      "text/plain": [
       "170"
      ]
     },
     "execution_count": 16,
     "metadata": {},
     "output_type": "execute_result"
    },
    {
     "data": {
      "text/plain": [
       "170"
      ]
     },
     "execution_count": 16,
     "metadata": {},
     "output_type": "execute_result"
    },
    {
     "data": {
      "text/plain": [
       "192"
      ]
     },
     "execution_count": 16,
     "metadata": {},
     "output_type": "execute_result"
    },
    {
     "data": {
      "text/plain": [
       "181"
      ]
     },
     "execution_count": 16,
     "metadata": {},
     "output_type": "execute_result"
    },
    {
     "data": {
      "text/plain": [
       "173"
      ]
     },
     "execution_count": 16,
     "metadata": {},
     "output_type": "execute_result"
    },
    {
     "data": {
      "text/plain": [
       "0"
      ]
     },
     "execution_count": 16,
     "metadata": {},
     "output_type": "execute_result"
    },
    {
     "data": {
      "text/plain": [
       "1"
      ]
     },
     "execution_count": 16,
     "metadata": {},
     "output_type": "execute_result"
    },
    {
     "data": {
      "text/plain": [
       "2"
      ]
     },
     "execution_count": 16,
     "metadata": {},
     "output_type": "execute_result"
    },
    {
     "data": {
      "text/plain": [
       "3"
      ]
     },
     "execution_count": 16,
     "metadata": {},
     "output_type": "execute_result"
    },
    {
     "data": {
      "text/plain": [
       "4"
      ]
     },
     "execution_count": 16,
     "metadata": {},
     "output_type": "execute_result"
    },
    {
     "data": {
      "text/plain": [
       "5"
      ]
     },
     "execution_count": 16,
     "metadata": {},
     "output_type": "execute_result"
    },
    {
     "data": {
      "text/plain": [
       "6"
      ]
     },
     "execution_count": 16,
     "metadata": {},
     "output_type": "execute_result"
    },
    {
     "data": {
      "text/plain": [
       "7"
      ]
     },
     "execution_count": 16,
     "metadata": {},
     "output_type": "execute_result"
    },
    {
     "data": {
      "text/plain": [
       "8"
      ]
     },
     "execution_count": 16,
     "metadata": {},
     "output_type": "execute_result"
    },
    {
     "data": {
      "text/plain": [
       "9"
      ]
     },
     "execution_count": 16,
     "metadata": {},
     "output_type": "execute_result"
    },
    {
     "data": {
      "text/plain": [
       "10"
      ]
     },
     "execution_count": 16,
     "metadata": {},
     "output_type": "execute_result"
    },
    {
     "data": {
      "text/plain": [
       "11"
      ]
     },
     "execution_count": 16,
     "metadata": {},
     "output_type": "execute_result"
    },
    {
     "data": {
      "text/plain": [
       "12"
      ]
     },
     "execution_count": 16,
     "metadata": {},
     "output_type": "execute_result"
    },
    {
     "data": {
      "text/plain": [
       "13"
      ]
     },
     "execution_count": 16,
     "metadata": {},
     "output_type": "execute_result"
    },
    {
     "data": {
      "text/plain": [
       "14"
      ]
     },
     "execution_count": 16,
     "metadata": {},
     "output_type": "execute_result"
    },
    {
     "data": {
      "text/plain": [
       "15"
      ]
     },
     "execution_count": 16,
     "metadata": {},
     "output_type": "execute_result"
    },
    {
     "data": {
      "text/plain": [
       "16"
      ]
     },
     "execution_count": 16,
     "metadata": {},
     "output_type": "execute_result"
    },
    {
     "data": {
      "text/plain": [
       "17"
      ]
     },
     "execution_count": 16,
     "metadata": {},
     "output_type": "execute_result"
    },
    {
     "data": {
      "text/plain": [
       "18"
      ]
     },
     "execution_count": 16,
     "metadata": {},
     "output_type": "execute_result"
    },
    {
     "data": {
      "text/plain": [
       "19"
      ]
     },
     "execution_count": 16,
     "metadata": {},
     "output_type": "execute_result"
    }
   ],
   "source": [
    "for i in height:\n",
    "    i # here, 'i' stands for the vector index's value, or height[i]\n",
    "\n",
    "\n",
    "for i in range(len(height)):\n",
    "    i # here 'i' stands for a value in the range of 0 - 20"
   ]
  },
  {
   "cell_type": "markdown",
   "id": "6fea920b-7933-412e-a7b9-db48824ecd61",
   "metadata": {},
   "source": [
    "Remember last chapter we needed NumPy to obtain the transformation of `height` into inches? Now we can loop over our vector to calculate values in inches. With the second loop above, where we iterate over the _range of the length_ of the height vector, we got values from 0 to 19. Incidentally, these are the indexes for the position of each observation in the vector from range 0 to 20. That means you could use the increasing values of `i` to extract a vector's values in order and perform math operations on each value (`height[i]*x`). You can also incorporate _more_ functions related to your vector where you will care more about the length of the vector (and thus the number of iterations) than the actual values in that vector.\n",
    "\n",
    "This creates two choices for how you make a math operation work in a loop: You can choose to make `i` equal to the 0-19 range of values (the first line of code); or you can choose for `i` to equal the explicit values within the height vector (in the second, shorter, line of code). We won't tell you which choice is better or worse: You should understand both choices exist and both are appropriate for different coding contexts. "
   ]
  },
  {
   "cell_type": "code",
   "execution_count": 7,
   "id": "389c67b1-f449-4905-8034-f76716df532c",
   "metadata": {},
   "outputs": [
    {
     "data": {
      "text/plain": [
       "69.685077"
      ]
     },
     "execution_count": 7,
     "metadata": {},
     "output_type": "execute_result"
    },
    {
     "data": {
      "text/plain": [
       "68.503974"
      ]
     },
     "execution_count": 7,
     "metadata": {},
     "output_type": "execute_result"
    },
    {
     "data": {
      "text/plain": [
       "66.92917"
      ]
     },
     "execution_count": 7,
     "metadata": {},
     "output_type": "execute_result"
    },
    {
     "data": {
      "text/plain": [
       "72.04728300000001"
      ]
     },
     "execution_count": 7,
     "metadata": {},
     "output_type": "execute_result"
    },
    {
     "data": {
      "text/plain": [
       "66.141768"
      ]
     },
     "execution_count": 7,
     "metadata": {},
     "output_type": "execute_result"
    },
    {
     "data": {
      "text/plain": [
       "71.653582"
      ]
     },
     "execution_count": 7,
     "metadata": {},
     "output_type": "execute_result"
    },
    {
     "data": {
      "text/plain": [
       "64.173263"
      ]
     },
     "execution_count": 7,
     "metadata": {},
     "output_type": "execute_result"
    },
    {
     "data": {
      "text/plain": [
       "75.19689100000001"
      ]
     },
     "execution_count": 7,
     "metadata": {},
     "output_type": "execute_result"
    },
    {
     "data": {
      "text/plain": [
       "69.685077"
      ]
     },
     "execution_count": 7,
     "metadata": {},
     "output_type": "execute_result"
    },
    {
     "data": {
      "text/plain": [
       "69.291376"
      ]
     },
     "execution_count": 7,
     "metadata": {},
     "output_type": "execute_result"
    },
    {
     "data": {
      "text/plain": [
       "68.110273"
      ]
     },
     "execution_count": 7,
     "metadata": {},
     "output_type": "execute_result"
    },
    {
     "data": {
      "text/plain": [
       "73.228386"
      ]
     },
     "execution_count": 7,
     "metadata": {},
     "output_type": "execute_result"
    },
    {
     "data": {
      "text/plain": [
       "68.503974"
      ]
     },
     "execution_count": 7,
     "metadata": {},
     "output_type": "execute_result"
    },
    {
     "data": {
      "text/plain": [
       "66.141768"
      ]
     },
     "execution_count": 7,
     "metadata": {},
     "output_type": "execute_result"
    },
    {
     "data": {
      "text/plain": [
       "72.440984"
      ]
     },
     "execution_count": 7,
     "metadata": {},
     "output_type": "execute_result"
    },
    {
     "data": {
      "text/plain": [
       "66.92917"
      ]
     },
     "execution_count": 7,
     "metadata": {},
     "output_type": "execute_result"
    },
    {
     "data": {
      "text/plain": [
       "66.92917"
      ]
     },
     "execution_count": 7,
     "metadata": {},
     "output_type": "execute_result"
    },
    {
     "data": {
      "text/plain": [
       "75.590592"
      ]
     },
     "execution_count": 7,
     "metadata": {},
     "output_type": "execute_result"
    },
    {
     "data": {
      "text/plain": [
       "71.25988100000001"
      ]
     },
     "execution_count": 7,
     "metadata": {},
     "output_type": "execute_result"
    },
    {
     "data": {
      "text/plain": [
       "68.110273"
      ]
     },
     "execution_count": 7,
     "metadata": {},
     "output_type": "execute_result"
    },
    {
     "data": {
      "text/plain": [
       "69.685077"
      ]
     },
     "execution_count": 7,
     "metadata": {},
     "output_type": "execute_result"
    },
    {
     "data": {
      "text/plain": [
       "68.503974"
      ]
     },
     "execution_count": 7,
     "metadata": {},
     "output_type": "execute_result"
    },
    {
     "data": {
      "text/plain": [
       "66.92917"
      ]
     },
     "execution_count": 7,
     "metadata": {},
     "output_type": "execute_result"
    },
    {
     "data": {
      "text/plain": [
       "72.04728300000001"
      ]
     },
     "execution_count": 7,
     "metadata": {},
     "output_type": "execute_result"
    },
    {
     "data": {
      "text/plain": [
       "66.141768"
      ]
     },
     "execution_count": 7,
     "metadata": {},
     "output_type": "execute_result"
    },
    {
     "data": {
      "text/plain": [
       "71.653582"
      ]
     },
     "execution_count": 7,
     "metadata": {},
     "output_type": "execute_result"
    },
    {
     "data": {
      "text/plain": [
       "64.173263"
      ]
     },
     "execution_count": 7,
     "metadata": {},
     "output_type": "execute_result"
    },
    {
     "data": {
      "text/plain": [
       "75.19689100000001"
      ]
     },
     "execution_count": 7,
     "metadata": {},
     "output_type": "execute_result"
    },
    {
     "data": {
      "text/plain": [
       "69.685077"
      ]
     },
     "execution_count": 7,
     "metadata": {},
     "output_type": "execute_result"
    },
    {
     "data": {
      "text/plain": [
       "69.291376"
      ]
     },
     "execution_count": 7,
     "metadata": {},
     "output_type": "execute_result"
    },
    {
     "data": {
      "text/plain": [
       "68.110273"
      ]
     },
     "execution_count": 7,
     "metadata": {},
     "output_type": "execute_result"
    },
    {
     "data": {
      "text/plain": [
       "73.228386"
      ]
     },
     "execution_count": 7,
     "metadata": {},
     "output_type": "execute_result"
    },
    {
     "data": {
      "text/plain": [
       "68.503974"
      ]
     },
     "execution_count": 7,
     "metadata": {},
     "output_type": "execute_result"
    },
    {
     "data": {
      "text/plain": [
       "66.141768"
      ]
     },
     "execution_count": 7,
     "metadata": {},
     "output_type": "execute_result"
    },
    {
     "data": {
      "text/plain": [
       "72.440984"
      ]
     },
     "execution_count": 7,
     "metadata": {},
     "output_type": "execute_result"
    },
    {
     "data": {
      "text/plain": [
       "66.92917"
      ]
     },
     "execution_count": 7,
     "metadata": {},
     "output_type": "execute_result"
    },
    {
     "data": {
      "text/plain": [
       "66.92917"
      ]
     },
     "execution_count": 7,
     "metadata": {},
     "output_type": "execute_result"
    },
    {
     "data": {
      "text/plain": [
       "75.590592"
      ]
     },
     "execution_count": 7,
     "metadata": {},
     "output_type": "execute_result"
    },
    {
     "data": {
      "text/plain": [
       "71.25988100000001"
      ]
     },
     "execution_count": 7,
     "metadata": {},
     "output_type": "execute_result"
    },
    {
     "data": {
      "text/plain": [
       "68.110273"
      ]
     },
     "execution_count": 7,
     "metadata": {},
     "output_type": "execute_result"
    }
   ],
   "source": [
    "# Both lines output the same values, but 'i' is different in each loop.\n",
    "for i in range(len(height)):\n",
    "    height[i]*0.393701 # here, 'i' represents values in the range 0-20 and so e extract height values by indexing height[i]\n",
    "\n",
    "for i in height:\n",
    "    i*0.393701 # here 'i' takes the literal values in height, so we can calculate directly"
   ]
  },
  {
   "cell_type": "markdown",
   "id": "7150ca71-e2e4-40eb-8aa0-5eb29ad08fcd",
   "metadata": {},
   "source": [
    "This looks like what we want, but the loop's output didn't actually make a vector / list data type, only 20 independent variables for height in inches. One solution is to take advantage of the `append()` function on an empty list. Just make a blank list object called `height_inches` and append will add the current value onto the last position of the vector for as many times as there are values in 'height':"
   ]
  },
  {
   "cell_type": "code",
   "execution_count": 8,
   "id": "0806102b-77d2-439f-9a6b-3e3bdb0bfbd2",
   "metadata": {},
   "outputs": [
    {
     "data": {
      "text/plain": [
       "[]"
      ]
     },
     "execution_count": 8,
     "metadata": {},
     "output_type": "execute_result"
    },
    {
     "data": {
      "text/plain": [
       "[69.685077,\n",
       " 68.503974,\n",
       " 66.92917,\n",
       " 72.04728300000001,\n",
       " 66.141768,\n",
       " 71.653582,\n",
       " 64.173263,\n",
       " 75.19689100000001,\n",
       " 69.685077,\n",
       " 69.291376,\n",
       " 68.110273,\n",
       " 73.228386,\n",
       " 68.503974,\n",
       " 66.141768,\n",
       " 72.440984,\n",
       " 66.92917,\n",
       " 66.92917,\n",
       " 75.590592,\n",
       " 71.25988100000001,\n",
       " 68.110273]"
      ]
     },
     "execution_count": 8,
     "metadata": {},
     "output_type": "execute_result"
    },
    {
     "data": {
      "text/plain": [
       "list"
      ]
     },
     "execution_count": 8,
     "metadata": {},
     "output_type": "execute_result"
    }
   ],
   "source": [
    "height_inches=list()\n",
    "height_inches # this prints a blank list '[]'\n",
    "\n",
    "\n",
    "for i in height:\n",
    "    height_inches.append(i*0.393701)\n",
    "\n",
    "height_inches # inspect. now we have a list data type with 20 values.\n",
    "type(height_inches)"
   ]
  },
  {
   "cell_type": "markdown",
   "id": "77816182-41f6-4a2d-a8ba-da63012f92bb",
   "metadata": {},
   "source": [
    "## List Comprehension\n",
    "If you are mainly interested in creating a new vector, however, __list comprehension__ is the preferred loop structure in Python. It looks and behaves like the for-loop, but it has a more succinct syntax and actually processes more quickly. The basic command for a list comprehension looks like this: \n",
    "\n",
    "`[do y for i in x]` \n",
    "\n",
    "Notice how the line comprehension code is wrapped in square brackets, which is how you assign a list of values to an object in Python. Look at some examples of the very base syntax of line comprehension below. The iteration process is similar to the for-loop, but the output is automatically formatted as a list class. "
   ]
  },
  {
   "cell_type": "code",
   "execution_count": null,
   "id": "1beab31c-68fa-4234-85be-4325cddd5fff",
   "metadata": {},
   "outputs": [],
   "source": [
    "[i for i in height] # 'i' stands for the value in the corresponding index of the vector. It returns the exact same vector.\n",
    "\n",
    "[i for i in range(len(height))] # 'i' stands for the position of the index, as opposed to the value. It still outputs a list class object\n",
    "\n",
    "[i/10 for i in height] # all our operations happen to the left of the 'for'"
   ]
  },
  {
   "cell_type": "markdown",
   "id": "5a011c7f-83df-4971-903e-6b4eeccbd6df",
   "metadata": {},
   "source": [
    "All that's left in order to to create the height in inches vector (more efficiently this time) is to assign the new object to the left of the list comprehension. The differences with our previous for-loop, as you can appreciate below, are several. First, assigning the new list occurs outside of the loop as opposed to within the loop. Similarly, list comprehension does not require a blank list object and the `append()` function because list comprehension creates vectors by default. Lastly, the operation $height \\times 0.393701$ happens to the left of the 'for' term. "
   ]
  },
  {
   "cell_type": "code",
   "execution_count": 9,
   "id": "9545eccf-f8e8-4112-a2c7-eaa32c004f44",
   "metadata": {},
   "outputs": [
    {
     "data": {
      "text/plain": [
       "list"
      ]
     },
     "execution_count": 9,
     "metadata": {},
     "output_type": "execute_result"
    },
    {
     "data": {
      "text/plain": [
       "[69.685077,\n",
       " 68.503974,\n",
       " 66.92917,\n",
       " 72.04728300000001,\n",
       " 66.141768,\n",
       " 71.653582,\n",
       " 64.173263,\n",
       " 75.19689100000001,\n",
       " 69.685077,\n",
       " 69.291376,\n",
       " 68.110273,\n",
       " 73.228386,\n",
       " 68.503974,\n",
       " 66.141768,\n",
       " 72.440984,\n",
       " 66.92917,\n",
       " 66.92917,\n",
       " 75.590592,\n",
       " 71.25988100000001,\n",
       " 68.110273]"
      ]
     },
     "execution_count": 9,
     "metadata": {},
     "output_type": "execute_result"
    }
   ],
   "source": [
    "height_inches = [i*0.393701 for i in height]\n",
    "\n",
    "type(height_inches)\n",
    "height_inches"
   ]
  },
  {
   "cell_type": "markdown",
   "id": "a0205cfc-805c-4263-9898-ba31536e86e8",
   "metadata": {},
   "source": [
    "\n",
    "\n",
    "## Nested Loops"
   ]
  },
  {
   "cell_type": "markdown",
   "id": "41abda27-c9f3-4fba-b9f3-26ff7f55fa8e",
   "metadata": {},
   "source": [
    "When you place any loop inside another, you are using __nested loops__. Nesting is incredibly common in data analysis and in real world data, where observations are grouped or categorized within other variable values. An example we have seen before in the pandas II chapter is countries within years in our ACLED data. Let's use this as an example of how we can loop over the years and countries in one region. What this example will show you is that data itself is nested, so if you are interested in repeating one analysis for all the countries in the data for one year, then the same analysis for all the countries in the next year, and so on, you would use a nested loop.\n",
    "\n",
    "Import the ACLED CSVdata from East Asia."
   ]
  },
  {
   "cell_type": "code",
   "execution_count": 2,
   "id": "29641821-cddf-4aac-b3c9-ce806315b8b1",
   "metadata": {},
   "outputs": [
    {
     "data": {
      "text/plain": [
       "'2022'"
      ]
     },
     "execution_count": 2,
     "metadata": {},
     "output_type": "execute_result"
    }
   ],
   "source": [
    "import pandas as pd\n",
    "east_asia = pd.read_csv('../../Data/ACLED/1900-01-01-2022-04-22-East_Asia.csv')\n",
    "\n",
    "str(east_asia['year'].loc[0])"
   ]
  },
  {
   "cell_type": "markdown",
   "id": "a7cbdbf9-964a-4ccd-85c0-94f4aa099771",
   "metadata": {},
   "source": [
    "In this case, because we would like to group our dataframe by each year and country, it won't do to iterate over every value of the `year` and `country` variables. These have many multiple observations per year and country, and our for-loops would run for a very long time causing our computer's memory to run out. Instead, we want each _unique_ value of country and year. "
   ]
  },
  {
   "cell_type": "code",
   "execution_count": null,
   "id": "cc43d9dd-151a-4776-9495-3dfbffb6513d",
   "metadata": {},
   "outputs": [],
   "source": [
    "east_asia['year'].unique()\n",
    "east_asia['country'].unique()"
   ]
  },
  {
   "cell_type": "markdown",
   "id": "f51fbc63-438b-4fec-9b0e-5f42105f0166",
   "metadata": {},
   "source": [
    "Place a for-loop for country \"inside\" of a for-loop over years and print a concatenated string of either:"
   ]
  },
  {
   "cell_type": "code",
   "execution_count": 8,
   "id": "07b594b1-0c25-4160-b4cf-2efacb9a3520",
   "metadata": {},
   "outputs": [
    {
     "data": {
      "text/plain": [
       "'2022 South Korea'"
      ]
     },
     "execution_count": 8,
     "metadata": {},
     "output_type": "execute_result"
    },
    {
     "data": {
      "text/plain": [
       "'2022 Japan'"
      ]
     },
     "execution_count": 8,
     "metadata": {},
     "output_type": "execute_result"
    },
    {
     "data": {
      "text/plain": [
       "'2022 Taiwan'"
      ]
     },
     "execution_count": 8,
     "metadata": {},
     "output_type": "execute_result"
    },
    {
     "data": {
      "text/plain": [
       "'2022 Mongolia'"
      ]
     },
     "execution_count": 8,
     "metadata": {},
     "output_type": "execute_result"
    },
    {
     "data": {
      "text/plain": [
       "'2022 North Korea'"
      ]
     },
     "execution_count": 8,
     "metadata": {},
     "output_type": "execute_result"
    },
    {
     "data": {
      "text/plain": [
       "'2022 China'"
      ]
     },
     "execution_count": 8,
     "metadata": {},
     "output_type": "execute_result"
    },
    {
     "data": {
      "text/plain": [
       "'2021 South Korea'"
      ]
     },
     "execution_count": 8,
     "metadata": {},
     "output_type": "execute_result"
    },
    {
     "data": {
      "text/plain": [
       "'2021 Japan'"
      ]
     },
     "execution_count": 8,
     "metadata": {},
     "output_type": "execute_result"
    },
    {
     "data": {
      "text/plain": [
       "'2021 Taiwan'"
      ]
     },
     "execution_count": 8,
     "metadata": {},
     "output_type": "execute_result"
    },
    {
     "data": {
      "text/plain": [
       "'2021 Mongolia'"
      ]
     },
     "execution_count": 8,
     "metadata": {},
     "output_type": "execute_result"
    },
    {
     "data": {
      "text/plain": [
       "'2021 North Korea'"
      ]
     },
     "execution_count": 8,
     "metadata": {},
     "output_type": "execute_result"
    },
    {
     "data": {
      "text/plain": [
       "'2021 China'"
      ]
     },
     "execution_count": 8,
     "metadata": {},
     "output_type": "execute_result"
    },
    {
     "data": {
      "text/plain": [
       "'2020 South Korea'"
      ]
     },
     "execution_count": 8,
     "metadata": {},
     "output_type": "execute_result"
    },
    {
     "data": {
      "text/plain": [
       "'2020 Japan'"
      ]
     },
     "execution_count": 8,
     "metadata": {},
     "output_type": "execute_result"
    },
    {
     "data": {
      "text/plain": [
       "'2020 Taiwan'"
      ]
     },
     "execution_count": 8,
     "metadata": {},
     "output_type": "execute_result"
    },
    {
     "data": {
      "text/plain": [
       "'2020 Mongolia'"
      ]
     },
     "execution_count": 8,
     "metadata": {},
     "output_type": "execute_result"
    },
    {
     "data": {
      "text/plain": [
       "'2020 North Korea'"
      ]
     },
     "execution_count": 8,
     "metadata": {},
     "output_type": "execute_result"
    },
    {
     "data": {
      "text/plain": [
       "'2020 China'"
      ]
     },
     "execution_count": 8,
     "metadata": {},
     "output_type": "execute_result"
    },
    {
     "data": {
      "text/plain": [
       "'2019 South Korea'"
      ]
     },
     "execution_count": 8,
     "metadata": {},
     "output_type": "execute_result"
    },
    {
     "data": {
      "text/plain": [
       "'2019 Japan'"
      ]
     },
     "execution_count": 8,
     "metadata": {},
     "output_type": "execute_result"
    },
    {
     "data": {
      "text/plain": [
       "'2019 Taiwan'"
      ]
     },
     "execution_count": 8,
     "metadata": {},
     "output_type": "execute_result"
    },
    {
     "data": {
      "text/plain": [
       "'2019 Mongolia'"
      ]
     },
     "execution_count": 8,
     "metadata": {},
     "output_type": "execute_result"
    },
    {
     "data": {
      "text/plain": [
       "'2019 North Korea'"
      ]
     },
     "execution_count": 8,
     "metadata": {},
     "output_type": "execute_result"
    },
    {
     "data": {
      "text/plain": [
       "'2019 China'"
      ]
     },
     "execution_count": 8,
     "metadata": {},
     "output_type": "execute_result"
    },
    {
     "data": {
      "text/plain": [
       "'2018 South Korea'"
      ]
     },
     "execution_count": 8,
     "metadata": {},
     "output_type": "execute_result"
    },
    {
     "data": {
      "text/plain": [
       "'2018 Japan'"
      ]
     },
     "execution_count": 8,
     "metadata": {},
     "output_type": "execute_result"
    },
    {
     "data": {
      "text/plain": [
       "'2018 Taiwan'"
      ]
     },
     "execution_count": 8,
     "metadata": {},
     "output_type": "execute_result"
    },
    {
     "data": {
      "text/plain": [
       "'2018 Mongolia'"
      ]
     },
     "execution_count": 8,
     "metadata": {},
     "output_type": "execute_result"
    },
    {
     "data": {
      "text/plain": [
       "'2018 North Korea'"
      ]
     },
     "execution_count": 8,
     "metadata": {},
     "output_type": "execute_result"
    },
    {
     "data": {
      "text/plain": [
       "'2018 China'"
      ]
     },
     "execution_count": 8,
     "metadata": {},
     "output_type": "execute_result"
    }
   ],
   "source": [
    "for y in east_asia['year'].unique():\n",
    "    for c in east_asia['country'].unique():\n",
    "        str(y)+' '+c"
   ]
  },
  {
   "cell_type": "markdown",
   "id": "b9e670e6-72d2-4a1e-bcf1-f8f5945e9682",
   "metadata": {},
   "source": [
    "Handy! We can use this string output to make subsets and crosstabs of our data. The first loop subsets each year of data into a placeholder `temp` dataframe. The second nested loop prints the country and year, then calls a subset by country with `temp[temp['country'].str.contains()]`. These are functions you learned in the previous pandas II chapter that we are generalizing to ever-changing values of `i`. "
   ]
  },
  {
   "cell_type": "code",
   "execution_count": 13,
   "id": "fe682a96-13c7-403d-822a-c40b09d51369",
   "metadata": {},
   "outputs": [
    {
     "name": "stdout",
     "output_type": "stream",
     "text": [
      "South Korea 2022\n"
     ]
    },
    {
     "data": {
      "text/html": [
       "<div>\n",
       "<style scoped>\n",
       "    .dataframe tbody tr th:only-of-type {\n",
       "        vertical-align: middle;\n",
       "    }\n",
       "\n",
       "    .dataframe tbody tr th {\n",
       "        vertical-align: top;\n",
       "    }\n",
       "\n",
       "    .dataframe thead th {\n",
       "        text-align: right;\n",
       "    }\n",
       "</style>\n",
       "<table border=\"1\" class=\"dataframe\">\n",
       "  <thead>\n",
       "    <tr style=\"text-align: right;\">\n",
       "      <th></th>\n",
       "      <th>fatalities</th>\n",
       "    </tr>\n",
       "    <tr>\n",
       "      <th>event_type</th>\n",
       "      <th></th>\n",
       "    </tr>\n",
       "  </thead>\n",
       "  <tbody>\n",
       "    <tr>\n",
       "      <th>Protests</th>\n",
       "      <td>0</td>\n",
       "    </tr>\n",
       "    <tr>\n",
       "      <th>Riots</th>\n",
       "      <td>0</td>\n",
       "    </tr>\n",
       "  </tbody>\n",
       "</table>\n",
       "</div>"
      ],
      "text/plain": [
       "            fatalities\n",
       "event_type            \n",
       "Protests             0\n",
       "Riots                0"
      ]
     },
     "execution_count": 13,
     "metadata": {},
     "output_type": "execute_result"
    },
    {
     "name": "stdout",
     "output_type": "stream",
     "text": [
      "Japan 2022\n"
     ]
    },
    {
     "data": {
      "text/html": [
       "<div>\n",
       "<style scoped>\n",
       "    .dataframe tbody tr th:only-of-type {\n",
       "        vertical-align: middle;\n",
       "    }\n",
       "\n",
       "    .dataframe tbody tr th {\n",
       "        vertical-align: top;\n",
       "    }\n",
       "\n",
       "    .dataframe thead th {\n",
       "        text-align: right;\n",
       "    }\n",
       "</style>\n",
       "<table border=\"1\" class=\"dataframe\">\n",
       "  <thead>\n",
       "    <tr style=\"text-align: right;\">\n",
       "      <th></th>\n",
       "      <th>fatalities</th>\n",
       "    </tr>\n",
       "    <tr>\n",
       "      <th>event_type</th>\n",
       "      <th></th>\n",
       "    </tr>\n",
       "  </thead>\n",
       "  <tbody>\n",
       "    <tr>\n",
       "      <th>Protests</th>\n",
       "      <td>0</td>\n",
       "    </tr>\n",
       "    <tr>\n",
       "      <th>Riots</th>\n",
       "      <td>0</td>\n",
       "    </tr>\n",
       "  </tbody>\n",
       "</table>\n",
       "</div>"
      ],
      "text/plain": [
       "            fatalities\n",
       "event_type            \n",
       "Protests             0\n",
       "Riots                0"
      ]
     },
     "execution_count": 13,
     "metadata": {},
     "output_type": "execute_result"
    },
    {
     "name": "stdout",
     "output_type": "stream",
     "text": [
      "Taiwan 2022\n"
     ]
    },
    {
     "data": {
      "text/html": [
       "<div>\n",
       "<style scoped>\n",
       "    .dataframe tbody tr th:only-of-type {\n",
       "        vertical-align: middle;\n",
       "    }\n",
       "\n",
       "    .dataframe tbody tr th {\n",
       "        vertical-align: top;\n",
       "    }\n",
       "\n",
       "    .dataframe thead th {\n",
       "        text-align: right;\n",
       "    }\n",
       "</style>\n",
       "<table border=\"1\" class=\"dataframe\">\n",
       "  <thead>\n",
       "    <tr style=\"text-align: right;\">\n",
       "      <th></th>\n",
       "      <th>fatalities</th>\n",
       "    </tr>\n",
       "    <tr>\n",
       "      <th>event_type</th>\n",
       "      <th></th>\n",
       "    </tr>\n",
       "  </thead>\n",
       "  <tbody>\n",
       "    <tr>\n",
       "      <th>Protests</th>\n",
       "      <td>0</td>\n",
       "    </tr>\n",
       "    <tr>\n",
       "      <th>Riots</th>\n",
       "      <td>0</td>\n",
       "    </tr>\n",
       "  </tbody>\n",
       "</table>\n",
       "</div>"
      ],
      "text/plain": [
       "            fatalities\n",
       "event_type            \n",
       "Protests             0\n",
       "Riots                0"
      ]
     },
     "execution_count": 13,
     "metadata": {},
     "output_type": "execute_result"
    },
    {
     "name": "stdout",
     "output_type": "stream",
     "text": [
      "Mongolia 2022\n"
     ]
    },
    {
     "data": {
      "text/html": [
       "<div>\n",
       "<style scoped>\n",
       "    .dataframe tbody tr th:only-of-type {\n",
       "        vertical-align: middle;\n",
       "    }\n",
       "\n",
       "    .dataframe tbody tr th {\n",
       "        vertical-align: top;\n",
       "    }\n",
       "\n",
       "    .dataframe thead th {\n",
       "        text-align: right;\n",
       "    }\n",
       "</style>\n",
       "<table border=\"1\" class=\"dataframe\">\n",
       "  <thead>\n",
       "    <tr style=\"text-align: right;\">\n",
       "      <th></th>\n",
       "      <th>fatalities</th>\n",
       "    </tr>\n",
       "    <tr>\n",
       "      <th>event_type</th>\n",
       "      <th></th>\n",
       "    </tr>\n",
       "  </thead>\n",
       "  <tbody>\n",
       "    <tr>\n",
       "      <th>Protests</th>\n",
       "      <td>0</td>\n",
       "    </tr>\n",
       "  </tbody>\n",
       "</table>\n",
       "</div>"
      ],
      "text/plain": [
       "            fatalities\n",
       "event_type            \n",
       "Protests             0"
      ]
     },
     "execution_count": 13,
     "metadata": {},
     "output_type": "execute_result"
    },
    {
     "name": "stdout",
     "output_type": "stream",
     "text": [
      "North Korea 2022\n"
     ]
    },
    {
     "data": {
      "text/html": [
       "<div>\n",
       "<style scoped>\n",
       "    .dataframe tbody tr th:only-of-type {\n",
       "        vertical-align: middle;\n",
       "    }\n",
       "\n",
       "    .dataframe tbody tr th {\n",
       "        vertical-align: top;\n",
       "    }\n",
       "\n",
       "    .dataframe thead th {\n",
       "        text-align: right;\n",
       "    }\n",
       "</style>\n",
       "<table border=\"1\" class=\"dataframe\">\n",
       "  <thead>\n",
       "    <tr style=\"text-align: right;\">\n",
       "      <th></th>\n",
       "      <th>fatalities</th>\n",
       "    </tr>\n",
       "    <tr>\n",
       "      <th>event_type</th>\n",
       "      <th></th>\n",
       "    </tr>\n",
       "  </thead>\n",
       "  <tbody>\n",
       "    <tr>\n",
       "      <th>Explosions/Remote violence</th>\n",
       "      <td>0</td>\n",
       "    </tr>\n",
       "    <tr>\n",
       "      <th>Riots</th>\n",
       "      <td>0</td>\n",
       "    </tr>\n",
       "    <tr>\n",
       "      <th>Strategic developments</th>\n",
       "      <td>0</td>\n",
       "    </tr>\n",
       "    <tr>\n",
       "      <th>Violence against civilians</th>\n",
       "      <td>21</td>\n",
       "    </tr>\n",
       "  </tbody>\n",
       "</table>\n",
       "</div>"
      ],
      "text/plain": [
       "                            fatalities\n",
       "event_type                            \n",
       "Explosions/Remote violence           0\n",
       "Riots                                0\n",
       "Strategic developments               0\n",
       "Violence against civilians          21"
      ]
     },
     "execution_count": 13,
     "metadata": {},
     "output_type": "execute_result"
    },
    {
     "name": "stdout",
     "output_type": "stream",
     "text": [
      "China 2022\n"
     ]
    },
    {
     "data": {
      "text/html": [
       "<div>\n",
       "<style scoped>\n",
       "    .dataframe tbody tr th:only-of-type {\n",
       "        vertical-align: middle;\n",
       "    }\n",
       "\n",
       "    .dataframe tbody tr th {\n",
       "        vertical-align: top;\n",
       "    }\n",
       "\n",
       "    .dataframe thead th {\n",
       "        text-align: right;\n",
       "    }\n",
       "</style>\n",
       "<table border=\"1\" class=\"dataframe\">\n",
       "  <thead>\n",
       "    <tr style=\"text-align: right;\">\n",
       "      <th></th>\n",
       "      <th>fatalities</th>\n",
       "    </tr>\n",
       "    <tr>\n",
       "      <th>event_type</th>\n",
       "      <th></th>\n",
       "    </tr>\n",
       "  </thead>\n",
       "  <tbody>\n",
       "    <tr>\n",
       "      <th>Protests</th>\n",
       "      <td>0</td>\n",
       "    </tr>\n",
       "    <tr>\n",
       "      <th>Riots</th>\n",
       "      <td>0</td>\n",
       "    </tr>\n",
       "    <tr>\n",
       "      <th>Strategic developments</th>\n",
       "      <td>0</td>\n",
       "    </tr>\n",
       "    <tr>\n",
       "      <th>Violence against civilians</th>\n",
       "      <td>1</td>\n",
       "    </tr>\n",
       "  </tbody>\n",
       "</table>\n",
       "</div>"
      ],
      "text/plain": [
       "                            fatalities\n",
       "event_type                            \n",
       "Protests                             0\n",
       "Riots                                0\n",
       "Strategic developments               0\n",
       "Violence against civilians           1"
      ]
     },
     "execution_count": 13,
     "metadata": {},
     "output_type": "execute_result"
    },
    {
     "name": "stdout",
     "output_type": "stream",
     "text": [
      "South Korea 2021\n"
     ]
    },
    {
     "data": {
      "text/html": [
       "<div>\n",
       "<style scoped>\n",
       "    .dataframe tbody tr th:only-of-type {\n",
       "        vertical-align: middle;\n",
       "    }\n",
       "\n",
       "    .dataframe tbody tr th {\n",
       "        vertical-align: top;\n",
       "    }\n",
       "\n",
       "    .dataframe thead th {\n",
       "        text-align: right;\n",
       "    }\n",
       "</style>\n",
       "<table border=\"1\" class=\"dataframe\">\n",
       "  <thead>\n",
       "    <tr style=\"text-align: right;\">\n",
       "      <th></th>\n",
       "      <th>fatalities</th>\n",
       "    </tr>\n",
       "    <tr>\n",
       "      <th>event_type</th>\n",
       "      <th></th>\n",
       "    </tr>\n",
       "  </thead>\n",
       "  <tbody>\n",
       "    <tr>\n",
       "      <th>Protests</th>\n",
       "      <td>0</td>\n",
       "    </tr>\n",
       "    <tr>\n",
       "      <th>Riots</th>\n",
       "      <td>0</td>\n",
       "    </tr>\n",
       "    <tr>\n",
       "      <th>Strategic developments</th>\n",
       "      <td>0</td>\n",
       "    </tr>\n",
       "  </tbody>\n",
       "</table>\n",
       "</div>"
      ],
      "text/plain": [
       "                        fatalities\n",
       "event_type                        \n",
       "Protests                         0\n",
       "Riots                            0\n",
       "Strategic developments           0"
      ]
     },
     "execution_count": 13,
     "metadata": {},
     "output_type": "execute_result"
    },
    {
     "name": "stdout",
     "output_type": "stream",
     "text": [
      "Japan 2021\n"
     ]
    },
    {
     "data": {
      "text/html": [
       "<div>\n",
       "<style scoped>\n",
       "    .dataframe tbody tr th:only-of-type {\n",
       "        vertical-align: middle;\n",
       "    }\n",
       "\n",
       "    .dataframe tbody tr th {\n",
       "        vertical-align: top;\n",
       "    }\n",
       "\n",
       "    .dataframe thead th {\n",
       "        text-align: right;\n",
       "    }\n",
       "</style>\n",
       "<table border=\"1\" class=\"dataframe\">\n",
       "  <thead>\n",
       "    <tr style=\"text-align: right;\">\n",
       "      <th></th>\n",
       "      <th>fatalities</th>\n",
       "    </tr>\n",
       "    <tr>\n",
       "      <th>event_type</th>\n",
       "      <th></th>\n",
       "    </tr>\n",
       "  </thead>\n",
       "  <tbody>\n",
       "    <tr>\n",
       "      <th>Protests</th>\n",
       "      <td>0</td>\n",
       "    </tr>\n",
       "    <tr>\n",
       "      <th>Strategic developments</th>\n",
       "      <td>0</td>\n",
       "    </tr>\n",
       "  </tbody>\n",
       "</table>\n",
       "</div>"
      ],
      "text/plain": [
       "                        fatalities\n",
       "event_type                        \n",
       "Protests                         0\n",
       "Strategic developments           0"
      ]
     },
     "execution_count": 13,
     "metadata": {},
     "output_type": "execute_result"
    },
    {
     "name": "stdout",
     "output_type": "stream",
     "text": [
      "Taiwan 2021\n"
     ]
    },
    {
     "data": {
      "text/html": [
       "<div>\n",
       "<style scoped>\n",
       "    .dataframe tbody tr th:only-of-type {\n",
       "        vertical-align: middle;\n",
       "    }\n",
       "\n",
       "    .dataframe tbody tr th {\n",
       "        vertical-align: top;\n",
       "    }\n",
       "\n",
       "    .dataframe thead th {\n",
       "        text-align: right;\n",
       "    }\n",
       "</style>\n",
       "<table border=\"1\" class=\"dataframe\">\n",
       "  <thead>\n",
       "    <tr style=\"text-align: right;\">\n",
       "      <th></th>\n",
       "      <th>fatalities</th>\n",
       "    </tr>\n",
       "    <tr>\n",
       "      <th>event_type</th>\n",
       "      <th></th>\n",
       "    </tr>\n",
       "  </thead>\n",
       "  <tbody>\n",
       "    <tr>\n",
       "      <th>Protests</th>\n",
       "      <td>0</td>\n",
       "    </tr>\n",
       "    <tr>\n",
       "      <th>Riots</th>\n",
       "      <td>0</td>\n",
       "    </tr>\n",
       "    <tr>\n",
       "      <th>Strategic developments</th>\n",
       "      <td>0</td>\n",
       "    </tr>\n",
       "    <tr>\n",
       "      <th>Violence against civilians</th>\n",
       "      <td>0</td>\n",
       "    </tr>\n",
       "  </tbody>\n",
       "</table>\n",
       "</div>"
      ],
      "text/plain": [
       "                            fatalities\n",
       "event_type                            \n",
       "Protests                             0\n",
       "Riots                                0\n",
       "Strategic developments               0\n",
       "Violence against civilians           0"
      ]
     },
     "execution_count": 13,
     "metadata": {},
     "output_type": "execute_result"
    },
    {
     "name": "stdout",
     "output_type": "stream",
     "text": [
      "Mongolia 2021\n"
     ]
    },
    {
     "data": {
      "text/html": [
       "<div>\n",
       "<style scoped>\n",
       "    .dataframe tbody tr th:only-of-type {\n",
       "        vertical-align: middle;\n",
       "    }\n",
       "\n",
       "    .dataframe tbody tr th {\n",
       "        vertical-align: top;\n",
       "    }\n",
       "\n",
       "    .dataframe thead th {\n",
       "        text-align: right;\n",
       "    }\n",
       "</style>\n",
       "<table border=\"1\" class=\"dataframe\">\n",
       "  <thead>\n",
       "    <tr style=\"text-align: right;\">\n",
       "      <th></th>\n",
       "      <th>fatalities</th>\n",
       "    </tr>\n",
       "    <tr>\n",
       "      <th>event_type</th>\n",
       "      <th></th>\n",
       "    </tr>\n",
       "  </thead>\n",
       "  <tbody>\n",
       "    <tr>\n",
       "      <th>Protests</th>\n",
       "      <td>0</td>\n",
       "    </tr>\n",
       "    <tr>\n",
       "      <th>Riots</th>\n",
       "      <td>0</td>\n",
       "    </tr>\n",
       "    <tr>\n",
       "      <th>Strategic developments</th>\n",
       "      <td>0</td>\n",
       "    </tr>\n",
       "    <tr>\n",
       "      <th>Violence against civilians</th>\n",
       "      <td>0</td>\n",
       "    </tr>\n",
       "  </tbody>\n",
       "</table>\n",
       "</div>"
      ],
      "text/plain": [
       "                            fatalities\n",
       "event_type                            \n",
       "Protests                             0\n",
       "Riots                                0\n",
       "Strategic developments               0\n",
       "Violence against civilians           0"
      ]
     },
     "execution_count": 13,
     "metadata": {},
     "output_type": "execute_result"
    },
    {
     "name": "stdout",
     "output_type": "stream",
     "text": [
      "North Korea 2021\n"
     ]
    },
    {
     "data": {
      "text/html": [
       "<div>\n",
       "<style scoped>\n",
       "    .dataframe tbody tr th:only-of-type {\n",
       "        vertical-align: middle;\n",
       "    }\n",
       "\n",
       "    .dataframe tbody tr th {\n",
       "        vertical-align: top;\n",
       "    }\n",
       "\n",
       "    .dataframe thead th {\n",
       "        text-align: right;\n",
       "    }\n",
       "</style>\n",
       "<table border=\"1\" class=\"dataframe\">\n",
       "  <thead>\n",
       "    <tr style=\"text-align: right;\">\n",
       "      <th></th>\n",
       "      <th>fatalities</th>\n",
       "    </tr>\n",
       "    <tr>\n",
       "      <th>event_type</th>\n",
       "      <th></th>\n",
       "    </tr>\n",
       "  </thead>\n",
       "  <tbody>\n",
       "    <tr>\n",
       "      <th>Protests</th>\n",
       "      <td>0</td>\n",
       "    </tr>\n",
       "    <tr>\n",
       "      <th>Riots</th>\n",
       "      <td>0</td>\n",
       "    </tr>\n",
       "    <tr>\n",
       "      <th>Strategic developments</th>\n",
       "      <td>18</td>\n",
       "    </tr>\n",
       "    <tr>\n",
       "      <th>Violence against civilians</th>\n",
       "      <td>14</td>\n",
       "    </tr>\n",
       "  </tbody>\n",
       "</table>\n",
       "</div>"
      ],
      "text/plain": [
       "                            fatalities\n",
       "event_type                            \n",
       "Protests                             0\n",
       "Riots                                0\n",
       "Strategic developments              18\n",
       "Violence against civilians          14"
      ]
     },
     "execution_count": 13,
     "metadata": {},
     "output_type": "execute_result"
    },
    {
     "name": "stdout",
     "output_type": "stream",
     "text": [
      "China 2021\n"
     ]
    },
    {
     "data": {
      "text/html": [
       "<div>\n",
       "<style scoped>\n",
       "    .dataframe tbody tr th:only-of-type {\n",
       "        vertical-align: middle;\n",
       "    }\n",
       "\n",
       "    .dataframe tbody tr th {\n",
       "        vertical-align: top;\n",
       "    }\n",
       "\n",
       "    .dataframe thead th {\n",
       "        text-align: right;\n",
       "    }\n",
       "</style>\n",
       "<table border=\"1\" class=\"dataframe\">\n",
       "  <thead>\n",
       "    <tr style=\"text-align: right;\">\n",
       "      <th></th>\n",
       "      <th>fatalities</th>\n",
       "    </tr>\n",
       "    <tr>\n",
       "      <th>event_type</th>\n",
       "      <th></th>\n",
       "    </tr>\n",
       "  </thead>\n",
       "  <tbody>\n",
       "    <tr>\n",
       "      <th>Battles</th>\n",
       "      <td>1</td>\n",
       "    </tr>\n",
       "    <tr>\n",
       "      <th>Explosions/Remote violence</th>\n",
       "      <td>5</td>\n",
       "    </tr>\n",
       "    <tr>\n",
       "      <th>Protests</th>\n",
       "      <td>0</td>\n",
       "    </tr>\n",
       "    <tr>\n",
       "      <th>Riots</th>\n",
       "      <td>0</td>\n",
       "    </tr>\n",
       "    <tr>\n",
       "      <th>Strategic developments</th>\n",
       "      <td>0</td>\n",
       "    </tr>\n",
       "    <tr>\n",
       "      <th>Violence against civilians</th>\n",
       "      <td>6</td>\n",
       "    </tr>\n",
       "  </tbody>\n",
       "</table>\n",
       "</div>"
      ],
      "text/plain": [
       "                            fatalities\n",
       "event_type                            \n",
       "Battles                              1\n",
       "Explosions/Remote violence           5\n",
       "Protests                             0\n",
       "Riots                                0\n",
       "Strategic developments               0\n",
       "Violence against civilians           6"
      ]
     },
     "execution_count": 13,
     "metadata": {},
     "output_type": "execute_result"
    },
    {
     "name": "stdout",
     "output_type": "stream",
     "text": [
      "South Korea 2020\n"
     ]
    },
    {
     "data": {
      "text/html": [
       "<div>\n",
       "<style scoped>\n",
       "    .dataframe tbody tr th:only-of-type {\n",
       "        vertical-align: middle;\n",
       "    }\n",
       "\n",
       "    .dataframe tbody tr th {\n",
       "        vertical-align: top;\n",
       "    }\n",
       "\n",
       "    .dataframe thead th {\n",
       "        text-align: right;\n",
       "    }\n",
       "</style>\n",
       "<table border=\"1\" class=\"dataframe\">\n",
       "  <thead>\n",
       "    <tr style=\"text-align: right;\">\n",
       "      <th></th>\n",
       "      <th>fatalities</th>\n",
       "    </tr>\n",
       "    <tr>\n",
       "      <th>event_type</th>\n",
       "      <th></th>\n",
       "    </tr>\n",
       "  </thead>\n",
       "  <tbody>\n",
       "    <tr>\n",
       "      <th>Battles</th>\n",
       "      <td>0</td>\n",
       "    </tr>\n",
       "    <tr>\n",
       "      <th>Protests</th>\n",
       "      <td>0</td>\n",
       "    </tr>\n",
       "    <tr>\n",
       "      <th>Riots</th>\n",
       "      <td>0</td>\n",
       "    </tr>\n",
       "    <tr>\n",
       "      <th>Strategic developments</th>\n",
       "      <td>0</td>\n",
       "    </tr>\n",
       "    <tr>\n",
       "      <th>Violence against civilians</th>\n",
       "      <td>0</td>\n",
       "    </tr>\n",
       "  </tbody>\n",
       "</table>\n",
       "</div>"
      ],
      "text/plain": [
       "                            fatalities\n",
       "event_type                            \n",
       "Battles                              0\n",
       "Protests                             0\n",
       "Riots                                0\n",
       "Strategic developments               0\n",
       "Violence against civilians           0"
      ]
     },
     "execution_count": 13,
     "metadata": {},
     "output_type": "execute_result"
    },
    {
     "name": "stdout",
     "output_type": "stream",
     "text": [
      "Japan 2020\n"
     ]
    },
    {
     "data": {
      "text/html": [
       "<div>\n",
       "<style scoped>\n",
       "    .dataframe tbody tr th:only-of-type {\n",
       "        vertical-align: middle;\n",
       "    }\n",
       "\n",
       "    .dataframe tbody tr th {\n",
       "        vertical-align: top;\n",
       "    }\n",
       "\n",
       "    .dataframe thead th {\n",
       "        text-align: right;\n",
       "    }\n",
       "</style>\n",
       "<table border=\"1\" class=\"dataframe\">\n",
       "  <thead>\n",
       "    <tr style=\"text-align: right;\">\n",
       "      <th></th>\n",
       "      <th>fatalities</th>\n",
       "    </tr>\n",
       "    <tr>\n",
       "      <th>event_type</th>\n",
       "      <th></th>\n",
       "    </tr>\n",
       "  </thead>\n",
       "  <tbody>\n",
       "    <tr>\n",
       "      <th>Protests</th>\n",
       "      <td>0</td>\n",
       "    </tr>\n",
       "    <tr>\n",
       "      <th>Strategic developments</th>\n",
       "      <td>0</td>\n",
       "    </tr>\n",
       "  </tbody>\n",
       "</table>\n",
       "</div>"
      ],
      "text/plain": [
       "                        fatalities\n",
       "event_type                        \n",
       "Protests                         0\n",
       "Strategic developments           0"
      ]
     },
     "execution_count": 13,
     "metadata": {},
     "output_type": "execute_result"
    },
    {
     "name": "stdout",
     "output_type": "stream",
     "text": [
      "Taiwan 2020\n"
     ]
    },
    {
     "data": {
      "text/html": [
       "<div>\n",
       "<style scoped>\n",
       "    .dataframe tbody tr th:only-of-type {\n",
       "        vertical-align: middle;\n",
       "    }\n",
       "\n",
       "    .dataframe tbody tr th {\n",
       "        vertical-align: top;\n",
       "    }\n",
       "\n",
       "    .dataframe thead th {\n",
       "        text-align: right;\n",
       "    }\n",
       "</style>\n",
       "<table border=\"1\" class=\"dataframe\">\n",
       "  <thead>\n",
       "    <tr style=\"text-align: right;\">\n",
       "      <th></th>\n",
       "      <th>fatalities</th>\n",
       "    </tr>\n",
       "    <tr>\n",
       "      <th>event_type</th>\n",
       "      <th></th>\n",
       "    </tr>\n",
       "  </thead>\n",
       "  <tbody>\n",
       "    <tr>\n",
       "      <th>Protests</th>\n",
       "      <td>0</td>\n",
       "    </tr>\n",
       "    <tr>\n",
       "      <th>Riots</th>\n",
       "      <td>0</td>\n",
       "    </tr>\n",
       "    <tr>\n",
       "      <th>Strategic developments</th>\n",
       "      <td>0</td>\n",
       "    </tr>\n",
       "  </tbody>\n",
       "</table>\n",
       "</div>"
      ],
      "text/plain": [
       "                        fatalities\n",
       "event_type                        \n",
       "Protests                         0\n",
       "Riots                            0\n",
       "Strategic developments           0"
      ]
     },
     "execution_count": 13,
     "metadata": {},
     "output_type": "execute_result"
    },
    {
     "name": "stdout",
     "output_type": "stream",
     "text": [
      "Mongolia 2020\n"
     ]
    },
    {
     "data": {
      "text/html": [
       "<div>\n",
       "<style scoped>\n",
       "    .dataframe tbody tr th:only-of-type {\n",
       "        vertical-align: middle;\n",
       "    }\n",
       "\n",
       "    .dataframe tbody tr th {\n",
       "        vertical-align: top;\n",
       "    }\n",
       "\n",
       "    .dataframe thead th {\n",
       "        text-align: right;\n",
       "    }\n",
       "</style>\n",
       "<table border=\"1\" class=\"dataframe\">\n",
       "  <thead>\n",
       "    <tr style=\"text-align: right;\">\n",
       "      <th></th>\n",
       "      <th>fatalities</th>\n",
       "    </tr>\n",
       "    <tr>\n",
       "      <th>event_type</th>\n",
       "      <th></th>\n",
       "    </tr>\n",
       "  </thead>\n",
       "  <tbody>\n",
       "    <tr>\n",
       "      <th>Protests</th>\n",
       "      <td>0</td>\n",
       "    </tr>\n",
       "    <tr>\n",
       "      <th>Riots</th>\n",
       "      <td>0</td>\n",
       "    </tr>\n",
       "    <tr>\n",
       "      <th>Strategic developments</th>\n",
       "      <td>0</td>\n",
       "    </tr>\n",
       "  </tbody>\n",
       "</table>\n",
       "</div>"
      ],
      "text/plain": [
       "                        fatalities\n",
       "event_type                        \n",
       "Protests                         0\n",
       "Riots                            0\n",
       "Strategic developments           0"
      ]
     },
     "execution_count": 13,
     "metadata": {},
     "output_type": "execute_result"
    },
    {
     "name": "stdout",
     "output_type": "stream",
     "text": [
      "North Korea 2020\n"
     ]
    },
    {
     "data": {
      "text/html": [
       "<div>\n",
       "<style scoped>\n",
       "    .dataframe tbody tr th:only-of-type {\n",
       "        vertical-align: middle;\n",
       "    }\n",
       "\n",
       "    .dataframe tbody tr th {\n",
       "        vertical-align: top;\n",
       "    }\n",
       "\n",
       "    .dataframe thead th {\n",
       "        text-align: right;\n",
       "    }\n",
       "</style>\n",
       "<table border=\"1\" class=\"dataframe\">\n",
       "  <thead>\n",
       "    <tr style=\"text-align: right;\">\n",
       "      <th></th>\n",
       "      <th>fatalities</th>\n",
       "    </tr>\n",
       "    <tr>\n",
       "      <th>event_type</th>\n",
       "      <th></th>\n",
       "    </tr>\n",
       "  </thead>\n",
       "  <tbody>\n",
       "    <tr>\n",
       "      <th>Explosions/Remote violence</th>\n",
       "      <td>0</td>\n",
       "    </tr>\n",
       "    <tr>\n",
       "      <th>Protests</th>\n",
       "      <td>0</td>\n",
       "    </tr>\n",
       "    <tr>\n",
       "      <th>Strategic developments</th>\n",
       "      <td>7</td>\n",
       "    </tr>\n",
       "    <tr>\n",
       "      <th>Violence against civilians</th>\n",
       "      <td>1</td>\n",
       "    </tr>\n",
       "  </tbody>\n",
       "</table>\n",
       "</div>"
      ],
      "text/plain": [
       "                            fatalities\n",
       "event_type                            \n",
       "Explosions/Remote violence           0\n",
       "Protests                             0\n",
       "Strategic developments               7\n",
       "Violence against civilians           1"
      ]
     },
     "execution_count": 13,
     "metadata": {},
     "output_type": "execute_result"
    },
    {
     "name": "stdout",
     "output_type": "stream",
     "text": [
      "China 2020\n"
     ]
    },
    {
     "data": {
      "text/html": [
       "<div>\n",
       "<style scoped>\n",
       "    .dataframe tbody tr th:only-of-type {\n",
       "        vertical-align: middle;\n",
       "    }\n",
       "\n",
       "    .dataframe tbody tr th {\n",
       "        vertical-align: top;\n",
       "    }\n",
       "\n",
       "    .dataframe thead th {\n",
       "        text-align: right;\n",
       "    }\n",
       "</style>\n",
       "<table border=\"1\" class=\"dataframe\">\n",
       "  <thead>\n",
       "    <tr style=\"text-align: right;\">\n",
       "      <th></th>\n",
       "      <th>fatalities</th>\n",
       "    </tr>\n",
       "    <tr>\n",
       "      <th>event_type</th>\n",
       "      <th></th>\n",
       "    </tr>\n",
       "  </thead>\n",
       "  <tbody>\n",
       "    <tr>\n",
       "      <th>Explosions/Remote violence</th>\n",
       "      <td>1</td>\n",
       "    </tr>\n",
       "    <tr>\n",
       "      <th>Protests</th>\n",
       "      <td>0</td>\n",
       "    </tr>\n",
       "    <tr>\n",
       "      <th>Riots</th>\n",
       "      <td>0</td>\n",
       "    </tr>\n",
       "    <tr>\n",
       "      <th>Strategic developments</th>\n",
       "      <td>0</td>\n",
       "    </tr>\n",
       "    <tr>\n",
       "      <th>Violence against civilians</th>\n",
       "      <td>8</td>\n",
       "    </tr>\n",
       "  </tbody>\n",
       "</table>\n",
       "</div>"
      ],
      "text/plain": [
       "                            fatalities\n",
       "event_type                            \n",
       "Explosions/Remote violence           1\n",
       "Protests                             0\n",
       "Riots                                0\n",
       "Strategic developments               0\n",
       "Violence against civilians           8"
      ]
     },
     "execution_count": 13,
     "metadata": {},
     "output_type": "execute_result"
    },
    {
     "name": "stdout",
     "output_type": "stream",
     "text": [
      "South Korea 2019\n"
     ]
    },
    {
     "data": {
      "text/html": [
       "<div>\n",
       "<style scoped>\n",
       "    .dataframe tbody tr th:only-of-type {\n",
       "        vertical-align: middle;\n",
       "    }\n",
       "\n",
       "    .dataframe tbody tr th {\n",
       "        vertical-align: top;\n",
       "    }\n",
       "\n",
       "    .dataframe thead th {\n",
       "        text-align: right;\n",
       "    }\n",
       "</style>\n",
       "<table border=\"1\" class=\"dataframe\">\n",
       "  <thead>\n",
       "    <tr style=\"text-align: right;\">\n",
       "      <th></th>\n",
       "      <th>fatalities</th>\n",
       "    </tr>\n",
       "    <tr>\n",
       "      <th>event_type</th>\n",
       "      <th></th>\n",
       "    </tr>\n",
       "  </thead>\n",
       "  <tbody>\n",
       "    <tr>\n",
       "      <th>Protests</th>\n",
       "      <td>0</td>\n",
       "    </tr>\n",
       "    <tr>\n",
       "      <th>Riots</th>\n",
       "      <td>0</td>\n",
       "    </tr>\n",
       "    <tr>\n",
       "      <th>Strategic developments</th>\n",
       "      <td>0</td>\n",
       "    </tr>\n",
       "  </tbody>\n",
       "</table>\n",
       "</div>"
      ],
      "text/plain": [
       "                        fatalities\n",
       "event_type                        \n",
       "Protests                         0\n",
       "Riots                            0\n",
       "Strategic developments           0"
      ]
     },
     "execution_count": 13,
     "metadata": {},
     "output_type": "execute_result"
    },
    {
     "name": "stdout",
     "output_type": "stream",
     "text": [
      "Japan 2019\n"
     ]
    },
    {
     "data": {
      "text/html": [
       "<div>\n",
       "<style scoped>\n",
       "    .dataframe tbody tr th:only-of-type {\n",
       "        vertical-align: middle;\n",
       "    }\n",
       "\n",
       "    .dataframe tbody tr th {\n",
       "        vertical-align: top;\n",
       "    }\n",
       "\n",
       "    .dataframe thead th {\n",
       "        text-align: right;\n",
       "    }\n",
       "</style>\n",
       "<table border=\"1\" class=\"dataframe\">\n",
       "  <thead>\n",
       "    <tr style=\"text-align: right;\">\n",
       "      <th></th>\n",
       "      <th>fatalities</th>\n",
       "    </tr>\n",
       "    <tr>\n",
       "      <th>event_type</th>\n",
       "      <th></th>\n",
       "    </tr>\n",
       "  </thead>\n",
       "  <tbody>\n",
       "    <tr>\n",
       "      <th>Protests</th>\n",
       "      <td>0</td>\n",
       "    </tr>\n",
       "    <tr>\n",
       "      <th>Riots</th>\n",
       "      <td>0</td>\n",
       "    </tr>\n",
       "    <tr>\n",
       "      <th>Strategic developments</th>\n",
       "      <td>0</td>\n",
       "    </tr>\n",
       "    <tr>\n",
       "      <th>Violence against civilians</th>\n",
       "      <td>0</td>\n",
       "    </tr>\n",
       "  </tbody>\n",
       "</table>\n",
       "</div>"
      ],
      "text/plain": [
       "                            fatalities\n",
       "event_type                            \n",
       "Protests                             0\n",
       "Riots                                0\n",
       "Strategic developments               0\n",
       "Violence against civilians           0"
      ]
     },
     "execution_count": 13,
     "metadata": {},
     "output_type": "execute_result"
    },
    {
     "name": "stdout",
     "output_type": "stream",
     "text": [
      "Taiwan 2019\n"
     ]
    },
    {
     "data": {
      "text/html": [
       "<div>\n",
       "<style scoped>\n",
       "    .dataframe tbody tr th:only-of-type {\n",
       "        vertical-align: middle;\n",
       "    }\n",
       "\n",
       "    .dataframe tbody tr th {\n",
       "        vertical-align: top;\n",
       "    }\n",
       "\n",
       "    .dataframe thead th {\n",
       "        text-align: right;\n",
       "    }\n",
       "</style>\n",
       "<table border=\"1\" class=\"dataframe\">\n",
       "  <thead>\n",
       "    <tr style=\"text-align: right;\">\n",
       "      <th></th>\n",
       "      <th>fatalities</th>\n",
       "    </tr>\n",
       "    <tr>\n",
       "      <th>event_type</th>\n",
       "      <th></th>\n",
       "    </tr>\n",
       "  </thead>\n",
       "  <tbody>\n",
       "    <tr>\n",
       "      <th>Protests</th>\n",
       "      <td>0</td>\n",
       "    </tr>\n",
       "    <tr>\n",
       "      <th>Riots</th>\n",
       "      <td>0</td>\n",
       "    </tr>\n",
       "    <tr>\n",
       "      <th>Strategic developments</th>\n",
       "      <td>0</td>\n",
       "    </tr>\n",
       "    <tr>\n",
       "      <th>Violence against civilians</th>\n",
       "      <td>0</td>\n",
       "    </tr>\n",
       "  </tbody>\n",
       "</table>\n",
       "</div>"
      ],
      "text/plain": [
       "                            fatalities\n",
       "event_type                            \n",
       "Protests                             0\n",
       "Riots                                0\n",
       "Strategic developments               0\n",
       "Violence against civilians           0"
      ]
     },
     "execution_count": 13,
     "metadata": {},
     "output_type": "execute_result"
    },
    {
     "name": "stdout",
     "output_type": "stream",
     "text": [
      "Mongolia 2019\n"
     ]
    },
    {
     "data": {
      "text/html": [
       "<div>\n",
       "<style scoped>\n",
       "    .dataframe tbody tr th:only-of-type {\n",
       "        vertical-align: middle;\n",
       "    }\n",
       "\n",
       "    .dataframe tbody tr th {\n",
       "        vertical-align: top;\n",
       "    }\n",
       "\n",
       "    .dataframe thead th {\n",
       "        text-align: right;\n",
       "    }\n",
       "</style>\n",
       "<table border=\"1\" class=\"dataframe\">\n",
       "  <thead>\n",
       "    <tr style=\"text-align: right;\">\n",
       "      <th></th>\n",
       "      <th>fatalities</th>\n",
       "    </tr>\n",
       "    <tr>\n",
       "      <th>event_type</th>\n",
       "      <th></th>\n",
       "    </tr>\n",
       "  </thead>\n",
       "  <tbody>\n",
       "    <tr>\n",
       "      <th>Protests</th>\n",
       "      <td>0</td>\n",
       "    </tr>\n",
       "    <tr>\n",
       "      <th>Riots</th>\n",
       "      <td>0</td>\n",
       "    </tr>\n",
       "    <tr>\n",
       "      <th>Strategic developments</th>\n",
       "      <td>0</td>\n",
       "    </tr>\n",
       "  </tbody>\n",
       "</table>\n",
       "</div>"
      ],
      "text/plain": [
       "                        fatalities\n",
       "event_type                        \n",
       "Protests                         0\n",
       "Riots                            0\n",
       "Strategic developments           0"
      ]
     },
     "execution_count": 13,
     "metadata": {},
     "output_type": "execute_result"
    },
    {
     "name": "stdout",
     "output_type": "stream",
     "text": [
      "North Korea 2019\n"
     ]
    },
    {
     "data": {
      "text/html": [
       "<div>\n",
       "<style scoped>\n",
       "    .dataframe tbody tr th:only-of-type {\n",
       "        vertical-align: middle;\n",
       "    }\n",
       "\n",
       "    .dataframe tbody tr th {\n",
       "        vertical-align: top;\n",
       "    }\n",
       "\n",
       "    .dataframe thead th {\n",
       "        text-align: right;\n",
       "    }\n",
       "</style>\n",
       "<table border=\"1\" class=\"dataframe\">\n",
       "  <thead>\n",
       "    <tr style=\"text-align: right;\">\n",
       "      <th></th>\n",
       "      <th>fatalities</th>\n",
       "    </tr>\n",
       "    <tr>\n",
       "      <th>event_type</th>\n",
       "      <th></th>\n",
       "    </tr>\n",
       "  </thead>\n",
       "  <tbody>\n",
       "    <tr>\n",
       "      <th>Riots</th>\n",
       "      <td>1</td>\n",
       "    </tr>\n",
       "    <tr>\n",
       "      <th>Strategic developments</th>\n",
       "      <td>0</td>\n",
       "    </tr>\n",
       "    <tr>\n",
       "      <th>Violence against civilians</th>\n",
       "      <td>9</td>\n",
       "    </tr>\n",
       "  </tbody>\n",
       "</table>\n",
       "</div>"
      ],
      "text/plain": [
       "                            fatalities\n",
       "event_type                            \n",
       "Riots                                1\n",
       "Strategic developments               0\n",
       "Violence against civilians           9"
      ]
     },
     "execution_count": 13,
     "metadata": {},
     "output_type": "execute_result"
    },
    {
     "name": "stdout",
     "output_type": "stream",
     "text": [
      "China 2019\n"
     ]
    },
    {
     "data": {
      "text/html": [
       "<div>\n",
       "<style scoped>\n",
       "    .dataframe tbody tr th:only-of-type {\n",
       "        vertical-align: middle;\n",
       "    }\n",
       "\n",
       "    .dataframe tbody tr th {\n",
       "        vertical-align: top;\n",
       "    }\n",
       "\n",
       "    .dataframe thead th {\n",
       "        text-align: right;\n",
       "    }\n",
       "</style>\n",
       "<table border=\"1\" class=\"dataframe\">\n",
       "  <thead>\n",
       "    <tr style=\"text-align: right;\">\n",
       "      <th></th>\n",
       "      <th>fatalities</th>\n",
       "    </tr>\n",
       "    <tr>\n",
       "      <th>event_type</th>\n",
       "      <th></th>\n",
       "    </tr>\n",
       "  </thead>\n",
       "  <tbody>\n",
       "    <tr>\n",
       "      <th>Battles</th>\n",
       "      <td>0</td>\n",
       "    </tr>\n",
       "    <tr>\n",
       "      <th>Explosions/Remote violence</th>\n",
       "      <td>1</td>\n",
       "    </tr>\n",
       "    <tr>\n",
       "      <th>Protests</th>\n",
       "      <td>0</td>\n",
       "    </tr>\n",
       "    <tr>\n",
       "      <th>Riots</th>\n",
       "      <td>1</td>\n",
       "    </tr>\n",
       "    <tr>\n",
       "      <th>Strategic developments</th>\n",
       "      <td>0</td>\n",
       "    </tr>\n",
       "    <tr>\n",
       "      <th>Violence against civilians</th>\n",
       "      <td>10</td>\n",
       "    </tr>\n",
       "  </tbody>\n",
       "</table>\n",
       "</div>"
      ],
      "text/plain": [
       "                            fatalities\n",
       "event_type                            \n",
       "Battles                              0\n",
       "Explosions/Remote violence           1\n",
       "Protests                             0\n",
       "Riots                                1\n",
       "Strategic developments               0\n",
       "Violence against civilians          10"
      ]
     },
     "execution_count": 13,
     "metadata": {},
     "output_type": "execute_result"
    },
    {
     "name": "stdout",
     "output_type": "stream",
     "text": [
      "South Korea 2018\n"
     ]
    },
    {
     "data": {
      "text/html": [
       "<div>\n",
       "<style scoped>\n",
       "    .dataframe tbody tr th:only-of-type {\n",
       "        vertical-align: middle;\n",
       "    }\n",
       "\n",
       "    .dataframe tbody tr th {\n",
       "        vertical-align: top;\n",
       "    }\n",
       "\n",
       "    .dataframe thead th {\n",
       "        text-align: right;\n",
       "    }\n",
       "</style>\n",
       "<table border=\"1\" class=\"dataframe\">\n",
       "  <thead>\n",
       "    <tr style=\"text-align: right;\">\n",
       "      <th></th>\n",
       "      <th>fatalities</th>\n",
       "    </tr>\n",
       "    <tr>\n",
       "      <th>event_type</th>\n",
       "      <th></th>\n",
       "    </tr>\n",
       "  </thead>\n",
       "  <tbody>\n",
       "    <tr>\n",
       "      <th>Protests</th>\n",
       "      <td>0</td>\n",
       "    </tr>\n",
       "    <tr>\n",
       "      <th>Riots</th>\n",
       "      <td>0</td>\n",
       "    </tr>\n",
       "    <tr>\n",
       "      <th>Strategic developments</th>\n",
       "      <td>0</td>\n",
       "    </tr>\n",
       "  </tbody>\n",
       "</table>\n",
       "</div>"
      ],
      "text/plain": [
       "                        fatalities\n",
       "event_type                        \n",
       "Protests                         0\n",
       "Riots                            0\n",
       "Strategic developments           0"
      ]
     },
     "execution_count": 13,
     "metadata": {},
     "output_type": "execute_result"
    },
    {
     "name": "stdout",
     "output_type": "stream",
     "text": [
      "Japan 2018\n"
     ]
    },
    {
     "data": {
      "text/html": [
       "<div>\n",
       "<style scoped>\n",
       "    .dataframe tbody tr th:only-of-type {\n",
       "        vertical-align: middle;\n",
       "    }\n",
       "\n",
       "    .dataframe tbody tr th {\n",
       "        vertical-align: top;\n",
       "    }\n",
       "\n",
       "    .dataframe thead th {\n",
       "        text-align: right;\n",
       "    }\n",
       "</style>\n",
       "<table border=\"1\" class=\"dataframe\">\n",
       "  <thead>\n",
       "    <tr style=\"text-align: right;\">\n",
       "      <th></th>\n",
       "      <th>fatalities</th>\n",
       "    </tr>\n",
       "    <tr>\n",
       "      <th>event_type</th>\n",
       "      <th></th>\n",
       "    </tr>\n",
       "  </thead>\n",
       "  <tbody>\n",
       "    <tr>\n",
       "      <th>Protests</th>\n",
       "      <td>0</td>\n",
       "    </tr>\n",
       "    <tr>\n",
       "      <th>Riots</th>\n",
       "      <td>0</td>\n",
       "    </tr>\n",
       "    <tr>\n",
       "      <th>Strategic developments</th>\n",
       "      <td>0</td>\n",
       "    </tr>\n",
       "  </tbody>\n",
       "</table>\n",
       "</div>"
      ],
      "text/plain": [
       "                        fatalities\n",
       "event_type                        \n",
       "Protests                         0\n",
       "Riots                            0\n",
       "Strategic developments           0"
      ]
     },
     "execution_count": 13,
     "metadata": {},
     "output_type": "execute_result"
    },
    {
     "name": "stdout",
     "output_type": "stream",
     "text": [
      "Taiwan 2018\n"
     ]
    },
    {
     "data": {
      "text/html": [
       "<div>\n",
       "<style scoped>\n",
       "    .dataframe tbody tr th:only-of-type {\n",
       "        vertical-align: middle;\n",
       "    }\n",
       "\n",
       "    .dataframe tbody tr th {\n",
       "        vertical-align: top;\n",
       "    }\n",
       "\n",
       "    .dataframe thead th {\n",
       "        text-align: right;\n",
       "    }\n",
       "</style>\n",
       "<table border=\"1\" class=\"dataframe\">\n",
       "  <thead>\n",
       "    <tr style=\"text-align: right;\">\n",
       "      <th></th>\n",
       "      <th>fatalities</th>\n",
       "    </tr>\n",
       "    <tr>\n",
       "      <th>event_type</th>\n",
       "      <th></th>\n",
       "    </tr>\n",
       "  </thead>\n",
       "  <tbody>\n",
       "    <tr>\n",
       "      <th>Protests</th>\n",
       "      <td>0</td>\n",
       "    </tr>\n",
       "    <tr>\n",
       "      <th>Riots</th>\n",
       "      <td>0</td>\n",
       "    </tr>\n",
       "    <tr>\n",
       "      <th>Strategic developments</th>\n",
       "      <td>0</td>\n",
       "    </tr>\n",
       "  </tbody>\n",
       "</table>\n",
       "</div>"
      ],
      "text/plain": [
       "                        fatalities\n",
       "event_type                        \n",
       "Protests                         0\n",
       "Riots                            0\n",
       "Strategic developments           0"
      ]
     },
     "execution_count": 13,
     "metadata": {},
     "output_type": "execute_result"
    },
    {
     "name": "stdout",
     "output_type": "stream",
     "text": [
      "Mongolia 2018\n"
     ]
    },
    {
     "data": {
      "text/html": [
       "<div>\n",
       "<style scoped>\n",
       "    .dataframe tbody tr th:only-of-type {\n",
       "        vertical-align: middle;\n",
       "    }\n",
       "\n",
       "    .dataframe tbody tr th {\n",
       "        vertical-align: top;\n",
       "    }\n",
       "\n",
       "    .dataframe thead th {\n",
       "        text-align: right;\n",
       "    }\n",
       "</style>\n",
       "<table border=\"1\" class=\"dataframe\">\n",
       "  <thead>\n",
       "    <tr style=\"text-align: right;\">\n",
       "      <th></th>\n",
       "      <th>fatalities</th>\n",
       "    </tr>\n",
       "    <tr>\n",
       "      <th>event_type</th>\n",
       "      <th></th>\n",
       "    </tr>\n",
       "  </thead>\n",
       "  <tbody>\n",
       "    <tr>\n",
       "      <th>Protests</th>\n",
       "      <td>0</td>\n",
       "    </tr>\n",
       "    <tr>\n",
       "      <th>Strategic developments</th>\n",
       "      <td>0</td>\n",
       "    </tr>\n",
       "    <tr>\n",
       "      <th>Violence against civilians</th>\n",
       "      <td>1</td>\n",
       "    </tr>\n",
       "  </tbody>\n",
       "</table>\n",
       "</div>"
      ],
      "text/plain": [
       "                            fatalities\n",
       "event_type                            \n",
       "Protests                             0\n",
       "Strategic developments               0\n",
       "Violence against civilians           1"
      ]
     },
     "execution_count": 13,
     "metadata": {},
     "output_type": "execute_result"
    },
    {
     "name": "stdout",
     "output_type": "stream",
     "text": [
      "North Korea 2018\n"
     ]
    },
    {
     "data": {
      "text/html": [
       "<div>\n",
       "<style scoped>\n",
       "    .dataframe tbody tr th:only-of-type {\n",
       "        vertical-align: middle;\n",
       "    }\n",
       "\n",
       "    .dataframe tbody tr th {\n",
       "        vertical-align: top;\n",
       "    }\n",
       "\n",
       "    .dataframe thead th {\n",
       "        text-align: right;\n",
       "    }\n",
       "</style>\n",
       "<table border=\"1\" class=\"dataframe\">\n",
       "  <thead>\n",
       "    <tr style=\"text-align: right;\">\n",
       "      <th></th>\n",
       "      <th>fatalities</th>\n",
       "    </tr>\n",
       "    <tr>\n",
       "      <th>event_type</th>\n",
       "      <th></th>\n",
       "    </tr>\n",
       "  </thead>\n",
       "  <tbody>\n",
       "    <tr>\n",
       "      <th>Strategic developments</th>\n",
       "      <td>0</td>\n",
       "    </tr>\n",
       "    <tr>\n",
       "      <th>Violence against civilians</th>\n",
       "      <td>0</td>\n",
       "    </tr>\n",
       "  </tbody>\n",
       "</table>\n",
       "</div>"
      ],
      "text/plain": [
       "                            fatalities\n",
       "event_type                            \n",
       "Strategic developments               0\n",
       "Violence against civilians           0"
      ]
     },
     "execution_count": 13,
     "metadata": {},
     "output_type": "execute_result"
    },
    {
     "name": "stdout",
     "output_type": "stream",
     "text": [
      "China 2018\n"
     ]
    },
    {
     "data": {
      "text/html": [
       "<div>\n",
       "<style scoped>\n",
       "    .dataframe tbody tr th:only-of-type {\n",
       "        vertical-align: middle;\n",
       "    }\n",
       "\n",
       "    .dataframe tbody tr th {\n",
       "        vertical-align: top;\n",
       "    }\n",
       "\n",
       "    .dataframe thead th {\n",
       "        text-align: right;\n",
       "    }\n",
       "</style>\n",
       "<table border=\"1\" class=\"dataframe\">\n",
       "  <thead>\n",
       "    <tr style=\"text-align: right;\">\n",
       "      <th></th>\n",
       "      <th>fatalities</th>\n",
       "    </tr>\n",
       "    <tr>\n",
       "      <th>event_type</th>\n",
       "      <th></th>\n",
       "    </tr>\n",
       "  </thead>\n",
       "  <tbody>\n",
       "    <tr>\n",
       "      <th>Battles</th>\n",
       "      <td>3</td>\n",
       "    </tr>\n",
       "    <tr>\n",
       "      <th>Protests</th>\n",
       "      <td>3</td>\n",
       "    </tr>\n",
       "    <tr>\n",
       "      <th>Riots</th>\n",
       "      <td>5</td>\n",
       "    </tr>\n",
       "    <tr>\n",
       "      <th>Strategic developments</th>\n",
       "      <td>0</td>\n",
       "    </tr>\n",
       "    <tr>\n",
       "      <th>Violence against civilians</th>\n",
       "      <td>30</td>\n",
       "    </tr>\n",
       "  </tbody>\n",
       "</table>\n",
       "</div>"
      ],
      "text/plain": [
       "                            fatalities\n",
       "event_type                            \n",
       "Battles                              3\n",
       "Protests                             3\n",
       "Riots                                5\n",
       "Strategic developments               0\n",
       "Violence against civilians          30"
      ]
     },
     "execution_count": 13,
     "metadata": {},
     "output_type": "execute_result"
    }
   ],
   "source": [
    "for y in east_asia['year'].unique():\n",
    "    temp=east_asia[east_asia['year']==y]\n",
    "    for c in east_asia['country'].unique():\n",
    "        print(c+' '+str(y))\n",
    "        temp[temp['country'].str.contains(c)].groupby('event_type').aggregate({'fatalities':'sum'})\n"
   ]
  },
  {
   "cell_type": "markdown",
   "id": "9c2ebcb1-783d-48dc-93fa-371506b56180",
   "metadata": {},
   "source": [
    "Reversing our nested loop would give us the same countries first, just changing the order of the for-loops."
   ]
  },
  {
   "cell_type": "code",
   "execution_count": 14,
   "id": "2849d1ea-b0a4-43dd-a5a7-37829415c3e7",
   "metadata": {},
   "outputs": [
    {
     "name": "stdout",
     "output_type": "stream",
     "text": [
      "South Korea 2022\n"
     ]
    },
    {
     "data": {
      "text/html": [
       "<div>\n",
       "<style scoped>\n",
       "    .dataframe tbody tr th:only-of-type {\n",
       "        vertical-align: middle;\n",
       "    }\n",
       "\n",
       "    .dataframe tbody tr th {\n",
       "        vertical-align: top;\n",
       "    }\n",
       "\n",
       "    .dataframe thead th {\n",
       "        text-align: right;\n",
       "    }\n",
       "</style>\n",
       "<table border=\"1\" class=\"dataframe\">\n",
       "  <thead>\n",
       "    <tr style=\"text-align: right;\">\n",
       "      <th></th>\n",
       "      <th>fatalities</th>\n",
       "    </tr>\n",
       "    <tr>\n",
       "      <th>event_type</th>\n",
       "      <th></th>\n",
       "    </tr>\n",
       "  </thead>\n",
       "  <tbody>\n",
       "    <tr>\n",
       "      <th>Battles</th>\n",
       "      <td>0</td>\n",
       "    </tr>\n",
       "    <tr>\n",
       "      <th>Protests</th>\n",
       "      <td>0</td>\n",
       "    </tr>\n",
       "    <tr>\n",
       "      <th>Riots</th>\n",
       "      <td>0</td>\n",
       "    </tr>\n",
       "    <tr>\n",
       "      <th>Strategic developments</th>\n",
       "      <td>0</td>\n",
       "    </tr>\n",
       "    <tr>\n",
       "      <th>Violence against civilians</th>\n",
       "      <td>0</td>\n",
       "    </tr>\n",
       "  </tbody>\n",
       "</table>\n",
       "</div>"
      ],
      "text/plain": [
       "                            fatalities\n",
       "event_type                            \n",
       "Battles                              0\n",
       "Protests                             0\n",
       "Riots                                0\n",
       "Strategic developments               0\n",
       "Violence against civilians           0"
      ]
     },
     "execution_count": 14,
     "metadata": {},
     "output_type": "execute_result"
    },
    {
     "name": "stdout",
     "output_type": "stream",
     "text": [
      "South Korea 2021\n"
     ]
    },
    {
     "data": {
      "text/html": [
       "<div>\n",
       "<style scoped>\n",
       "    .dataframe tbody tr th:only-of-type {\n",
       "        vertical-align: middle;\n",
       "    }\n",
       "\n",
       "    .dataframe tbody tr th {\n",
       "        vertical-align: top;\n",
       "    }\n",
       "\n",
       "    .dataframe thead th {\n",
       "        text-align: right;\n",
       "    }\n",
       "</style>\n",
       "<table border=\"1\" class=\"dataframe\">\n",
       "  <thead>\n",
       "    <tr style=\"text-align: right;\">\n",
       "      <th></th>\n",
       "      <th>fatalities</th>\n",
       "    </tr>\n",
       "    <tr>\n",
       "      <th>event_type</th>\n",
       "      <th></th>\n",
       "    </tr>\n",
       "  </thead>\n",
       "  <tbody>\n",
       "    <tr>\n",
       "      <th>Battles</th>\n",
       "      <td>0</td>\n",
       "    </tr>\n",
       "    <tr>\n",
       "      <th>Protests</th>\n",
       "      <td>0</td>\n",
       "    </tr>\n",
       "    <tr>\n",
       "      <th>Riots</th>\n",
       "      <td>0</td>\n",
       "    </tr>\n",
       "    <tr>\n",
       "      <th>Strategic developments</th>\n",
       "      <td>0</td>\n",
       "    </tr>\n",
       "    <tr>\n",
       "      <th>Violence against civilians</th>\n",
       "      <td>0</td>\n",
       "    </tr>\n",
       "  </tbody>\n",
       "</table>\n",
       "</div>"
      ],
      "text/plain": [
       "                            fatalities\n",
       "event_type                            \n",
       "Battles                              0\n",
       "Protests                             0\n",
       "Riots                                0\n",
       "Strategic developments               0\n",
       "Violence against civilians           0"
      ]
     },
     "execution_count": 14,
     "metadata": {},
     "output_type": "execute_result"
    },
    {
     "name": "stdout",
     "output_type": "stream",
     "text": [
      "South Korea 2020\n"
     ]
    },
    {
     "data": {
      "text/html": [
       "<div>\n",
       "<style scoped>\n",
       "    .dataframe tbody tr th:only-of-type {\n",
       "        vertical-align: middle;\n",
       "    }\n",
       "\n",
       "    .dataframe tbody tr th {\n",
       "        vertical-align: top;\n",
       "    }\n",
       "\n",
       "    .dataframe thead th {\n",
       "        text-align: right;\n",
       "    }\n",
       "</style>\n",
       "<table border=\"1\" class=\"dataframe\">\n",
       "  <thead>\n",
       "    <tr style=\"text-align: right;\">\n",
       "      <th></th>\n",
       "      <th>fatalities</th>\n",
       "    </tr>\n",
       "    <tr>\n",
       "      <th>event_type</th>\n",
       "      <th></th>\n",
       "    </tr>\n",
       "  </thead>\n",
       "  <tbody>\n",
       "    <tr>\n",
       "      <th>Battles</th>\n",
       "      <td>0</td>\n",
       "    </tr>\n",
       "    <tr>\n",
       "      <th>Protests</th>\n",
       "      <td>0</td>\n",
       "    </tr>\n",
       "    <tr>\n",
       "      <th>Riots</th>\n",
       "      <td>0</td>\n",
       "    </tr>\n",
       "    <tr>\n",
       "      <th>Strategic developments</th>\n",
       "      <td>0</td>\n",
       "    </tr>\n",
       "    <tr>\n",
       "      <th>Violence against civilians</th>\n",
       "      <td>0</td>\n",
       "    </tr>\n",
       "  </tbody>\n",
       "</table>\n",
       "</div>"
      ],
      "text/plain": [
       "                            fatalities\n",
       "event_type                            \n",
       "Battles                              0\n",
       "Protests                             0\n",
       "Riots                                0\n",
       "Strategic developments               0\n",
       "Violence against civilians           0"
      ]
     },
     "execution_count": 14,
     "metadata": {},
     "output_type": "execute_result"
    },
    {
     "name": "stdout",
     "output_type": "stream",
     "text": [
      "South Korea 2019\n"
     ]
    },
    {
     "data": {
      "text/html": [
       "<div>\n",
       "<style scoped>\n",
       "    .dataframe tbody tr th:only-of-type {\n",
       "        vertical-align: middle;\n",
       "    }\n",
       "\n",
       "    .dataframe tbody tr th {\n",
       "        vertical-align: top;\n",
       "    }\n",
       "\n",
       "    .dataframe thead th {\n",
       "        text-align: right;\n",
       "    }\n",
       "</style>\n",
       "<table border=\"1\" class=\"dataframe\">\n",
       "  <thead>\n",
       "    <tr style=\"text-align: right;\">\n",
       "      <th></th>\n",
       "      <th>fatalities</th>\n",
       "    </tr>\n",
       "    <tr>\n",
       "      <th>event_type</th>\n",
       "      <th></th>\n",
       "    </tr>\n",
       "  </thead>\n",
       "  <tbody>\n",
       "    <tr>\n",
       "      <th>Battles</th>\n",
       "      <td>0</td>\n",
       "    </tr>\n",
       "    <tr>\n",
       "      <th>Protests</th>\n",
       "      <td>0</td>\n",
       "    </tr>\n",
       "    <tr>\n",
       "      <th>Riots</th>\n",
       "      <td>0</td>\n",
       "    </tr>\n",
       "    <tr>\n",
       "      <th>Strategic developments</th>\n",
       "      <td>0</td>\n",
       "    </tr>\n",
       "    <tr>\n",
       "      <th>Violence against civilians</th>\n",
       "      <td>0</td>\n",
       "    </tr>\n",
       "  </tbody>\n",
       "</table>\n",
       "</div>"
      ],
      "text/plain": [
       "                            fatalities\n",
       "event_type                            \n",
       "Battles                              0\n",
       "Protests                             0\n",
       "Riots                                0\n",
       "Strategic developments               0\n",
       "Violence against civilians           0"
      ]
     },
     "execution_count": 14,
     "metadata": {},
     "output_type": "execute_result"
    },
    {
     "name": "stdout",
     "output_type": "stream",
     "text": [
      "South Korea 2018\n"
     ]
    },
    {
     "data": {
      "text/html": [
       "<div>\n",
       "<style scoped>\n",
       "    .dataframe tbody tr th:only-of-type {\n",
       "        vertical-align: middle;\n",
       "    }\n",
       "\n",
       "    .dataframe tbody tr th {\n",
       "        vertical-align: top;\n",
       "    }\n",
       "\n",
       "    .dataframe thead th {\n",
       "        text-align: right;\n",
       "    }\n",
       "</style>\n",
       "<table border=\"1\" class=\"dataframe\">\n",
       "  <thead>\n",
       "    <tr style=\"text-align: right;\">\n",
       "      <th></th>\n",
       "      <th>fatalities</th>\n",
       "    </tr>\n",
       "    <tr>\n",
       "      <th>event_type</th>\n",
       "      <th></th>\n",
       "    </tr>\n",
       "  </thead>\n",
       "  <tbody>\n",
       "    <tr>\n",
       "      <th>Battles</th>\n",
       "      <td>0</td>\n",
       "    </tr>\n",
       "    <tr>\n",
       "      <th>Protests</th>\n",
       "      <td>0</td>\n",
       "    </tr>\n",
       "    <tr>\n",
       "      <th>Riots</th>\n",
       "      <td>0</td>\n",
       "    </tr>\n",
       "    <tr>\n",
       "      <th>Strategic developments</th>\n",
       "      <td>0</td>\n",
       "    </tr>\n",
       "    <tr>\n",
       "      <th>Violence against civilians</th>\n",
       "      <td>0</td>\n",
       "    </tr>\n",
       "  </tbody>\n",
       "</table>\n",
       "</div>"
      ],
      "text/plain": [
       "                            fatalities\n",
       "event_type                            \n",
       "Battles                              0\n",
       "Protests                             0\n",
       "Riots                                0\n",
       "Strategic developments               0\n",
       "Violence against civilians           0"
      ]
     },
     "execution_count": 14,
     "metadata": {},
     "output_type": "execute_result"
    },
    {
     "name": "stdout",
     "output_type": "stream",
     "text": [
      "Japan 2022\n"
     ]
    },
    {
     "data": {
      "text/html": [
       "<div>\n",
       "<style scoped>\n",
       "    .dataframe tbody tr th:only-of-type {\n",
       "        vertical-align: middle;\n",
       "    }\n",
       "\n",
       "    .dataframe tbody tr th {\n",
       "        vertical-align: top;\n",
       "    }\n",
       "\n",
       "    .dataframe thead th {\n",
       "        text-align: right;\n",
       "    }\n",
       "</style>\n",
       "<table border=\"1\" class=\"dataframe\">\n",
       "  <thead>\n",
       "    <tr style=\"text-align: right;\">\n",
       "      <th></th>\n",
       "      <th>fatalities</th>\n",
       "    </tr>\n",
       "    <tr>\n",
       "      <th>event_type</th>\n",
       "      <th></th>\n",
       "    </tr>\n",
       "  </thead>\n",
       "  <tbody>\n",
       "    <tr>\n",
       "      <th>Protests</th>\n",
       "      <td>0</td>\n",
       "    </tr>\n",
       "    <tr>\n",
       "      <th>Riots</th>\n",
       "      <td>0</td>\n",
       "    </tr>\n",
       "    <tr>\n",
       "      <th>Strategic developments</th>\n",
       "      <td>0</td>\n",
       "    </tr>\n",
       "    <tr>\n",
       "      <th>Violence against civilians</th>\n",
       "      <td>0</td>\n",
       "    </tr>\n",
       "  </tbody>\n",
       "</table>\n",
       "</div>"
      ],
      "text/plain": [
       "                            fatalities\n",
       "event_type                            \n",
       "Protests                             0\n",
       "Riots                                0\n",
       "Strategic developments               0\n",
       "Violence against civilians           0"
      ]
     },
     "execution_count": 14,
     "metadata": {},
     "output_type": "execute_result"
    },
    {
     "name": "stdout",
     "output_type": "stream",
     "text": [
      "Japan 2021\n"
     ]
    },
    {
     "data": {
      "text/html": [
       "<div>\n",
       "<style scoped>\n",
       "    .dataframe tbody tr th:only-of-type {\n",
       "        vertical-align: middle;\n",
       "    }\n",
       "\n",
       "    .dataframe tbody tr th {\n",
       "        vertical-align: top;\n",
       "    }\n",
       "\n",
       "    .dataframe thead th {\n",
       "        text-align: right;\n",
       "    }\n",
       "</style>\n",
       "<table border=\"1\" class=\"dataframe\">\n",
       "  <thead>\n",
       "    <tr style=\"text-align: right;\">\n",
       "      <th></th>\n",
       "      <th>fatalities</th>\n",
       "    </tr>\n",
       "    <tr>\n",
       "      <th>event_type</th>\n",
       "      <th></th>\n",
       "    </tr>\n",
       "  </thead>\n",
       "  <tbody>\n",
       "    <tr>\n",
       "      <th>Protests</th>\n",
       "      <td>0</td>\n",
       "    </tr>\n",
       "    <tr>\n",
       "      <th>Riots</th>\n",
       "      <td>0</td>\n",
       "    </tr>\n",
       "    <tr>\n",
       "      <th>Strategic developments</th>\n",
       "      <td>0</td>\n",
       "    </tr>\n",
       "    <tr>\n",
       "      <th>Violence against civilians</th>\n",
       "      <td>0</td>\n",
       "    </tr>\n",
       "  </tbody>\n",
       "</table>\n",
       "</div>"
      ],
      "text/plain": [
       "                            fatalities\n",
       "event_type                            \n",
       "Protests                             0\n",
       "Riots                                0\n",
       "Strategic developments               0\n",
       "Violence against civilians           0"
      ]
     },
     "execution_count": 14,
     "metadata": {},
     "output_type": "execute_result"
    },
    {
     "name": "stdout",
     "output_type": "stream",
     "text": [
      "Japan 2020\n"
     ]
    },
    {
     "data": {
      "text/html": [
       "<div>\n",
       "<style scoped>\n",
       "    .dataframe tbody tr th:only-of-type {\n",
       "        vertical-align: middle;\n",
       "    }\n",
       "\n",
       "    .dataframe tbody tr th {\n",
       "        vertical-align: top;\n",
       "    }\n",
       "\n",
       "    .dataframe thead th {\n",
       "        text-align: right;\n",
       "    }\n",
       "</style>\n",
       "<table border=\"1\" class=\"dataframe\">\n",
       "  <thead>\n",
       "    <tr style=\"text-align: right;\">\n",
       "      <th></th>\n",
       "      <th>fatalities</th>\n",
       "    </tr>\n",
       "    <tr>\n",
       "      <th>event_type</th>\n",
       "      <th></th>\n",
       "    </tr>\n",
       "  </thead>\n",
       "  <tbody>\n",
       "    <tr>\n",
       "      <th>Protests</th>\n",
       "      <td>0</td>\n",
       "    </tr>\n",
       "    <tr>\n",
       "      <th>Riots</th>\n",
       "      <td>0</td>\n",
       "    </tr>\n",
       "    <tr>\n",
       "      <th>Strategic developments</th>\n",
       "      <td>0</td>\n",
       "    </tr>\n",
       "    <tr>\n",
       "      <th>Violence against civilians</th>\n",
       "      <td>0</td>\n",
       "    </tr>\n",
       "  </tbody>\n",
       "</table>\n",
       "</div>"
      ],
      "text/plain": [
       "                            fatalities\n",
       "event_type                            \n",
       "Protests                             0\n",
       "Riots                                0\n",
       "Strategic developments               0\n",
       "Violence against civilians           0"
      ]
     },
     "execution_count": 14,
     "metadata": {},
     "output_type": "execute_result"
    },
    {
     "name": "stdout",
     "output_type": "stream",
     "text": [
      "Japan 2019\n"
     ]
    },
    {
     "data": {
      "text/html": [
       "<div>\n",
       "<style scoped>\n",
       "    .dataframe tbody tr th:only-of-type {\n",
       "        vertical-align: middle;\n",
       "    }\n",
       "\n",
       "    .dataframe tbody tr th {\n",
       "        vertical-align: top;\n",
       "    }\n",
       "\n",
       "    .dataframe thead th {\n",
       "        text-align: right;\n",
       "    }\n",
       "</style>\n",
       "<table border=\"1\" class=\"dataframe\">\n",
       "  <thead>\n",
       "    <tr style=\"text-align: right;\">\n",
       "      <th></th>\n",
       "      <th>fatalities</th>\n",
       "    </tr>\n",
       "    <tr>\n",
       "      <th>event_type</th>\n",
       "      <th></th>\n",
       "    </tr>\n",
       "  </thead>\n",
       "  <tbody>\n",
       "    <tr>\n",
       "      <th>Protests</th>\n",
       "      <td>0</td>\n",
       "    </tr>\n",
       "    <tr>\n",
       "      <th>Riots</th>\n",
       "      <td>0</td>\n",
       "    </tr>\n",
       "    <tr>\n",
       "      <th>Strategic developments</th>\n",
       "      <td>0</td>\n",
       "    </tr>\n",
       "    <tr>\n",
       "      <th>Violence against civilians</th>\n",
       "      <td>0</td>\n",
       "    </tr>\n",
       "  </tbody>\n",
       "</table>\n",
       "</div>"
      ],
      "text/plain": [
       "                            fatalities\n",
       "event_type                            \n",
       "Protests                             0\n",
       "Riots                                0\n",
       "Strategic developments               0\n",
       "Violence against civilians           0"
      ]
     },
     "execution_count": 14,
     "metadata": {},
     "output_type": "execute_result"
    },
    {
     "name": "stdout",
     "output_type": "stream",
     "text": [
      "Japan 2018\n"
     ]
    },
    {
     "data": {
      "text/html": [
       "<div>\n",
       "<style scoped>\n",
       "    .dataframe tbody tr th:only-of-type {\n",
       "        vertical-align: middle;\n",
       "    }\n",
       "\n",
       "    .dataframe tbody tr th {\n",
       "        vertical-align: top;\n",
       "    }\n",
       "\n",
       "    .dataframe thead th {\n",
       "        text-align: right;\n",
       "    }\n",
       "</style>\n",
       "<table border=\"1\" class=\"dataframe\">\n",
       "  <thead>\n",
       "    <tr style=\"text-align: right;\">\n",
       "      <th></th>\n",
       "      <th>fatalities</th>\n",
       "    </tr>\n",
       "    <tr>\n",
       "      <th>event_type</th>\n",
       "      <th></th>\n",
       "    </tr>\n",
       "  </thead>\n",
       "  <tbody>\n",
       "    <tr>\n",
       "      <th>Protests</th>\n",
       "      <td>0</td>\n",
       "    </tr>\n",
       "    <tr>\n",
       "      <th>Riots</th>\n",
       "      <td>0</td>\n",
       "    </tr>\n",
       "    <tr>\n",
       "      <th>Strategic developments</th>\n",
       "      <td>0</td>\n",
       "    </tr>\n",
       "    <tr>\n",
       "      <th>Violence against civilians</th>\n",
       "      <td>0</td>\n",
       "    </tr>\n",
       "  </tbody>\n",
       "</table>\n",
       "</div>"
      ],
      "text/plain": [
       "                            fatalities\n",
       "event_type                            \n",
       "Protests                             0\n",
       "Riots                                0\n",
       "Strategic developments               0\n",
       "Violence against civilians           0"
      ]
     },
     "execution_count": 14,
     "metadata": {},
     "output_type": "execute_result"
    },
    {
     "name": "stdout",
     "output_type": "stream",
     "text": [
      "Taiwan 2022\n"
     ]
    },
    {
     "data": {
      "text/html": [
       "<div>\n",
       "<style scoped>\n",
       "    .dataframe tbody tr th:only-of-type {\n",
       "        vertical-align: middle;\n",
       "    }\n",
       "\n",
       "    .dataframe tbody tr th {\n",
       "        vertical-align: top;\n",
       "    }\n",
       "\n",
       "    .dataframe thead th {\n",
       "        text-align: right;\n",
       "    }\n",
       "</style>\n",
       "<table border=\"1\" class=\"dataframe\">\n",
       "  <thead>\n",
       "    <tr style=\"text-align: right;\">\n",
       "      <th></th>\n",
       "      <th>fatalities</th>\n",
       "    </tr>\n",
       "    <tr>\n",
       "      <th>event_type</th>\n",
       "      <th></th>\n",
       "    </tr>\n",
       "  </thead>\n",
       "  <tbody>\n",
       "    <tr>\n",
       "      <th>Protests</th>\n",
       "      <td>0</td>\n",
       "    </tr>\n",
       "    <tr>\n",
       "      <th>Riots</th>\n",
       "      <td>0</td>\n",
       "    </tr>\n",
       "    <tr>\n",
       "      <th>Strategic developments</th>\n",
       "      <td>0</td>\n",
       "    </tr>\n",
       "    <tr>\n",
       "      <th>Violence against civilians</th>\n",
       "      <td>0</td>\n",
       "    </tr>\n",
       "  </tbody>\n",
       "</table>\n",
       "</div>"
      ],
      "text/plain": [
       "                            fatalities\n",
       "event_type                            \n",
       "Protests                             0\n",
       "Riots                                0\n",
       "Strategic developments               0\n",
       "Violence against civilians           0"
      ]
     },
     "execution_count": 14,
     "metadata": {},
     "output_type": "execute_result"
    },
    {
     "name": "stdout",
     "output_type": "stream",
     "text": [
      "Taiwan 2021\n"
     ]
    },
    {
     "data": {
      "text/html": [
       "<div>\n",
       "<style scoped>\n",
       "    .dataframe tbody tr th:only-of-type {\n",
       "        vertical-align: middle;\n",
       "    }\n",
       "\n",
       "    .dataframe tbody tr th {\n",
       "        vertical-align: top;\n",
       "    }\n",
       "\n",
       "    .dataframe thead th {\n",
       "        text-align: right;\n",
       "    }\n",
       "</style>\n",
       "<table border=\"1\" class=\"dataframe\">\n",
       "  <thead>\n",
       "    <tr style=\"text-align: right;\">\n",
       "      <th></th>\n",
       "      <th>fatalities</th>\n",
       "    </tr>\n",
       "    <tr>\n",
       "      <th>event_type</th>\n",
       "      <th></th>\n",
       "    </tr>\n",
       "  </thead>\n",
       "  <tbody>\n",
       "    <tr>\n",
       "      <th>Protests</th>\n",
       "      <td>0</td>\n",
       "    </tr>\n",
       "    <tr>\n",
       "      <th>Riots</th>\n",
       "      <td>0</td>\n",
       "    </tr>\n",
       "    <tr>\n",
       "      <th>Strategic developments</th>\n",
       "      <td>0</td>\n",
       "    </tr>\n",
       "    <tr>\n",
       "      <th>Violence against civilians</th>\n",
       "      <td>0</td>\n",
       "    </tr>\n",
       "  </tbody>\n",
       "</table>\n",
       "</div>"
      ],
      "text/plain": [
       "                            fatalities\n",
       "event_type                            \n",
       "Protests                             0\n",
       "Riots                                0\n",
       "Strategic developments               0\n",
       "Violence against civilians           0"
      ]
     },
     "execution_count": 14,
     "metadata": {},
     "output_type": "execute_result"
    },
    {
     "name": "stdout",
     "output_type": "stream",
     "text": [
      "Taiwan 2020\n"
     ]
    },
    {
     "data": {
      "text/html": [
       "<div>\n",
       "<style scoped>\n",
       "    .dataframe tbody tr th:only-of-type {\n",
       "        vertical-align: middle;\n",
       "    }\n",
       "\n",
       "    .dataframe tbody tr th {\n",
       "        vertical-align: top;\n",
       "    }\n",
       "\n",
       "    .dataframe thead th {\n",
       "        text-align: right;\n",
       "    }\n",
       "</style>\n",
       "<table border=\"1\" class=\"dataframe\">\n",
       "  <thead>\n",
       "    <tr style=\"text-align: right;\">\n",
       "      <th></th>\n",
       "      <th>fatalities</th>\n",
       "    </tr>\n",
       "    <tr>\n",
       "      <th>event_type</th>\n",
       "      <th></th>\n",
       "    </tr>\n",
       "  </thead>\n",
       "  <tbody>\n",
       "    <tr>\n",
       "      <th>Protests</th>\n",
       "      <td>0</td>\n",
       "    </tr>\n",
       "    <tr>\n",
       "      <th>Riots</th>\n",
       "      <td>0</td>\n",
       "    </tr>\n",
       "    <tr>\n",
       "      <th>Strategic developments</th>\n",
       "      <td>0</td>\n",
       "    </tr>\n",
       "    <tr>\n",
       "      <th>Violence against civilians</th>\n",
       "      <td>0</td>\n",
       "    </tr>\n",
       "  </tbody>\n",
       "</table>\n",
       "</div>"
      ],
      "text/plain": [
       "                            fatalities\n",
       "event_type                            \n",
       "Protests                             0\n",
       "Riots                                0\n",
       "Strategic developments               0\n",
       "Violence against civilians           0"
      ]
     },
     "execution_count": 14,
     "metadata": {},
     "output_type": "execute_result"
    },
    {
     "name": "stdout",
     "output_type": "stream",
     "text": [
      "Taiwan 2019\n"
     ]
    },
    {
     "data": {
      "text/html": [
       "<div>\n",
       "<style scoped>\n",
       "    .dataframe tbody tr th:only-of-type {\n",
       "        vertical-align: middle;\n",
       "    }\n",
       "\n",
       "    .dataframe tbody tr th {\n",
       "        vertical-align: top;\n",
       "    }\n",
       "\n",
       "    .dataframe thead th {\n",
       "        text-align: right;\n",
       "    }\n",
       "</style>\n",
       "<table border=\"1\" class=\"dataframe\">\n",
       "  <thead>\n",
       "    <tr style=\"text-align: right;\">\n",
       "      <th></th>\n",
       "      <th>fatalities</th>\n",
       "    </tr>\n",
       "    <tr>\n",
       "      <th>event_type</th>\n",
       "      <th></th>\n",
       "    </tr>\n",
       "  </thead>\n",
       "  <tbody>\n",
       "    <tr>\n",
       "      <th>Protests</th>\n",
       "      <td>0</td>\n",
       "    </tr>\n",
       "    <tr>\n",
       "      <th>Riots</th>\n",
       "      <td>0</td>\n",
       "    </tr>\n",
       "    <tr>\n",
       "      <th>Strategic developments</th>\n",
       "      <td>0</td>\n",
       "    </tr>\n",
       "    <tr>\n",
       "      <th>Violence against civilians</th>\n",
       "      <td>0</td>\n",
       "    </tr>\n",
       "  </tbody>\n",
       "</table>\n",
       "</div>"
      ],
      "text/plain": [
       "                            fatalities\n",
       "event_type                            \n",
       "Protests                             0\n",
       "Riots                                0\n",
       "Strategic developments               0\n",
       "Violence against civilians           0"
      ]
     },
     "execution_count": 14,
     "metadata": {},
     "output_type": "execute_result"
    },
    {
     "name": "stdout",
     "output_type": "stream",
     "text": [
      "Taiwan 2018\n"
     ]
    },
    {
     "data": {
      "text/html": [
       "<div>\n",
       "<style scoped>\n",
       "    .dataframe tbody tr th:only-of-type {\n",
       "        vertical-align: middle;\n",
       "    }\n",
       "\n",
       "    .dataframe tbody tr th {\n",
       "        vertical-align: top;\n",
       "    }\n",
       "\n",
       "    .dataframe thead th {\n",
       "        text-align: right;\n",
       "    }\n",
       "</style>\n",
       "<table border=\"1\" class=\"dataframe\">\n",
       "  <thead>\n",
       "    <tr style=\"text-align: right;\">\n",
       "      <th></th>\n",
       "      <th>fatalities</th>\n",
       "    </tr>\n",
       "    <tr>\n",
       "      <th>event_type</th>\n",
       "      <th></th>\n",
       "    </tr>\n",
       "  </thead>\n",
       "  <tbody>\n",
       "    <tr>\n",
       "      <th>Protests</th>\n",
       "      <td>0</td>\n",
       "    </tr>\n",
       "    <tr>\n",
       "      <th>Riots</th>\n",
       "      <td>0</td>\n",
       "    </tr>\n",
       "    <tr>\n",
       "      <th>Strategic developments</th>\n",
       "      <td>0</td>\n",
       "    </tr>\n",
       "    <tr>\n",
       "      <th>Violence against civilians</th>\n",
       "      <td>0</td>\n",
       "    </tr>\n",
       "  </tbody>\n",
       "</table>\n",
       "</div>"
      ],
      "text/plain": [
       "                            fatalities\n",
       "event_type                            \n",
       "Protests                             0\n",
       "Riots                                0\n",
       "Strategic developments               0\n",
       "Violence against civilians           0"
      ]
     },
     "execution_count": 14,
     "metadata": {},
     "output_type": "execute_result"
    },
    {
     "name": "stdout",
     "output_type": "stream",
     "text": [
      "Mongolia 2022\n"
     ]
    },
    {
     "data": {
      "text/html": [
       "<div>\n",
       "<style scoped>\n",
       "    .dataframe tbody tr th:only-of-type {\n",
       "        vertical-align: middle;\n",
       "    }\n",
       "\n",
       "    .dataframe tbody tr th {\n",
       "        vertical-align: top;\n",
       "    }\n",
       "\n",
       "    .dataframe thead th {\n",
       "        text-align: right;\n",
       "    }\n",
       "</style>\n",
       "<table border=\"1\" class=\"dataframe\">\n",
       "  <thead>\n",
       "    <tr style=\"text-align: right;\">\n",
       "      <th></th>\n",
       "      <th>fatalities</th>\n",
       "    </tr>\n",
       "    <tr>\n",
       "      <th>event_type</th>\n",
       "      <th></th>\n",
       "    </tr>\n",
       "  </thead>\n",
       "  <tbody>\n",
       "    <tr>\n",
       "      <th>Protests</th>\n",
       "      <td>0</td>\n",
       "    </tr>\n",
       "    <tr>\n",
       "      <th>Riots</th>\n",
       "      <td>0</td>\n",
       "    </tr>\n",
       "    <tr>\n",
       "      <th>Strategic developments</th>\n",
       "      <td>0</td>\n",
       "    </tr>\n",
       "    <tr>\n",
       "      <th>Violence against civilians</th>\n",
       "      <td>1</td>\n",
       "    </tr>\n",
       "  </tbody>\n",
       "</table>\n",
       "</div>"
      ],
      "text/plain": [
       "                            fatalities\n",
       "event_type                            \n",
       "Protests                             0\n",
       "Riots                                0\n",
       "Strategic developments               0\n",
       "Violence against civilians           1"
      ]
     },
     "execution_count": 14,
     "metadata": {},
     "output_type": "execute_result"
    },
    {
     "name": "stdout",
     "output_type": "stream",
     "text": [
      "Mongolia 2021\n"
     ]
    },
    {
     "data": {
      "text/html": [
       "<div>\n",
       "<style scoped>\n",
       "    .dataframe tbody tr th:only-of-type {\n",
       "        vertical-align: middle;\n",
       "    }\n",
       "\n",
       "    .dataframe tbody tr th {\n",
       "        vertical-align: top;\n",
       "    }\n",
       "\n",
       "    .dataframe thead th {\n",
       "        text-align: right;\n",
       "    }\n",
       "</style>\n",
       "<table border=\"1\" class=\"dataframe\">\n",
       "  <thead>\n",
       "    <tr style=\"text-align: right;\">\n",
       "      <th></th>\n",
       "      <th>fatalities</th>\n",
       "    </tr>\n",
       "    <tr>\n",
       "      <th>event_type</th>\n",
       "      <th></th>\n",
       "    </tr>\n",
       "  </thead>\n",
       "  <tbody>\n",
       "    <tr>\n",
       "      <th>Protests</th>\n",
       "      <td>0</td>\n",
       "    </tr>\n",
       "    <tr>\n",
       "      <th>Riots</th>\n",
       "      <td>0</td>\n",
       "    </tr>\n",
       "    <tr>\n",
       "      <th>Strategic developments</th>\n",
       "      <td>0</td>\n",
       "    </tr>\n",
       "    <tr>\n",
       "      <th>Violence against civilians</th>\n",
       "      <td>1</td>\n",
       "    </tr>\n",
       "  </tbody>\n",
       "</table>\n",
       "</div>"
      ],
      "text/plain": [
       "                            fatalities\n",
       "event_type                            \n",
       "Protests                             0\n",
       "Riots                                0\n",
       "Strategic developments               0\n",
       "Violence against civilians           1"
      ]
     },
     "execution_count": 14,
     "metadata": {},
     "output_type": "execute_result"
    },
    {
     "name": "stdout",
     "output_type": "stream",
     "text": [
      "Mongolia 2020\n"
     ]
    },
    {
     "data": {
      "text/html": [
       "<div>\n",
       "<style scoped>\n",
       "    .dataframe tbody tr th:only-of-type {\n",
       "        vertical-align: middle;\n",
       "    }\n",
       "\n",
       "    .dataframe tbody tr th {\n",
       "        vertical-align: top;\n",
       "    }\n",
       "\n",
       "    .dataframe thead th {\n",
       "        text-align: right;\n",
       "    }\n",
       "</style>\n",
       "<table border=\"1\" class=\"dataframe\">\n",
       "  <thead>\n",
       "    <tr style=\"text-align: right;\">\n",
       "      <th></th>\n",
       "      <th>fatalities</th>\n",
       "    </tr>\n",
       "    <tr>\n",
       "      <th>event_type</th>\n",
       "      <th></th>\n",
       "    </tr>\n",
       "  </thead>\n",
       "  <tbody>\n",
       "    <tr>\n",
       "      <th>Protests</th>\n",
       "      <td>0</td>\n",
       "    </tr>\n",
       "    <tr>\n",
       "      <th>Riots</th>\n",
       "      <td>0</td>\n",
       "    </tr>\n",
       "    <tr>\n",
       "      <th>Strategic developments</th>\n",
       "      <td>0</td>\n",
       "    </tr>\n",
       "    <tr>\n",
       "      <th>Violence against civilians</th>\n",
       "      <td>1</td>\n",
       "    </tr>\n",
       "  </tbody>\n",
       "</table>\n",
       "</div>"
      ],
      "text/plain": [
       "                            fatalities\n",
       "event_type                            \n",
       "Protests                             0\n",
       "Riots                                0\n",
       "Strategic developments               0\n",
       "Violence against civilians           1"
      ]
     },
     "execution_count": 14,
     "metadata": {},
     "output_type": "execute_result"
    },
    {
     "name": "stdout",
     "output_type": "stream",
     "text": [
      "Mongolia 2019\n"
     ]
    },
    {
     "data": {
      "text/html": [
       "<div>\n",
       "<style scoped>\n",
       "    .dataframe tbody tr th:only-of-type {\n",
       "        vertical-align: middle;\n",
       "    }\n",
       "\n",
       "    .dataframe tbody tr th {\n",
       "        vertical-align: top;\n",
       "    }\n",
       "\n",
       "    .dataframe thead th {\n",
       "        text-align: right;\n",
       "    }\n",
       "</style>\n",
       "<table border=\"1\" class=\"dataframe\">\n",
       "  <thead>\n",
       "    <tr style=\"text-align: right;\">\n",
       "      <th></th>\n",
       "      <th>fatalities</th>\n",
       "    </tr>\n",
       "    <tr>\n",
       "      <th>event_type</th>\n",
       "      <th></th>\n",
       "    </tr>\n",
       "  </thead>\n",
       "  <tbody>\n",
       "    <tr>\n",
       "      <th>Protests</th>\n",
       "      <td>0</td>\n",
       "    </tr>\n",
       "    <tr>\n",
       "      <th>Riots</th>\n",
       "      <td>0</td>\n",
       "    </tr>\n",
       "    <tr>\n",
       "      <th>Strategic developments</th>\n",
       "      <td>0</td>\n",
       "    </tr>\n",
       "    <tr>\n",
       "      <th>Violence against civilians</th>\n",
       "      <td>1</td>\n",
       "    </tr>\n",
       "  </tbody>\n",
       "</table>\n",
       "</div>"
      ],
      "text/plain": [
       "                            fatalities\n",
       "event_type                            \n",
       "Protests                             0\n",
       "Riots                                0\n",
       "Strategic developments               0\n",
       "Violence against civilians           1"
      ]
     },
     "execution_count": 14,
     "metadata": {},
     "output_type": "execute_result"
    },
    {
     "name": "stdout",
     "output_type": "stream",
     "text": [
      "Mongolia 2018\n"
     ]
    },
    {
     "data": {
      "text/html": [
       "<div>\n",
       "<style scoped>\n",
       "    .dataframe tbody tr th:only-of-type {\n",
       "        vertical-align: middle;\n",
       "    }\n",
       "\n",
       "    .dataframe tbody tr th {\n",
       "        vertical-align: top;\n",
       "    }\n",
       "\n",
       "    .dataframe thead th {\n",
       "        text-align: right;\n",
       "    }\n",
       "</style>\n",
       "<table border=\"1\" class=\"dataframe\">\n",
       "  <thead>\n",
       "    <tr style=\"text-align: right;\">\n",
       "      <th></th>\n",
       "      <th>fatalities</th>\n",
       "    </tr>\n",
       "    <tr>\n",
       "      <th>event_type</th>\n",
       "      <th></th>\n",
       "    </tr>\n",
       "  </thead>\n",
       "  <tbody>\n",
       "    <tr>\n",
       "      <th>Protests</th>\n",
       "      <td>0</td>\n",
       "    </tr>\n",
       "    <tr>\n",
       "      <th>Riots</th>\n",
       "      <td>0</td>\n",
       "    </tr>\n",
       "    <tr>\n",
       "      <th>Strategic developments</th>\n",
       "      <td>0</td>\n",
       "    </tr>\n",
       "    <tr>\n",
       "      <th>Violence against civilians</th>\n",
       "      <td>1</td>\n",
       "    </tr>\n",
       "  </tbody>\n",
       "</table>\n",
       "</div>"
      ],
      "text/plain": [
       "                            fatalities\n",
       "event_type                            \n",
       "Protests                             0\n",
       "Riots                                0\n",
       "Strategic developments               0\n",
       "Violence against civilians           1"
      ]
     },
     "execution_count": 14,
     "metadata": {},
     "output_type": "execute_result"
    },
    {
     "name": "stdout",
     "output_type": "stream",
     "text": [
      "North Korea 2022\n"
     ]
    },
    {
     "data": {
      "text/html": [
       "<div>\n",
       "<style scoped>\n",
       "    .dataframe tbody tr th:only-of-type {\n",
       "        vertical-align: middle;\n",
       "    }\n",
       "\n",
       "    .dataframe tbody tr th {\n",
       "        vertical-align: top;\n",
       "    }\n",
       "\n",
       "    .dataframe thead th {\n",
       "        text-align: right;\n",
       "    }\n",
       "</style>\n",
       "<table border=\"1\" class=\"dataframe\">\n",
       "  <thead>\n",
       "    <tr style=\"text-align: right;\">\n",
       "      <th></th>\n",
       "      <th>fatalities</th>\n",
       "    </tr>\n",
       "    <tr>\n",
       "      <th>event_type</th>\n",
       "      <th></th>\n",
       "    </tr>\n",
       "  </thead>\n",
       "  <tbody>\n",
       "    <tr>\n",
       "      <th>Explosions/Remote violence</th>\n",
       "      <td>0</td>\n",
       "    </tr>\n",
       "    <tr>\n",
       "      <th>Protests</th>\n",
       "      <td>0</td>\n",
       "    </tr>\n",
       "    <tr>\n",
       "      <th>Riots</th>\n",
       "      <td>1</td>\n",
       "    </tr>\n",
       "    <tr>\n",
       "      <th>Strategic developments</th>\n",
       "      <td>25</td>\n",
       "    </tr>\n",
       "    <tr>\n",
       "      <th>Violence against civilians</th>\n",
       "      <td>45</td>\n",
       "    </tr>\n",
       "  </tbody>\n",
       "</table>\n",
       "</div>"
      ],
      "text/plain": [
       "                            fatalities\n",
       "event_type                            \n",
       "Explosions/Remote violence           0\n",
       "Protests                             0\n",
       "Riots                                1\n",
       "Strategic developments              25\n",
       "Violence against civilians          45"
      ]
     },
     "execution_count": 14,
     "metadata": {},
     "output_type": "execute_result"
    },
    {
     "name": "stdout",
     "output_type": "stream",
     "text": [
      "North Korea 2021\n"
     ]
    },
    {
     "data": {
      "text/html": [
       "<div>\n",
       "<style scoped>\n",
       "    .dataframe tbody tr th:only-of-type {\n",
       "        vertical-align: middle;\n",
       "    }\n",
       "\n",
       "    .dataframe tbody tr th {\n",
       "        vertical-align: top;\n",
       "    }\n",
       "\n",
       "    .dataframe thead th {\n",
       "        text-align: right;\n",
       "    }\n",
       "</style>\n",
       "<table border=\"1\" class=\"dataframe\">\n",
       "  <thead>\n",
       "    <tr style=\"text-align: right;\">\n",
       "      <th></th>\n",
       "      <th>fatalities</th>\n",
       "    </tr>\n",
       "    <tr>\n",
       "      <th>event_type</th>\n",
       "      <th></th>\n",
       "    </tr>\n",
       "  </thead>\n",
       "  <tbody>\n",
       "    <tr>\n",
       "      <th>Explosions/Remote violence</th>\n",
       "      <td>0</td>\n",
       "    </tr>\n",
       "    <tr>\n",
       "      <th>Protests</th>\n",
       "      <td>0</td>\n",
       "    </tr>\n",
       "    <tr>\n",
       "      <th>Riots</th>\n",
       "      <td>1</td>\n",
       "    </tr>\n",
       "    <tr>\n",
       "      <th>Strategic developments</th>\n",
       "      <td>25</td>\n",
       "    </tr>\n",
       "    <tr>\n",
       "      <th>Violence against civilians</th>\n",
       "      <td>45</td>\n",
       "    </tr>\n",
       "  </tbody>\n",
       "</table>\n",
       "</div>"
      ],
      "text/plain": [
       "                            fatalities\n",
       "event_type                            \n",
       "Explosions/Remote violence           0\n",
       "Protests                             0\n",
       "Riots                                1\n",
       "Strategic developments              25\n",
       "Violence against civilians          45"
      ]
     },
     "execution_count": 14,
     "metadata": {},
     "output_type": "execute_result"
    },
    {
     "name": "stdout",
     "output_type": "stream",
     "text": [
      "North Korea 2020\n"
     ]
    },
    {
     "data": {
      "text/html": [
       "<div>\n",
       "<style scoped>\n",
       "    .dataframe tbody tr th:only-of-type {\n",
       "        vertical-align: middle;\n",
       "    }\n",
       "\n",
       "    .dataframe tbody tr th {\n",
       "        vertical-align: top;\n",
       "    }\n",
       "\n",
       "    .dataframe thead th {\n",
       "        text-align: right;\n",
       "    }\n",
       "</style>\n",
       "<table border=\"1\" class=\"dataframe\">\n",
       "  <thead>\n",
       "    <tr style=\"text-align: right;\">\n",
       "      <th></th>\n",
       "      <th>fatalities</th>\n",
       "    </tr>\n",
       "    <tr>\n",
       "      <th>event_type</th>\n",
       "      <th></th>\n",
       "    </tr>\n",
       "  </thead>\n",
       "  <tbody>\n",
       "    <tr>\n",
       "      <th>Explosions/Remote violence</th>\n",
       "      <td>0</td>\n",
       "    </tr>\n",
       "    <tr>\n",
       "      <th>Protests</th>\n",
       "      <td>0</td>\n",
       "    </tr>\n",
       "    <tr>\n",
       "      <th>Riots</th>\n",
       "      <td>1</td>\n",
       "    </tr>\n",
       "    <tr>\n",
       "      <th>Strategic developments</th>\n",
       "      <td>25</td>\n",
       "    </tr>\n",
       "    <tr>\n",
       "      <th>Violence against civilians</th>\n",
       "      <td>45</td>\n",
       "    </tr>\n",
       "  </tbody>\n",
       "</table>\n",
       "</div>"
      ],
      "text/plain": [
       "                            fatalities\n",
       "event_type                            \n",
       "Explosions/Remote violence           0\n",
       "Protests                             0\n",
       "Riots                                1\n",
       "Strategic developments              25\n",
       "Violence against civilians          45"
      ]
     },
     "execution_count": 14,
     "metadata": {},
     "output_type": "execute_result"
    },
    {
     "name": "stdout",
     "output_type": "stream",
     "text": [
      "North Korea 2019\n"
     ]
    },
    {
     "data": {
      "text/html": [
       "<div>\n",
       "<style scoped>\n",
       "    .dataframe tbody tr th:only-of-type {\n",
       "        vertical-align: middle;\n",
       "    }\n",
       "\n",
       "    .dataframe tbody tr th {\n",
       "        vertical-align: top;\n",
       "    }\n",
       "\n",
       "    .dataframe thead th {\n",
       "        text-align: right;\n",
       "    }\n",
       "</style>\n",
       "<table border=\"1\" class=\"dataframe\">\n",
       "  <thead>\n",
       "    <tr style=\"text-align: right;\">\n",
       "      <th></th>\n",
       "      <th>fatalities</th>\n",
       "    </tr>\n",
       "    <tr>\n",
       "      <th>event_type</th>\n",
       "      <th></th>\n",
       "    </tr>\n",
       "  </thead>\n",
       "  <tbody>\n",
       "    <tr>\n",
       "      <th>Explosions/Remote violence</th>\n",
       "      <td>0</td>\n",
       "    </tr>\n",
       "    <tr>\n",
       "      <th>Protests</th>\n",
       "      <td>0</td>\n",
       "    </tr>\n",
       "    <tr>\n",
       "      <th>Riots</th>\n",
       "      <td>1</td>\n",
       "    </tr>\n",
       "    <tr>\n",
       "      <th>Strategic developments</th>\n",
       "      <td>25</td>\n",
       "    </tr>\n",
       "    <tr>\n",
       "      <th>Violence against civilians</th>\n",
       "      <td>45</td>\n",
       "    </tr>\n",
       "  </tbody>\n",
       "</table>\n",
       "</div>"
      ],
      "text/plain": [
       "                            fatalities\n",
       "event_type                            \n",
       "Explosions/Remote violence           0\n",
       "Protests                             0\n",
       "Riots                                1\n",
       "Strategic developments              25\n",
       "Violence against civilians          45"
      ]
     },
     "execution_count": 14,
     "metadata": {},
     "output_type": "execute_result"
    },
    {
     "name": "stdout",
     "output_type": "stream",
     "text": [
      "North Korea 2018\n"
     ]
    },
    {
     "data": {
      "text/html": [
       "<div>\n",
       "<style scoped>\n",
       "    .dataframe tbody tr th:only-of-type {\n",
       "        vertical-align: middle;\n",
       "    }\n",
       "\n",
       "    .dataframe tbody tr th {\n",
       "        vertical-align: top;\n",
       "    }\n",
       "\n",
       "    .dataframe thead th {\n",
       "        text-align: right;\n",
       "    }\n",
       "</style>\n",
       "<table border=\"1\" class=\"dataframe\">\n",
       "  <thead>\n",
       "    <tr style=\"text-align: right;\">\n",
       "      <th></th>\n",
       "      <th>fatalities</th>\n",
       "    </tr>\n",
       "    <tr>\n",
       "      <th>event_type</th>\n",
       "      <th></th>\n",
       "    </tr>\n",
       "  </thead>\n",
       "  <tbody>\n",
       "    <tr>\n",
       "      <th>Explosions/Remote violence</th>\n",
       "      <td>0</td>\n",
       "    </tr>\n",
       "    <tr>\n",
       "      <th>Protests</th>\n",
       "      <td>0</td>\n",
       "    </tr>\n",
       "    <tr>\n",
       "      <th>Riots</th>\n",
       "      <td>1</td>\n",
       "    </tr>\n",
       "    <tr>\n",
       "      <th>Strategic developments</th>\n",
       "      <td>25</td>\n",
       "    </tr>\n",
       "    <tr>\n",
       "      <th>Violence against civilians</th>\n",
       "      <td>45</td>\n",
       "    </tr>\n",
       "  </tbody>\n",
       "</table>\n",
       "</div>"
      ],
      "text/plain": [
       "                            fatalities\n",
       "event_type                            \n",
       "Explosions/Remote violence           0\n",
       "Protests                             0\n",
       "Riots                                1\n",
       "Strategic developments              25\n",
       "Violence against civilians          45"
      ]
     },
     "execution_count": 14,
     "metadata": {},
     "output_type": "execute_result"
    },
    {
     "name": "stdout",
     "output_type": "stream",
     "text": [
      "China 2022\n"
     ]
    },
    {
     "data": {
      "text/html": [
       "<div>\n",
       "<style scoped>\n",
       "    .dataframe tbody tr th:only-of-type {\n",
       "        vertical-align: middle;\n",
       "    }\n",
       "\n",
       "    .dataframe tbody tr th {\n",
       "        vertical-align: top;\n",
       "    }\n",
       "\n",
       "    .dataframe thead th {\n",
       "        text-align: right;\n",
       "    }\n",
       "</style>\n",
       "<table border=\"1\" class=\"dataframe\">\n",
       "  <thead>\n",
       "    <tr style=\"text-align: right;\">\n",
       "      <th></th>\n",
       "      <th>fatalities</th>\n",
       "    </tr>\n",
       "    <tr>\n",
       "      <th>event_type</th>\n",
       "      <th></th>\n",
       "    </tr>\n",
       "  </thead>\n",
       "  <tbody>\n",
       "    <tr>\n",
       "      <th>Battles</th>\n",
       "      <td>4</td>\n",
       "    </tr>\n",
       "    <tr>\n",
       "      <th>Explosions/Remote violence</th>\n",
       "      <td>7</td>\n",
       "    </tr>\n",
       "    <tr>\n",
       "      <th>Protests</th>\n",
       "      <td>3</td>\n",
       "    </tr>\n",
       "    <tr>\n",
       "      <th>Riots</th>\n",
       "      <td>6</td>\n",
       "    </tr>\n",
       "    <tr>\n",
       "      <th>Strategic developments</th>\n",
       "      <td>0</td>\n",
       "    </tr>\n",
       "    <tr>\n",
       "      <th>Violence against civilians</th>\n",
       "      <td>55</td>\n",
       "    </tr>\n",
       "  </tbody>\n",
       "</table>\n",
       "</div>"
      ],
      "text/plain": [
       "                            fatalities\n",
       "event_type                            \n",
       "Battles                              4\n",
       "Explosions/Remote violence           7\n",
       "Protests                             3\n",
       "Riots                                6\n",
       "Strategic developments               0\n",
       "Violence against civilians          55"
      ]
     },
     "execution_count": 14,
     "metadata": {},
     "output_type": "execute_result"
    },
    {
     "name": "stdout",
     "output_type": "stream",
     "text": [
      "China 2021\n"
     ]
    },
    {
     "data": {
      "text/html": [
       "<div>\n",
       "<style scoped>\n",
       "    .dataframe tbody tr th:only-of-type {\n",
       "        vertical-align: middle;\n",
       "    }\n",
       "\n",
       "    .dataframe tbody tr th {\n",
       "        vertical-align: top;\n",
       "    }\n",
       "\n",
       "    .dataframe thead th {\n",
       "        text-align: right;\n",
       "    }\n",
       "</style>\n",
       "<table border=\"1\" class=\"dataframe\">\n",
       "  <thead>\n",
       "    <tr style=\"text-align: right;\">\n",
       "      <th></th>\n",
       "      <th>fatalities</th>\n",
       "    </tr>\n",
       "    <tr>\n",
       "      <th>event_type</th>\n",
       "      <th></th>\n",
       "    </tr>\n",
       "  </thead>\n",
       "  <tbody>\n",
       "    <tr>\n",
       "      <th>Battles</th>\n",
       "      <td>4</td>\n",
       "    </tr>\n",
       "    <tr>\n",
       "      <th>Explosions/Remote violence</th>\n",
       "      <td>7</td>\n",
       "    </tr>\n",
       "    <tr>\n",
       "      <th>Protests</th>\n",
       "      <td>3</td>\n",
       "    </tr>\n",
       "    <tr>\n",
       "      <th>Riots</th>\n",
       "      <td>6</td>\n",
       "    </tr>\n",
       "    <tr>\n",
       "      <th>Strategic developments</th>\n",
       "      <td>0</td>\n",
       "    </tr>\n",
       "    <tr>\n",
       "      <th>Violence against civilians</th>\n",
       "      <td>55</td>\n",
       "    </tr>\n",
       "  </tbody>\n",
       "</table>\n",
       "</div>"
      ],
      "text/plain": [
       "                            fatalities\n",
       "event_type                            \n",
       "Battles                              4\n",
       "Explosions/Remote violence           7\n",
       "Protests                             3\n",
       "Riots                                6\n",
       "Strategic developments               0\n",
       "Violence against civilians          55"
      ]
     },
     "execution_count": 14,
     "metadata": {},
     "output_type": "execute_result"
    },
    {
     "name": "stdout",
     "output_type": "stream",
     "text": [
      "China 2020\n"
     ]
    },
    {
     "data": {
      "text/html": [
       "<div>\n",
       "<style scoped>\n",
       "    .dataframe tbody tr th:only-of-type {\n",
       "        vertical-align: middle;\n",
       "    }\n",
       "\n",
       "    .dataframe tbody tr th {\n",
       "        vertical-align: top;\n",
       "    }\n",
       "\n",
       "    .dataframe thead th {\n",
       "        text-align: right;\n",
       "    }\n",
       "</style>\n",
       "<table border=\"1\" class=\"dataframe\">\n",
       "  <thead>\n",
       "    <tr style=\"text-align: right;\">\n",
       "      <th></th>\n",
       "      <th>fatalities</th>\n",
       "    </tr>\n",
       "    <tr>\n",
       "      <th>event_type</th>\n",
       "      <th></th>\n",
       "    </tr>\n",
       "  </thead>\n",
       "  <tbody>\n",
       "    <tr>\n",
       "      <th>Battles</th>\n",
       "      <td>4</td>\n",
       "    </tr>\n",
       "    <tr>\n",
       "      <th>Explosions/Remote violence</th>\n",
       "      <td>7</td>\n",
       "    </tr>\n",
       "    <tr>\n",
       "      <th>Protests</th>\n",
       "      <td>3</td>\n",
       "    </tr>\n",
       "    <tr>\n",
       "      <th>Riots</th>\n",
       "      <td>6</td>\n",
       "    </tr>\n",
       "    <tr>\n",
       "      <th>Strategic developments</th>\n",
       "      <td>0</td>\n",
       "    </tr>\n",
       "    <tr>\n",
       "      <th>Violence against civilians</th>\n",
       "      <td>55</td>\n",
       "    </tr>\n",
       "  </tbody>\n",
       "</table>\n",
       "</div>"
      ],
      "text/plain": [
       "                            fatalities\n",
       "event_type                            \n",
       "Battles                              4\n",
       "Explosions/Remote violence           7\n",
       "Protests                             3\n",
       "Riots                                6\n",
       "Strategic developments               0\n",
       "Violence against civilians          55"
      ]
     },
     "execution_count": 14,
     "metadata": {},
     "output_type": "execute_result"
    },
    {
     "name": "stdout",
     "output_type": "stream",
     "text": [
      "China 2019\n"
     ]
    },
    {
     "data": {
      "text/html": [
       "<div>\n",
       "<style scoped>\n",
       "    .dataframe tbody tr th:only-of-type {\n",
       "        vertical-align: middle;\n",
       "    }\n",
       "\n",
       "    .dataframe tbody tr th {\n",
       "        vertical-align: top;\n",
       "    }\n",
       "\n",
       "    .dataframe thead th {\n",
       "        text-align: right;\n",
       "    }\n",
       "</style>\n",
       "<table border=\"1\" class=\"dataframe\">\n",
       "  <thead>\n",
       "    <tr style=\"text-align: right;\">\n",
       "      <th></th>\n",
       "      <th>fatalities</th>\n",
       "    </tr>\n",
       "    <tr>\n",
       "      <th>event_type</th>\n",
       "      <th></th>\n",
       "    </tr>\n",
       "  </thead>\n",
       "  <tbody>\n",
       "    <tr>\n",
       "      <th>Battles</th>\n",
       "      <td>4</td>\n",
       "    </tr>\n",
       "    <tr>\n",
       "      <th>Explosions/Remote violence</th>\n",
       "      <td>7</td>\n",
       "    </tr>\n",
       "    <tr>\n",
       "      <th>Protests</th>\n",
       "      <td>3</td>\n",
       "    </tr>\n",
       "    <tr>\n",
       "      <th>Riots</th>\n",
       "      <td>6</td>\n",
       "    </tr>\n",
       "    <tr>\n",
       "      <th>Strategic developments</th>\n",
       "      <td>0</td>\n",
       "    </tr>\n",
       "    <tr>\n",
       "      <th>Violence against civilians</th>\n",
       "      <td>55</td>\n",
       "    </tr>\n",
       "  </tbody>\n",
       "</table>\n",
       "</div>"
      ],
      "text/plain": [
       "                            fatalities\n",
       "event_type                            \n",
       "Battles                              4\n",
       "Explosions/Remote violence           7\n",
       "Protests                             3\n",
       "Riots                                6\n",
       "Strategic developments               0\n",
       "Violence against civilians          55"
      ]
     },
     "execution_count": 14,
     "metadata": {},
     "output_type": "execute_result"
    },
    {
     "name": "stdout",
     "output_type": "stream",
     "text": [
      "China 2018\n"
     ]
    },
    {
     "data": {
      "text/html": [
       "<div>\n",
       "<style scoped>\n",
       "    .dataframe tbody tr th:only-of-type {\n",
       "        vertical-align: middle;\n",
       "    }\n",
       "\n",
       "    .dataframe tbody tr th {\n",
       "        vertical-align: top;\n",
       "    }\n",
       "\n",
       "    .dataframe thead th {\n",
       "        text-align: right;\n",
       "    }\n",
       "</style>\n",
       "<table border=\"1\" class=\"dataframe\">\n",
       "  <thead>\n",
       "    <tr style=\"text-align: right;\">\n",
       "      <th></th>\n",
       "      <th>fatalities</th>\n",
       "    </tr>\n",
       "    <tr>\n",
       "      <th>event_type</th>\n",
       "      <th></th>\n",
       "    </tr>\n",
       "  </thead>\n",
       "  <tbody>\n",
       "    <tr>\n",
       "      <th>Battles</th>\n",
       "      <td>4</td>\n",
       "    </tr>\n",
       "    <tr>\n",
       "      <th>Explosions/Remote violence</th>\n",
       "      <td>7</td>\n",
       "    </tr>\n",
       "    <tr>\n",
       "      <th>Protests</th>\n",
       "      <td>3</td>\n",
       "    </tr>\n",
       "    <tr>\n",
       "      <th>Riots</th>\n",
       "      <td>6</td>\n",
       "    </tr>\n",
       "    <tr>\n",
       "      <th>Strategic developments</th>\n",
       "      <td>0</td>\n",
       "    </tr>\n",
       "    <tr>\n",
       "      <th>Violence against civilians</th>\n",
       "      <td>55</td>\n",
       "    </tr>\n",
       "  </tbody>\n",
       "</table>\n",
       "</div>"
      ],
      "text/plain": [
       "                            fatalities\n",
       "event_type                            \n",
       "Battles                              4\n",
       "Explosions/Remote violence           7\n",
       "Protests                             3\n",
       "Riots                                6\n",
       "Strategic developments               0\n",
       "Violence against civilians          55"
      ]
     },
     "execution_count": 14,
     "metadata": {},
     "output_type": "execute_result"
    }
   ],
   "source": [
    "for c in east_asia['country'].unique():\n",
    "    temp=east_asia[east_asia['country'].str.contains(c)]\n",
    "    for y in east_asia['year'].unique():\n",
    "        print(c+' '+str(y))\n",
    "        temp[temp['country'].str.contains(c)].groupby('event_type').aggregate({'fatalities':'sum'})\n"
   ]
  },
  {
   "cell_type": "markdown",
   "id": "ca0d6e8f-95ba-4f8d-be8a-5f886e1a2f9c",
   "metadata": {},
   "source": [
    "## While Loops\n",
    "When the exact number of iterations in your loop depends on a condition, then a while loop can help you make iteration for as long as a logical true-false condition remains \"true\". This is called \"indefinite iteration\", and the while-loop structure lacks any kind of 'for' object to reference. It's basic structure is:\n",
    "\n",
    "`while i ... x: do(y)`\n",
    "\n",
    "In this example, the ellipsis `...` represents any kind of general Python operator (the kind we introduced in the previous chapter). So we might use a comparison operator `while i < 10`. This means you must set a starting value for `i` before the while-loop, and explicitly update the value of `i`:"
   ]
  },
  {
   "cell_type": "code",
   "execution_count": 2,
   "id": "20010867-777d-415c-9805-fbc563983237",
   "metadata": {},
   "outputs": [
    {
     "name": "stdout",
     "output_type": "stream",
     "text": [
      "0  is less than 10\n",
      "1  is less than 10\n",
      "2  is less than 10\n",
      "3  is less than 10\n",
      "4  is less than 10\n",
      "5  is less than 10\n",
      "6  is less than 10\n",
      "7  is less than 10\n",
      "8  is less than 10\n",
      "9  is less than 10\n"
     ]
    }
   ],
   "source": [
    "i=0 # manually set a starting value\n",
    "while i < 10:\n",
    "    print(i,' is less than 10')\n",
    "    i=i+1 # and manually increment the value of 'i' since there is no reference object to follow along"
   ]
  },
  {
   "cell_type": "markdown",
   "id": "d8223733-fad5-4ca8-8c89-c32765ba01a8",
   "metadata": {},
   "source": [
    "When you know the exact number of iterations you want to perform, while- and for-loops do the exact same thing by returning an increasing value of `i` at each step in the loop. However, you might not really know how many cases in your data match some sort of criteria, and you may, in that case, require a while loop to process. We'll illustrate with an example in the ACLED conflict data. Let's load the CSV data from the Central America region"
   ]
  },
  {
   "cell_type": "code",
   "execution_count": 8,
   "id": "96ed82e5-5fc2-4d31-a6bb-9968bbcd8f1b",
   "metadata": {},
   "outputs": [],
   "source": [
    "central_america = pd.read_csv('../../Data/ACLED/1900-01-01-2022-04-22-Central_America.csv')"
   ]
  },
  {
   "cell_type": "markdown",
   "id": "814cf02b-beb1-46a1-8571-4bf1fc28d2af",
   "metadata": {},
   "source": [
    "Now that we have a dataframe for Central America, we can give a working example of how a while-loop can help us with data cleaning and analysis. Imagine your research organization has a specific criteria for when a conflict event can be considered 'catastrophic': when a conflict event had eight fatalities or more. There are _many_ ways you could subset your dataframe in this way, including some you have already learned about in our chapters on pandas! This section we will try subsetting our data by the criteria `fatalities >= 8` inside a while-loop. \n",
    "\n",
    "Because the while condition immediately stops when the last evaluated value does _not_ meet the condition, we have to be sure that `fatalities` in our data is sorted in descending order from most to least fatalities. That way we can be sure the while-loop will not miss a value of eight or greater. We accomplish this with `pd.sort_values(ascending=False)`. The `reset_index()` function is also necessary in our example because sort shuffles the row index values, and you need to make them go in order from zero with reset_index(). Note: we are doing this to create an artifical or hypothetical dataset; you should normally never need to go through this much trouble to filter out values in a dataframe!"
   ]
  },
  {
   "cell_type": "code",
   "execution_count": 11,
   "id": "12d41945-fc71-432b-8db9-d23774d921a9",
   "metadata": {},
   "outputs": [],
   "source": [
    "# sort by descending values of atalities\n",
    "central_america_sorted = central_america.sort_values('fatalities',ascending=False)\n",
    "\n",
    "# sort_values does not re-organize the index numbers! Let's make them go from 0 to 1 again.\n",
    "central_america_sorted.reset_index(drop=True, inplace=True)"
   ]
  },
  {
   "cell_type": "markdown",
   "id": "55804d12-78fc-4ab6-b5cc-86d268c66ee5",
   "metadata": {},
   "source": [
    "You can now start iterating down the decreasing values of `fatalities` inside of a for-loop, with a nested while loop constantly checking our condition `fatalities>=8` is being met. So in a nutshell, the for-loop will give us the current row as we move top to bottom. We can take advantage of this to extract rows using `central_america.loc[[j]]`. We keep the value of `i` up to date inside the for loop, then call a while-loop that evaluates the value of `i`. If the whie condition remains true, we add a row to a new `catastrophic` dataframe, and then (this is critical!) __change the value of `i`__ to be less than eight to break free from the while-loop and return to the for-loop. Otherwise this loop prints the first value of `i` forever!."
   ]
  },
  {
   "cell_type": "code",
   "execution_count": 12,
   "id": "5ce029cf-b3bc-4320-81cf-846d9fb208b2",
   "metadata": {},
   "outputs": [
    {
     "name": "stdout",
     "output_type": "stream",
     "text": [
      "i = 20\n",
      "i = 19\n",
      "i = 18\n",
      "i = 17\n",
      "i = 14\n",
      "i = 12\n",
      "i = 12\n",
      "i = 11\n",
      "i = 9\n",
      "i = 9\n",
      "i = 9\n",
      "i = 8\n",
      "i = 8\n"
     ]
    },
    {
     "data": {
      "text/html": [
       "<div>\n",
       "<style scoped>\n",
       "    .dataframe tbody tr th:only-of-type {\n",
       "        vertical-align: middle;\n",
       "    }\n",
       "\n",
       "    .dataframe tbody tr th {\n",
       "        vertical-align: top;\n",
       "    }\n",
       "\n",
       "    .dataframe thead th {\n",
       "        text-align: right;\n",
       "    }\n",
       "</style>\n",
       "<table border=\"1\" class=\"dataframe\">\n",
       "  <thead>\n",
       "    <tr style=\"text-align: right;\">\n",
       "      <th></th>\n",
       "      <th>data_id</th>\n",
       "      <th>iso</th>\n",
       "      <th>event_id_cnty</th>\n",
       "      <th>event_id_no_cnty</th>\n",
       "      <th>event_date</th>\n",
       "      <th>year</th>\n",
       "      <th>time_precision</th>\n",
       "      <th>event_type</th>\n",
       "      <th>sub_event_type</th>\n",
       "      <th>actor1</th>\n",
       "      <th>...</th>\n",
       "      <th>location</th>\n",
       "      <th>latitude</th>\n",
       "      <th>longitude</th>\n",
       "      <th>geo_precision</th>\n",
       "      <th>source</th>\n",
       "      <th>source_scale</th>\n",
       "      <th>notes</th>\n",
       "      <th>fatalities</th>\n",
       "      <th>timestamp</th>\n",
       "      <th>iso3</th>\n",
       "    </tr>\n",
       "  </thead>\n",
       "  <tbody>\n",
       "    <tr>\n",
       "      <th>0</th>\n",
       "      <td>6926012</td>\n",
       "      <td>340</td>\n",
       "      <td>HND1224</td>\n",
       "      <td>1224</td>\n",
       "      <td>20 December 2019</td>\n",
       "      <td>2019</td>\n",
       "      <td>1</td>\n",
       "      <td>Riots</td>\n",
       "      <td>Mob violence</td>\n",
       "      <td>Rioters (Honduras)</td>\n",
       "      <td>...</td>\n",
       "      <td>Tela</td>\n",
       "      <td>15.7743</td>\n",
       "      <td>-87.4673</td>\n",
       "      <td>1</td>\n",
       "      <td>La Prensa (Honduras); El Heraldo (Honduras)</td>\n",
       "      <td>National</td>\n",
       "      <td>On 20 December 2019, in Tela, Atlantida, a mob...</td>\n",
       "      <td>20</td>\n",
       "      <td>1618530900</td>\n",
       "      <td>HND</td>\n",
       "    </tr>\n",
       "    <tr>\n",
       "      <th>1</th>\n",
       "      <td>6939157</td>\n",
       "      <td>340</td>\n",
       "      <td>HND1225</td>\n",
       "      <td>1225</td>\n",
       "      <td>22 December 2019</td>\n",
       "      <td>2019</td>\n",
       "      <td>1</td>\n",
       "      <td>Battles</td>\n",
       "      <td>Armed clash</td>\n",
       "      <td>MS-13: Mara Salvatrucha</td>\n",
       "      <td>...</td>\n",
       "      <td>El Porvenir</td>\n",
       "      <td>15.6660</td>\n",
       "      <td>-86.9105</td>\n",
       "      <td>1</td>\n",
       "      <td>El Heraldo (Honduras)</td>\n",
       "      <td>National</td>\n",
       "      <td>On 22 December 2019, in El Porvenir, Francisco...</td>\n",
       "      <td>19</td>\n",
       "      <td>1618530900</td>\n",
       "      <td>HND</td>\n",
       "    </tr>\n",
       "    <tr>\n",
       "      <th>2</th>\n",
       "      <td>7586581</td>\n",
       "      <td>340</td>\n",
       "      <td>HND3157</td>\n",
       "      <td>3157</td>\n",
       "      <td>22 December 2019</td>\n",
       "      <td>2019</td>\n",
       "      <td>1</td>\n",
       "      <td>Riots</td>\n",
       "      <td>Mob violence</td>\n",
       "      <td>Rioters (Honduras)</td>\n",
       "      <td>...</td>\n",
       "      <td>Tegucigalpa</td>\n",
       "      <td>14.0818</td>\n",
       "      <td>-87.2068</td>\n",
       "      <td>1</td>\n",
       "      <td>AFP</td>\n",
       "      <td>International</td>\n",
       "      <td>On 22 December 2019, in Tegucigalpa, Francisco...</td>\n",
       "      <td>18</td>\n",
       "      <td>1618531054</td>\n",
       "      <td>HND</td>\n",
       "    </tr>\n",
       "    <tr>\n",
       "      <th>3</th>\n",
       "      <td>7348738</td>\n",
       "      <td>558</td>\n",
       "      <td>NIC377</td>\n",
       "      <td>377</td>\n",
       "      <td>22 April 2018</td>\n",
       "      <td>2018</td>\n",
       "      <td>1</td>\n",
       "      <td>Protests</td>\n",
       "      <td>Excessive force against protesters</td>\n",
       "      <td>Protesters (Nicaragua)</td>\n",
       "      <td>...</td>\n",
       "      <td>Managua</td>\n",
       "      <td>12.1328</td>\n",
       "      <td>-86.2504</td>\n",
       "      <td>1</td>\n",
       "      <td>Organization of American States</td>\n",
       "      <td>Other</td>\n",
       "      <td>On 22 April 2018, seventeen people were killed...</td>\n",
       "      <td>17</td>\n",
       "      <td>1607554574</td>\n",
       "      <td>NIC</td>\n",
       "    </tr>\n",
       "    <tr>\n",
       "      <th>4</th>\n",
       "      <td>8828910</td>\n",
       "      <td>320</td>\n",
       "      <td>GTM4489</td>\n",
       "      <td>4489</td>\n",
       "      <td>17 December 2021</td>\n",
       "      <td>2021</td>\n",
       "      <td>1</td>\n",
       "      <td>Battles</td>\n",
       "      <td>Armed clash</td>\n",
       "      <td>Nahuala Communal Militia (Guatemala)</td>\n",
       "      <td>...</td>\n",
       "      <td>Chiquix</td>\n",
       "      <td>14.7998</td>\n",
       "      <td>-91.3977</td>\n",
       "      <td>1</td>\n",
       "      <td>El Periodico; Prensa Comunitaria; Prensa Libre...</td>\n",
       "      <td>Local partner-National</td>\n",
       "      <td>On 17 December 2021, in Chiquix, Solola, membe...</td>\n",
       "      <td>14</td>\n",
       "      <td>1644864568</td>\n",
       "      <td>GTM</td>\n",
       "    </tr>\n",
       "  </tbody>\n",
       "</table>\n",
       "<p>5 rows × 31 columns</p>\n",
       "</div>"
      ],
      "text/plain": [
       "   data_id  iso event_id_cnty  event_id_no_cnty        event_date  year  \\\n",
       "0  6926012  340       HND1224              1224  20 December 2019  2019   \n",
       "1  6939157  340       HND1225              1225  22 December 2019  2019   \n",
       "2  7586581  340       HND3157              3157  22 December 2019  2019   \n",
       "3  7348738  558        NIC377               377     22 April 2018  2018   \n",
       "4  8828910  320       GTM4489              4489  17 December 2021  2021   \n",
       "\n",
       "   time_precision event_type                      sub_event_type  \\\n",
       "0               1      Riots                        Mob violence   \n",
       "1               1    Battles                         Armed clash   \n",
       "2               1      Riots                        Mob violence   \n",
       "3               1   Protests  Excessive force against protesters   \n",
       "4               1    Battles                         Armed clash   \n",
       "\n",
       "                                 actor1  ...     location  latitude longitude  \\\n",
       "0                    Rioters (Honduras)  ...         Tela   15.7743  -87.4673   \n",
       "1               MS-13: Mara Salvatrucha  ...  El Porvenir   15.6660  -86.9105   \n",
       "2                    Rioters (Honduras)  ...  Tegucigalpa   14.0818  -87.2068   \n",
       "3                Protesters (Nicaragua)  ...      Managua   12.1328  -86.2504   \n",
       "4  Nahuala Communal Militia (Guatemala)  ...      Chiquix   14.7998  -91.3977   \n",
       "\n",
       "  geo_precision                                             source  \\\n",
       "0             1        La Prensa (Honduras); El Heraldo (Honduras)   \n",
       "1             1                              El Heraldo (Honduras)   \n",
       "2             1                                                AFP   \n",
       "3             1                    Organization of American States   \n",
       "4             1  El Periodico; Prensa Comunitaria; Prensa Libre...   \n",
       "\n",
       "             source_scale                                              notes  \\\n",
       "0                National  On 20 December 2019, in Tela, Atlantida, a mob...   \n",
       "1                National  On 22 December 2019, in El Porvenir, Francisco...   \n",
       "2           International  On 22 December 2019, in Tegucigalpa, Francisco...   \n",
       "3                   Other  On 22 April 2018, seventeen people were killed...   \n",
       "4  Local partner-National  On 17 December 2021, in Chiquix, Solola, membe...   \n",
       "\n",
       "  fatalities   timestamp iso3  \n",
       "0         20  1618530900  HND  \n",
       "1         19  1618530900  HND  \n",
       "2         18  1618531054  HND  \n",
       "3         17  1607554574  NIC  \n",
       "4         14  1644864568  GTM  \n",
       "\n",
       "[5 rows x 31 columns]"
      ]
     },
     "execution_count": 12,
     "metadata": {},
     "output_type": "execute_result"
    }
   ],
   "source": [
    "# make an empty dataframe to take subset data\n",
    "catastrophic=[]\n",
    "catastrophic=pd.DataFrame(catastrophic)\n",
    "\n",
    "\n",
    "for j in range(len(central_america_sorted['fatalities'])):\n",
    "    i = central_america_sorted.loc[j,'fatalities'] # update `i` with the value for fatalities in row 'j' of central_america\n",
    "    while i >= 8:\n",
    "        print('i =',i)\n",
    "        catastrophic = pd.concat([catastrophic,central_america_sorted.loc[[j]]])       \n",
    "        i=0 # reset i to a value less than 10 to break out of the current while loop... or else\n",
    "\n",
    "catastrophic.head()"
   ]
  },
  {
   "cell_type": "markdown",
   "id": "235a9135-5b3c-4473-8cb6-3d23a9fde54e",
   "metadata": {},
   "source": [
    "## Conditional Statements\n",
    "Although we used the logic of while and for-loops to iterate over a desired amount of steps in our previous examples, we could have employed conditional statements inside of the loops to fine-tune our code. \n",
    "\n",
    "### If\n",
    "The first of these is the 'if' statement, the most common and useful of them all. Using the same example as we used when explaining while-loops, you could have made a different for-loop altogether with a simple if statement. \n",
    "\n",
    "The basic syntax for if statements is:\n",
    "\n",
    "`if x ... z: do(y)`"
   ]
  },
  {
   "cell_type": "code",
   "execution_count": 42,
   "id": "12064588-3904-437e-9a58-74fd48a963ed",
   "metadata": {},
   "outputs": [
    {
     "name": "stdout",
     "output_type": "stream",
     "text": [
      "0 < 5\n"
     ]
    }
   ],
   "source": [
    "i = 0\n",
    "if i < 5: \n",
    "    print(i,'< 5') # this is true and will print\n",
    "\n",
    "i = 10\n",
    "if i < 5: \n",
    "    print(i,'< 5') # this will print nothing because it evaluates as false"
   ]
  },
  {
   "cell_type": "markdown",
   "id": "46bc079a-8504-451a-b1c7-187a9b72cd29",
   "metadata": {},
   "source": [
    "Now you could replace the while statement from the previous example with an if statement! In fact, 'if' is more generalizable than 'while' so we can go ahead and use the unsorted Central America dataframe and iterate over the whole data while checking our condition at each step. Only when fatalities >= 8 will we call the concat() function to add rows to the new dataframe."
   ]
  },
  {
   "cell_type": "code",
   "execution_count": 43,
   "id": "2611d365-fc0c-4a0f-9aab-bb5dd9d6a087",
   "metadata": {},
   "outputs": [
    {
     "name": "stdout",
     "output_type": "stream",
     "text": [
      "x = 20\n",
      "x = 19\n",
      "x = 18\n",
      "x = 17\n",
      "x = 14\n",
      "x = 12\n",
      "x = 12\n",
      "x = 11\n",
      "x = 9\n",
      "x = 9\n",
      "x = 9\n",
      "x = 8\n",
      "x = 8\n"
     ]
    },
    {
     "data": {
      "text/html": [
       "<div>\n",
       "<style scoped>\n",
       "    .dataframe tbody tr th:only-of-type {\n",
       "        vertical-align: middle;\n",
       "    }\n",
       "\n",
       "    .dataframe tbody tr th {\n",
       "        vertical-align: top;\n",
       "    }\n",
       "\n",
       "    .dataframe thead th {\n",
       "        text-align: right;\n",
       "    }\n",
       "</style>\n",
       "<table border=\"1\" class=\"dataframe\">\n",
       "  <thead>\n",
       "    <tr style=\"text-align: right;\">\n",
       "      <th></th>\n",
       "      <th>data_id</th>\n",
       "      <th>iso</th>\n",
       "      <th>event_id_cnty</th>\n",
       "      <th>event_id_no_cnty</th>\n",
       "      <th>event_date</th>\n",
       "      <th>year</th>\n",
       "      <th>time_precision</th>\n",
       "      <th>event_type</th>\n",
       "      <th>sub_event_type</th>\n",
       "      <th>actor1</th>\n",
       "      <th>...</th>\n",
       "      <th>location</th>\n",
       "      <th>latitude</th>\n",
       "      <th>longitude</th>\n",
       "      <th>geo_precision</th>\n",
       "      <th>source</th>\n",
       "      <th>source_scale</th>\n",
       "      <th>notes</th>\n",
       "      <th>fatalities</th>\n",
       "      <th>timestamp</th>\n",
       "      <th>iso3</th>\n",
       "    </tr>\n",
       "  </thead>\n",
       "  <tbody>\n",
       "    <tr>\n",
       "      <th>0</th>\n",
       "      <td>6926012</td>\n",
       "      <td>340</td>\n",
       "      <td>HND1224</td>\n",
       "      <td>1224</td>\n",
       "      <td>20 December 2019</td>\n",
       "      <td>2019</td>\n",
       "      <td>1</td>\n",
       "      <td>Riots</td>\n",
       "      <td>Mob violence</td>\n",
       "      <td>Rioters (Honduras)</td>\n",
       "      <td>...</td>\n",
       "      <td>Tela</td>\n",
       "      <td>15.7743</td>\n",
       "      <td>-87.4673</td>\n",
       "      <td>1</td>\n",
       "      <td>La Prensa (Honduras); El Heraldo (Honduras)</td>\n",
       "      <td>National</td>\n",
       "      <td>On 20 December 2019, in Tela, Atlantida, a mob...</td>\n",
       "      <td>20</td>\n",
       "      <td>1618530900</td>\n",
       "      <td>HND</td>\n",
       "    </tr>\n",
       "    <tr>\n",
       "      <th>1</th>\n",
       "      <td>6939157</td>\n",
       "      <td>340</td>\n",
       "      <td>HND1225</td>\n",
       "      <td>1225</td>\n",
       "      <td>22 December 2019</td>\n",
       "      <td>2019</td>\n",
       "      <td>1</td>\n",
       "      <td>Battles</td>\n",
       "      <td>Armed clash</td>\n",
       "      <td>MS-13: Mara Salvatrucha</td>\n",
       "      <td>...</td>\n",
       "      <td>El Porvenir</td>\n",
       "      <td>15.6660</td>\n",
       "      <td>-86.9105</td>\n",
       "      <td>1</td>\n",
       "      <td>El Heraldo (Honduras)</td>\n",
       "      <td>National</td>\n",
       "      <td>On 22 December 2019, in El Porvenir, Francisco...</td>\n",
       "      <td>19</td>\n",
       "      <td>1618530900</td>\n",
       "      <td>HND</td>\n",
       "    </tr>\n",
       "    <tr>\n",
       "      <th>2</th>\n",
       "      <td>7586581</td>\n",
       "      <td>340</td>\n",
       "      <td>HND3157</td>\n",
       "      <td>3157</td>\n",
       "      <td>22 December 2019</td>\n",
       "      <td>2019</td>\n",
       "      <td>1</td>\n",
       "      <td>Riots</td>\n",
       "      <td>Mob violence</td>\n",
       "      <td>Rioters (Honduras)</td>\n",
       "      <td>...</td>\n",
       "      <td>Tegucigalpa</td>\n",
       "      <td>14.0818</td>\n",
       "      <td>-87.2068</td>\n",
       "      <td>1</td>\n",
       "      <td>AFP</td>\n",
       "      <td>International</td>\n",
       "      <td>On 22 December 2019, in Tegucigalpa, Francisco...</td>\n",
       "      <td>18</td>\n",
       "      <td>1618531054</td>\n",
       "      <td>HND</td>\n",
       "    </tr>\n",
       "    <tr>\n",
       "      <th>3</th>\n",
       "      <td>7348738</td>\n",
       "      <td>558</td>\n",
       "      <td>NIC377</td>\n",
       "      <td>377</td>\n",
       "      <td>22 April 2018</td>\n",
       "      <td>2018</td>\n",
       "      <td>1</td>\n",
       "      <td>Protests</td>\n",
       "      <td>Excessive force against protesters</td>\n",
       "      <td>Protesters (Nicaragua)</td>\n",
       "      <td>...</td>\n",
       "      <td>Managua</td>\n",
       "      <td>12.1328</td>\n",
       "      <td>-86.2504</td>\n",
       "      <td>1</td>\n",
       "      <td>Organization of American States</td>\n",
       "      <td>Other</td>\n",
       "      <td>On 22 April 2018, seventeen people were killed...</td>\n",
       "      <td>17</td>\n",
       "      <td>1607554574</td>\n",
       "      <td>NIC</td>\n",
       "    </tr>\n",
       "    <tr>\n",
       "      <th>4</th>\n",
       "      <td>8828910</td>\n",
       "      <td>320</td>\n",
       "      <td>GTM4489</td>\n",
       "      <td>4489</td>\n",
       "      <td>17 December 2021</td>\n",
       "      <td>2021</td>\n",
       "      <td>1</td>\n",
       "      <td>Battles</td>\n",
       "      <td>Armed clash</td>\n",
       "      <td>Nahuala Communal Militia (Guatemala)</td>\n",
       "      <td>...</td>\n",
       "      <td>Chiquix</td>\n",
       "      <td>14.7998</td>\n",
       "      <td>-91.3977</td>\n",
       "      <td>1</td>\n",
       "      <td>El Periodico; Prensa Comunitaria; Prensa Libre...</td>\n",
       "      <td>Local partner-National</td>\n",
       "      <td>On 17 December 2021, in Chiquix, Solola, membe...</td>\n",
       "      <td>14</td>\n",
       "      <td>1644864568</td>\n",
       "      <td>GTM</td>\n",
       "    </tr>\n",
       "  </tbody>\n",
       "</table>\n",
       "<p>5 rows × 31 columns</p>\n",
       "</div>"
      ],
      "text/plain": [
       "   data_id  iso event_id_cnty  event_id_no_cnty        event_date  year  \\\n",
       "0  6926012  340       HND1224              1224  20 December 2019  2019   \n",
       "1  6939157  340       HND1225              1225  22 December 2019  2019   \n",
       "2  7586581  340       HND3157              3157  22 December 2019  2019   \n",
       "3  7348738  558        NIC377               377     22 April 2018  2018   \n",
       "4  8828910  320       GTM4489              4489  17 December 2021  2021   \n",
       "\n",
       "   time_precision event_type                      sub_event_type  \\\n",
       "0               1      Riots                        Mob violence   \n",
       "1               1    Battles                         Armed clash   \n",
       "2               1      Riots                        Mob violence   \n",
       "3               1   Protests  Excessive force against protesters   \n",
       "4               1    Battles                         Armed clash   \n",
       "\n",
       "                                 actor1  ...     location  latitude longitude  \\\n",
       "0                    Rioters (Honduras)  ...         Tela   15.7743  -87.4673   \n",
       "1               MS-13: Mara Salvatrucha  ...  El Porvenir   15.6660  -86.9105   \n",
       "2                    Rioters (Honduras)  ...  Tegucigalpa   14.0818  -87.2068   \n",
       "3                Protesters (Nicaragua)  ...      Managua   12.1328  -86.2504   \n",
       "4  Nahuala Communal Militia (Guatemala)  ...      Chiquix   14.7998  -91.3977   \n",
       "\n",
       "  geo_precision                                             source  \\\n",
       "0             1        La Prensa (Honduras); El Heraldo (Honduras)   \n",
       "1             1                              El Heraldo (Honduras)   \n",
       "2             1                                                AFP   \n",
       "3             1                    Organization of American States   \n",
       "4             1  El Periodico; Prensa Comunitaria; Prensa Libre...   \n",
       "\n",
       "             source_scale                                              notes  \\\n",
       "0                National  On 20 December 2019, in Tela, Atlantida, a mob...   \n",
       "1                National  On 22 December 2019, in El Porvenir, Francisco...   \n",
       "2           International  On 22 December 2019, in Tegucigalpa, Francisco...   \n",
       "3                   Other  On 22 April 2018, seventeen people were killed...   \n",
       "4  Local partner-National  On 17 December 2021, in Chiquix, Solola, membe...   \n",
       "\n",
       "  fatalities   timestamp iso3  \n",
       "0         20  1618530900  HND  \n",
       "1         19  1618530900  HND  \n",
       "2         18  1618531054  HND  \n",
       "3         17  1607554574  NIC  \n",
       "4         14  1644864568  GTM  \n",
       "\n",
       "[5 rows x 31 columns]"
      ]
     },
     "execution_count": 43,
     "metadata": {},
     "output_type": "execute_result"
    }
   ],
   "source": [
    "# make an empty dataframe to take subset data again\n",
    "catastrophic=[]\n",
    "catastrophic=pd.DataFrame(catastrophic)\n",
    "\n",
    "\n",
    "for i in range(len(central_america['fatalities'])):\n",
    "    x = central_america_sorted.loc[i,'fatalities'] # update `x` with the value for fatalities in row 'i' of central_america\n",
    "    if x >= 8:\n",
    "        print('x =',x)\n",
    "        catastrophic = pd.concat([catastrophic,central_america_sorted.loc[[i]]])       \n",
    "\n",
    "catastrophic.head()"
   ]
  },
  {
   "cell_type": "markdown",
   "id": "55e73863-c971-4918-a80f-eef695215eeb",
   "metadata": {},
   "source": [
    "### Else\n",
    "The followup to an unmet 'if' condition is else. The else statement is useful when you are interested in the two complementary/opposite outcomes of your if statement When the if condition is true, you perform function y, but if it is false, do function b! The statement's syntax is for two lines: \n",
    "\n",
    "```\n",
    "if x ... z: do(y)\n",
    "\n",
    "else: do(b)\n",
    "```"
   ]
  },
  {
   "cell_type": "code",
   "execution_count": 44,
   "id": "e0591b66-bdd1-48ff-9a18-ece7177f3d51",
   "metadata": {},
   "outputs": [
    {
     "name": "stdout",
     "output_type": "stream",
     "text": [
      "0 < 5\n",
      "10 > 5\n"
     ]
    }
   ],
   "source": [
    "i = 0\n",
    "if i < 5: \n",
    "    print(i,'< 5') # this is true and will print\n",
    "else: \n",
    "    print(i,'> 5') # this is not true and will not print\n",
    "\n",
    "# inversely\n",
    "i = 10\n",
    "if i < 5: \n",
    "    print(i,'< 5')\n",
    "else: \n",
    "    print(i,'> 5') "
   ]
  },
  {
   "cell_type": "markdown",
   "id": "fc735b3e-02a9-4476-bc3d-6b1aaf71305e",
   "metadata": {},
   "source": [
    "We will keep our example simple and repeat the previous if statement, but add an else statement. This would mean something must happen for any observations where `fatalities` are _less than_ eight. Let's make another dataframe for non-catastrophic events. This loop is unfortunately very inefficient because it inserts a new row to the dataframe over each iteration for almost twenty thousand rows. So let it run for a moment until your kernel status says \"Idle\", and ponder why Python programmers say you should not loop over pandas dataframes. "
   ]
  },
  {
   "cell_type": "code",
   "execution_count": 45,
   "id": "c98af45f-9235-4627-b17d-af94be36220a",
   "metadata": {},
   "outputs": [],
   "source": [
    "# make an empty dataframe to take subset data again\n",
    "catastrophic=[]\n",
    "catastrophic=pd.DataFrame(catastrophic)\n",
    "non_catastrophic=[]\n",
    "non_catastrophic=pd.DataFrame(catastrophic)\n",
    "\n",
    "\n",
    "for i in range(len(central_america['fatalities'])):\n",
    "    x = central_america_sorted.loc[i,'fatalities'] # update `x` with the value for fatalities in row 'i' of central_america\n",
    "    if x >= 8:\n",
    "        catastrophic = pd.concat([catastrophic,central_america_sorted.loc[[i]]])\n",
    "    else: \n",
    "        non_catastrophic = pd.concat([non_catastrophic,central_america_sorted.loc[[i]]]) "
   ]
  },
  {
   "cell_type": "code",
   "execution_count": 47,
   "id": "55cd74e0-0d22-4b8c-952c-03528a5f3157",
   "metadata": {},
   "outputs": [
    {
     "data": {
      "text/plain": [
       "(13, 31)"
      ]
     },
     "execution_count": 47,
     "metadata": {},
     "output_type": "execute_result"
    },
    {
     "data": {
      "text/plain": [
       "(17218, 31)"
      ]
     },
     "execution_count": 47,
     "metadata": {},
     "output_type": "execute_result"
    }
   ],
   "source": [
    "catastrophic.shape\n",
    "non_catastrophic.shape"
   ]
  },
  {
   "cell_type": "markdown",
   "id": "2822b728-0365-445e-ad6f-42a824745202",
   "metadata": {},
   "source": [
    "### Elif\n",
    "When you have more than two conditions, 'elif' provides the second condition after 'if', but before the catch-all 'else' statement. The syntax is three lines this time:\n",
    "\n",
    "```\n",
    "if x ... z: do(y)\n",
    "\n",
    "elif x ... w: do(a)\n",
    "\n",
    "else: do(b)\n",
    "```"
   ]
  },
  {
   "cell_type": "code",
   "execution_count": 32,
   "id": "7607ed62-274e-418a-950a-04bb290c6fdc",
   "metadata": {},
   "outputs": [
    {
     "name": "stdout",
     "output_type": "stream",
     "text": [
      "0 = 0\n"
     ]
    }
   ],
   "source": [
    "i = 0\n",
    "if i < 0: \n",
    "    print(i,'< 0') # this is true and will print\n",
    "\n",
    "elif i == 0:\n",
    "    print(i,'= 0')\n",
    "    \n",
    "else: \n",
    "    print(i,'> 5') # this is not true and will not print"
   ]
  },
  {
   "cell_type": "markdown",
   "id": "c3d33d2e-b260-44c6-bc9a-8c84f94483da",
   "metadata": {},
   "source": [
    "In total an 'elif' statement combined with 'if' and 'else' let you create three conditions for your data. If we go back to the ACLED example, our justification was some arbitrary cutoff value where events with eight fatalities or more were categorized as catastrophic. Now lets imagine a new category called 'deadly' for any events with one to seven fatalities. Any other events would be 'non-deadly'. This would be a clear use-case for the elif statement with our same data-sorting exercise. In our elif condition, we also get to utilize the `and` operator to create an inclusive bucket of values between 1 and 7."
   ]
  },
  {
   "cell_type": "code",
   "execution_count": 46,
   "id": "3feec85e-7c7b-422c-82a7-3406c41c8b89",
   "metadata": {},
   "outputs": [],
   "source": [
    "# make an empty dataframe to take subset data again\n",
    "catastrophic=[]\n",
    "catastrophic=pd.DataFrame(catastrophic)\n",
    "deadly=[]\n",
    "deadly=pd.DataFrame(deadly)\n",
    "non_deadly=[]\n",
    "non_deadly=pd.DataFrame(catastrophic)\n",
    "\n",
    "\n",
    "for i in range(len(central_america['fatalities'])):\n",
    "    x = central_america_sorted.loc[i,'fatalities'] # update `x` with the value for fatalities in row 'i' of central_america\n",
    "    if x >= 8:\n",
    "        catastrophic = pd.concat([catastrophic,central_america_sorted.loc[[i]]])\n",
    "    elif x <= 7 and x > 0 :\n",
    "        deadly =  pd.concat([deadly,central_america_sorted.loc[[i]]])\n",
    "    else: \n",
    "        non_deadly = pd.concat([non_deadly,central_america_sorted.loc[[i]]]) "
   ]
  },
  {
   "cell_type": "code",
   "execution_count": 50,
   "id": "4537f9e9-21e3-46e7-b167-11491abfe9c0",
   "metadata": {},
   "outputs": [
    {
     "data": {
      "text/plain": [
       "count    13.000000\n",
       "mean     12.769231\n",
       "std       4.380903\n",
       "min       8.000000\n",
       "25%       9.000000\n",
       "50%      12.000000\n",
       "75%      17.000000\n",
       "max      20.000000\n",
       "Name: fatalities, dtype: float64"
      ]
     },
     "execution_count": 50,
     "metadata": {},
     "output_type": "execute_result"
    },
    {
     "data": {
      "text/plain": [
       "count    6966.000000\n",
       "mean        1.328309\n",
       "std         0.739818\n",
       "min         1.000000\n",
       "25%         1.000000\n",
       "50%         1.000000\n",
       "75%         1.000000\n",
       "max         7.000000\n",
       "Name: fatalities, dtype: float64"
      ]
     },
     "execution_count": 50,
     "metadata": {},
     "output_type": "execute_result"
    },
    {
     "data": {
      "text/plain": [
       "count    10252.0\n",
       "mean         0.0\n",
       "std          0.0\n",
       "min          0.0\n",
       "25%          0.0\n",
       "50%          0.0\n",
       "75%          0.0\n",
       "max          0.0\n",
       "Name: fatalities, dtype: float64"
      ]
     },
     "execution_count": 50,
     "metadata": {},
     "output_type": "execute_result"
    }
   ],
   "source": [
    "# inspect the fatalities ranges for each dataframe\n",
    "catastrophic['fatalities'].describe()\n",
    "deadly['fatalities'].describe()\n",
    "non_deadly['fatalities'].describe()"
   ]
  },
  {
   "cell_type": "markdown",
   "id": "65291501-292d-4fa1-9b3a-92c800bf6ed2",
   "metadata": {},
   "source": [
    "## Break and Continue\n",
    "There are two loop-specific statements that can interrupt the normal iteration process: __Break__ and __Continue__. The first is an early exit condition, which terminates whatever kind of loop is happening based on some logical statement, normally for your `i` variable. In fact, we could use break or continue to perform the same task as our `fatalities >= 8` examples above.\n",
    "\n",
    "### Break\n",
    "Using the `central_america` dataframe that is sorted by most to least fatalities per event, we can tell it to iterate down the ordered list and stop when fatalities are less than or equal to eight. This works by adding the following syntax into our loop:\n",
    "\n",
    "`if x = y: break`"
   ]
  },
  {
   "cell_type": "code",
   "execution_count": 10,
   "id": "81897193-8b7e-4f24-9142-d6e1e1b14bb2",
   "metadata": {},
   "outputs": [
    {
     "name": "stdout",
     "output_type": "stream",
     "text": [
      "0 is less than 10\n",
      "1 is less than 10\n",
      "2 is less than 10\n",
      "3 is less than 10\n",
      "4 is less than 10\n"
     ]
    }
   ],
   "source": [
    "i=0 # manually set a starting value\n",
    "while i < 10:\n",
    "    print(i,'is less than 10')\n",
    "    if i == 4: \n",
    "        break\n",
    "    i=i+1 "
   ]
  },
  {
   "cell_type": "markdown",
   "id": "c171e729-645f-4641-bd07-abef524171ab",
   "metadata": {},
   "source": [
    "Let's repeat the creation of the `catastrophic` dataframe from the previous cell, but remove the nested while-loop in favor of a break:"
   ]
  },
  {
   "cell_type": "code",
   "execution_count": 19,
   "id": "1daf25db-5e04-4c49-b75c-f32a63db7ab0",
   "metadata": {},
   "outputs": [
    {
     "name": "stdout",
     "output_type": "stream",
     "text": [
      "b = 20\n",
      "b = 19\n",
      "b = 18\n",
      "b = 17\n",
      "b = 14\n",
      "b = 12\n",
      "b = 12\n",
      "b = 11\n",
      "b = 9\n",
      "b = 9\n",
      "b = 9\n",
      "b = 8\n",
      "b = 8\n",
      "b = 7\n"
     ]
    },
    {
     "data": {
      "text/html": [
       "<div>\n",
       "<style scoped>\n",
       "    .dataframe tbody tr th:only-of-type {\n",
       "        vertical-align: middle;\n",
       "    }\n",
       "\n",
       "    .dataframe tbody tr th {\n",
       "        vertical-align: top;\n",
       "    }\n",
       "\n",
       "    .dataframe thead th {\n",
       "        text-align: right;\n",
       "    }\n",
       "</style>\n",
       "<table border=\"1\" class=\"dataframe\">\n",
       "  <thead>\n",
       "    <tr style=\"text-align: right;\">\n",
       "      <th></th>\n",
       "      <th>data_id</th>\n",
       "      <th>iso</th>\n",
       "      <th>event_id_cnty</th>\n",
       "      <th>event_id_no_cnty</th>\n",
       "      <th>event_date</th>\n",
       "      <th>year</th>\n",
       "      <th>time_precision</th>\n",
       "      <th>event_type</th>\n",
       "      <th>sub_event_type</th>\n",
       "      <th>actor1</th>\n",
       "      <th>...</th>\n",
       "      <th>location</th>\n",
       "      <th>latitude</th>\n",
       "      <th>longitude</th>\n",
       "      <th>geo_precision</th>\n",
       "      <th>source</th>\n",
       "      <th>source_scale</th>\n",
       "      <th>notes</th>\n",
       "      <th>fatalities</th>\n",
       "      <th>timestamp</th>\n",
       "      <th>iso3</th>\n",
       "    </tr>\n",
       "  </thead>\n",
       "  <tbody>\n",
       "    <tr>\n",
       "      <th>8</th>\n",
       "      <td>7170132</td>\n",
       "      <td>340</td>\n",
       "      <td>HND1805</td>\n",
       "      <td>1805</td>\n",
       "      <td>19 July 2020</td>\n",
       "      <td>2020</td>\n",
       "      <td>1</td>\n",
       "      <td>Violence against civilians</td>\n",
       "      <td>Attack</td>\n",
       "      <td>Unidentified Armed Group (Honduras)</td>\n",
       "      <td>...</td>\n",
       "      <td>Yoro</td>\n",
       "      <td>15.1375</td>\n",
       "      <td>-87.1278</td>\n",
       "      <td>1</td>\n",
       "      <td>El Heraldo (Honduras)</td>\n",
       "      <td>National</td>\n",
       "      <td>On 19 July 2020, in Yoro, Yoro, armed men inte...</td>\n",
       "      <td>9</td>\n",
       "      <td>1618499953</td>\n",
       "      <td>HND</td>\n",
       "    </tr>\n",
       "    <tr>\n",
       "      <th>9</th>\n",
       "      <td>7348763</td>\n",
       "      <td>558</td>\n",
       "      <td>NIC498</td>\n",
       "      <td>498</td>\n",
       "      <td>16 June 2018</td>\n",
       "      <td>2018</td>\n",
       "      <td>1</td>\n",
       "      <td>Protests</td>\n",
       "      <td>Excessive force against protesters</td>\n",
       "      <td>Protesters (Nicaragua)</td>\n",
       "      <td>...</td>\n",
       "      <td>Managua</td>\n",
       "      <td>12.1328</td>\n",
       "      <td>-86.2504</td>\n",
       "      <td>3</td>\n",
       "      <td>Organization of American States</td>\n",
       "      <td>Other</td>\n",
       "      <td>On 16 June 2018, nine people were killed durin...</td>\n",
       "      <td>9</td>\n",
       "      <td>1607554574</td>\n",
       "      <td>NIC</td>\n",
       "    </tr>\n",
       "    <tr>\n",
       "      <th>10</th>\n",
       "      <td>7348757</td>\n",
       "      <td>558</td>\n",
       "      <td>NIC441</td>\n",
       "      <td>441</td>\n",
       "      <td>30 May 2018</td>\n",
       "      <td>2018</td>\n",
       "      <td>1</td>\n",
       "      <td>Protests</td>\n",
       "      <td>Excessive force against protesters</td>\n",
       "      <td>Protesters (Nicaragua)</td>\n",
       "      <td>...</td>\n",
       "      <td>Managua</td>\n",
       "      <td>12.1328</td>\n",
       "      <td>-86.2504</td>\n",
       "      <td>1</td>\n",
       "      <td>Organization of American States</td>\n",
       "      <td>Other</td>\n",
       "      <td>On 30 May 2018, nine people were killed during...</td>\n",
       "      <td>9</td>\n",
       "      <td>1607554574</td>\n",
       "      <td>NIC</td>\n",
       "    </tr>\n",
       "    <tr>\n",
       "      <th>11</th>\n",
       "      <td>7338467</td>\n",
       "      <td>340</td>\n",
       "      <td>HND2803</td>\n",
       "      <td>2803</td>\n",
       "      <td>19 October 2018</td>\n",
       "      <td>2018</td>\n",
       "      <td>1</td>\n",
       "      <td>Violence against civilians</td>\n",
       "      <td>Attack</td>\n",
       "      <td>Unidentified Gang (Honduras)</td>\n",
       "      <td>...</td>\n",
       "      <td>Comayaguela</td>\n",
       "      <td>14.1059</td>\n",
       "      <td>-87.2328</td>\n",
       "      <td>1</td>\n",
       "      <td>El Heraldo (Honduras)</td>\n",
       "      <td>National</td>\n",
       "      <td>On 19 October 2018, in Comayaguela, Francisco ...</td>\n",
       "      <td>8</td>\n",
       "      <td>1618531021</td>\n",
       "      <td>HND</td>\n",
       "    </tr>\n",
       "    <tr>\n",
       "      <th>12</th>\n",
       "      <td>7994371</td>\n",
       "      <td>340</td>\n",
       "      <td>HND3578</td>\n",
       "      <td>3578</td>\n",
       "      <td>08 May 2021</td>\n",
       "      <td>2021</td>\n",
       "      <td>1</td>\n",
       "      <td>Battles</td>\n",
       "      <td>Armed clash</td>\n",
       "      <td>Unidentified Armed Group (Honduras)</td>\n",
       "      <td>...</td>\n",
       "      <td>Saba</td>\n",
       "      <td>15.5214</td>\n",
       "      <td>-86.2238</td>\n",
       "      <td>2</td>\n",
       "      <td>La Tribuna (Honduras)</td>\n",
       "      <td>National</td>\n",
       "      <td>On 8 May 2021, close to Saba, Colon, an armed ...</td>\n",
       "      <td>8</td>\n",
       "      <td>1621892119</td>\n",
       "      <td>HND</td>\n",
       "    </tr>\n",
       "  </tbody>\n",
       "</table>\n",
       "<p>5 rows × 31 columns</p>\n",
       "</div>"
      ],
      "text/plain": [
       "    data_id  iso event_id_cnty  event_id_no_cnty       event_date  year  \\\n",
       "8   7170132  340       HND1805              1805     19 July 2020  2020   \n",
       "9   7348763  558        NIC498               498     16 June 2018  2018   \n",
       "10  7348757  558        NIC441               441      30 May 2018  2018   \n",
       "11  7338467  340       HND2803              2803  19 October 2018  2018   \n",
       "12  7994371  340       HND3578              3578      08 May 2021  2021   \n",
       "\n",
       "    time_precision                  event_type  \\\n",
       "8                1  Violence against civilians   \n",
       "9                1                    Protests   \n",
       "10               1                    Protests   \n",
       "11               1  Violence against civilians   \n",
       "12               1                     Battles   \n",
       "\n",
       "                        sub_event_type                               actor1  \\\n",
       "8                               Attack  Unidentified Armed Group (Honduras)   \n",
       "9   Excessive force against protesters               Protesters (Nicaragua)   \n",
       "10  Excessive force against protesters               Protesters (Nicaragua)   \n",
       "11                              Attack         Unidentified Gang (Honduras)   \n",
       "12                         Armed clash  Unidentified Armed Group (Honduras)   \n",
       "\n",
       "    ...     location  latitude longitude geo_precision  \\\n",
       "8   ...         Yoro   15.1375  -87.1278             1   \n",
       "9   ...      Managua   12.1328  -86.2504             3   \n",
       "10  ...      Managua   12.1328  -86.2504             1   \n",
       "11  ...  Comayaguela   14.1059  -87.2328             1   \n",
       "12  ...         Saba   15.5214  -86.2238             2   \n",
       "\n",
       "                             source  source_scale  \\\n",
       "8             El Heraldo (Honduras)      National   \n",
       "9   Organization of American States         Other   \n",
       "10  Organization of American States         Other   \n",
       "11            El Heraldo (Honduras)      National   \n",
       "12            La Tribuna (Honduras)      National   \n",
       "\n",
       "                                                notes fatalities   timestamp  \\\n",
       "8   On 19 July 2020, in Yoro, Yoro, armed men inte...          9  1618499953   \n",
       "9   On 16 June 2018, nine people were killed durin...          9  1607554574   \n",
       "10  On 30 May 2018, nine people were killed during...          9  1607554574   \n",
       "11  On 19 October 2018, in Comayaguela, Francisco ...          8  1618531021   \n",
       "12  On 8 May 2021, close to Saba, Colon, an armed ...          8  1621892119   \n",
       "\n",
       "   iso3  \n",
       "8   HND  \n",
       "9   NIC  \n",
       "10  NIC  \n",
       "11  HND  \n",
       "12  HND  \n",
       "\n",
       "[5 rows x 31 columns]"
      ]
     },
     "execution_count": 19,
     "metadata": {},
     "output_type": "execute_result"
    }
   ],
   "source": [
    "# make an empty dataframe again to take subset data\n",
    "catastrophic=[]\n",
    "catastrophic=pd.DataFrame(catastrophic)\n",
    "\n",
    "for i in range(len(central_america['fatalities'])):\n",
    "    b = central_america.loc[i,'fatalities'] # update `b` with the value for fatalities in row 'i' of central_america\n",
    "    print('b =',b)\n",
    "    if b < 8: break\n",
    "    catastrophic = pd.concat([catastrophic,central_america.loc[[i]]])         \n",
    "\n",
    "catastrophic.tail() # Look at the last rows to see if the new dataframe picked up seven fatalities"
   ]
  },
  {
   "cell_type": "markdown",
   "id": "a204f084-c5c1-4f70-8fe6-46f5591c4dcf",
   "metadata": {},
   "source": [
    "An important detail to remember when using `break` is that your loop will end when the condition is met, and any functions before the break will still take place. In the cell above, print() iterated until seven because the function is right before the break statement. The assignment of the rows to the `catastrophic` dataframe, on the other hand, did not include a row where fatalities was equal to seven because we called concat() _after_ the break. \n",
    "\n",
    "### Continue\n",
    "Another solution to the same problem lies in the continue command. Continue works by skipping a function if some criteria is met, and moving to the next iteration. The syntax is quite the same:\n",
    "\n",
    "`if x = y: continue`"
   ]
  },
  {
   "cell_type": "code",
   "execution_count": 12,
   "id": "3b69cc08-24a5-4383-856e-c0e532db8020",
   "metadata": {},
   "outputs": [
    {
     "name": "stdout",
     "output_type": "stream",
     "text": [
      "4 = 4\n"
     ]
    }
   ],
   "source": [
    "for i in range(10): \n",
    "    if i != 4:  \n",
    "        continue # skip over every value of 'i' except 4\n",
    "    print(i,'= 4')"
   ]
  },
  {
   "cell_type": "markdown",
   "id": "33ee1380-0192-4ab8-a25d-8b3a0bed2f63",
   "metadata": {},
   "source": [
    "What's quite useful about the continue statement is that you don't need to worry about whether the 'fatalities` variable is sorted when we begin to iterate along the data. Reload the Central America object from the CSV file so that the rows are in their original order, with fatalities in no particular order of values. "
   ]
  },
  {
   "cell_type": "code",
   "execution_count": 3,
   "id": "b838ab5f-75c7-416b-8a33-3fb1b35e4004",
   "metadata": {},
   "outputs": [],
   "source": [
    "central_america = pd.read_csv('../../Data/ACLED/1900-01-01-2022-04-22-Central_America.csv')"
   ]
  },
  {
   "cell_type": "markdown",
   "id": "41028af3-8ec8-4e01-b6d7-80680d2f4a93",
   "metadata": {},
   "source": [
    "You can once again reuse the for-loop from our two previous examples and replace the segment where we had the while statement and the break statement with a continue statement. Once again, be very aware of what python functions you place above or below the continue statement; if we had placed print() above the continue statement, the function would have printed for every row of the full dataframe. "
   ]
  },
  {
   "cell_type": "code",
   "execution_count": 4,
   "id": "d5508a62-addb-456f-8aff-2dbc98e0c026",
   "metadata": {},
   "outputs": [
    {
     "name": "stdout",
     "output_type": "stream",
     "text": [
      "c = 14\n",
      "c = 12\n",
      "c = 8\n",
      "c = 9\n",
      "c = 19\n",
      "c = 18\n",
      "c = 20\n",
      "c = 8\n",
      "c = 11\n",
      "c = 9\n",
      "c = 9\n",
      "c = 17\n",
      "c = 12\n"
     ]
    }
   ],
   "source": [
    "# make an empty dataframe again to take subset data\n",
    "catastrophic=[]\n",
    "catastrophic=pd.DataFrame(catastrophic)\n",
    "\n",
    "for i in range(len(central_america['fatalities'])):\n",
    "    c = central_america.loc[i,'fatalities'] # update `c` with the value for fatalities in row 'i' of central_america\n",
    "    if c < 8: continue # if fatalities are less than eight, skip this entry, don't print and don't concatenate\n",
    "    print('c =',c)\n",
    "    catastrophic = pd.concat([catastrophic,central_america.loc[[i]]])"
   ]
  },
  {
   "cell_type": "code",
   "execution_count": 5,
   "id": "27b89780-1a4b-41af-9532-6cd3500107a8",
   "metadata": {},
   "outputs": [
    {
     "data": {
      "text/html": [
       "<div>\n",
       "<style scoped>\n",
       "    .dataframe tbody tr th:only-of-type {\n",
       "        vertical-align: middle;\n",
       "    }\n",
       "\n",
       "    .dataframe tbody tr th {\n",
       "        vertical-align: top;\n",
       "    }\n",
       "\n",
       "    .dataframe thead th {\n",
       "        text-align: right;\n",
       "    }\n",
       "</style>\n",
       "<table border=\"1\" class=\"dataframe\">\n",
       "  <thead>\n",
       "    <tr style=\"text-align: right;\">\n",
       "      <th></th>\n",
       "      <th>data_id</th>\n",
       "      <th>iso</th>\n",
       "      <th>event_id_cnty</th>\n",
       "      <th>event_id_no_cnty</th>\n",
       "      <th>event_date</th>\n",
       "      <th>year</th>\n",
       "      <th>time_precision</th>\n",
       "      <th>event_type</th>\n",
       "      <th>sub_event_type</th>\n",
       "      <th>actor1</th>\n",
       "      <th>...</th>\n",
       "      <th>location</th>\n",
       "      <th>latitude</th>\n",
       "      <th>longitude</th>\n",
       "      <th>geo_precision</th>\n",
       "      <th>source</th>\n",
       "      <th>source_scale</th>\n",
       "      <th>notes</th>\n",
       "      <th>fatalities</th>\n",
       "      <th>timestamp</th>\n",
       "      <th>iso3</th>\n",
       "    </tr>\n",
       "  </thead>\n",
       "  <tbody>\n",
       "    <tr>\n",
       "      <th>1124</th>\n",
       "      <td>8828910</td>\n",
       "      <td>320</td>\n",
       "      <td>GTM4489</td>\n",
       "      <td>4489</td>\n",
       "      <td>17 December 2021</td>\n",
       "      <td>2021</td>\n",
       "      <td>1</td>\n",
       "      <td>Battles</td>\n",
       "      <td>Armed clash</td>\n",
       "      <td>Nahuala Communal Militia (Guatemala)</td>\n",
       "      <td>...</td>\n",
       "      <td>Chiquix</td>\n",
       "      <td>14.7998</td>\n",
       "      <td>-91.3977</td>\n",
       "      <td>1</td>\n",
       "      <td>El Periodico; Prensa Comunitaria; Prensa Libre...</td>\n",
       "      <td>Local partner-National</td>\n",
       "      <td>On 17 December 2021, in Chiquix, Solola, membe...</td>\n",
       "      <td>14</td>\n",
       "      <td>1644864568</td>\n",
       "      <td>GTM</td>\n",
       "    </tr>\n",
       "    <tr>\n",
       "      <th>2259</th>\n",
       "      <td>8544416</td>\n",
       "      <td>558</td>\n",
       "      <td>NIC722</td>\n",
       "      <td>722</td>\n",
       "      <td>23 August 2021</td>\n",
       "      <td>2021</td>\n",
       "      <td>1</td>\n",
       "      <td>Violence against civilians</td>\n",
       "      <td>Attack</td>\n",
       "      <td>Unidentified Communal Militia (Nicaragua)</td>\n",
       "      <td>...</td>\n",
       "      <td>Bonanza</td>\n",
       "      <td>14.0309</td>\n",
       "      <td>-84.5929</td>\n",
       "      <td>2</td>\n",
       "      <td>Trinchera (Nicaragua); La Prensa Libre (Costa ...</td>\n",
       "      <td>National-Regional</td>\n",
       "      <td>On 23 August 2021, near Bonanza, Costa Caribe,...</td>\n",
       "      <td>12</td>\n",
       "      <td>1632159713</td>\n",
       "      <td>NIC</td>\n",
       "    </tr>\n",
       "    <tr>\n",
       "      <th>3565</th>\n",
       "      <td>7994371</td>\n",
       "      <td>340</td>\n",
       "      <td>HND3578</td>\n",
       "      <td>3578</td>\n",
       "      <td>08 May 2021</td>\n",
       "      <td>2021</td>\n",
       "      <td>1</td>\n",
       "      <td>Battles</td>\n",
       "      <td>Armed clash</td>\n",
       "      <td>Unidentified Armed Group (Honduras)</td>\n",
       "      <td>...</td>\n",
       "      <td>Saba</td>\n",
       "      <td>15.5214</td>\n",
       "      <td>-86.2238</td>\n",
       "      <td>2</td>\n",
       "      <td>La Tribuna (Honduras)</td>\n",
       "      <td>National</td>\n",
       "      <td>On 8 May 2021, close to Saba, Colon, an armed ...</td>\n",
       "      <td>8</td>\n",
       "      <td>1621892119</td>\n",
       "      <td>HND</td>\n",
       "    </tr>\n",
       "    <tr>\n",
       "      <th>6861</th>\n",
       "      <td>7170132</td>\n",
       "      <td>340</td>\n",
       "      <td>HND1805</td>\n",
       "      <td>1805</td>\n",
       "      <td>19 July 2020</td>\n",
       "      <td>2020</td>\n",
       "      <td>1</td>\n",
       "      <td>Violence against civilians</td>\n",
       "      <td>Attack</td>\n",
       "      <td>Unidentified Armed Group (Honduras)</td>\n",
       "      <td>...</td>\n",
       "      <td>Yoro</td>\n",
       "      <td>15.1375</td>\n",
       "      <td>-87.1278</td>\n",
       "      <td>1</td>\n",
       "      <td>El Heraldo (Honduras)</td>\n",
       "      <td>National</td>\n",
       "      <td>On 19 July 2020, in Yoro, Yoro, armed men inte...</td>\n",
       "      <td>9</td>\n",
       "      <td>1618499953</td>\n",
       "      <td>HND</td>\n",
       "    </tr>\n",
       "    <tr>\n",
       "      <th>8552</th>\n",
       "      <td>6939157</td>\n",
       "      <td>340</td>\n",
       "      <td>HND1225</td>\n",
       "      <td>1225</td>\n",
       "      <td>22 December 2019</td>\n",
       "      <td>2019</td>\n",
       "      <td>1</td>\n",
       "      <td>Battles</td>\n",
       "      <td>Armed clash</td>\n",
       "      <td>MS-13: Mara Salvatrucha</td>\n",
       "      <td>...</td>\n",
       "      <td>El Porvenir</td>\n",
       "      <td>15.6660</td>\n",
       "      <td>-86.9105</td>\n",
       "      <td>1</td>\n",
       "      <td>El Heraldo (Honduras)</td>\n",
       "      <td>National</td>\n",
       "      <td>On 22 December 2019, in El Porvenir, Francisco...</td>\n",
       "      <td>19</td>\n",
       "      <td>1618530900</td>\n",
       "      <td>HND</td>\n",
       "    </tr>\n",
       "  </tbody>\n",
       "</table>\n",
       "<p>5 rows × 31 columns</p>\n",
       "</div>"
      ],
      "text/plain": [
       "      data_id  iso event_id_cnty  event_id_no_cnty        event_date  year  \\\n",
       "1124  8828910  320       GTM4489              4489  17 December 2021  2021   \n",
       "2259  8544416  558        NIC722               722    23 August 2021  2021   \n",
       "3565  7994371  340       HND3578              3578       08 May 2021  2021   \n",
       "6861  7170132  340       HND1805              1805      19 July 2020  2020   \n",
       "8552  6939157  340       HND1225              1225  22 December 2019  2019   \n",
       "\n",
       "      time_precision                  event_type sub_event_type  \\\n",
       "1124               1                     Battles    Armed clash   \n",
       "2259               1  Violence against civilians         Attack   \n",
       "3565               1                     Battles    Armed clash   \n",
       "6861               1  Violence against civilians         Attack   \n",
       "8552               1                     Battles    Armed clash   \n",
       "\n",
       "                                         actor1  ...     location  latitude  \\\n",
       "1124       Nahuala Communal Militia (Guatemala)  ...      Chiquix   14.7998   \n",
       "2259  Unidentified Communal Militia (Nicaragua)  ...      Bonanza   14.0309   \n",
       "3565        Unidentified Armed Group (Honduras)  ...         Saba   15.5214   \n",
       "6861        Unidentified Armed Group (Honduras)  ...         Yoro   15.1375   \n",
       "8552                    MS-13: Mara Salvatrucha  ...  El Porvenir   15.6660   \n",
       "\n",
       "     longitude geo_precision  \\\n",
       "1124  -91.3977             1   \n",
       "2259  -84.5929             2   \n",
       "3565  -86.2238             2   \n",
       "6861  -87.1278             1   \n",
       "8552  -86.9105             1   \n",
       "\n",
       "                                                 source  \\\n",
       "1124  El Periodico; Prensa Comunitaria; Prensa Libre...   \n",
       "2259  Trinchera (Nicaragua); La Prensa Libre (Costa ...   \n",
       "3565                              La Tribuna (Honduras)   \n",
       "6861                              El Heraldo (Honduras)   \n",
       "8552                              El Heraldo (Honduras)   \n",
       "\n",
       "                source_scale  \\\n",
       "1124  Local partner-National   \n",
       "2259       National-Regional   \n",
       "3565                National   \n",
       "6861                National   \n",
       "8552                National   \n",
       "\n",
       "                                                  notes fatalities  \\\n",
       "1124  On 17 December 2021, in Chiquix, Solola, membe...         14   \n",
       "2259  On 23 August 2021, near Bonanza, Costa Caribe,...         12   \n",
       "3565  On 8 May 2021, close to Saba, Colon, an armed ...          8   \n",
       "6861  On 19 July 2020, in Yoro, Yoro, armed men inte...          9   \n",
       "8552  On 22 December 2019, in El Porvenir, Francisco...         19   \n",
       "\n",
       "       timestamp iso3  \n",
       "1124  1644864568  GTM  \n",
       "2259  1632159713  NIC  \n",
       "3565  1621892119  HND  \n",
       "6861  1618499953  HND  \n",
       "8552  1618530900  HND  \n",
       "\n",
       "[5 rows x 31 columns]"
      ]
     },
     "execution_count": 5,
     "metadata": {},
     "output_type": "execute_result"
    }
   ],
   "source": [
    "catastrophic.head()"
   ]
  },
  {
   "cell_type": "markdown",
   "id": "db3363a5-ebe6-42bd-af20-728e0ae5eaa8",
   "metadata": {},
   "source": [
    "## Applied Example\n",
    "Loops don't apply just to an iterative process in data analysis. There are also uses related to project management where a you might need to perform repetitive tasks. When working with publicly available data, for example, files often come split into groups of years (Census data for example) or regions (like the ACLED conflict data). At the beginning of the chapter we shared an example of a task where your organization might require you to keep an up-to-date database of worldwide conflict reports. This means that part of your job would be to regularly download every region's CSV file from the ACLED website, load every CSV file into a data management software like this one, and merge each region's data into one large dataset for analysis and reporting. There are 16 ACLED regions, so you would be loading and merging a lot of files periodically. That's a lot of busywork you could automate for yourself with loops!\n",
    "\n",
    "First you would have to consider what it is exactly that you are iterating over. For example each time you download the data, you need to unzip 16 files. You can use the `ZipFile` package for this task. And every time you read csv data into python, you must write the `read_csv()` function. Then you have to use pandas' `concatenate()`. Let's look at what that code would look like without loops for three regions:"
   ]
  },
  {
   "cell_type": "raw",
   "id": "d3bcc8cb-4147-452e-89e4-72ac083850f3",
   "metadata": {},
   "source": [
    "# This is a 'raw' code cell. We dont actually want you to run any of this code. \n",
    "\n",
    "# unzip the compressed data into your ACLED data folder\n",
    "with ZipFile('../../Data/ACLED/1900-01-01-2022-04-22-Middle_East.csv.zip', 'r') as f:\n",
    "        f.extractall('../../Data/ACLED/')\n",
    "with ZipFile('../../Data/ACLED/1900-01-01-2022-04-22-South_Asia.csv.zip', 'r') as f:\n",
    "        f.extractall('../../Data/ACLED/')\n",
    "with ZipFile('../../Data/ACLED/1900-01-01-2022-04-22-Caribbean.csv.zip', 'r') as f:\n",
    "        f.extractall('../../Data/ACLED/')\n",
    "# and repeat 13 more times\n",
    "\n",
    "# load all of your csv files\n",
    "middle_east = pd.read_csv('../../Data/ACLED/1900-01-01-2022-04-22-Middle_East.csv', low_memory=False)\n",
    "south_asia = pd.read_csv('1900-01-01-2022-04-22-South_Asia.csv', low_memory=False)\n",
    "caribbean = pd.read_csv('../../Data/ACLED/1900-01-01-2022-04-22-Caribbean.csv.zip', low_memory=False)\n",
    "# and repeat 13 more times\n",
    "\n",
    "# merge all the loaded regions\n",
    "acled_merge=pd.concat([Southern_Africa, East_Asia, Southeast_Asia, Middle_Africa, \n",
    "                       Caucasus_and_Central_Asia, South_America, North_America, \n",
    "                       Northern_Africa, Central_America, Western_Africa, \n",
    "                       Europe, Caribbean, Eastern_Africa, Middle_East, Oceania])"
   ]
  },
  {
   "cell_type": "markdown",
   "id": "9b170a04-bd2a-4f5a-ab2f-ceb7d78ff1fc",
   "metadata": {},
   "source": [
    "Look closely at the lines of code you would have to write over and over, and think about what pieces of code repeat exactly every time. Think about what pieces of code change each time. To unzip the compressed CSV files, we are repeating everything except the specific file path (i.e.: `path/to/region.csv.zip`) and when reading the CSV files, we also repeat everything except the new object name and the CSV file path: `region = pd.read('/path/to/region.csv')`\n",
    "\n",
    "That means we are iterating over the actual files in your ACLED data folder. So how can we turn this into a python object that we can iterate along? You could write a list object with every file's full name and path, but that is onerous and can fail you if the file names change in the future (and files are guaranteed to change names at some point). Instead we can use Python's `os` package that lets you look at your local computer files and folders. \n",
    "\n",
    "The basic functions we can use are `getcwd()` to see our python project's working directory/folder, and `listdir()` that prints the full contents of a folder."
   ]
  },
  {
   "cell_type": "code",
   "execution_count": 5,
   "id": "621715b6-2604-4641-bacb-4cf560f2fe3c",
   "metadata": {},
   "outputs": [
    {
     "data": {
      "text/plain": [
       "'/home/fernando/Documents/UCLA/DataX/Python_for_Social_Science/lessons/control_structures'"
      ]
     },
     "execution_count": 5,
     "metadata": {},
     "output_type": "execute_result"
    },
    {
     "data": {
      "text/plain": [
       "['.ipynb_checkpoints', 'control_structures.ipynb']"
      ]
     },
     "execution_count": 5,
     "metadata": {},
     "output_type": "execute_result"
    },
    {
     "data": {
      "text/plain": [
       "['1900-01-01-2022-04-22-Southern_Africa.csv',\n",
       " '1900-01-01-2022-04-22-East_Asia.csv',\n",
       " '__MACOSX',\n",
       " '1900-01-01-2022-04-22-Southeast_Asia.csv',\n",
       " '.ipynb_checkpoints',\n",
       " '1900-01-01-2022-04-22-Middle_Africa.csv',\n",
       " '1900-01-01-2022-04-22-Caucasus_and_Central_Asia.csv',\n",
       " '1900-01-01-2022-04-22-Middle_East.csv.zip',\n",
       " '1900-01-01-2022-04-22-South_Asia.csv.zip',\n",
       " '1900-01-01-2022-04-22-South_America.csv',\n",
       " '1900-01-01-2022-04-22-North_America.csv',\n",
       " '1900-01-01-2022-04-22-Northern_Africa.csv',\n",
       " '1900-01-01-2022-04-22-Central_America.csv',\n",
       " '1900-01-01-2022-04-22-Western_Africa.csv',\n",
       " '1900-01-01-2022-04-22-Europe.csv',\n",
       " '1900-01-01-2022-04-22-Caribbean.csv',\n",
       " '1900-01-01-2022-04-22-Eastern_Africa.csv',\n",
       " '1900-01-01-2022-04-22-Oceania.csv']"
      ]
     },
     "execution_count": 5,
     "metadata": {},
     "output_type": "execute_result"
    }
   ],
   "source": [
    "# Import the 'os' package that lets you browse your computer directories.\n",
    "import os\n",
    "os.getcwd() # current working directory\n",
    "os.listdir() # every file in the cwd\n",
    "os.listdir('../../Data/ACLED/') # every file in a specific folder\n"
   ]
  },
  {
   "cell_type": "markdown",
   "id": "fd7f7e32-3ea1-4abd-8641-777b3f4977dd",
   "metadata": {},
   "source": [
    "Looking more closely at the file paths in our code, there is still a constant unchanging segment of text:\n",
    "\n",
    "```\n",
    "../../Data/ACLED/1900-01-01-2022-04-22-Southern_Africa.csv\n",
    "../../Data/ACLED/1900-01-01-2022-04-22-East_Asia.csv\n",
    "etc..\n",
    "```\n",
    "\n",
    "Make a simple string object for the path to the data and you won't need to type this out again: `path = '../../Data/ACLED/'` and we will iterate over the file names themselves. So now we can make a list of file names to iterate over. First for any compressed zip files using list comprehension."
   ]
  },
  {
   "cell_type": "code",
   "execution_count": 12,
   "id": "72847181-90a7-452e-b748-1a7d8f01acb7",
   "metadata": {},
   "outputs": [
    {
     "data": {
      "text/plain": [
       "['1900-01-01-2022-04-22-Middle_East.csv.zip',\n",
       " '1900-01-01-2022-04-22-South_Asia.csv.zip']"
      ]
     },
     "execution_count": 12,
     "metadata": {},
     "output_type": "execute_result"
    },
    {
     "data": {
      "text/plain": [
       "'../../Data/ACLED/1900-01-01-2022-04-22-Middle_East.csv.zip'"
      ]
     },
     "execution_count": 12,
     "metadata": {},
     "output_type": "execute_result"
    }
   ],
   "source": [
    "# make a text vector that has the filenames of all the zip files in the data folder. we use list comprehension for this task\n",
    "path = '../../Data/ACLED/'\n",
    "zip_files = [i for i in os.listdir(path) if i.endswith('.zip')]\n",
    "zip_files\n",
    "path+zip_files[0]"
   ]
  },
  {
   "cell_type": "markdown",
   "id": "e790d0f4-61b9-4a3b-adef-ab1db3e509ba",
   "metadata": {},
   "source": [
    "Unzip all the files in your list. The syntax of the ZipFile function in our case is `with ZipFile(file, 'r') as f: f.extractall(path)`. In the command, 'file' refers to the complete path to the ZIP file we want to extract; the 'path' means which path/folder you want to extract into. In our case these values will be `Data/ACLED/region.csv.zip` and `Data/ACLED/`, respectively. Wrap the ZipFile function into a for loop that iterates over the zip files, and inside that loop create a `file_path` object that stores the full path + file name string for each file. remember that in this loop, `i` stands for every file name stored in zip_files."
   ]
  },
  {
   "cell_type": "code",
   "execution_count": 16,
   "id": "889c946d-9824-453d-a8dd-473ef316b9ff",
   "metadata": {},
   "outputs": [],
   "source": [
    "# import the zipfile package\n",
    "from zipfile import ZipFile \n",
    "\n",
    "# make sure you have the base path to the data\n",
    "path = '../../Data/ACLED/'\n",
    "\n",
    "# unzip it all in a simple for-loop\n",
    "for i in zip_files:\n",
    "    file_path=path+i # zipfile will need to know exactly the path and file to unzip\n",
    "    with ZipFile(file_path, 'r') as f:\n",
    "        f.extractall(path) # zipfile needs just the path to the data folder to unzip the csv files"
   ]
  },
  {
   "cell_type": "markdown",
   "id": "c6e849af-f9c9-487d-ba86-df99fcc11f16",
   "metadata": {},
   "source": [
    "Now that you have unzipped your ACLED CSV files, you can make another loop to read all the CSV files into Python. First create a list vector for all the CSV files in the ACLED directory. We can reuse the `path` object and change the `endswith()` search criteria from our previous list comprehension loop. "
   ]
  },
  {
   "cell_type": "code",
   "execution_count": 15,
   "id": "e1f232e3-da33-4e41-9b1c-ac8072d3751f",
   "metadata": {},
   "outputs": [
    {
     "data": {
      "text/plain": [
       "['1900-01-01-2022-04-22-South_Asia.csv',\n",
       " '1900-01-01-2022-04-22-Southern_Africa.csv',\n",
       " '1900-01-01-2022-04-22-East_Asia.csv',\n",
       " '1900-01-01-2022-04-22-Southeast_Asia.csv',\n",
       " '1900-01-01-2022-04-22-Middle_Africa.csv',\n",
       " '1900-01-01-2022-04-22-Caucasus_and_Central_Asia.csv',\n",
       " '1900-01-01-2022-04-22-South_America.csv',\n",
       " '1900-01-01-2022-04-22-North_America.csv',\n",
       " '1900-01-01-2022-04-22-Northern_Africa.csv',\n",
       " '1900-01-01-2022-04-22-Central_America.csv',\n",
       " '1900-01-01-2022-04-22-Western_Africa.csv',\n",
       " '1900-01-01-2022-04-22-Europe.csv',\n",
       " '1900-01-01-2022-04-22-Caribbean.csv',\n",
       " '1900-01-01-2022-04-22-Eastern_Africa.csv',\n",
       " '1900-01-01-2022-04-22-Middle_East.csv',\n",
       " '1900-01-01-2022-04-22-Oceania.csv']"
      ]
     },
     "execution_count": 15,
     "metadata": {},
     "output_type": "execute_result"
    }
   ],
   "source": [
    "csv_files = [i for i in os.listdir(path) if i.endswith('.csv')]\n",
    "csv_files"
   ]
  },
  {
   "cell_type": "markdown",
   "id": "389800a2-bcd2-4fb1-b238-22344705c75e",
   "metadata": {},
   "source": [
    "Now you can wrap `read_csv()` into a for loop that iterates over 'csv_files', just like you did with the ZipFiles function before. One difference is that we will be concatenating a new dataframe (`acled_merge`) such that every loop will add _x_ new observations to this dataframe. So, unlike our previous loop, we need to declare 'acled_merge' as an empty object, then change its data type to a pandas dataframe. Once you create the receiving dataframe, you can use it to receive the temporary data with `concat()`."
   ]
  },
  {
   "cell_type": "code",
   "execution_count": 19,
   "id": "b5660317-6cea-42c4-8057-927f2081087f",
   "metadata": {},
   "outputs": [
    {
     "data": {
      "text/plain": [
       "pandas.core.frame.DataFrame"
      ]
     },
     "execution_count": 19,
     "metadata": {},
     "output_type": "execute_result"
    },
    {
     "name": "stdout",
     "output_type": "stream",
     "text": [
      "For csv file \" 1900-01-01-2022-04-22-South_Asia.csv \" there are 7 unique countries\n",
      "For csv file \" 1900-01-01-2022-04-22-Southern_Africa.csv \" there are 8 unique countries\n",
      "For csv file \" 1900-01-01-2022-04-22-East_Asia.csv \" there are 6 unique countries\n",
      "For csv file \" 1900-01-01-2022-04-22-Southeast_Asia.csv \" there are 11 unique countries\n",
      "For csv file \" 1900-01-01-2022-04-22-Middle_Africa.csv \" there are 9 unique countries\n",
      "For csv file \" 1900-01-01-2022-04-22-Caucasus_and_Central_Asia.csv \" there are 9 unique countries\n",
      "For csv file \" 1900-01-01-2022-04-22-South_America.csv \" there are 14 unique countries\n",
      "For csv file \" 1900-01-01-2022-04-22-North_America.csv \" there are 5 unique countries\n",
      "For csv file \" 1900-01-01-2022-04-22-Northern_Africa.csv \" there are 6 unique countries\n",
      "For csv file \" 1900-01-01-2022-04-22-Central_America.csv \" there are 7 unique countries\n",
      "For csv file \" 1900-01-01-2022-04-22-Western_Africa.csv \" there are 16 unique countries\n",
      "For csv file \" 1900-01-01-2022-04-22-Europe.csv \" there are 52 unique countries\n",
      "For csv file \" 1900-01-01-2022-04-22-Caribbean.csv \" there are 27 unique countries\n",
      "For csv file \" 1900-01-01-2022-04-22-Eastern_Africa.csv \" there are 18 unique countries\n",
      "For csv file \" 1900-01-01-2022-04-22-Middle_East.csv \" there are 15 unique countries\n",
      "For csv file \" 1900-01-01-2022-04-22-Oceania.csv \" there are 18 unique countries\n"
     ]
    },
    {
     "data": {
      "text/plain": [
       "array(['India', 'Bangladesh', 'Nepal', 'Sri Lanka', 'Pakistan',\n",
       "       'Maldives', 'Bhutan', 'South Africa', 'Zambia', 'Zimbabwe',\n",
       "       'Namibia', 'Lesotho', 'eSwatini', 'Botswana',\n",
       "       'Saint Helena, Ascension and Tristan da Cunha', 'South Korea',\n",
       "       'Japan', 'Taiwan', 'Mongolia', 'North Korea', 'China', 'Myanmar',\n",
       "       'Philippines', 'Indonesia', 'Thailand', 'Malaysia', 'Cambodia',\n",
       "       'Singapore', 'Vietnam', 'East Timor', 'Laos', 'Brunei', 'Chad',\n",
       "       'Democratic Republic of Congo', 'Cameroon',\n",
       "       'Central African Republic', 'Angola', 'Gabon', 'Republic of Congo',\n",
       "       'Equatorial Guinea', 'Sao Tome and Principe', 'Afghanistan',\n",
       "       'Armenia', 'Kyrgyzstan', 'Kazakhstan', 'Georgia', 'Azerbaijan',\n",
       "       'Uzbekistan', 'Tajikistan', 'Turkmenistan', 'Colombia', 'Paraguay',\n",
       "       'Chile', 'Ecuador', 'Argentina', 'Brazil', 'Venezuela', 'Peru',\n",
       "       'Bolivia', 'French Guiana', 'Suriname', 'Guyana', 'Uruguay',\n",
       "       'Falkland Islands', 'Mexico', 'United States', 'Canada', 'Bermuda',\n",
       "       'Saint Pierre and Miquelon', 'Morocco', 'Tunisia', 'Egypt',\n",
       "       'Sudan', 'Algeria', 'Libya', 'Honduras', 'El Salvador', 'Panama',\n",
       "       'Nicaragua', 'Guatemala', 'Costa Rica', 'Belize', 'Mali',\n",
       "       'Nigeria', 'Mauritania', 'Ghana', 'Burkina Faso', 'Guinea',\n",
       "       'Senegal', 'Niger', 'Liberia', 'Benin', 'Ivory Coast', 'Togo',\n",
       "       'Sierra Leone', 'Cape Verde', 'Guinea-Bissau', 'Gambia', 'France',\n",
       "       'United Kingdom', 'Ireland', 'Italy', 'Belgium', 'Cyprus',\n",
       "       'Moldova', 'Russia', 'Sweden', 'Ukraine', 'Romania', 'Poland',\n",
       "       'Serbia', 'Bulgaria', 'Finland', 'Estonia',\n",
       "       'Bosnia and Herzegovina', 'North Macedonia', 'Slovakia',\n",
       "       'Montenegro', 'Czech Republic', 'Switzerland', 'Spain', 'Portugal',\n",
       "       'Germany', 'Austria', 'Greece', 'Croatia', 'Luxembourg',\n",
       "       'Slovenia', 'Latvia', 'Malta', 'Belarus', 'Denmark', 'Albania',\n",
       "       'Lithuania', 'Netherlands', 'Norway', 'Hungary', 'Kosovo',\n",
       "       'San Marino', 'Andorra', 'Iceland', 'Bailiwick of Guernsey',\n",
       "       'Liechtenstein', 'Monaco', 'Bailiwick of Jersey', 'Isle of Man',\n",
       "       'Greenland', 'Gibraltar', 'Vatican City', 'Faroe Islands',\n",
       "       'Jamaica', 'Trinidad and Tobago', 'Puerto Rico', 'Cuba',\n",
       "       'Dominican Republic', 'Antigua and Barbuda', 'Haiti',\n",
       "       'Saint-Barthelemy', 'Guadeloupe', 'Saint-Martin', 'Martinique',\n",
       "       'Saint Lucia', 'Montserrat', 'Caribbean Netherlands', 'Bahamas',\n",
       "       'Curacao', 'Aruba', 'Barbados', 'Sint Maarten', 'Dominica',\n",
       "       'Grenada', 'Saint Vincent and the Grenadines',\n",
       "       'Turks and Caicos Islands', 'Virgin Islands, U.S.', 'Anguilla',\n",
       "       'Cayman Islands', 'Saint Kitts and Nevis', 'Kenya', 'Somalia',\n",
       "       'Mauritius', 'Reunion', 'Ethiopia', 'Uganda', 'South Sudan',\n",
       "       'Malawi', 'Burundi', 'Madagascar', 'Mozambique', 'Comoros',\n",
       "       'Tanzania', 'Djibouti', 'Mayotte', 'Eritrea', 'Rwanda',\n",
       "       'Seychelles', 'Palestine', 'Turkey', 'Jordan', 'Israel', 'Lebanon',\n",
       "       'Iran', 'Iraq', 'Syria', 'Yemen', 'Bahrain', 'Saudi Arabia',\n",
       "       'United Arab Emirates', 'Kuwait', 'Oman', 'Qatar', 'Australia',\n",
       "       'New Zealand', 'New Caledonia', 'Papua New Guinea',\n",
       "       'French Polynesia', 'Solomon Islands', 'Wallis and Futuna',\n",
       "       'Samoa', 'Fiji', 'American Samoa', 'Guam', 'Christmas Island',\n",
       "       'Tonga', 'Kiribati', 'Northern Mariana Islands', 'Cook Islands',\n",
       "       'Vanuatu', 'Micronesia'], dtype=object)"
      ]
     },
     "execution_count": 19,
     "metadata": {},
     "output_type": "execute_result"
    }
   ],
   "source": [
    "import pandas as pd\n",
    "\n",
    "acled_merge=[]\n",
    "acled_merge=pd.DataFrame(acled_merge)\n",
    "\n",
    "for i in csv_files:\n",
    "    file_path=path+i\n",
    "    temp=pd.read_csv(file_path, low_memory=False)\n",
    "    acled_merge=pd.concat([acled_merge, temp])\n",
    "    print('For csv file \"',i , '\" there are', len(temp['country'].unique()), 'unique countries') # this is just to keep track of the loop"
   ]
  },
  {
   "cell_type": "code",
   "execution_count": 20,
   "id": "a3da5f47-12eb-4447-8b2b-7b5cf6398214",
   "metadata": {},
   "outputs": [
    {
     "name": "stdout",
     "output_type": "stream",
     "text": [
      "<class 'pandas.core.frame.DataFrame'>\n",
      "Index: 1399627 entries, 0 to 1734\n",
      "Data columns (total 31 columns):\n",
      " #   Column            Non-Null Count    Dtype  \n",
      "---  ------            --------------    -----  \n",
      " 0   data_id           1399627 non-null  int64  \n",
      " 1   iso               1399627 non-null  int64  \n",
      " 2   event_id_cnty     1399627 non-null  object \n",
      " 3   event_id_no_cnty  1399627 non-null  float64\n",
      " 4   event_date        1399627 non-null  object \n",
      " 5   year              1399627 non-null  int64  \n",
      " 6   time_precision    1399627 non-null  int64  \n",
      " 7   event_type        1399627 non-null  object \n",
      " 8   sub_event_type    1399627 non-null  object \n",
      " 9   actor1            1399627 non-null  object \n",
      " 10  assoc_actor_1     529562 non-null   object \n",
      " 11  inter1            1399627 non-null  int64  \n",
      " 12  actor2            717933 non-null   object \n",
      " 13  assoc_actor_2     179397 non-null   object \n",
      " 14  inter2            1399627 non-null  int64  \n",
      " 15  interaction       1399627 non-null  int64  \n",
      " 16  region            1399627 non-null  object \n",
      " 17  country           1399627 non-null  object \n",
      " 18  admin1            1399516 non-null  object \n",
      " 19  admin2            1348295 non-null  object \n",
      " 20  admin3            667120 non-null   object \n",
      " 21  location          1399624 non-null  object \n",
      " 22  latitude          1399627 non-null  float64\n",
      " 23  longitude         1399627 non-null  float64\n",
      " 24  geo_precision     1399627 non-null  int64  \n",
      " 25  source            1399627 non-null  object \n",
      " 26  source_scale      1399627 non-null  object \n",
      " 27  notes             1390339 non-null  object \n",
      " 28  fatalities        1399627 non-null  int64  \n",
      " 29  timestamp         1399627 non-null  int64  \n",
      " 30  iso3              1399627 non-null  object \n",
      "dtypes: float64(3), int64(10), object(18)\n",
      "memory usage: 341.7+ MB\n"
     ]
    }
   ],
   "source": [
    "acled_merge.info()"
   ]
  },
  {
   "cell_type": "code",
   "execution_count": 21,
   "id": "8c349b9c-7c49-46ac-b459-b3c39dfcb03e",
   "metadata": {},
   "outputs": [],
   "source": [
    "os.remove('../../Data/ACLED/1900-01-01-2022-04-22-South_Asia.csv')\n",
    "os.remove('../../Data/ACLED/1900-01-01-2022-04-22-Middle_East.csv')"
   ]
  },
  {
   "cell_type": "code",
   "execution_count": null,
   "id": "bed0b363-a698-4690-aec3-8b883d08ab7e",
   "metadata": {},
   "outputs": [],
   "source": [
    "# Save your work here\n",
    "%whos DataFrame"
   ]
  },
  {
   "cell_type": "markdown",
   "id": "21d9fe2d-95ce-4d60-bcfa-7765ee76c290",
   "metadata": {},
   "source": [
    "## To-do\n",
    "- Errors - logs, try-catch, debugging.\n",
    "    - debugging is here in the syllabus but seems out of place in this chapter.\n",
    "    - zach uses trycatch because he enters data line by line and you always want to catch this. logging, he'll write the error to a file and thats his log. for debugging he wants heuristics: interpreting an error message.\n",
    "    - This could be its own chapter. "
   ]
  }
 ],
 "metadata": {
  "kernelspec": {
   "display_name": "Python 3 (ipykernel)",
   "language": "python",
   "name": "python3"
  },
  "language_info": {
   "codemirror_mode": {
    "name": "ipython",
    "version": 3
   },
   "file_extension": ".py",
   "mimetype": "text/x-python",
   "name": "python",
   "nbconvert_exporter": "python",
   "pygments_lexer": "ipython3",
   "version": "3.11.7"
  }
 },
 "nbformat": 4,
 "nbformat_minor": 5
}
