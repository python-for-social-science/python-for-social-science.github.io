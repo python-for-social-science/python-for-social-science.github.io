{
 "cells": [
  {
   "cell_type": "markdown",
   "id": "aa11196b-1087-444f-a73a-7d85d833d23a",
   "metadata": {},
   "source": [
    "# Quantitative Methods\n",
    "\n",
    "You have seen a great deal of numeric and string variables in the datasets we've presented to you. You've manipulated basic text to make city, state, and county variables, for example. You have also created new numeric variables by calculating averages and percentages from other numeric variables. You will do a lot more with string variables next chapter; This chapter will be dedicated to taking a few steps further in the quantitative analysis of numbers. Regarding quantitative analysis, you have already calculated sums, percentages, and averages. You have been introduced to descriptive statistics in pandas' `describe()`. In the data visualization chapter you saw how two variables relate to one another on a two-dimensional plane. You have even learned how to group your data by different categories like state and country and thus compare and contrast your data. \n",
    "\n",
    "This chapter builds upon those same skills but adds some statistical rigor. Often it is enough to present numbers to an audience as naturally as possible with simple summaries, averages, etc. These descriptive statistics are familiar to most audiences. However, this familiarity comes with the risk of making claims and drawing conclusions that are often not warranted. Researchers must provide evidence that observed differences between groups (social groups, experimental and control groups, city/state/national populations, etc.) are meaningful, not attributable to chance, and not attributable to measurement error or bias. Statistics can help you back up your conclusions as long as you are rigorous and _transparent_ about your choice of statistical procedure!\n",
    "\n",
    "This is not an introduction to statistics course, and this single chapter cannot pretend to cover the breadth of the many models and procedures in statistics. Instead, we present applied examples of a handful of very commonly used statistical procedures that beginner social science researchers should know. The first set of statistical procedures are sample distribution tests, which determine whether one variable's observed values are different between groups in your sample data. The second set of procedures are about correlation and linear relationships, or how an observed quantity of _x_ matches (or influences!) the observed quantities of _y_.  \n",
    "\n",
    "This chapter will use the stats package `pingouin`, which __does not come pre-installed__ in anaconda. To get it, go to your Jupyter Lab launcher (the `+` button in the file navigator), open a new terminal, and install with the following command: `pip install pingouin`. Then you should be able to import the package in the cell below."
   ]
  },
  {
   "cell_type": "code",
   "execution_count": 2,
   "id": "ca7da75d-a8fe-41e8-a457-4be1fd58c0fd",
   "metadata": {},
   "outputs": [],
   "source": [
    "# This code cell will be in every one of our chapters in Jupyter Notebook\n",
    "# The function allows you to see every line of output when the code has multiple lines\n",
    "from IPython.core.interactiveshell import InteractiveShell\n",
    "InteractiveShell.ast_node_interactivity = 'all'\n",
    "\n",
    "# Load packages\n",
    "import pandas as pd\n",
    "import numpy as np\n",
    "import pingouin as pg\n",
    "import matplotlib.pyplot as plt"
   ]
  },
  {
   "cell_type": "markdown",
   "id": "4917d011-1620-44a7-b3b2-be5d77a749e5",
   "metadata": {},
   "source": [
    "# Placeholder data: ACS Housing"
   ]
  },
  {
   "cell_type": "code",
   "execution_count": 3,
   "id": "fa62a760-4418-498c-8df4-085c4c6c06ec",
   "metadata": {},
   "outputs": [],
   "source": [
    "housing = pd.read_csv('../../assignments/control_structures/housing.csv')\n",
    "\n",
    "# create the vacancy rate variable\n",
    "housing['VAC_RATE'] = (housing['VACANT']/housing['TOT_UNITS'])*100"
   ]
  },
  {
   "cell_type": "markdown",
   "id": "707d58eb-bfb9-4c19-87d8-8825853e87d0",
   "metadata": {},
   "source": [
    "## Continuous versus ordinal variables\n",
    "\n"
   ]
  },
  {
   "cell_type": "code",
   "execution_count": 4,
   "id": "37a5de89-c914-4488-95fa-f9bf6beb572c",
   "metadata": {},
   "outputs": [
    {
     "data": {
      "text/plain": [
       "count       57.000000\n",
       "mean      7445.789474\n",
       "std       7347.881545\n",
       "min        350.000000\n",
       "25%       2372.000000\n",
       "50%       4252.000000\n",
       "75%      10093.000000\n",
       "max      34169.000000\n",
       "Name: VACANT, dtype: float64"
      ]
     },
     "execution_count": 4,
     "metadata": {},
     "output_type": "execute_result"
    },
    {
     "data": {
      "text/plain": [
       "count       64.000000\n",
       "mean      7685.250000\n",
       "std      14844.377431\n",
       "min         96.000000\n",
       "25%       1788.500000\n",
       "50%       3346.000000\n",
       "75%       5704.500000\n",
       "max      95694.000000\n",
       "Name: VACANT, dtype: float64"
      ]
     },
     "execution_count": 4,
     "metadata": {},
     "output_type": "execute_result"
    },
    {
     "data": {
      "text/plain": [
       "<Axes: ylabel='Frequency'>"
      ]
     },
     "execution_count": 4,
     "metadata": {},
     "output_type": "execute_result"
    },
    {
     "data": {
      "text/plain": [
       "<Axes: ylabel='Frequency'>"
      ]
     },
     "execution_count": 4,
     "metadata": {},
     "output_type": "execute_result"
    },
    {
     "data": {
      "image/png": "[encoded data removed]",
      "text/plain": [
       "<Figure size 640x480 with 1 Axes>"
      ]
     },
     "metadata": {},
     "output_type": "display_data"
    }
   ],
   "source": [
    "fl_vacancy = housing[(housing['YEAR']==2022) & (housing['STATE'].str.contains('Florida'))]['VACANT']\n",
    "tx_vacancy = housing[(housing['YEAR']==2022) & (housing['STATE'].str.contains('Texas'))]['VACANT']\n",
    "fl_vacancy.describe()\n",
    "tx_vacancy.describe()\n",
    "\n",
    "# check normality with a histogram\n",
    "tx_vacancy.plot(kind='hist',bins=50)\n",
    "fl_vacancy.plot(kind='hist',bins=50)"
   ]
  },
  {
   "cell_type": "markdown",
   "id": "d137f4b6-afbd-4a7d-90ff-4055115b0a88",
   "metadata": {},
   "source": [
    "## Testing sample differences\n",
    "\n",
    "Talking about a statistic like a social scientist:\n",
    "- Null hypothesis and _alpha_\n",
    "- Alpha is a convention, but it is also a _choice_\n",
    "- p value and rejecting or not rejecting the null hypothesis.\n",
    "- large enough samples will almost always have a low p value!\n",
    "[documentation](https://docs.scipy.org/doc/scipy/reference/stats.html#independent-sample-tests)\n",
    "\n",
    "### T-test\n",
    "The 'independent samples t-test' is a staple for testing whether observed values are equivalent between different groups in the data. For the test to be robust and credible, you must be sure to meet three basic assumptions. First we assume the variables have a normal distribution, which implies a continuous variable type. Histograms and Shapiro-Wilk test or the Kolmogorov-Smirnov test can corroborate if the variables are normal. Assumption two is that both groups in the comparison are independent of each other. There is not quantitative test for this, you have to create the conditions for independen samples in your research design. The final assumption is that variances are equivalent between either group, and for that you may use Levene’s test or Bartlett’s test to diagnose this assumption. For now, let us rely on good intentions and unscientifically perform a t-test on the Florida and Texas vacancy variables. \n",
    "\n",
    "You will see the same statistics procedures run twice every code cell for the SciPy and pingouin functions. This is to show that you are not tied to one single package in Python, and that functions are not perfectly identical! You may often see one function return a slightly different statistic on the very same data, such as the t-tests below:"
   ]
  },
  {
   "cell_type": "code",
   "execution_count": 27,
   "id": "7359d4d3-10b5-4743-bf20-1ba11e2b1bb4",
   "metadata": {},
   "outputs": [
    {
     "data": {
      "text/plain": [
       "-0.1103120097223079"
      ]
     },
     "execution_count": 27,
     "metadata": {},
     "output_type": "execute_result"
    },
    {
     "data": {
      "text/plain": [
       "0.9123477568526748"
      ]
     },
     "execution_count": 27,
     "metadata": {},
     "output_type": "execute_result"
    },
    {
     "data": {
      "text/plain": [
       "False"
      ]
     },
     "execution_count": 27,
     "metadata": {},
     "output_type": "execute_result"
    },
    {
     "data": {
      "text/html": [
       "<div>\n",
       "<style scoped>\n",
       "    .dataframe tbody tr th:only-of-type {\n",
       "        vertical-align: middle;\n",
       "    }\n",
       "\n",
       "    .dataframe tbody tr th {\n",
       "        vertical-align: top;\n",
       "    }\n",
       "\n",
       "    .dataframe thead th {\n",
       "        text-align: right;\n",
       "    }\n",
       "</style>\n",
       "<table border=\"1\" class=\"dataframe\">\n",
       "  <thead>\n",
       "    <tr style=\"text-align: right;\">\n",
       "      <th></th>\n",
       "      <th>T</th>\n",
       "      <th>dof</th>\n",
       "      <th>alternative</th>\n",
       "      <th>p-val</th>\n",
       "      <th>CI95%</th>\n",
       "      <th>cohen-d</th>\n",
       "      <th>BF10</th>\n",
       "      <th>power</th>\n",
       "    </tr>\n",
       "  </thead>\n",
       "  <tbody>\n",
       "    <tr>\n",
       "      <th>T-test</th>\n",
       "      <td>-0.114285</td>\n",
       "      <td>94.394641</td>\n",
       "      <td>two-sided</td>\n",
       "      <td>0.909255</td>\n",
       "      <td>[-4399.5, 3920.58]</td>\n",
       "      <td>0.02009</td>\n",
       "      <td>0.195</td>\n",
       "      <td>0.051373</td>\n",
       "    </tr>\n",
       "  </tbody>\n",
       "</table>\n",
       "</div>"
      ],
      "text/plain": [
       "               T        dof alternative     p-val               CI95%  \\\n",
       "T-test -0.114285  94.394641   two-sided  0.909255  [-4399.5, 3920.58]   \n",
       "\n",
       "        cohen-d   BF10     power  \n",
       "T-test  0.02009  0.195  0.051373  "
      ]
     },
     "execution_count": 27,
     "metadata": {},
     "output_type": "execute_result"
    }
   ],
   "source": [
    "# SciPy method returns a t and p object which we can assign and call if we prefer\n",
    "from scipy.stats import ttest_ind\n",
    "t, p = ttest_ind(fl_vacancy, tx_vacancy)\n",
    "t\n",
    "p\n",
    "p < 0.05 # ask if the p-value is less than the alpha. If true, we reject the null hypothesis. If false, we do not reject the null hypothesis.\n",
    "\n",
    "# or pingouin's method\n",
    "pg.ttest(fl_vacancy, tx_vacancy)"
   ]
  },
  {
   "cell_type": "markdown",
   "id": "ea51ef51-c1aa-409c-bfa1-774f5ed35ae9",
   "metadata": {},
   "source": [
    "-conclusion and interpretation"
   ]
  },
  {
   "cell_type": "markdown",
   "id": "d685e821-7f41-47b2-998c-ca7c2c08866d",
   "metadata": {},
   "source": [
    "### Mann-Whitney U Test\n",
    "\n",
    "If your groups are independent but your data are not normally distributed, then a Mann-Whitney U test takes the place of the t-test. In the histograms for Florida and Texas' vacancies, we can observe the data do not fall into very neatly in a bell-curve shape. We can further corroborate wither the data are normal with the Shapiro-Wilk test (we'll just use the pingouin function this time)."
   ]
  },
  {
   "cell_type": "code",
   "execution_count": 24,
   "id": "62b71ad9-c37a-4def-9f85-f5c2081d9d07",
   "metadata": {},
   "outputs": [
    {
     "data": {
      "text/html": [
       "<div>\n",
       "<style scoped>\n",
       "    .dataframe tbody tr th:only-of-type {\n",
       "        vertical-align: middle;\n",
       "    }\n",
       "\n",
       "    .dataframe tbody tr th {\n",
       "        vertical-align: top;\n",
       "    }\n",
       "\n",
       "    .dataframe thead th {\n",
       "        text-align: right;\n",
       "    }\n",
       "</style>\n",
       "<table border=\"1\" class=\"dataframe\">\n",
       "  <thead>\n",
       "    <tr style=\"text-align: right;\">\n",
       "      <th></th>\n",
       "      <th>W</th>\n",
       "      <th>pval</th>\n",
       "      <th>normal</th>\n",
       "    </tr>\n",
       "  </thead>\n",
       "  <tbody>\n",
       "    <tr>\n",
       "      <th>VACANT</th>\n",
       "      <td>0.804725</td>\n",
       "      <td>3.042576e-07</td>\n",
       "      <td>False</td>\n",
       "    </tr>\n",
       "  </tbody>\n",
       "</table>\n",
       "</div>"
      ],
      "text/plain": [
       "               W          pval  normal\n",
       "VACANT  0.804725  3.042576e-07   False"
      ]
     },
     "execution_count": 24,
     "metadata": {},
     "output_type": "execute_result"
    },
    {
     "data": {
      "text/html": [
       "<div>\n",
       "<style scoped>\n",
       "    .dataframe tbody tr th:only-of-type {\n",
       "        vertical-align: middle;\n",
       "    }\n",
       "\n",
       "    .dataframe tbody tr th {\n",
       "        vertical-align: top;\n",
       "    }\n",
       "\n",
       "    .dataframe thead th {\n",
       "        text-align: right;\n",
       "    }\n",
       "</style>\n",
       "<table border=\"1\" class=\"dataframe\">\n",
       "  <thead>\n",
       "    <tr style=\"text-align: right;\">\n",
       "      <th></th>\n",
       "      <th>W</th>\n",
       "      <th>pval</th>\n",
       "      <th>normal</th>\n",
       "    </tr>\n",
       "  </thead>\n",
       "  <tbody>\n",
       "    <tr>\n",
       "      <th>VACANT</th>\n",
       "      <td>0.454427</td>\n",
       "      <td>4.821789e-14</td>\n",
       "      <td>False</td>\n",
       "    </tr>\n",
       "  </tbody>\n",
       "</table>\n",
       "</div>"
      ],
      "text/plain": [
       "               W          pval  normal\n",
       "VACANT  0.454427  4.821789e-14   False"
      ]
     },
     "execution_count": 24,
     "metadata": {},
     "output_type": "execute_result"
    }
   ],
   "source": [
    "pg.normality(fl_vacancy, method='shapiro') # method='shapiro' is a default value. Output is the same if we omit it\n",
    "pg.normality(tx_vacancy)"
   ]
  },
  {
   "cell_type": "markdown",
   "id": "d6a0013e-e3a0-477a-871e-9a2e79297ef7",
   "metadata": {},
   "source": [
    "They do not pass the test for normality, so let's see whether the distribution of vacancies in Florida and Texas are equivalent by using the non-paramteric Mann-Whitney U test. The SciPy version of [mannwhitneyu](https://docs.scipy.org/doc/scipy/reference/generated/scipy.stats.mannwhitneyu.html) will also return a tuple with values for `t` and `p`. The pingouin ['mwu'](https://pingouin-stats.org/build/html/generated/pingouin.mwu.html) function returns a dataframe object with a few more pieces of information. "
   ]
  },
  {
   "cell_type": "code",
   "execution_count": 26,
   "id": "b06ed28f-7e83-45ac-a71d-02d7f8cb45f2",
   "metadata": {},
   "outputs": [
    {
     "data": {
      "text/plain": [
       "MannwhitneyuResult(statistic=2151.0, pvalue=0.09005527453988317)"
      ]
     },
     "execution_count": 26,
     "metadata": {},
     "output_type": "execute_result"
    },
    {
     "data": {
      "text/plain": [
       "False"
      ]
     },
     "execution_count": 26,
     "metadata": {},
     "output_type": "execute_result"
    },
    {
     "data": {
      "text/html": [
       "<div>\n",
       "<style scoped>\n",
       "    .dataframe tbody tr th:only-of-type {\n",
       "        vertical-align: middle;\n",
       "    }\n",
       "\n",
       "    .dataframe tbody tr th {\n",
       "        vertical-align: top;\n",
       "    }\n",
       "\n",
       "    .dataframe thead th {\n",
       "        text-align: right;\n",
       "    }\n",
       "</style>\n",
       "<table border=\"1\" class=\"dataframe\">\n",
       "  <thead>\n",
       "    <tr style=\"text-align: right;\">\n",
       "      <th></th>\n",
       "      <th>U-val</th>\n",
       "      <th>alternative</th>\n",
       "      <th>p-val</th>\n",
       "      <th>RBC</th>\n",
       "      <th>CLES</th>\n",
       "    </tr>\n",
       "  </thead>\n",
       "  <tbody>\n",
       "    <tr>\n",
       "      <th>MWU</th>\n",
       "      <td>2151.0</td>\n",
       "      <td>two-sided</td>\n",
       "      <td>0.090002</td>\n",
       "      <td>-0.179276</td>\n",
       "      <td>0.589638</td>\n",
       "    </tr>\n",
       "  </tbody>\n",
       "</table>\n",
       "</div>"
      ],
      "text/plain": [
       "      U-val alternative     p-val       RBC      CLES\n",
       "MWU  2151.0   two-sided  0.090002 -0.179276  0.589638"
      ]
     },
     "execution_count": 26,
     "metadata": {},
     "output_type": "execute_result"
    }
   ],
   "source": [
    "# SciPy method\n",
    "from scipy.stats import mannwhitneyu\n",
    "mannwhitneyu(fl_vacancy, tx_vacancy, alternative=\"two-sided\", method=\"exact\")\n",
    "p < 0.05 # If true we reject the null-hypothesis; if false we do not reject the null-hypothesis\n",
    "\n",
    "# pingouin method\n",
    "pg.mwu(fl_vacancy, tx_vacancy, alternative='two-sided')"
   ]
  },
  {
   "cell_type": "markdown",
   "id": "da8114c5-33e3-42a6-8951-35199e38ce82",
   "metadata": {},
   "source": [
    "### Analysis of Variance (ANOVA)\n",
    "\n",
    "\n",
    "#### One-way ANOVA\n",
    "#### Two-Way ANOVA"
   ]
  },
  {
   "cell_type": "code",
   "execution_count": null,
   "id": "2d866e73-faa4-4b38-8350-17cec17bad84",
   "metadata": {},
   "outputs": [],
   "source": []
  },
  {
   "cell_type": "markdown",
   "id": "d4d90e2c-f060-4f0f-95b7-b8354d17bc2f",
   "metadata": {},
   "source": [
    "## Correlation\n",
    "To measure the association between two __continuous__ numeric variables, you can use Pearson's product-moment correlation coefficient, or _$\\rho$_ (pronounced Rho). You have options in numpy, SciPy, and pingouin."
   ]
  },
  {
   "cell_type": "code",
   "execution_count": 49,
   "id": "ed2431fb-a073-4717-8071-829f44cfabcb",
   "metadata": {},
   "outputs": [
    {
     "data": {
      "text/plain": [
       "11269.0"
      ]
     },
     "execution_count": 49,
     "metadata": {},
     "output_type": "execute_result"
    },
    {
     "data": {
      "text/plain": [
       "11269.0"
      ]
     },
     "execution_count": 49,
     "metadata": {},
     "output_type": "execute_result"
    },
    {
     "data": {
      "text/plain": [
       "106.155546251715"
      ]
     },
     "execution_count": 49,
     "metadata": {},
     "output_type": "execute_result"
    },
    {
     "data": {
      "text/plain": [
       "106.155546251715"
      ]
     },
     "execution_count": 49,
     "metadata": {},
     "output_type": "execute_result"
    }
   ],
   "source": [
    "# fictional data for ten students' SAT scores, and their GRE scores\n",
    "sat = np.array([590,420,680,760,550,660,720,450,600,680])\n",
    "gre = np.array([154,146,161,156,148,157,163,145,154,159])\n",
    "\n",
    "# make deviations and squared deviations from the mean\n",
    "sat_dev = sat-np.mean(sat)\n",
    "gre_dev = gre-np.mean(gre)\n",
    "\n",
    "sat_dev_sq = np.square(sat_dev)\n",
    "gre_dev_sq = np.square(gre_dev)\n",
    "\n",
    "# make variances \n",
    "sat_var = np.divide(np.sum(sat_dev_sq),(len(sat))) # divide sat squared deviations by sample size\n",
    "gre_var = np.divide(np.sum(gre_dev_sq),(len(gre)))\n",
    "# or \n",
    "np.var(sat)\n",
    "sat_var # check if they print the same values\n",
    "\n",
    "# make standard deviations\n",
    "sat_sd = np.sqrt(sat_var)\n",
    "gre_sd = np.sqrt(gre_var)\n",
    "# or\n",
    "np.std(sat)\n",
    "sat_sd # check if they print the same values"
   ]
  },
  {
   "cell_type": "code",
   "execution_count": 43,
   "id": "03e5aa8a-bfa9-4cb8-b4ce-74e5c8b0208e",
   "metadata": {},
   "outputs": [
    {
     "data": {
      "text/plain": [
       "0.8936358968444236"
      ]
     },
     "execution_count": 43,
     "metadata": {},
     "output_type": "execute_result"
    }
   ],
   "source": [
    "# calculate the pearson correlation between sat and gre scores\n",
    "np.sum((gre_dev*sat_dev)/(len(sat)*sat_sd*gre_sd))"
   ]
  },
  {
   "cell_type": "markdown",
   "id": "94ea990c-e191-4bf6-bca9-305fb53ee961",
   "metadata": {},
   "source": [
    "Of course you could avoid doing any of this by hand and use numpy's `corrcoef`, SciPy's `pearsonr`, or pingouin's `corr` functions. Note that unlike numpy, the latter two functions also provide a _p_ value for you to test a null hypothesis that no association exists between variables. "
   ]
  },
  {
   "cell_type": "code",
   "execution_count": 47,
   "id": "6b72e8aa-21c0-4fd0-a8ad-cf6af93e1795",
   "metadata": {},
   "outputs": [
    {
     "data": {
      "text/plain": [
       "array([[1.       , 0.8936359],\n",
       "       [0.8936359, 1.       ]])"
      ]
     },
     "execution_count": 47,
     "metadata": {},
     "output_type": "execute_result"
    },
    {
     "data": {
      "text/plain": [
       "0.8936358968444237"
      ]
     },
     "execution_count": 47,
     "metadata": {},
     "output_type": "execute_result"
    },
    {
     "data": {
      "text/plain": [
       "0.0004916093675106439"
      ]
     },
     "execution_count": 47,
     "metadata": {},
     "output_type": "execute_result"
    },
    {
     "data": {
      "text/html": [
       "<div>\n",
       "<style scoped>\n",
       "    .dataframe tbody tr th:only-of-type {\n",
       "        vertical-align: middle;\n",
       "    }\n",
       "\n",
       "    .dataframe tbody tr th {\n",
       "        vertical-align: top;\n",
       "    }\n",
       "\n",
       "    .dataframe thead th {\n",
       "        text-align: right;\n",
       "    }\n",
       "</style>\n",
       "<table border=\"1\" class=\"dataframe\">\n",
       "  <thead>\n",
       "    <tr style=\"text-align: right;\">\n",
       "      <th></th>\n",
       "      <th>n</th>\n",
       "      <th>r</th>\n",
       "      <th>CI95%</th>\n",
       "      <th>p-val</th>\n",
       "      <th>BF10</th>\n",
       "      <th>power</th>\n",
       "    </tr>\n",
       "  </thead>\n",
       "  <tbody>\n",
       "    <tr>\n",
       "      <th>pearson</th>\n",
       "      <td>10</td>\n",
       "      <td>0.893636</td>\n",
       "      <td>[0.6, 0.97]</td>\n",
       "      <td>0.000492</td>\n",
       "      <td>70.475</td>\n",
       "      <td>0.975608</td>\n",
       "    </tr>\n",
       "  </tbody>\n",
       "</table>\n",
       "</div>"
      ],
      "text/plain": [
       "          n         r        CI95%     p-val    BF10     power\n",
       "pearson  10  0.893636  [0.6, 0.97]  0.000492  70.475  0.975608"
      ]
     },
     "execution_count": 47,
     "metadata": {},
     "output_type": "execute_result"
    }
   ],
   "source": [
    "# numpy\n",
    "np.corrcoef(sat,gre)\n",
    "\n",
    "# SciPy\n",
    "from scipy.stats import pearsonr\n",
    "r, p = pearsonr(sat,gre)\n",
    "r\n",
    "p\n",
    "\n",
    "# pingouin\n",
    "pg.corr(sat,gre, method=\"pearson\")"
   ]
  },
  {
   "cell_type": "markdown",
   "id": "df2c7f76-280f-406f-816f-f059fb435ca9",
   "metadata": {},
   "source": [
    "### Correlation between ordinal variables\n",
    "If, on the other hand, you want to measure the association between variables with __ordinal__ values, you would instead use the Spearman rank-order correlation. The operation is simple enough in either SciPy or pingouin; in the former you call the `spearmanr` function, and in pongouin, you specify the spearman method in the arguments."
   ]
  },
  {
   "cell_type": "code",
   "execution_count": null,
   "id": "9d8f61d9-f45f-4332-8a52-f0cc6fdb8ebb",
   "metadata": {},
   "outputs": [],
   "source": [
    "from scipy.stats import spearmanr\n",
    "coef, p = spearmanr(x, y)\n",
    "p < 0.5\n",
    "coef\n",
    "\n",
    "# pingouin method\n",
    "pg.corr(x, y, method=\"spearman\")"
   ]
  },
  {
   "cell_type": "markdown",
   "id": "c5287ae3-0192-421d-be7c-d7871c6500fa",
   "metadata": {},
   "source": []
  },
  {
   "cell_type": "markdown",
   "id": "77130d41-06b2-4ca9-921a-2d3bd545fb7c",
   "metadata": {},
   "source": [
    "## Regression\n"
   ]
  },
  {
   "cell_type": "code",
   "execution_count": null,
   "id": "144fdfbd-86bf-44ed-90a6-8a626d63eb0b",
   "metadata": {},
   "outputs": [],
   "source": [
    "# regression coefficients by hand\n",
    "\n"
   ]
  },
  {
   "cell_type": "code",
   "execution_count": null,
   "id": "92f7a822-88c7-47ac-b2ae-2049262fc919",
   "metadata": {},
   "outputs": [],
   "source": [
    "# SciPy\n",
    "from scipy.stats import linregress\n",
    "slope, intercept, r, p, se = linregress(x, y)\n",
    "\n",
    "# statsmodels\n",
    "\n",
    "\n",
    "# pingouin\n",
    "pg.linear_regression(X=, y=)"
   ]
  },
  {
   "cell_type": "markdown",
   "id": "e83d68c1-356d-4031-b2e8-8b541488d3a6",
   "metadata": {},
   "source": [
    "# To-do\n",
    "\n",
    "-Big one: revise intro to python section on packages to explain how some packages require the from _subpackage_ impo\n",
    "\n",
    "This is in the V6 draft of syllabus\n",
    "- Continuous and ordinal variables\n",
    "- correlation\n",
    "- linear regression and predicted outcomes.\n",
    "\n",
    "https://python.cogsci.nl/numerical/statistics/#libraries-for-statistics <- nice reference comparing statsmodels and pingouin \n",
    "\n",
    "Question: I can also introduce t-test and correlation and linear regression from the ground up, showing students how you calculate deviations, variances, standard deviations, and punching them together to get Rho, intercept, slope, and predicted y... Should we? I think it's neat putting the greek LaTeX fomula to work.\n",
    "\n",
    "pingouin, scipy and statsmodels too? finding scipy syntax kind of weird. \n",
    "\n",
    "\n",
    "What about testing group mean differences? \n",
    "- T-test\n",
    "- Non-paramteric mean difference\n",
    "- Anovas"
   ]
  }
 ],
 "metadata": {
  "kernelspec": {
   "display_name": "Python 3 (ipykernel)",
   "language": "python",
   "name": "python3"
  },
  "language_info": {
   "codemirror_mode": {
    "name": "ipython",
    "version": 3
   },
   "file_extension": ".py",
   "mimetype": "text/x-python",
   "name": "python",
   "nbconvert_exporter": "python",
   "pygments_lexer": "ipython3",
   "version": "3.11.8"
  }
 },
 "nbformat": 4,
 "nbformat_minor": 5
}
