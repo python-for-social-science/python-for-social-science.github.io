{
 "cells": [
  {
   "cell_type": "markdown",
   "id": "4be432c0-ac53-4ed2-8380-cb492e755942",
   "metadata": {},
   "source": [
    "# Working with text Data\n",
    "\n",
    "Text data types are a major part of the data which social scientists can study, and we will dedicate this chapter to the tools that will help you manage text in Python. Remember that in programming the term 'string' is a synonym for data that comes in the form of text. As opposed to the quantitative analysis chapter, you can also understand strings as any non-numeric data. You might be studying survey data where open-ended questions give nuance and context to closed-ended quantitative questions about survey respondents' opinions on a given topic. Social media data around people's posts are predominantly text: The users' posts and conversations, hastags, place names, even the date is parsed as a string variable. It is up to the researcher, then, to parse this data that is often the least structured and hardest to analyze. \n",
    "\n",
    "Before introducing the lesson we want to make it clear that this chapter is not about qualitative methods in social science. That aspect of social science research encompasses interviews, focus groups, ethnography, photography and videography, audio recordings, and a very rigorous and detailed process of coding and describing the data to  create meaning around your research question. This chapter cannot teach your those methods. This chapter is about string variables, cleaning strings, formatting strings, and searching and matching strings so that you can better understand and use the text data available to you. This chapter can get you to where your qualitative data are ready for analysis, but the analytical methods will be beyond the scope of this book.\n",
    "\n",
    "- suggest further reading? Same for other chapters?"
   ]
  },
  {
   "cell_type": "code",
   "execution_count": 1,
   "id": "e4f7a2cb-6baf-4156-afa9-c08c4fa421f7",
   "metadata": {},
   "outputs": [],
   "source": [
    "# This code cell will be in every one of our chapters in Jupyter Notebook\n",
    "# The function allows you to see every line of output when the code has multiple lines\n",
    "from IPython.core.interactiveshell import InteractiveShell\n",
    "InteractiveShell.ast_node_interactivity = 'all'\n",
    "\n",
    "# Load packages\n",
    "import pandas as pd"
   ]
  },
  {
   "cell_type": "markdown",
   "id": "bebc428a-3e20-44e2-9e86-97a3d2fe772b",
   "metadata": {},
   "source": [
    "### Loading the Armed Conflict Location & Event Data\n",
    "\n",
    "This chapter revisits the Armed Conflict Location & Event Data Project (ACLED). You had some experience with the ACLED data in the second pandas chapter, including a basic introduction to pandas' string search function .str.contains(). You will learn more about searching strings and text formatting with this very text-heavy dataset. ACLED data comes with specific regions of the world in different CSV files. We have chosen the South America region for you in the code cell below. We also wanted you to have a more succinct dataframe, so you will be using the `usecols=''` argument again to load specific columns from the CSV file instead of having to load the complete data and then subsetting by variable. Below the columns we chose and their descriptions according to the ACLED [codebook](https://acleddata.com/knowledge-base/codebook/).\n",
    "\n",
    "|Variable|Description|\n",
    "|:--|:--|\n",
    "|event_id_cnty|A unique alphanumeric event identifier by number and country acronym.|\n",
    "|event_date|The date on which the event took place. Recorded as Year-Month-Day.|\n",
    "|year|The year in which the event took place.|\n",
    "|event_type|The type of event; further specifies the nature of the event.|\n",
    "|sub_event_type|A subcategory of the event type.|\n",
    "|actor1|One of two main actors involved in the event (does not necessarily indicate the aggressor).|\n",
    "|actor2|One of two main actors involved in the event (does not necessarily indicate the target or victim).|\n",
    "|country|The country or territory in which the event took place.|\n",
    "|location|The name of the location at which the event took place.|\n",
    "|admin1|The largest sub-national administrative region in which the event took place.|\n",
    "|fatalities|The number of reported fatalities arising from an event. When there are conflicting reports, the most conservative estimate is recorded.|\n",
    "|notes|A short description of the event.|\n"
   ]
  },
  {
   "cell_type": "code",
   "execution_count": 2,
   "id": "20349375-94a0-459a-99ae-ae74f21967fd",
   "metadata": {},
   "outputs": [
    {
     "name": "stdout",
     "output_type": "stream",
     "text": [
      "<class 'pandas.core.frame.DataFrame'>\n",
      "RangeIndex: 107238 entries, 0 to 107237\n",
      "Data columns (total 12 columns):\n",
      " #   Column          Non-Null Count   Dtype \n",
      "---  ------          --------------   ----- \n",
      " 0   event_id_cnty   107238 non-null  object\n",
      " 1   event_date      107238 non-null  object\n",
      " 2   year            107238 non-null  int64 \n",
      " 3   event_type      107238 non-null  object\n",
      " 4   sub_event_type  107238 non-null  object\n",
      " 5   actor1          107238 non-null  object\n",
      " 6   actor2          49036 non-null   object\n",
      " 7   country         107238 non-null  object\n",
      " 8   admin1          107238 non-null  object\n",
      " 9   location        107238 non-null  object\n",
      " 10  notes           107238 non-null  object\n",
      " 11  fatalities      107238 non-null  int64 \n",
      "dtypes: int64(2), object(10)\n",
      "memory usage: 9.8+ MB\n"
     ]
    }
   ],
   "source": [
    "south_america = pd.read_csv('../../Data/ACLED/1900-01-01-2022-04-22-South_America.csv', \n",
    "                            usecols= ['event_id_cnty', 'event_date', 'year', 'event_type', 'sub_event_type', \n",
    "                                       'actor1', 'actor2', 'country', 'location', 'admin1', 'fatalities', 'notes'])\n",
    "south_america.info()"
   ]
  },
  {
   "cell_type": "markdown",
   "id": "15163cee-3d1a-41ec-88a8-46391317f967",
   "metadata": {},
   "source": [
    "Inspecting the `south_america` dataframe with .info() shows that there are just two numeric variables: `year` and `fatalities`. All other variables were read by the read_csv() function as `object` datatypes, which is the default type for string variables. \n",
    "\n",
    "### Separating strings with .str_split()\n",
    "\n"
   ]
  },
  {
   "cell_type": "code",
   "execution_count": 3,
   "id": "26205d05-e7dd-49f1-abeb-b6e6dfdbf576",
   "metadata": {},
   "outputs": [
    {
     "data": {
      "text/plain": [
       "0           [15, April, 2022]\n",
       "1           [15, April, 2022]\n",
       "2           [15, April, 2022]\n",
       "3           [15, April, 2022]\n",
       "4           [15, April, 2022]\n",
       "                 ...         \n",
       "107233    [01, January, 2018]\n",
       "107234    [01, January, 2018]\n",
       "107235    [01, January, 2018]\n",
       "107236    [01, January, 2018]\n",
       "107237    [01, January, 2018]\n",
       "Name: event_date, Length: 107238, dtype: object"
      ]
     },
     "execution_count": 3,
     "metadata": {},
     "output_type": "execute_result"
    },
    {
     "data": {
      "text/plain": [
       "0         15\n",
       "1         15\n",
       "2         15\n",
       "3         15\n",
       "4         15\n",
       "          ..\n",
       "107233    01\n",
       "107234    01\n",
       "107235    01\n",
       "107236    01\n",
       "107237    01\n",
       "Name: event_date, Length: 107238, dtype: object"
      ]
     },
     "execution_count": 3,
     "metadata": {},
     "output_type": "execute_result"
    }
   ],
   "source": [
    "# use pd.str.split() to split the single value in 'date' using the blank space \n",
    "south_america['event_date'].str.split(' ')\n",
    "\n",
    "# you get a list of three, and day is in the '0' index position\n",
    "south_america['event_date'].str.split(' ').str[0]"
   ]
  },
  {
   "cell_type": "markdown",
   "id": "f6be2df8-066c-4770-9bb4-a584a21701c5",
   "metadata": {},
   "source": [
    "explain why insert to an index versus creating a new variable with the df['var'] =  method. and the disadvantage of not allowing you to replace the variable\n",
    "\n",
    "why we don't create year (it's already there) So we decided to give you an example where day and month arent in the data as single cols."
   ]
  },
  {
   "cell_type": "code",
   "execution_count": 4,
   "id": "65d47d3e-1ec1-49c4-85ec-036c9d6528ca",
   "metadata": {},
   "outputs": [
    {
     "data": {
      "text/html": [
       "<div>\n",
       "<style scoped>\n",
       "    .dataframe tbody tr th:only-of-type {\n",
       "        vertical-align: middle;\n",
       "    }\n",
       "\n",
       "    .dataframe tbody tr th {\n",
       "        vertical-align: top;\n",
       "    }\n",
       "\n",
       "    .dataframe thead th {\n",
       "        text-align: right;\n",
       "    }\n",
       "</style>\n",
       "<table border=\"1\" class=\"dataframe\">\n",
       "  <thead>\n",
       "    <tr style=\"text-align: right;\">\n",
       "      <th></th>\n",
       "      <th>event_id_cnty</th>\n",
       "      <th>event_date</th>\n",
       "      <th>day</th>\n",
       "      <th>month</th>\n",
       "      <th>year</th>\n",
       "      <th>event_type</th>\n",
       "      <th>sub_event_type</th>\n",
       "      <th>actor1</th>\n",
       "      <th>actor2</th>\n",
       "      <th>country</th>\n",
       "      <th>admin1</th>\n",
       "      <th>location</th>\n",
       "      <th>notes</th>\n",
       "      <th>fatalities</th>\n",
       "    </tr>\n",
       "  </thead>\n",
       "  <tbody>\n",
       "    <tr>\n",
       "      <th>0</th>\n",
       "      <td>COL10764</td>\n",
       "      <td>15 April 2022</td>\n",
       "      <td>15</td>\n",
       "      <td>April</td>\n",
       "      <td>2022</td>\n",
       "      <td>Battles</td>\n",
       "      <td>Armed clash</td>\n",
       "      <td>Gulf Clan</td>\n",
       "      <td>ACSN: Self-Defense Conquerors of Sierra Nevada</td>\n",
       "      <td>Colombia</td>\n",
       "      <td>Magdalena</td>\n",
       "      <td>Cienaga</td>\n",
       "      <td>On 15 April 2022, in the rural area of Cienaga...</td>\n",
       "      <td>5</td>\n",
       "    </tr>\n",
       "  </tbody>\n",
       "</table>\n",
       "</div>"
      ],
      "text/plain": [
       "  event_id_cnty     event_date day  month  year event_type sub_event_type  \\\n",
       "0      COL10764  15 April 2022  15  April  2022    Battles    Armed clash   \n",
       "\n",
       "      actor1                                          actor2   country  \\\n",
       "0  Gulf Clan  ACSN: Self-Defense Conquerors of Sierra Nevada  Colombia   \n",
       "\n",
       "      admin1 location                                              notes  \\\n",
       "0  Magdalena  Cienaga  On 15 April 2022, in the rural area of Cienaga...   \n",
       "\n",
       "   fatalities  \n",
       "0           5  "
      ]
     },
     "execution_count": 4,
     "metadata": {},
     "output_type": "execute_result"
    }
   ],
   "source": [
    "# use .insert() to make a new variable \n",
    "day = south_america['event_date'].str.split(' ').str[0]\n",
    "south_america.insert(2, 'day', day)\n",
    "\n",
    "month = south_america['event_date'].str.split(' ').str[1]\n",
    "south_america.insert(3, 'month', month)\n",
    "\n",
    "south_america.head(1)"
   ]
  },
  {
   "cell_type": "code",
   "execution_count": 5,
   "id": "9607dee9-0a87-4943-b466-9e800125b8fb",
   "metadata": {},
   "outputs": [
    {
     "data": {
      "text/html": [
       "<div>\n",
       "<style scoped>\n",
       "    .dataframe tbody tr th:only-of-type {\n",
       "        vertical-align: middle;\n",
       "    }\n",
       "\n",
       "    .dataframe tbody tr th {\n",
       "        vertical-align: top;\n",
       "    }\n",
       "\n",
       "    .dataframe thead th {\n",
       "        text-align: right;\n",
       "    }\n",
       "</style>\n",
       "<table border=\"1\" class=\"dataframe\">\n",
       "  <thead>\n",
       "    <tr style=\"text-align: right;\">\n",
       "      <th></th>\n",
       "      <th>event_id_cnty</th>\n",
       "      <th>day</th>\n",
       "      <th>month</th>\n",
       "      <th>year</th>\n",
       "      <th>event_type</th>\n",
       "      <th>sub_event_type</th>\n",
       "      <th>actor1</th>\n",
       "      <th>actor2</th>\n",
       "      <th>country</th>\n",
       "      <th>admin1</th>\n",
       "      <th>location</th>\n",
       "      <th>notes</th>\n",
       "      <th>fatalities</th>\n",
       "    </tr>\n",
       "  </thead>\n",
       "  <tbody>\n",
       "    <tr>\n",
       "      <th>0</th>\n",
       "      <td>COL10764</td>\n",
       "      <td>15</td>\n",
       "      <td>April</td>\n",
       "      <td>2022</td>\n",
       "      <td>Battles</td>\n",
       "      <td>Armed clash</td>\n",
       "      <td>Gulf Clan</td>\n",
       "      <td>ACSN: Self-Defense Conquerors of Sierra Nevada</td>\n",
       "      <td>Colombia</td>\n",
       "      <td>Magdalena</td>\n",
       "      <td>Cienaga</td>\n",
       "      <td>On 15 April 2022, in the rural area of Cienaga...</td>\n",
       "      <td>5</td>\n",
       "    </tr>\n",
       "  </tbody>\n",
       "</table>\n",
       "</div>"
      ],
      "text/plain": [
       "  event_id_cnty day  month  year event_type sub_event_type     actor1  \\\n",
       "0      COL10764  15  April  2022    Battles    Armed clash  Gulf Clan   \n",
       "\n",
       "                                           actor2   country     admin1  \\\n",
       "0  ACSN: Self-Defense Conquerors of Sierra Nevada  Colombia  Magdalena   \n",
       "\n",
       "  location                                              notes  fatalities  \n",
       "0  Cienaga  On 15 April 2022, in the rural area of Cienaga...           5  "
      ]
     },
     "execution_count": 5,
     "metadata": {},
     "output_type": "execute_result"
    }
   ],
   "source": [
    "south_america.drop(columns='event_date', inplace=True)\n",
    "south_america.head(1)"
   ]
  },
  {
   "cell_type": "code",
   "execution_count": 6,
   "id": "4a707186-22ca-45a1-a991-de8ca3f452f3",
   "metadata": {},
   "outputs": [
    {
     "data": {
      "text/html": [
       "<div>\n",
       "<style scoped>\n",
       "    .dataframe tbody tr th:only-of-type {\n",
       "        vertical-align: middle;\n",
       "    }\n",
       "\n",
       "    .dataframe tbody tr th {\n",
       "        vertical-align: top;\n",
       "    }\n",
       "\n",
       "    .dataframe thead th {\n",
       "        text-align: right;\n",
       "    }\n",
       "</style>\n",
       "<table border=\"1\" class=\"dataframe\">\n",
       "  <thead>\n",
       "    <tr style=\"text-align: right;\">\n",
       "      <th></th>\n",
       "      <th>event_id_cnty</th>\n",
       "      <th>day</th>\n",
       "      <th>month</th>\n",
       "      <th>year</th>\n",
       "      <th>event_date</th>\n",
       "      <th>event_type</th>\n",
       "      <th>sub_event_type</th>\n",
       "      <th>actor1</th>\n",
       "      <th>actor2</th>\n",
       "      <th>country</th>\n",
       "      <th>admin1</th>\n",
       "      <th>location</th>\n",
       "      <th>notes</th>\n",
       "      <th>fatalities</th>\n",
       "    </tr>\n",
       "  </thead>\n",
       "  <tbody>\n",
       "    <tr>\n",
       "      <th>0</th>\n",
       "      <td>COL10764</td>\n",
       "      <td>15</td>\n",
       "      <td>April</td>\n",
       "      <td>2022</td>\n",
       "      <td>15 April 2022</td>\n",
       "      <td>Battles</td>\n",
       "      <td>Armed clash</td>\n",
       "      <td>Gulf Clan</td>\n",
       "      <td>ACSN: Self-Defense Conquerors of Sierra Nevada</td>\n",
       "      <td>Colombia</td>\n",
       "      <td>Magdalena</td>\n",
       "      <td>Cienaga</td>\n",
       "      <td>On 15 April 2022, in the rural area of Cienaga...</td>\n",
       "      <td>5</td>\n",
       "    </tr>\n",
       "  </tbody>\n",
       "</table>\n",
       "</div>"
      ],
      "text/plain": [
       "  event_id_cnty day  month  year     event_date event_type sub_event_type  \\\n",
       "0      COL10764  15  April  2022  15 April 2022    Battles    Armed clash   \n",
       "\n",
       "      actor1                                          actor2   country  \\\n",
       "0  Gulf Clan  ACSN: Self-Defense Conquerors of Sierra Nevada  Colombia   \n",
       "\n",
       "      admin1 location                                              notes  \\\n",
       "0  Magdalena  Cienaga  On 15 April 2022, in the rural area of Cienaga...   \n",
       "\n",
       "   fatalities  \n",
       "0           5  "
      ]
     },
     "execution_count": 6,
     "metadata": {},
     "output_type": "execute_result"
    }
   ],
   "source": [
    "# convert year to a string type! concatenating different data types is not allowed\n",
    "south_america['year'] = south_america['year'].astype(str)\n",
    "\n",
    "event_date = south_america['day']+' '+south_america['month']+' '+south_america['year']\n",
    "\n",
    "south_america.insert(4, 'event_date', event_date)\n",
    "\n",
    "south_america.head(1)"
   ]
  },
  {
   "cell_type": "code",
   "execution_count": 7,
   "id": "7be64244-972f-49b3-a18f-8260410c5f41",
   "metadata": {},
   "outputs": [
    {
     "data": {
      "text/html": [
       "<div>\n",
       "<style scoped>\n",
       "    .dataframe tbody tr th:only-of-type {\n",
       "        vertical-align: middle;\n",
       "    }\n",
       "\n",
       "    .dataframe tbody tr th {\n",
       "        vertical-align: top;\n",
       "    }\n",
       "\n",
       "    .dataframe thead th {\n",
       "        text-align: right;\n",
       "    }\n",
       "</style>\n",
       "<table border=\"1\" class=\"dataframe\">\n",
       "  <thead>\n",
       "    <tr style=\"text-align: right;\">\n",
       "      <th></th>\n",
       "      <th>event_id_cnty</th>\n",
       "      <th>day</th>\n",
       "      <th>month</th>\n",
       "      <th>year</th>\n",
       "      <th>event_date</th>\n",
       "      <th>event_type</th>\n",
       "      <th>sub_event_type</th>\n",
       "      <th>actor1</th>\n",
       "      <th>actor2</th>\n",
       "      <th>country</th>\n",
       "      <th>admin1</th>\n",
       "      <th>location</th>\n",
       "      <th>notes</th>\n",
       "      <th>fatalities</th>\n",
       "    </tr>\n",
       "  </thead>\n",
       "  <tbody>\n",
       "    <tr>\n",
       "      <th>0</th>\n",
       "      <td>COL10764</td>\n",
       "      <td>15</td>\n",
       "      <td>April</td>\n",
       "      <td>2022</td>\n",
       "      <td>15 April 2022</td>\n",
       "      <td>Battles</td>\n",
       "      <td>Armed clash</td>\n",
       "      <td>Gulf Clan</td>\n",
       "      <td>ACSN: Self-Defense Conquerors of Sierra Nevada</td>\n",
       "      <td>Colombia</td>\n",
       "      <td>Magdalena</td>\n",
       "      <td>Cienaga</td>\n",
       "      <td>On 15 April 2022, in the rural area of Cienaga...</td>\n",
       "      <td>5</td>\n",
       "    </tr>\n",
       "  </tbody>\n",
       "</table>\n",
       "</div>"
      ],
      "text/plain": [
       "  event_id_cnty day  month  year     event_date event_type sub_event_type  \\\n",
       "0      COL10764  15  April  2022  15 April 2022    Battles    Armed clash   \n",
       "\n",
       "      actor1                                          actor2   country  \\\n",
       "0  Gulf Clan  ACSN: Self-Defense Conquerors of Sierra Nevada  Colombia   \n",
       "\n",
       "      admin1 location                                              notes  \\\n",
       "0  Magdalena  Cienaga  On 15 April 2022, in the rural area of Cienaga...   \n",
       "\n",
       "   fatalities  \n",
       "0           5  "
      ]
     },
     "execution_count": 7,
     "metadata": {},
     "output_type": "execute_result"
    }
   ],
   "source": [
    "# drop event_date again and re-create it with str.cat()\n",
    "south_america.drop(columns='event_date', inplace=True)\n",
    "\n",
    "event_date = south_america['day'].str.cat(south_america[['month','year']], sep=' ')\n",
    "south_america.insert(4, 'event_date', event_date)\n",
    "\n",
    "south_america.head(1)"
   ]
  },
  {
   "cell_type": "markdown",
   "id": "d758e326-c6c9-4220-9ac2-ae2a6d940cdf",
   "metadata": {},
   "source": [
    "If you use different kinds of symbols to separate each part of the date, you can tell str.cat() what kind of symbol to use with the `sep=''` argument. For example, we are used to writing dates with a backslash separating the day, month, and year: `01/01/2000`."
   ]
  },
  {
   "cell_type": "code",
   "execution_count": 8,
   "id": "9b8f5870-83ff-4fd3-9195-98a0f69df7b1",
   "metadata": {},
   "outputs": [
    {
     "data": {
      "text/html": [
       "<div>\n",
       "<style scoped>\n",
       "    .dataframe tbody tr th:only-of-type {\n",
       "        vertical-align: middle;\n",
       "    }\n",
       "\n",
       "    .dataframe tbody tr th {\n",
       "        vertical-align: top;\n",
       "    }\n",
       "\n",
       "    .dataframe thead th {\n",
       "        text-align: right;\n",
       "    }\n",
       "</style>\n",
       "<table border=\"1\" class=\"dataframe\">\n",
       "  <thead>\n",
       "    <tr style=\"text-align: right;\">\n",
       "      <th></th>\n",
       "      <th>event_id_cnty</th>\n",
       "      <th>day</th>\n",
       "      <th>month</th>\n",
       "      <th>year</th>\n",
       "      <th>event_date</th>\n",
       "      <th>event_type</th>\n",
       "      <th>sub_event_type</th>\n",
       "      <th>actor1</th>\n",
       "      <th>actor2</th>\n",
       "      <th>country</th>\n",
       "      <th>admin1</th>\n",
       "      <th>location</th>\n",
       "      <th>notes</th>\n",
       "      <th>fatalities</th>\n",
       "    </tr>\n",
       "  </thead>\n",
       "  <tbody>\n",
       "    <tr>\n",
       "      <th>0</th>\n",
       "      <td>COL10764</td>\n",
       "      <td>15</td>\n",
       "      <td>April</td>\n",
       "      <td>2022</td>\n",
       "      <td>15/April/2022</td>\n",
       "      <td>Battles</td>\n",
       "      <td>Armed clash</td>\n",
       "      <td>Gulf Clan</td>\n",
       "      <td>ACSN: Self-Defense Conquerors of Sierra Nevada</td>\n",
       "      <td>Colombia</td>\n",
       "      <td>Magdalena</td>\n",
       "      <td>Cienaga</td>\n",
       "      <td>On 15 April 2022, in the rural area of Cienaga...</td>\n",
       "      <td>5</td>\n",
       "    </tr>\n",
       "  </tbody>\n",
       "</table>\n",
       "</div>"
      ],
      "text/plain": [
       "  event_id_cnty day  month  year     event_date event_type sub_event_type  \\\n",
       "0      COL10764  15  April  2022  15/April/2022    Battles    Armed clash   \n",
       "\n",
       "      actor1                                          actor2   country  \\\n",
       "0  Gulf Clan  ACSN: Self-Defense Conquerors of Sierra Nevada  Colombia   \n",
       "\n",
       "      admin1 location                                              notes  \\\n",
       "0  Magdalena  Cienaga  On 15 April 2022, in the rural area of Cienaga...   \n",
       "\n",
       "   fatalities  \n",
       "0           5  "
      ]
     },
     "execution_count": 8,
     "metadata": {},
     "output_type": "execute_result"
    }
   ],
   "source": [
    "# drop event_date again and re-create it with str.cat()\n",
    "south_america.drop(columns='event_date', inplace=True)\n",
    "\n",
    "event_date = south_america['day'].str.cat(south_america[['month','year']], sep='/')\n",
    "south_america.insert(4, 'event_date', event_date)\n",
    "\n",
    "south_america.head(1)"
   ]
  },
  {
   "cell_type": "markdown",
   "id": "aabe1314-5753-40ab-9850-82ecbff2b121",
   "metadata": {},
   "source": [
    "## Date formatting with pd.to_datetime() and dt.strftime()\n",
    "For date and time formatting that is a step more advanced, you can utilize pandas' own date and time functions to transform our event_date variable from a string type into a datetime type. This is important to learn because date variables are logically numeric. You can subtract one date from another to learn the time passed between dates, as well tell how long ago an event was from the present date. These operations should prove useful and you can make date calculations for spans of time if your date variables are in the right format.\n",
    "\n",
    "The simplest function would be to convert a string or numeric column with something that looks like a date, into a true datetime data type with `pd.to_datetime()`. Below you will pass the event_date column to the datetime function with absolutely no extra arguments, letting the function parse the text with its own default algorithm. Observe how the original column's format changes from our previous format (15/April/2022) to the datetime standard (2022-04-15). "
   ]
  },
  {
   "cell_type": "code",
   "execution_count": 9,
   "id": "6e5446b2-daaf-44aa-a3d7-75505c32295f",
   "metadata": {},
   "outputs": [
    {
     "data": {
      "text/plain": [
       "0           15/April/2022\n",
       "1           15/April/2022\n",
       "2           15/April/2022\n",
       "3           15/April/2022\n",
       "4           15/April/2022\n",
       "               ...       \n",
       "107233    01/January/2018\n",
       "107234    01/January/2018\n",
       "107235    01/January/2018\n",
       "107236    01/January/2018\n",
       "107237    01/January/2018\n",
       "Name: event_date, Length: 107238, dtype: object"
      ]
     },
     "execution_count": 9,
     "metadata": {},
     "output_type": "execute_result"
    },
    {
     "data": {
      "text/plain": [
       "0        2022-04-15\n",
       "1        2022-04-15\n",
       "2        2022-04-15\n",
       "3        2022-04-15\n",
       "4        2022-04-15\n",
       "            ...    \n",
       "107233   2018-01-01\n",
       "107234   2018-01-01\n",
       "107235   2018-01-01\n",
       "107236   2018-01-01\n",
       "107237   2018-01-01\n",
       "Name: event_date, Length: 107238, dtype: datetime64[ns]"
      ]
     },
     "execution_count": 9,
     "metadata": {},
     "output_type": "execute_result"
    }
   ],
   "source": [
    "south_america['event_date']\n",
    "\n",
    "pd.to_datetime(south_america['event_date'])"
   ]
  },
  {
   "cell_type": "markdown",
   "id": "608e1476-c5ab-453f-9334-201943c8c7a7",
   "metadata": {},
   "source": [
    "Depending on where you are in the world, you may want to be more specific about the format of the date string. Or the date variable might have an exotic and non-standard format. Let's assume that the event_date format we have (15/April/2022) might not be a standard preference where you live and work, and other formats might confuse the automatic to_datetime() function. \n",
    "\n",
    "There are standard abbreviations you will need use to tell to_datetime() what kind of dates it is looking at, so check this [manual](https://4js.com/online_documentation/fjs-fgl-3.00.05-manual-html/c_fgl_DataConversions_format_datetimes.html) for more formatting codes and types. For example, our current event_date format would be `'%d/%b/%Y'`: Lowercase `%d` gives the day's date in two numbers; uppercase `%B` gives the full month name; `%Y` gives four digits for the year. We use the actual backslash `/` separators in the format\n",
    "\n",
    "So we can use that code to tell to_datetime() exactly what format the date is in."
   ]
  },
  {
   "cell_type": "code",
   "execution_count": 10,
   "id": "f53ce05f-f039-45dd-aceb-397a89e7961a",
   "metadata": {},
   "outputs": [
    {
     "data": {
      "text/plain": [
       "0        2022-04-15\n",
       "1        2022-04-15\n",
       "2        2022-04-15\n",
       "3        2022-04-15\n",
       "4        2022-04-15\n",
       "            ...    \n",
       "107233   2018-01-01\n",
       "107234   2018-01-01\n",
       "107235   2018-01-01\n",
       "107236   2018-01-01\n",
       "107237   2018-01-01\n",
       "Name: event_date, Length: 107238, dtype: datetime64[ns]"
      ]
     },
     "execution_count": 10,
     "metadata": {},
     "output_type": "execute_result"
    }
   ],
   "source": [
    "pd.to_datetime(south_america['event_date'], format='%d/%B/%Y')"
   ]
  },
  {
   "cell_type": "markdown",
   "id": "f291b4bc-1dc8-45e2-91cc-3ce81e34fa68",
   "metadata": {},
   "source": [
    "Even though .to_datetime() had already converted the date admirably withough an explicit format argument, it is worthwhile to be careful with dates if the format was somehow ambiguous. \n",
    "\n",
    "We can do the reverse as well, and turn a datetime object into a string with the format of our choice. Imagine you wanted to transform the default datetime format to something more legible in an English speaking country. You can use the `dt.strftime()` function to make a __new__ string variable with the format of your choice. Let's use `.dt.strftime('%B %d, %Y')` as the format, which would return the full month in text, a white space, a two digit day, a comma, and the four month year.\n",
    "\n",
    "Beware that strftime removes the datetime datatype and transforms the variable in to a string/object again! Read the output in the cell below where the datatype is specified as 'dtype: object'."
   ]
  },
  {
   "cell_type": "code",
   "execution_count": 11,
   "id": "5a8b5c74-0980-4405-ab7e-6ae6f4b11174",
   "metadata": {},
   "outputs": [
    {
     "data": {
      "text/plain": [
       "0           April 15, 2022\n",
       "1           April 15, 2022\n",
       "2           April 15, 2022\n",
       "3           April 15, 2022\n",
       "4           April 15, 2022\n",
       "                ...       \n",
       "107233    January 01, 2018\n",
       "107234    January 01, 2018\n",
       "107235    January 01, 2018\n",
       "107236    January 01, 2018\n",
       "107237    January 01, 2018\n",
       "Name: event_date, Length: 107238, dtype: object"
      ]
     },
     "execution_count": 11,
     "metadata": {},
     "output_type": "execute_result"
    }
   ],
   "source": [
    "pd.to_datetime(south_america['event_date']).dt.strftime('%B %d, %Y')"
   ]
  },
  {
   "cell_type": "markdown",
   "id": "35a8ad04-31b5-4098-be80-bd1a35ac8cff",
   "metadata": {},
   "source": [
    "For now, assign event_date to be the standard datetime format, and make another variable called str_date to take on the strftime() value. \n",
    "\n",
    "A reminder, we have been assigning _new_ variables to specific columns with `.insert()`. This is to show you ways to keep similar variables 'together' in your dataframe. Below we assign the new `str_date` variable with easy assignment: where the new variable is on the left side of the `=` sign. This will automatically place your new variable at the last position in your dataframe, but it is also easier to overwrite an re-run code cells than using .insert()."
   ]
  },
  {
   "cell_type": "code",
   "execution_count": 12,
   "id": "894216ef-5f43-4481-a9ff-3e01837f4acc",
   "metadata": {},
   "outputs": [
    {
     "data": {
      "text/html": [
       "<div>\n",
       "<style scoped>\n",
       "    .dataframe tbody tr th:only-of-type {\n",
       "        vertical-align: middle;\n",
       "    }\n",
       "\n",
       "    .dataframe tbody tr th {\n",
       "        vertical-align: top;\n",
       "    }\n",
       "\n",
       "    .dataframe thead th {\n",
       "        text-align: right;\n",
       "    }\n",
       "</style>\n",
       "<table border=\"1\" class=\"dataframe\">\n",
       "  <thead>\n",
       "    <tr style=\"text-align: right;\">\n",
       "      <th></th>\n",
       "      <th>event_id_cnty</th>\n",
       "      <th>day</th>\n",
       "      <th>month</th>\n",
       "      <th>year</th>\n",
       "      <th>event_date</th>\n",
       "      <th>event_type</th>\n",
       "      <th>sub_event_type</th>\n",
       "      <th>actor1</th>\n",
       "      <th>actor2</th>\n",
       "      <th>country</th>\n",
       "      <th>admin1</th>\n",
       "      <th>location</th>\n",
       "      <th>notes</th>\n",
       "      <th>fatalities</th>\n",
       "      <th>str_date</th>\n",
       "    </tr>\n",
       "  </thead>\n",
       "  <tbody>\n",
       "    <tr>\n",
       "      <th>0</th>\n",
       "      <td>COL10764</td>\n",
       "      <td>15</td>\n",
       "      <td>April</td>\n",
       "      <td>2022</td>\n",
       "      <td>2022-04-15</td>\n",
       "      <td>Battles</td>\n",
       "      <td>Armed clash</td>\n",
       "      <td>Gulf Clan</td>\n",
       "      <td>ACSN: Self-Defense Conquerors of Sierra Nevada</td>\n",
       "      <td>Colombia</td>\n",
       "      <td>Magdalena</td>\n",
       "      <td>Cienaga</td>\n",
       "      <td>On 15 April 2022, in the rural area of Cienaga...</td>\n",
       "      <td>5</td>\n",
       "      <td>April 15, 2022</td>\n",
       "    </tr>\n",
       "  </tbody>\n",
       "</table>\n",
       "</div>"
      ],
      "text/plain": [
       "  event_id_cnty day  month  year event_date event_type sub_event_type  \\\n",
       "0      COL10764  15  April  2022 2022-04-15    Battles    Armed clash   \n",
       "\n",
       "      actor1                                          actor2   country  \\\n",
       "0  Gulf Clan  ACSN: Self-Defense Conquerors of Sierra Nevada  Colombia   \n",
       "\n",
       "      admin1 location                                              notes  \\\n",
       "0  Magdalena  Cienaga  On 15 April 2022, in the rural area of Cienaga...   \n",
       "\n",
       "   fatalities        str_date  \n",
       "0           5  April 15, 2022  "
      ]
     },
     "execution_count": 12,
     "metadata": {},
     "output_type": "execute_result"
    },
    {
     "name": "stdout",
     "output_type": "stream",
     "text": [
      "<class 'pandas.core.frame.DataFrame'>\n",
      "RangeIndex: 107238 entries, 0 to 107237\n",
      "Data columns (total 15 columns):\n",
      " #   Column          Non-Null Count   Dtype         \n",
      "---  ------          --------------   -----         \n",
      " 0   event_id_cnty   107238 non-null  object        \n",
      " 1   day             107238 non-null  object        \n",
      " 2   month           107238 non-null  object        \n",
      " 3   year            107238 non-null  object        \n",
      " 4   event_date      107238 non-null  datetime64[ns]\n",
      " 5   event_type      107238 non-null  object        \n",
      " 6   sub_event_type  107238 non-null  object        \n",
      " 7   actor1          107238 non-null  object        \n",
      " 8   actor2          49036 non-null   object        \n",
      " 9   country         107238 non-null  object        \n",
      " 10  admin1          107238 non-null  object        \n",
      " 11  location        107238 non-null  object        \n",
      " 12  notes           107238 non-null  object        \n",
      " 13  fatalities      107238 non-null  int64         \n",
      " 14  str_date        107238 non-null  object        \n",
      "dtypes: datetime64[ns](1), int64(1), object(13)\n",
      "memory usage: 12.3+ MB\n"
     ]
    }
   ],
   "source": [
    "south_america['event_date'] = pd.to_datetime(south_america['event_date'])\n",
    "south_america['str_date'] = pd.to_datetime(south_america['event_date']).dt.strftime('%B %d, %Y')\n",
    "\n",
    "south_america.head(1)\n",
    "south_america.info()"
   ]
  },
  {
   "cell_type": "markdown",
   "id": "b54c2392-c481-44f5-983b-c9da398d0135",
   "metadata": {},
   "source": [
    "## Search text with str.contains()\n",
    "\n",
    "You may wish to search through your open-ended string variables for specific content, the way you would search inside of a document for a specific word. You have already done this in previous chapters with pandas' `str.contains()` function to subset by a specific country name. You can continue using str.contains() to look for observations with a specific word or phrase. Imagine you wished to analyze records of conflict involving the military. You could spend some time (as we did) skimming the `notes` variable entries in another program that reads CSV files, using the search function for useful terms for the military. You might notice the notes use other terms such as 'navy', 'army' , 'air force', 'military' (and maybe 'police' if appropriate). You can then employ thoe terms to query observations where the conflict involved the military using `str.contains()`. \n",
    "\n",
    "### Search multiple terms with `or` condition: `|` \n",
    "\n",
    "In the search string, you'll want to use the symbol `|`, which represents an `OR` condition. This returns a match for _any_ of the four terms. Using the `&` symbol would return observations where _all four_ terms were found in a single observation. You should also assign the resulting dataframe to a new object called `military_conflicts`. This dataframe has 11,411 observations, down from the original 107,238 observations of the `south_america` dataframe, so there were over eleven thousand events where military forces were involved."
   ]
  },
  {
   "cell_type": "code",
   "execution_count": 13,
   "id": "b898a56d-8bb2-42c0-954e-510b13cfa412",
   "metadata": {},
   "outputs": [
    {
     "data": {
      "text/plain": [
       "11411"
      ]
     },
     "execution_count": 13,
     "metadata": {},
     "output_type": "execute_result"
    }
   ],
   "source": [
    "military_conflicts = south_america[(south_america['notes'].str.contains('army|navy|air force|military', case=False))]\n",
    "\n",
    "military_conflicts['fatalities'].count()"
   ]
  },
  {
   "cell_type": "markdown",
   "id": "9e1ebc48-ecb0-4a8c-90c0-c100387f13d4",
   "metadata": {},
   "source": [
    "In the next code cell, you can see what happens when you use random uppercase letters in the search string. This is to demonstrate what the `case=False` argument does. In fact, it returns the same number of arguments as the search in the previous code cell. Next you can see how many observations match when we make the query case sensitive with `case=True`. If you are looking for general concepts then it is usually a good idea to make your searches _not_ case sensitive. On the other hand, looking for something like a person or place name would likely require a case-sensitive search. "
   ]
  },
  {
   "cell_type": "code",
   "execution_count": 14,
   "id": "66be3c42-f528-4353-9eab-b195daefec3b",
   "metadata": {},
   "outputs": [
    {
     "data": {
      "text/plain": [
       "11411"
      ]
     },
     "execution_count": 14,
     "metadata": {},
     "output_type": "execute_result"
    },
    {
     "data": {
      "text/plain": [
       "396"
      ]
     },
     "execution_count": 14,
     "metadata": {},
     "output_type": "execute_result"
    }
   ],
   "source": [
    "military_conflicts = south_america[(south_america['notes'].str.contains('Army|navY|air fORCe|mIlItArY', case=False))]\n",
    "military_conflicts['fatalities'].count() #number of observations case insensitive\n",
    "\n",
    "military_conflicts = south_america[(south_america['notes'].str.contains('Army|navY|air fORCe|mIlItArY', case=True))]\n",
    "military_conflicts['fatalities'].count() # number of observations case sensitive"
   ]
  },
  {
   "cell_type": "markdown",
   "id": "564ed00c-5162-4d9e-ab78-0c58d518e4fb",
   "metadata": {},
   "source": [
    "### Search multiple terms with `and` condition `&`\n",
    "\n",
    "Let's assume your research question was about a conflict event where both the military were present, and heavy duty vehicles related to those armed forces, e.g.: 'Army' and 'tank', or 'Air Force' and 'plane'. Those events might be of interest to you because they denote a level of severity and specificity in conflict that goes beyond a military presence. Let's see how it might go if we are interested in the occurance of airplanes in a military context.\n",
    "\n",
    "Note: we alre already familiar with the ACLED data and the `notes` column specifically. Therefore, we know beforehand that only searching for 'plane' or 'airplane' alone leads to conflicts regarding transportation, not necessarily related to armed forces. Also, a country's Air Force might not be involved or named as such. So you will look for any mention of the term 'plane' __and__ 'military' __or__ 'air force'. Make thise case-insensitive again.\n",
    "\n",
    "Unfortunately, the `&` condition requires you to specify the search terms in two separate calls of `df.str.contains()`. So we must put the 'plane' search in one str.contains() call, separate with the `&` symbol, and then the search for any of the armed forces search terms. All of these with the dataframe subset brackets of `south_america[...]`."
   ]
  },
  {
   "cell_type": "code",
   "execution_count": 15,
   "id": "f2512ca8-a445-4f02-a977-4f45a8596c16",
   "metadata": {},
   "outputs": [
    {
     "data": {
      "text/plain": [
       "11"
      ]
     },
     "execution_count": 15,
     "metadata": {},
     "output_type": "execute_result"
    },
    {
     "data": {
      "text/plain": [
       "14488    On 19 September 2021, from Angra dos Reis municipality to Rio de Janeiro - West Zone, Rio de Janeiro, two members of the CV hijacked a plane transporting one of its members to the Gericino Complex Penitentiary in an attempt to release the group member from prison. The perpetrators were armed wit...\n",
       "42916                                                                    Around 15 September 2020 (as reported), in a rural area of Machiques de Perija, Zulia state, military officers seized and afterwards burnt down a plane with American registration, which was suspected of being used for drug trafficking.\n",
       "45954                                                                                                                                     On 2 August 2020, in Campo Grande, Mato Grosso do Sul, the Brazilian air force seized two planes loaded with cocaine, in a total of 1.1 tons of drugs. A man was arrested.\n",
       "Name: notes, dtype: object"
      ]
     },
     "execution_count": 15,
     "metadata": {},
     "output_type": "execute_result"
    }
   ],
   "source": [
    "pd.options.display.max_colwidth = 300 # this option lets you read 100 characters in the cell output.\n",
    "\n",
    "air_conflicts = south_america[(south_america['notes'].str.contains('plane', case=False)) & (south_america['notes'].str.contains('military|air force', case=False))]\n",
    "air_conflicts['notes'].count() #number of observations\n",
    "air_conflicts['notes'].head(3)"
   ]
  },
  {
   "cell_type": "markdown",
   "id": "a70f1033-9dfc-4e88-9b21-69c6d5f027cd",
   "metadata": {},
   "source": [
    "The search above yielded eleven observations where the terms 'air force' or 'military' coincided with the use of the term 'plane'. What if you were interested in searching for a third or fourth inclusive term? For example, what about searching for conflict events where the people are 1) staging a protest, 2) the protest is about prices of some necessary goods, 3) shooting occured at the protest. We would need three calls for str.contains() within the south_america[] brackets, and our terms could be 'protest', 'price|cost', and 'shot|shoot'. Run the search in the code cell below. The sesarch finds four events where the three terms all coincide in the notes about the conflict."
   ]
  },
  {
   "cell_type": "code",
   "execution_count": 16,
   "id": "9dd2ed2b-cad6-4348-8335-bdde88f18492",
   "metadata": {},
   "outputs": [
    {
     "data": {
      "text/plain": [
       "4"
      ]
     },
     "execution_count": 16,
     "metadata": {},
     "output_type": "execute_result"
    },
    {
     "data": {
      "text/plain": [
       "2037     On 23 March 2022, in Lima (San Pedro), around 100 peasants blocked the PY03 highway to demand the General Prosecutor's resignation, the repeal of article 142 of the Penal Code, which criminalized the invasion of private properties, besides complaining about the rise in gas prices and other issue...\n",
       "95381    On 25 May 2018, in Estrela, Rio Grande do Sul, despite of the agreement with the Federal Government and the suspension of the strike for 15 days, truck drivers held a protest on BR-386 against the rising prices of diesel. One protester was shot and the perpetrator was arrested, but the circumsta...\n",
       "97700    On 21 May 2018, in Senges, Parana, truck drivers held a protest on PR-239 road against the rising prices of diesel. One protester was shot and was taken to hospital. The perpetrator, who was arrested, was also a truck driver and claimed that the protesters threw a rock at his truck. It was the f...\n",
       "Name: notes, dtype: object"
      ]
     },
     "execution_count": 16,
     "metadata": {},
     "output_type": "execute_result"
    }
   ],
   "source": [
    "pd.options.display.max_colwidth = 300 # this option lets you read 100 characters in the cell output.\n",
    "\n",
    "protest_conflicts = south_america[(south_america['notes'].str.contains('protest', case=False)) & \n",
    "(south_america['notes'].str.contains('price|cost', case=False)) & \n",
    "(south_america['notes'].str.contains('shot|shoot|fired', case=False))]\n",
    "\n",
    "protest_conflicts['notes'].count() #number of observations\n",
    "protest_conflicts['notes'].head(3)"
   ]
  },
  {
   "cell_type": "markdown",
   "id": "a52c9a55-e8c9-4822-b90a-5c1342f3138a",
   "metadata": {},
   "source": [
    "# Regular expressions (regex)\n",
    "\n",
    "https://cheatography.com/davechild/cheat-sheets/regular-expressions/"
   ]
  },
  {
   "cell_type": "markdown",
   "id": "fbfe3dab-4b47-41d1-8ab6-bda137372f7f",
   "metadata": {},
   "source": [
    "## Searching strings with regex\n",
    "\n",
    "You can use a regular expression pattern to find the same military query. The fisrt thing you do is to notify str.contains() that you will use a regular expression. Do so by flagging regex with `r` and then put your regular expression in quotes (single or double quotes both work): `str.contains(r'pattern')`. \n",
    "\n",
    "Regular expressions include ways to ignore upper and lowercase with a global case-insensitive argument `(?i)` instead of a function-specific argument. Place the case-insensitive argument before the four terms for armed forces we used above. Each term is also separated by the `|` symbol. The term 'air force' has a space in the middle. The regex code for a blank space is `\\s`. However, the same query with a literal blank instead of `\\s` yields the same outcome. It is just better practice to tell regex exactly what you are looking for. "
   ]
  },
  {
   "cell_type": "code",
   "execution_count": 17,
   "id": "ae55f89c-f518-445a-b47e-a643a5862916",
   "metadata": {},
   "outputs": [
    {
     "data": {
      "text/plain": [
       "11411"
      ]
     },
     "execution_count": 17,
     "metadata": {},
     "output_type": "execute_result"
    },
    {
     "data": {
      "text/plain": [
       "11411"
      ]
     },
     "execution_count": 17,
     "metadata": {},
     "output_type": "execute_result"
    }
   ],
   "source": [
    "military_conflicts = south_america[south_america['notes'].str.contains(r'(?i)army|navy|air\\sforce|military')]\n",
    "military_conflicts['notes'].count()\n",
    "\n",
    "# without the regex term to whitespace '\\s'\n",
    "military_conflicts = south_america[south_america['notes'].str.contains(r'(?i)army|navy|air force|military')]\n",
    "military_conflicts['notes'].count()"
   ]
  },
  {
   "cell_type": "markdown",
   "id": "a6ede12e-4429-4d5e-96ae-35e782e60e66",
   "metadata": {},
   "source": [
    "The code is similar to the previous searches _without_ regex. We won't claim its much simpler, however. It comes down to your comfort and familiarity with regex. As with all languages, the more you work with text data (web scraping and mining social media data both benefit greatly from knowing regular expressions) the better you'll get. Regardless of your preference in this example, there will be times when using regex is unavoidable, when the text you need to extract are patterns and not exact word matches. \n",
    "\n",
    "Searching with regex for 'plane' as well as the military or air force is a bit more complicated pattern. In fact it could be even more complex but we provide a generally working regex pattern for convenience! \n",
    "\n",
    "We need an instance where _both_ terms are present. However, regex actually cares a lot about order, because it is a language that precesses sequences. So searching for 'plane' and 'air force or military' will return only text where the term 'plane' precedes 'air force or military'. So the regex pattern actually has to repeat a matching pattern reversed! Thus the regex pattern would be `(?i)(plane.*(air force|military)` and ` | ` and `(military|air force).*plane)`"
   ]
  },
  {
   "cell_type": "code",
   "execution_count": 18,
   "id": "a9917ca5-c10f-4ac5-8504-13a88b8234ae",
   "metadata": {},
   "outputs": [
    {
     "name": "stderr",
     "output_type": "stream",
     "text": [
      "/tmp/ipykernel_50429/3296508499.py:3: UserWarning: This pattern is interpreted as a regular expression, and has match groups. To actually get the groups, use str.extract.\n",
      "  air_conflicts = south_america[(south_america['notes'].str.contains(r'(?i)(plane.*(air force|military)|(military|air force).*plane)', case=False))]\n"
     ]
    },
    {
     "data": {
      "text/plain": [
       "11"
      ]
     },
     "execution_count": 18,
     "metadata": {},
     "output_type": "execute_result"
    },
    {
     "data": {
      "text/plain": [
       "14488    On 19 September 2021, from Angra dos Reis municipality to Rio de Janeiro - West Zone, Rio de Janeiro, two members of the CV hijacked a plane transporting one of its members to the Gericino Complex Penitentiary in an attempt to release the group member from prison. The perpetrators were armed wit...\n",
       "42916                                                                    Around 15 September 2020 (as reported), in a rural area of Machiques de Perija, Zulia state, military officers seized and afterwards burnt down a plane with American registration, which was suspected of being used for drug trafficking.\n",
       "45954                                                                                                                                     On 2 August 2020, in Campo Grande, Mato Grosso do Sul, the Brazilian air force seized two planes loaded with cocaine, in a total of 1.1 tons of drugs. A man was arrested.\n",
       "Name: notes, dtype: object"
      ]
     },
     "execution_count": 18,
     "metadata": {},
     "output_type": "execute_result"
    }
   ],
   "source": [
    "pd.options.display.max_colwidth = 300 # this option lets you read 100 characters in the cell output.\n",
    "\n",
    "air_conflicts = south_america[(south_america['notes'].str.contains(r'(?i)(plane.*(air force|military)|(military|air force).*plane)', case=False))]\n",
    "air_conflicts['notes'].count() #number of observations\n",
    "air_conflicts['notes'].head(3)"
   ]
  },
  {
   "cell_type": "markdown",
   "id": "5a70df25-b232-4109-a2c0-a2d5085a24af",
   "metadata": {},
   "source": [
    "In both code cells above, you can corroborate that the same number of observations were returned with either regex terms or the normal text searches in the previous section. they were 11411 matches for any military forces, and eleven observations of planes and military or air force in the notes. Regular expressions would certainly be a more complicated choice if your search requires three or more search terms, as in our 'protest, price, & shooting' example. One would need to account for word order for the three terms, giving you six total permutations of protest, price, and shooting text order; far too long for the regular expression solution we shared. "
   ]
  },
  {
   "cell_type": "markdown",
   "id": "07aff711-9101-49ba-ad04-fafef8328f6e",
   "metadata": {},
   "source": [
    "## Pull regex pattern matches with str.extract()\n",
    "\n",
    "There are times when you will need to extract a match from a regular expression to create a new variable. In the previous sections, we made new variables based on splitting strings by a comma or a whitespace. Then you learned how to use a regular expression to seek a string within a variable, which then returned those data observations where the search term matched. Now you will learn how to search for a specific pattern of text and pull the matching strings into usable data with `str.extract()`. \n",
    "\n",
    "The event_id_cnty variable holds the three letter ISO country code plus a numeric unique event id. The pattern is fairly simple to identify: Three letters from the alphabet, followed by some digits. "
   ]
  },
  {
   "cell_type": "code",
   "execution_count": 19,
   "id": "c5fbcd13-84ef-42f5-9af3-cf1fe116c366",
   "metadata": {},
   "outputs": [
    {
     "data": {
      "text/plain": [
       "0         COL10764\n",
       "1         COL10766\n",
       "2         COL10767\n",
       "3          PAR3527\n",
       "4          CHI8633\n",
       "            ...   \n",
       "107233     VEN8468\n",
       "107234      GUY328\n",
       "107235    BRA20323\n",
       "107236    BRA20327\n",
       "107237    BRA20184\n",
       "Name: event_id_cnty, Length: 107238, dtype: object"
      ]
     },
     "execution_count": 19,
     "metadata": {},
     "output_type": "execute_result"
    }
   ],
   "source": [
    "south_america['event_id_cnty']"
   ]
  },
  {
   "cell_type": "markdown",
   "id": "62b07954-8a64-40ae-bb6a-5adb10d4b4ce",
   "metadata": {},
   "source": [
    "We could use any of these regex patterns to extract the event ID and ISO. \n",
    "\n",
    "- `^.{3}` The first three symbols regardless whether letters or numbers gets country ISO. \n",
    "- `[A-Z]+` One or more uppercase letters gets country ISO.\n",
    "- `[A-Z]{3}` Exactly three uppercase letters gets country ISO.\n",
    "- `\\d+$` One or more numbers starting from the _end_ of the string gets event ID.\n",
    "- `\\d+` One or more numbers anywhere gets event ID.\n",
    "- `[^\\d]{3}` Three symbols, from the start of the string, that are __not__ digits gets country ISO.\n",
    "- `[^A-Z]+` One or more symbol, from the start of the string, that are __not__ letters gets event ID.\n",
    "\n",
    "And there are several more ways that you could capture ISO and event ID strings; the patterns above are not at all a comprehensive list. Try a few of these expressions out below. We chose the last pattern (`([A-Z]{3})`) as an example. \n",
    "\n",
    "Be careful to enter the pattern you wish to extract within parentheses. The str.contains() and str.match() functions don't care if a pattern is in parentheses, but str.extract() expects groups of patterns, even if it is only one. You specify a group to pull using parentheses, and each group or pattern in prentheses will return a different column of data. \n",
    "\n",
    "Running the code below, you can try different patterns from out list above. The patterns may not always work as expected, so remember to check your work before committing your regular expression to a new variable. In the second line of code, we show you the `expand=False` argument of str.extract which gives you unformatted vectors for __each pattern__ that you extract. Without the 'expand=False' argument, you will get a grouped data table. \n",
    "\n",
    "In this same cell, try adding a second or third group of patterns (e.g.: `str.extract(r'(^.{3})(\\d+$)')`), so you can see what str.extract() does with each pattern."
   ]
  },
  {
   "cell_type": "code",
   "execution_count": 20,
   "id": "09f0a265-35b7-4375-8be9-9d8cc845ad89",
   "metadata": {},
   "outputs": [
    {
     "data": {
      "text/html": [
       "<div>\n",
       "<style scoped>\n",
       "    .dataframe tbody tr th:only-of-type {\n",
       "        vertical-align: middle;\n",
       "    }\n",
       "\n",
       "    .dataframe tbody tr th {\n",
       "        vertical-align: top;\n",
       "    }\n",
       "\n",
       "    .dataframe thead th {\n",
       "        text-align: right;\n",
       "    }\n",
       "</style>\n",
       "<table border=\"1\" class=\"dataframe\">\n",
       "  <thead>\n",
       "    <tr style=\"text-align: right;\">\n",
       "      <th></th>\n",
       "      <th>0</th>\n",
       "    </tr>\n",
       "  </thead>\n",
       "  <tbody>\n",
       "    <tr>\n",
       "      <th>0</th>\n",
       "      <td>COL</td>\n",
       "    </tr>\n",
       "    <tr>\n",
       "      <th>1</th>\n",
       "      <td>COL</td>\n",
       "    </tr>\n",
       "    <tr>\n",
       "      <th>2</th>\n",
       "      <td>COL</td>\n",
       "    </tr>\n",
       "    <tr>\n",
       "      <th>3</th>\n",
       "      <td>PAR</td>\n",
       "    </tr>\n",
       "    <tr>\n",
       "      <th>4</th>\n",
       "      <td>CHI</td>\n",
       "    </tr>\n",
       "    <tr>\n",
       "      <th>...</th>\n",
       "      <td>...</td>\n",
       "    </tr>\n",
       "    <tr>\n",
       "      <th>107233</th>\n",
       "      <td>VEN</td>\n",
       "    </tr>\n",
       "    <tr>\n",
       "      <th>107234</th>\n",
       "      <td>GUY</td>\n",
       "    </tr>\n",
       "    <tr>\n",
       "      <th>107235</th>\n",
       "      <td>BRA</td>\n",
       "    </tr>\n",
       "    <tr>\n",
       "      <th>107236</th>\n",
       "      <td>BRA</td>\n",
       "    </tr>\n",
       "    <tr>\n",
       "      <th>107237</th>\n",
       "      <td>BRA</td>\n",
       "    </tr>\n",
       "  </tbody>\n",
       "</table>\n",
       "<p>107238 rows × 1 columns</p>\n",
       "</div>"
      ],
      "text/plain": [
       "          0\n",
       "0       COL\n",
       "1       COL\n",
       "2       COL\n",
       "3       PAR\n",
       "4       CHI\n",
       "...     ...\n",
       "107233  VEN\n",
       "107234  GUY\n",
       "107235  BRA\n",
       "107236  BRA\n",
       "107237  BRA\n",
       "\n",
       "[107238 rows x 1 columns]"
      ]
     },
     "execution_count": 20,
     "metadata": {},
     "output_type": "execute_result"
    },
    {
     "data": {
      "text/plain": [
       "0         COL\n",
       "1         COL\n",
       "2         COL\n",
       "3         PAR\n",
       "4         CHI\n",
       "         ... \n",
       "107233    VEN\n",
       "107234    GUY\n",
       "107235    BRA\n",
       "107236    BRA\n",
       "107237    BRA\n",
       "Name: event_id_cnty, Length: 107238, dtype: object"
      ]
     },
     "execution_count": 20,
     "metadata": {},
     "output_type": "execute_result"
    }
   ],
   "source": [
    "# use str_extract()\n",
    "south_america['event_id_cnty'].str.extract(r'([A-Z]{3})')\n",
    "\n",
    "# make the vector flat\n",
    "south_america['event_id_cnty'].str.extract(r'([A-Z]{3})', expand=False)"
   ]
  },
  {
   "cell_type": "markdown",
   "id": "53a8faeb-8919-4d07-8c32-e040b186882a",
   "metadata": {},
   "source": [
    "In the next code cell you can create two new columns with extract and insert. You could also use str.split(), which you have used before, and provide a pattern as the delimiter. For now you'll create a vector for both event id and ISO codes with str.extract(). It is important in this case to use the `expand=False` argument to obtain a flat vector to insert. As you saw in the previous code cell, the default behavior of str.extract() is to create a grouped table, which doesn't play well with the insert() function. "
   ]
  },
  {
   "cell_type": "code",
   "execution_count": 21,
   "id": "d9a4a521-e5d7-41b3-ab65-1f251c2ad112",
   "metadata": {},
   "outputs": [
    {
     "data": {
      "text/html": [
       "<div>\n",
       "<style scoped>\n",
       "    .dataframe tbody tr th:only-of-type {\n",
       "        vertical-align: middle;\n",
       "    }\n",
       "\n",
       "    .dataframe tbody tr th {\n",
       "        vertical-align: top;\n",
       "    }\n",
       "\n",
       "    .dataframe thead th {\n",
       "        text-align: right;\n",
       "    }\n",
       "</style>\n",
       "<table border=\"1\" class=\"dataframe\">\n",
       "  <thead>\n",
       "    <tr style=\"text-align: right;\">\n",
       "      <th></th>\n",
       "      <th>event_id_cnty</th>\n",
       "      <th>country_iso</th>\n",
       "      <th>event_id</th>\n",
       "      <th>day</th>\n",
       "      <th>month</th>\n",
       "      <th>year</th>\n",
       "      <th>event_date</th>\n",
       "      <th>event_type</th>\n",
       "      <th>sub_event_type</th>\n",
       "      <th>actor1</th>\n",
       "      <th>actor2</th>\n",
       "      <th>country</th>\n",
       "      <th>admin1</th>\n",
       "      <th>location</th>\n",
       "      <th>notes</th>\n",
       "      <th>fatalities</th>\n",
       "      <th>str_date</th>\n",
       "    </tr>\n",
       "  </thead>\n",
       "  <tbody>\n",
       "    <tr>\n",
       "      <th>0</th>\n",
       "      <td>COL10764</td>\n",
       "      <td>COL</td>\n",
       "      <td>10764</td>\n",
       "      <td>15</td>\n",
       "      <td>April</td>\n",
       "      <td>2022</td>\n",
       "      <td>2022-04-15</td>\n",
       "      <td>Battles</td>\n",
       "      <td>Armed clash</td>\n",
       "      <td>Gulf Clan</td>\n",
       "      <td>ACSN: Self-Defense Conquer...</td>\n",
       "      <td>Colombia</td>\n",
       "      <td>Magdalena</td>\n",
       "      <td>Cienaga</td>\n",
       "      <td>On 15 April 2022, in the r...</td>\n",
       "      <td>5</td>\n",
       "      <td>April 15, 2022</td>\n",
       "    </tr>\n",
       "    <tr>\n",
       "      <th>1</th>\n",
       "      <td>COL10766</td>\n",
       "      <td>COL</td>\n",
       "      <td>10766</td>\n",
       "      <td>15</td>\n",
       "      <td>April</td>\n",
       "      <td>2022</td>\n",
       "      <td>2022-04-15</td>\n",
       "      <td>Riots</td>\n",
       "      <td>Mob violence</td>\n",
       "      <td>Rioters (Colombia)</td>\n",
       "      <td>Police Forces of Colombia ...</td>\n",
       "      <td>Colombia</td>\n",
       "      <td>Sucre</td>\n",
       "      <td>Santiago De Tolu</td>\n",
       "      <td>On 15 April 2022, in Santi...</td>\n",
       "      <td>0</td>\n",
       "      <td>April 15, 2022</td>\n",
       "    </tr>\n",
       "    <tr>\n",
       "      <th>2</th>\n",
       "      <td>COL10767</td>\n",
       "      <td>COL</td>\n",
       "      <td>10767</td>\n",
       "      <td>15</td>\n",
       "      <td>April</td>\n",
       "      <td>2022</td>\n",
       "      <td>2022-04-15</td>\n",
       "      <td>Strategic developments</td>\n",
       "      <td>Looting/property destruction</td>\n",
       "      <td>Military Forces of Colombi...</td>\n",
       "      <td>Gulf Clan</td>\n",
       "      <td>Colombia</td>\n",
       "      <td>Vichada</td>\n",
       "      <td>Cumaribo</td>\n",
       "      <td>Property destruction: Arou...</td>\n",
       "      <td>0</td>\n",
       "      <td>April 15, 2022</td>\n",
       "    </tr>\n",
       "    <tr>\n",
       "      <th>3</th>\n",
       "      <td>PAR3527</td>\n",
       "      <td>PAR</td>\n",
       "      <td>3527</td>\n",
       "      <td>15</td>\n",
       "      <td>April</td>\n",
       "      <td>2022</td>\n",
       "      <td>2022-04-15</td>\n",
       "      <td>Strategic developments</td>\n",
       "      <td>Looting/property destruction</td>\n",
       "      <td>Unidentified Armed Group (...</td>\n",
       "      <td>Civilians (Paraguay)</td>\n",
       "      <td>Paraguay</td>\n",
       "      <td>San Pedro</td>\n",
       "      <td>Tacuati</td>\n",
       "      <td>Looting: On 15 April 2022,...</td>\n",
       "      <td>0</td>\n",
       "      <td>April 15, 2022</td>\n",
       "    </tr>\n",
       "    <tr>\n",
       "      <th>4</th>\n",
       "      <td>CHI8633</td>\n",
       "      <td>CHI</td>\n",
       "      <td>8633</td>\n",
       "      <td>15</td>\n",
       "      <td>April</td>\n",
       "      <td>2022</td>\n",
       "      <td>2022-04-15</td>\n",
       "      <td>Strategic developments</td>\n",
       "      <td>Looting/property destruction</td>\n",
       "      <td>Indigenous Militia (Chile)</td>\n",
       "      <td>Civilians (Chile)</td>\n",
       "      <td>Chile</td>\n",
       "      <td>Biobio</td>\n",
       "      <td>Los Angeles</td>\n",
       "      <td>Property destruction: On 1...</td>\n",
       "      <td>0</td>\n",
       "      <td>April 15, 2022</td>\n",
       "    </tr>\n",
       "    <tr>\n",
       "      <th>5</th>\n",
       "      <td>COL10763</td>\n",
       "      <td>COL</td>\n",
       "      <td>10763</td>\n",
       "      <td>15</td>\n",
       "      <td>April</td>\n",
       "      <td>2022</td>\n",
       "      <td>2022-04-15</td>\n",
       "      <td>Battles</td>\n",
       "      <td>Armed clash</td>\n",
       "      <td>Military Forces of Colombi...</td>\n",
       "      <td>Gulf Clan</td>\n",
       "      <td>Colombia</td>\n",
       "      <td>Antioquia</td>\n",
       "      <td>El Bagre</td>\n",
       "      <td>Around 15 April 2022, in t...</td>\n",
       "      <td>2</td>\n",
       "      <td>April 15, 2022</td>\n",
       "    </tr>\n",
       "    <tr>\n",
       "      <th>6</th>\n",
       "      <td>ECU1704</td>\n",
       "      <td>ECU</td>\n",
       "      <td>1704</td>\n",
       "      <td>15</td>\n",
       "      <td>April</td>\n",
       "      <td>2022</td>\n",
       "      <td>2022-04-15</td>\n",
       "      <td>Protests</td>\n",
       "      <td>Peaceful protest</td>\n",
       "      <td>Protesters (Ecuador)</td>\n",
       "      <td>NaN</td>\n",
       "      <td>Ecuador</td>\n",
       "      <td>El Oro</td>\n",
       "      <td>El Cambio</td>\n",
       "      <td>On 15 April 2022, in El Ca...</td>\n",
       "      <td>0</td>\n",
       "      <td>April 15, 2022</td>\n",
       "    </tr>\n",
       "    <tr>\n",
       "      <th>7</th>\n",
       "      <td>ECU1703</td>\n",
       "      <td>ECU</td>\n",
       "      <td>1703</td>\n",
       "      <td>15</td>\n",
       "      <td>April</td>\n",
       "      <td>2022</td>\n",
       "      <td>2022-04-15</td>\n",
       "      <td>Protests</td>\n",
       "      <td>Peaceful protest</td>\n",
       "      <td>Protesters (Ecuador)</td>\n",
       "      <td>NaN</td>\n",
       "      <td>Ecuador</td>\n",
       "      <td>El Oro</td>\n",
       "      <td>El Guabo</td>\n",
       "      <td>On 15 April 2022, in El Gu...</td>\n",
       "      <td>0</td>\n",
       "      <td>April 15, 2022</td>\n",
       "    </tr>\n",
       "    <tr>\n",
       "      <th>8</th>\n",
       "      <td>ARG10038</td>\n",
       "      <td>ARG</td>\n",
       "      <td>10038</td>\n",
       "      <td>15</td>\n",
       "      <td>April</td>\n",
       "      <td>2022</td>\n",
       "      <td>2022-04-15</td>\n",
       "      <td>Protests</td>\n",
       "      <td>Peaceful protest</td>\n",
       "      <td>Protesters (Argentina)</td>\n",
       "      <td>NaN</td>\n",
       "      <td>Argentina</td>\n",
       "      <td>Rio Negro</td>\n",
       "      <td>San Carlos de Bariloche</td>\n",
       "      <td>On 15 April 2022, in San C...</td>\n",
       "      <td>0</td>\n",
       "      <td>April 15, 2022</td>\n",
       "    </tr>\n",
       "    <tr>\n",
       "      <th>9</th>\n",
       "      <td>COL10765</td>\n",
       "      <td>COL</td>\n",
       "      <td>10765</td>\n",
       "      <td>15</td>\n",
       "      <td>April</td>\n",
       "      <td>2022</td>\n",
       "      <td>2022-04-15</td>\n",
       "      <td>Protests</td>\n",
       "      <td>Peaceful protest</td>\n",
       "      <td>Protesters (Colombia)</td>\n",
       "      <td>NaN</td>\n",
       "      <td>Colombia</td>\n",
       "      <td>Magdalena</td>\n",
       "      <td>Santa Marta</td>\n",
       "      <td>Around 15 April 2022, in S...</td>\n",
       "      <td>0</td>\n",
       "      <td>April 15, 2022</td>\n",
       "    </tr>\n",
       "  </tbody>\n",
       "</table>\n",
       "</div>"
      ],
      "text/plain": [
       "  event_id_cnty country_iso event_id day  month  year event_date  \\\n",
       "0      COL10764         COL    10764  15  April  2022 2022-04-15   \n",
       "1      COL10766         COL    10766  15  April  2022 2022-04-15   \n",
       "2      COL10767         COL    10767  15  April  2022 2022-04-15   \n",
       "3       PAR3527         PAR     3527  15  April  2022 2022-04-15   \n",
       "4       CHI8633         CHI     8633  15  April  2022 2022-04-15   \n",
       "5      COL10763         COL    10763  15  April  2022 2022-04-15   \n",
       "6       ECU1704         ECU     1704  15  April  2022 2022-04-15   \n",
       "7       ECU1703         ECU     1703  15  April  2022 2022-04-15   \n",
       "8      ARG10038         ARG    10038  15  April  2022 2022-04-15   \n",
       "9      COL10765         COL    10765  15  April  2022 2022-04-15   \n",
       "\n",
       "               event_type                sub_event_type  \\\n",
       "0                 Battles                   Armed clash   \n",
       "1                   Riots                  Mob violence   \n",
       "2  Strategic developments  Looting/property destruction   \n",
       "3  Strategic developments  Looting/property destruction   \n",
       "4  Strategic developments  Looting/property destruction   \n",
       "5                 Battles                   Armed clash   \n",
       "6                Protests              Peaceful protest   \n",
       "7                Protests              Peaceful protest   \n",
       "8                Protests              Peaceful protest   \n",
       "9                Protests              Peaceful protest   \n",
       "\n",
       "                          actor1                         actor2    country  \\\n",
       "0                      Gulf Clan  ACSN: Self-Defense Conquer...   Colombia   \n",
       "1             Rioters (Colombia)  Police Forces of Colombia ...   Colombia   \n",
       "2  Military Forces of Colombi...                      Gulf Clan   Colombia   \n",
       "3  Unidentified Armed Group (...           Civilians (Paraguay)   Paraguay   \n",
       "4     Indigenous Militia (Chile)              Civilians (Chile)      Chile   \n",
       "5  Military Forces of Colombi...                      Gulf Clan   Colombia   \n",
       "6           Protesters (Ecuador)                            NaN    Ecuador   \n",
       "7           Protesters (Ecuador)                            NaN    Ecuador   \n",
       "8         Protesters (Argentina)                            NaN  Argentina   \n",
       "9          Protesters (Colombia)                            NaN   Colombia   \n",
       "\n",
       "      admin1                 location                          notes  \\\n",
       "0  Magdalena                  Cienaga  On 15 April 2022, in the r...   \n",
       "1      Sucre         Santiago De Tolu  On 15 April 2022, in Santi...   \n",
       "2    Vichada                 Cumaribo  Property destruction: Arou...   \n",
       "3  San Pedro                  Tacuati  Looting: On 15 April 2022,...   \n",
       "4     Biobio              Los Angeles  Property destruction: On 1...   \n",
       "5  Antioquia                 El Bagre  Around 15 April 2022, in t...   \n",
       "6     El Oro                El Cambio  On 15 April 2022, in El Ca...   \n",
       "7     El Oro                 El Guabo  On 15 April 2022, in El Gu...   \n",
       "8  Rio Negro  San Carlos de Bariloche  On 15 April 2022, in San C...   \n",
       "9  Magdalena              Santa Marta  Around 15 April 2022, in S...   \n",
       "\n",
       "   fatalities        str_date  \n",
       "0           5  April 15, 2022  \n",
       "1           0  April 15, 2022  \n",
       "2           0  April 15, 2022  \n",
       "3           0  April 15, 2022  \n",
       "4           0  April 15, 2022  \n",
       "5           2  April 15, 2022  \n",
       "6           0  April 15, 2022  \n",
       "7           0  April 15, 2022  \n",
       "8           0  April 15, 2022  \n",
       "9           0  April 15, 2022  "
      ]
     },
     "execution_count": 21,
     "metadata": {},
     "output_type": "execute_result"
    }
   ],
   "source": [
    "pd.options.display.max_colwidth = 30 # this option lets you read 100 characters in the cell output.\n",
    "\n",
    "country_iso = south_america['event_id_cnty'].str.extract(r'([A-Z]{3})', expand=False)\n",
    "event_id = south_america['event_id_cnty'].str.extract(r'(\\d+)', expand=False)\n",
    "\n",
    "south_america.insert(1, 'country_iso', country_iso)\n",
    "south_america.insert(2, 'event_id', event_id)\n",
    "\n",
    "south_america.head(10)"
   ]
  },
  {
   "cell_type": "markdown",
   "id": "a41e85cc-b49e-4f06-abcd-c6f10139557f",
   "metadata": {},
   "source": [
    "### Creating a new event size variable\n",
    "\n",
    "The `notes` variable doesn't just provide commentary, there is data stored in these accounts of conflict events. When a conflict was deadly, the ACLED data provides the number of fatalities as a numeric variable. But there is no variable to describe the size of protests and riots where no fatalities were recorded. There are, however, comments within the notes variable if the number of people is counted or estimated. An example of what this description looks like:\n",
    "\n",
    "> On 14 April 2022, in Puerto Iguazu (Misiones), around 50 members of the Education Workers Front, Association of State Workers (ATE), and the Argentine Workers' Central Union (CTA) blocked the National Route 101, interfering in the access to the Iguazu Falls and the international airport, as means to demand a decent salary. The protest took place during an extended holiday, complicating the entrance of 8,000 tourists who had tickets to enter the national park. [size=around 50]\n",
    "\n",
    "We can use str.extract() to pull the size value from `notes` into a new column called `event_size` and sort and analyze the resulting data. This is relatively easy to do because the text follows a clear pattern: within quare brackets, after the string `size=`. This makes this figure a prime candidate for regular expressions. Using str.extract(), the pattern you should provide does something new compared to the country code examples. We have a regex pattern to match first, the square brackets and 'size=', but we want to _extract_ what's inside the brackets. That pattern to extract must go in parentheses, and the pattern we don't want to extract will be around it. \n",
    "\n",
    "The pattern explained in parts: `\\[` is the special open-bracket character, `size=` is the actual string, `(.*?)` is any character any unlimited number of times, `\\]` is the special close-bracket character. We attach a dropna() function to clean up the many missing variables, and then describe it. \n",
    "\n",
    "To describe the types of strings you extracted with regular expressions, assign the values to a new `size` object. It will have as many rows as the south_america data frame, with just one column for the extracted matched strings. To this size object, apply the pandas `.value_counts()` function. This will give you a table with the strings and the number of occurrances. "
   ]
  },
  {
   "cell_type": "code",
   "execution_count": 29,
   "id": "96d1672f-9354-4235-b5c8-8d45fde60c4b",
   "metadata": {},
   "outputs": [
    {
     "data": {
      "text/html": [
       "<div>\n",
       "<style scoped>\n",
       "    .dataframe tbody tr th:only-of-type {\n",
       "        vertical-align: middle;\n",
       "    }\n",
       "\n",
       "    .dataframe tbody tr th {\n",
       "        vertical-align: top;\n",
       "    }\n",
       "\n",
       "    .dataframe thead th {\n",
       "        text-align: right;\n",
       "    }\n",
       "</style>\n",
       "<table border=\"1\" class=\"dataframe\">\n",
       "  <thead>\n",
       "    <tr style=\"text-align: right;\">\n",
       "      <th></th>\n",
       "      <th>0</th>\n",
       "    </tr>\n",
       "  </thead>\n",
       "  <tbody>\n",
       "    <tr>\n",
       "      <th>1</th>\n",
       "      <td>no report</td>\n",
       "    </tr>\n",
       "    <tr>\n",
       "      <th>6</th>\n",
       "      <td>no report</td>\n",
       "    </tr>\n",
       "    <tr>\n",
       "      <th>7</th>\n",
       "      <td>no report</td>\n",
       "    </tr>\n",
       "    <tr>\n",
       "      <th>8</th>\n",
       "      <td>no report</td>\n",
       "    </tr>\n",
       "    <tr>\n",
       "      <th>9</th>\n",
       "      <td>no report</td>\n",
       "    </tr>\n",
       "    <tr>\n",
       "      <th>...</th>\n",
       "      <td>...</td>\n",
       "    </tr>\n",
       "    <tr>\n",
       "      <th>107205</th>\n",
       "      <td>nearly 60</td>\n",
       "    </tr>\n",
       "    <tr>\n",
       "      <th>107206</th>\n",
       "      <td>no report</td>\n",
       "    </tr>\n",
       "    <tr>\n",
       "      <th>107216</th>\n",
       "      <td>no report</td>\n",
       "    </tr>\n",
       "    <tr>\n",
       "      <th>107232</th>\n",
       "      <td>no report</td>\n",
       "    </tr>\n",
       "    <tr>\n",
       "      <th>107233</th>\n",
       "      <td>no report</td>\n",
       "    </tr>\n",
       "  </tbody>\n",
       "</table>\n",
       "<p>62146 rows × 1 columns</p>\n",
       "</div>"
      ],
      "text/plain": [
       "                0\n",
       "1       no report\n",
       "6       no report\n",
       "7       no report\n",
       "8       no report\n",
       "9       no report\n",
       "...           ...\n",
       "107205  nearly 60\n",
       "107206  no report\n",
       "107216  no report\n",
       "107232  no report\n",
       "107233  no report\n",
       "\n",
       "[62146 rows x 1 columns]"
      ]
     },
     "execution_count": 29,
     "metadata": {},
     "output_type": "execute_result"
    },
    {
     "data": {
      "text/plain": [
       "no report                    50048\n",
       "hundreds                       949\n",
       "dozens                         860\n",
       "thousands                      329\n",
       "around 100                     236\n",
       "                             ...  \n",
       "approximately 15000              1\n",
       "approximately 2,500              1\n",
       "approximately 20 cars            1\n",
       "approximately 20 families        1\n",
       "up to 80,000                     1\n",
       "Name: count, Length: 1512, dtype: int64"
      ]
     },
     "execution_count": 29,
     "metadata": {},
     "output_type": "execute_result"
    }
   ],
   "source": [
    "south_america['notes'].str.extract(r'\\[size=(.*?)\\]').dropna()\n",
    "\n",
    "size = south_america['notes'].str.extract(r'\\[size=(.*?)\\]')\n",
    "\n",
    "size.value_counts()"
   ]
  },
  {
   "cell_type": "markdown",
   "id": "53a9257e-751d-421c-a17e-182d28992ef6",
   "metadata": {},
   "source": [
    "As you can see, there are important caveats and exceptions. The size estimates are a mix of numbers and words. You could further extract numbers for a purely numeric column, or use conditional statements or a [text-to-number package](https://pypi.org/project/text2num/). However, the numbers are not exact and, more often than not, uses words describing a rough estimate of the size of the event. Finally, the most frequent observation by far is `[size=no report]`, unfortunately. \n",
    "\n",
    "The value_counts() "
   ]
  },
  {
   "cell_type": "code",
   "execution_count": null,
   "id": "e385b4cd-fc9d-46c0-98af-f7b5a6cfb4d4",
   "metadata": {},
   "outputs": [],
   "source": []
  },
  {
   "cell_type": "markdown",
   "id": "e0a32e57-93b6-45a6-9b0d-ab8d9399bc7a",
   "metadata": {},
   "source": [
    "## done\n",
    "\n",
    "- str split\n",
    "- split event date to two day/month columns\n",
    "- find matches in the notes column for terms regarding the military. use regex and regular string example.\n",
    "- introduce regex! split event_id_cnty to two columns, event id and country_iso\n",
    "\n",
    "# To-do\n",
    "\n",
    "- \n",
    "- make a column for intensity where every note with brackets has size after equals (protests and riots)\n",
    "-  \n",
    "\n",
    "\n",
    "\n",
    "\n"
   ]
  }
 ],
 "metadata": {
  "kernelspec": {
   "display_name": "Python 3 (ipykernel)",
   "language": "python",
   "name": "python3"
  },
  "language_info": {
   "codemirror_mode": {
    "name": "ipython",
    "version": 3
   },
   "file_extension": ".py",
   "mimetype": "text/x-python",
   "name": "python",
   "nbconvert_exporter": "python",
   "pygments_lexer": "ipython3",
   "version": "3.11.7"
  }
 },
 "nbformat": 4,
 "nbformat_minor": 5
}
