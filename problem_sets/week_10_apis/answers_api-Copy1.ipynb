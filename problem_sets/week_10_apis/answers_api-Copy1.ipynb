{
 "cells": [
  {
   "cell_type": "markdown",
   "id": "fb329608-8ba7-4382-bcad-2bd8b6680a0e",
   "metadata": {},
   "source": [
    "# API Problem Set\n",
    "\n",
    "<span style=\"color:red\">0 / 0 points</span>.\n",
    "\n",
    "In this problem set, you will work the United States Census' American Community Survey data available in this class's Data directory.  After every step in the problem set, create a new cell, code or Markdown as appropriate, for the answer. \n"
   ]
  },
  {
   "cell_type": "markdown",
   "id": "fd591433-fe72-4ff4-8b08-1f85d62ed090",
   "metadata": {},
   "source": [
    "## Orienting\n",
    "1. The next question requires the `df_multiple` dataframe made in the lesson.  Load it from where it was saved and look at rows 120 through 132.  Name the object `df_m`."
   ]
  },
  {
   "cell_type": "code",
   "execution_count": null,
   "id": "48ce0afd-795a-4504-a768-cbf2b328c910",
   "metadata": {},
   "outputs": [],
   "source": [
    "import pandas as pd\n",
    "\n",
    "df_m = pd.read_csv('../../lessons/APIs/df_acs2019_mult.csv')  # must load from the location it was saved for full credit\n",
    "\n",
    "df_m.iloc[120:133]  # 133 is required for full credit"
   ]
  },
  {
   "cell_type": "markdown",
   "id": "5986cf89-bfb2-428a-b2d0-36f2679c88fb",
   "metadata": {},
   "source": [
    "2. The dataframe has several variables in addition to DP04_0132E. In words, what are they?  The answer needs to be descriptive and make it clear which description is for which variable.  Where did you go to find this information?"
   ]
  },
  {
   "cell_type": "markdown",
   "id": "61d26e8f-cf91-4e6a-b486-4b02f1167b3b",
   "metadata": {},
   "source": [
    "The three other variables are DP04_0001E, DP04_0108E, and DP04_0134E.  DP04_0001E is an estimate of the total number of housing units.  DP04_0108E is an estimate of the number of housing units with a mortage worth \\$1,000 or more.  DP04_0134E is the estimate of median gross rent for occupied housing units.  This information comes from the `Data/ACS/DP04/CountyACSDP1Y2019.DP04-Column-Metadata.csv` file included with the textbook's ACS data.  <!--- Full credit does not require that specific file, but the answer should document a reputable source.  ChatGPT and other generative services do not count. --->"
   ]
  },
  {
   "cell_type": "markdown",
   "id": "cfad6507-c728-41e7-af4d-92b15b4b9353",
   "metadata": {},
   "source": [
    "3. When making requests for multiple years, no data were retrieved for 2023.  Why?"
   ]
  },
  {
   "cell_type": "markdown",
   "id": "258c97d2-416e-430c-8828-a059c51d6614",
   "metadata": {},
   "source": [
    "The Census has not made 2023 ACS data available at this time.  <!--- True as of 06.03.2024 --->"
   ]
  },
  {
   "cell_type": "markdown",
   "id": "8a4ad9de-5597-4ac2-93a1-7e096f29f15e",
   "metadata": {},
   "source": [
    "## Programming \n",
    "4. Download the 2014 percent estimate for Spanish spoken at home for language for residents five and over.  Write a function that converts the return into a dataframe.  Call this dataframe `perc_span2014`."
   ]
  },
  {
   "cell_type": "code",
   "execution_count": null,
   "id": "1f37497f-e220-41e9-8ff4-9ca0dabb6d3c",
   "metadata": {},
   "outputs": [],
   "source": [
    "import requests\n",
    "import pandas as pd\n",
    "\n",
    "## URL parts\n",
    "year='2014'\n",
    "name= 'acs'\n",
    "acronym='acs5' \n",
    "cols= 'DP02_0114PE,NAME' \n",
    "county='*' \n",
    "keyfile= 'census_key.txt'  # Change this name to reflect the name of your file. Make sure it is saved in the same directory as your script.\n",
    "\n",
    "## Read api key in from file\n",
    "with open ('../../lessons/APIs/'+keyfile) as key:\n",
    "    api_key=key.read().strip()\n",
    "\n",
    "## Retrieve data, print output to screen\n",
    "base_url = f'https://api.census.gov/data/{year}/{name}/{acronym}/' \n",
    "data_url = f'{base_url}profile?get={cols}&for=county:{county}&key={api_key}'\n",
    "response = requests.get(data_url)\n",
    "\n",
    "response # Inspecting. <Response [200]>, good\n",
    "\n",
    "perc_span2014 = response.json()\n",
    "\n",
    "# Define the function\n",
    "def response_to_df(from_census):\n",
    "    data = from_census\n",
    "    header = data.pop(0)\n",
    "    df = pd.DataFrame(data, columns=header)\n",
    "    print('The returned data contain ' + str(df.shape[0]) + ' rows and ' + str(df.shape[1]) + ' columns.')\n",
    "    return(df)\n",
    "\n",
    "# Convert to dataframe\n",
    "perc_span2014 = response_to_df(from_census=perc_span2014)"
   ]
  },
  {
   "cell_type": "markdown",
   "id": "48e542b9-cf68-4458-bb58-ec434b1a98ba",
   "metadata": {},
   "source": [
    "5. Make a new function, `make_request`, that takes user supplied arugments, makes a correctly formatted URL hardcoded to request county data, and passes that URL to the API; it should also use your API key.  Hardcode the function to return data at the county level and return the response object.  Use `make_request` to request the same information as for the previous problem, then convert the response to a dataframe called `perc_span2014b`. Confirm the results have the same number of rows and columns as the dataframe object make above."
   ]
  },
  {
   "cell_type": "code",
   "execution_count": null,
   "id": "a63291ec-73a8-4526-a955-4897d3b426ce",
   "metadata": {},
   "outputs": [],
   "source": [
    "# Define the function\n",
    "def make_request(year, name, acronym, cols, keyfile):\n",
    "    ## URL parts\n",
    "    year=year\n",
    "    name= name\n",
    "    acronym=acronym \n",
    "    cols= cols \n",
    "    county='*' \n",
    "    keyfile = keyfile  # Change this name to reflect the name of your file. Make sure it is saved in the same directory as your script.\n",
    "\n",
    "    ## Read api key in from file\n",
    "    with open ('../../lessons/APIs/'+keyfile) as key: # The path will differ depending on where the key is saved.\n",
    "        api_key=key.read().strip()    \n",
    "    ## Retrieve data, print output to screen\n",
    "    base_url = f'https://api.census.gov/data/{year}/{name}/{acronym}/' \n",
    "    data_url = f'{base_url}profile?get={cols}&for=county:{county}&key={api_key}'\n",
    "    response = requests.get(data_url)\n",
    "\n",
    "    temp = response.json()\n",
    "    return temp\n",
    "\n",
    "# Get the returned request\n",
    "perc_span2014b = make_request(year='2014', name='acs', acronym='acs5', cols='DP02_0114PE,NAME', keyfile='census_key.txt')\n",
    "\n",
    "# Make a dataframe\n",
    "perc_span2014b = response_to_df(from_census=perc_span2014b)\n",
    "\n",
    "# Compare size\n",
    "perc_span2014b.shape == perc_span2014.shape  # Returns True"
   ]
  },
  {
   "cell_type": "markdown",
   "id": "df4034d6-9a7d-4568-96af-5c88ec273239",
   "metadata": {},
   "source": [
    "6. Using the two functions you have made, download the 2016 values for three variables: DP02_0114PE, the estimate for total households with a broadband internet connection, and population 25 years and over with a bachelor's degree. Make the data a dataframe called `mult_2016.`  Look at the first 12 rows and rows 400:408 to see if everything looks normal."
   ]
  },
  {
   "cell_type": "code",
   "execution_count": null,
   "id": "9c1ed526-e702-4814-849a-51a26f48fb52",
   "metadata": {},
   "outputs": [],
   "source": [
    "temp = make_request(year='2016', name='acs', acronym='acs5', cols='DP02_0114PE,DP02_0152E,DP02_0064E,NAME', keyfile='census_key.txt')\n",
    "\n",
    "# Make a dataframe\n",
    "mult_2016 = response_to_df(from_census=temp)\n",
    "\n",
    "# Inspect\n",
    "mult_2016.head(12)\n",
    "\n",
    "mult_2016.iloc[400:408,]"
   ]
  },
  {
   "cell_type": "markdown",
   "id": "480192c9-edff-48b2-ac2e-8bf5746f4cba",
   "metadata": {},
   "source": [
    "7. Next, analyze the same three variables but for the years 2013-2018.  Make sure the final dataframe has a column indicating the ACS year, and name the final dataframe containing all the years `mult_201318`."
   ]
  },
  {
   "cell_type": "code",
   "execution_count": null,
   "id": "61377288-7641-42e9-a3d5-fa8693296514",
   "metadata": {},
   "outputs": [],
   "source": [
    "dfs = []  # Make list for dataframes, concatenate at the end\n",
    "years = range(2013, 2019)\n",
    "\n",
    "for year in years:\n",
    "    t = make_request(year=str(year), name='acs', acronym='acs5', cols='DP02_0114PE,DP02_0152E,DP02_0064E,NAME', keyfile='census_key.txt')\n",
    "    t = response_to_df(from_census=t)\n",
    "    t['year'] = str(year)\n",
    "    dfs.append(t)\n",
    "\n",
    "mult_201318 = pd.concat(dfs)"
   ]
  },
  {
   "cell_type": "markdown",
   "id": "e9d2fddb-1d57-4007-a1b6-525c62d21b80",
   "metadata": {},
   "source": [
    "8. Now, modify `response_to_df` so that it saves the dataframe it creates.  For this functionality, add an argument called `outfile` that expects a string value.  The modified function will write a .csv to that location _if the user passes a string_, otherwise it writes nothing.  Test it by with the `temp` response from above and name the file 'mult_2016.csv'. "
   ]
  },
  {
   "cell_type": "code",
   "execution_count": null,
   "id": "0a6a577e-f031-4428-9099-86eb87abeed9",
   "metadata": {},
   "outputs": [],
   "source": [
    "# Make a new function with the same name.\n",
    "def response_to_df(from_census, outfile=None):\n",
    "    # Kept the same\n",
    "    data = from_census\n",
    "    header = data.pop(0)\n",
    "    df = pd.DataFrame(data, columns=header)\n",
    "    print('The returned data contain ' + str(df.shape[0]) + ' rows and ' + str(df.shape[1]) + ' columns.')\n",
    "    \n",
    "    # New\n",
    "    if isinstance(outfile, str):  # If the outfile is a string,\n",
    "        df.to_csv(outfile, index=False)\n",
    "        print('The dataframe was written to ' + outfile + '.')\n",
    "    \n",
    "    if isinstance(outfile, str) == False:  # Not needed for full credit\n",
    "        print('To save the dataframe, do not forget to provide the outfile as a string.')\n",
    "        \n",
    "    return(df)\n",
    "\n",
    "mult_2016 = response_to_df(from_census=temp, outfile='mult_2016.csv')"
   ]
  },
  {
   "cell_type": "markdown",
   "id": "8de71898-ae45-4947-bc56-dc25c490be2d",
   "metadata": {},
   "source": [
    "9. Finally, download subject table S2507 from 2018, convert it to a dataframe named `s2507`, and save it as 's2507_2018.csv'. _NB: S tables are known as subject tables and have slightly different URLs than for individual variables or a group.  Modify code accordingly._ "
   ]
  },
  {
   "cell_type": "code",
   "execution_count": 14,
   "id": "033904ee-f2c9-40d7-9497-ba709882ef6e",
   "metadata": {},
   "outputs": [
    {
     "ename": "SyntaxError",
     "evalue": "invalid syntax (290018620.py, line 21)",
     "output_type": "error",
     "traceback": [
      "\u001b[0;36m  Cell \u001b[0;32mIn[14], line 21\u001b[0;36m\u001b[0m\n\u001b[0;31m    https://api.census.gov/data/2019/acs/acs5?get=group(B25064)&for=state:*&key=<your_key>\u001b[0m\n\u001b[0m          ^\u001b[0m\n\u001b[0;31mSyntaxError\u001b[0m\u001b[0;31m:\u001b[0m invalid syntax\n"
     ]
    }
   ],
   "source": [
    "def make_request_table(year, name, acronym, cols, keyfile):\n",
    "    ## URL parts\n",
    "    year=year\n",
    "    name= name\n",
    "    acronym=acronym \n",
    "    cols= cols \n",
    "    county='*' \n",
    "    keyfile= keyfile  # Change this name to reflect the name of your file. Make sure it is saved in the same directory as your script.\n",
    "\n",
    "    ## Read api key in from file\n",
    "    with open ('../../lessons/APIs/'+keyfile) as key:\n",
    "        api_key=key.read().strip()    \n",
    "    ## Retrieve data, print output to screen\n",
    "    base_url = f'https://api.census.gov/data/{year}/{name}/{acronym}/' \n",
    "    data_url = f'{base_url}subject?get={cols}&for=county:{county}&key={api_key}'\n",
    "    response = requests.get(data_url)\n",
    "\n",
    "    temp = response.json()\n",
    "    return temp\n",
    "\n",
    "\n",
    "s2507 = make_request_table(year='2018', name='acs', acronym='acs5', cols='group(S2507),NAME', keyfile='census_key.txt')\n",
    "s2507 = response_to_df(from_census=s2507, outfile='s2507_2018.csv')"
   ]
  },
  {
   "cell_type": "markdown",
   "id": "f5b89544-0f91-42bc-8d96-303f5477bcb4",
   "metadata": {},
   "source": [
    "## Debugging\n",
    "The final questions of the problem set provides code with error(s).  You have to debug the code as asked.\n",
    "\n",
    "10. The below code tries to create a dataframe using functions made earlier, yet it does not work.  Why?  Answer in a Markdown cell and then provide the correct code in a code cell."
   ]
  },
  {
   "cell_type": "code",
   "execution_count": null,
   "id": "05f623f8-47a1-481a-abf2-99eaf9f1e425",
   "metadata": {},
   "outputs": [],
   "source": [
    "test = make__request(year='2014', name='acs', acronym='acs5', cols='DP02_0114PE,NAME', keyfile='census_key.txt')\n",
    "test_df = response_to_fd(test)"
   ]
  },
  {
   "cell_type": "markdown",
   "id": "874ac9a5-5626-4a9e-9172-9b7d47af80a9",
   "metadata": {},
   "source": [
    "Both function names were typed incorectly.  There is an extra underscore in `make_request` and `response_to_fd` should end with `_df`.  The correct code is:"
   ]
  },
  {
   "cell_type": "code",
   "execution_count": null,
   "id": "961684d1-3989-4fed-a60c-0480013571f6",
   "metadata": {},
   "outputs": [],
   "source": [
    "test = make_request(year='2014', name='acs', acronym='acs5', cols='DP02_0114PE,NAME', keyfile='census_key.txt')\n",
    "test_df = response_to_df(test)"
   ]
  },
  {
   "cell_type": "markdown",
   "id": "047c0ef8-6d26-44c5-b30b-4e2da48c0808",
   "metadata": {},
   "source": [
    "11. There is an error in the code below.  Explain the error in a Markdown cell and then provide the correct code in a code cell."
   ]
  },
  {
   "cell_type": "code",
   "execution_count": null,
   "id": "0179f01b-d852-4fa4-8ff3-ca2d86d31ec3",
   "metadata": {},
   "outputs": [],
   "source": [
    "mult_bad = make_request(year='2018', name='acs', acronym='acs5', cols='DP02_0072E, DP02_0127PE, DP02_0024PE DP02_0014E,NAME', keyfile='census_key.txt')"
   ]
  },
  {
   "cell_type": "markdown",
   "id": "e16b189d-ab0c-4c30-8fac-48c7c985b141",
   "metadata": {},
   "source": [
    "The errors are in the `cols` argument.  There should not be spaces after the ',' and a comma is missing between '0024PE DP02'."
   ]
  },
  {
   "cell_type": "code",
   "execution_count": null,
   "id": "6116755b-d75a-4e50-a535-7480a719fb13",
   "metadata": {},
   "outputs": [],
   "source": [
    "mult_good = make_request(year='2018', name='acs', acronym='acs5', cols='DP02_0072E,DP02_0127PE,DP02_0024PE,DP02_0014E,NAME', keyfile='census_key.txt')"
   ]
  },
  {
   "cell_type": "markdown",
   "id": "93782467-b265-49e7-9f4d-6a12d571bd22",
   "metadata": {},
   "source": [
    "12. The function `make_request_bad` contains two errors.  Make a new function called `make_request_good` that fixes those two errors, and provides comments in the function explaining the error fix.  Then test the good function by using it to make a dataframe called `perc_span2014c`, and compare the shape of this new dataframe to `perc_span2014`."
   ]
  },
  {
   "cell_type": "code",
   "execution_count": null,
   "id": "6a1965fc-c999-40eb-88f4-04c9cd719f8e",
   "metadata": {},
   "outputs": [],
   "source": [
    "def make_request_bad(year, name, acronym, cols, keyfile):\n",
    "    ## URL parts\n",
    "    year=year\n",
    "    name= name\n",
    "    acronym=acroym \n",
    "    cols= cols \n",
    "    county='*' \n",
    "    keyfile = keyfil \n",
    "    ## Read api key in from file\n",
    "    with open ('../../lessons/APIs/'+keyfile) as key:\n",
    "        api_key=key.read().strip()    \n",
    "    ## Retrieve data, print output to screen\n",
    "    base_url = f'https://api.census.gov/data/{year}/{name}/{acronym}/' \n",
    "    data_url = f'{base_url}profile?get={cols}&for=county:{county}&key={api_key}'\n",
    "    response = requests.get(data_url)\n",
    "\n",
    "    temp = response.json()\n",
    "    return temp\n",
    "    \n",
    "def make_request_good(year, name, acronym, cols, keyfile):\n",
    "    ## URL parts\n",
    "    year=year\n",
    "    name= name\n",
    "    acronym=acronym # acroym -> acronym or change argument name in first line\n",
    "    cols= cols \n",
    "    county='*' \n",
    "    keyfile = keyfile  # keyfil -> keyfile \n",
    "    ## Read api key in from file\n",
    "    with open ('../../lessons/APIs/'+keyfile) as key:\n",
    "        api_key=key.read().strip()    \n",
    "    ## Retrieve data, print output to screen\n",
    "    base_url = f'https://api.census.gov/data/{year}/{name}/{acronym}/' \n",
    "    data_url = f'{base_url}profile?get={cols}&for=county:{county}&key={api_key}'\n",
    "    response = requests.get(data_url)\n",
    "\n",
    "    temp = response.json()\n",
    "    return temp\n",
    "\n",
    "\n",
    "## Make request\n",
    "perc_span2014c = make_request_good(year='2014', name='acs', acronym='acs5', cols='DP02_0114PE,NAME', keyfile='census_key.txt')\n",
    "\n",
    "## Make a dataframe\n",
    "perc_span2014c = response_to_df(from_census=perc_span2014c)\n",
    "\n",
    "## Compare\n",
    "perc_span2014c.shape == perc_span2014.shape"
   ]
  }
 ],
 "metadata": {
  "kernelspec": {
   "display_name": "Python 3 (ipykernel)",
   "language": "python",
   "name": "python3"
  },
  "language_info": {
   "codemirror_mode": {
    "name": "ipython",
    "version": 3
   },
   "file_extension": ".py",
   "mimetype": "text/x-python",
   "name": "python",
   "nbconvert_exporter": "python",
   "pygments_lexer": "ipython3",
   "version": "3.12.4"
  }
 },
 "nbformat": 4,
 "nbformat_minor": 5
}
