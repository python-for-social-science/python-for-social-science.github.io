{
 "cells": [
  {
   "cell_type": "markdown",
   "id": "fb329608-8ba7-4382-bcad-2bd8b6680a0e",
   "metadata": {},
   "source": [
    "# API Problem Set\n",
    "\n",
    "<span style=\"color:red\">0 / 0 points</span>.\n",
    "\n",
    "In this problem set, you will work the United States Census' American Community Survey data available in this class's Data directory.  After every step in the problem set, create a new cell, code or Markdown as appropriate, for the answer. \n"
   ]
  },
  {
   "cell_type": "markdown",
   "id": "fd591433-fe72-4ff4-8b08-1f85d62ed090",
   "metadata": {},
   "source": [
    "## Orienting\n",
    "1. The next question requires the `df_multiple` dataframe made in the lesson.  Load it from where it was saved and look at rows 120 through 132.  Name the object `df_m`."
   ]
  },
  {
   "cell_type": "markdown",
   "id": "5986cf89-bfb2-428a-b2d0-36f2679c88fb",
   "metadata": {},
   "source": [
    "2. The dataframe has several variables in addition to DP04_0132E. In words, what are they?  The answer needs to be descriptive and make it clear which description is for which variable.  Where did you go to find this information?"
   ]
  },
  {
   "cell_type": "markdown",
   "id": "cfad6507-c728-41e7-af4d-92b15b4b9353",
   "metadata": {},
   "source": [
    "3. When making requests for multiple years, no data were retrieved for 2023.  Why?"
   ]
  },
  {
   "cell_type": "markdown",
   "id": "8a4ad9de-5597-4ac2-93a1-7e096f29f15e",
   "metadata": {},
   "source": [
    "## Programming \n",
    "4. Download the 2014 percent estimate for Spanish spoken at home for language for residents five and over.  Write a function that converts the return into a dataframe.  Call this dataframe `perc_span2014`."
   ]
  },
  {
   "cell_type": "markdown",
   "id": "48e542b9-cf68-4458-bb58-ec434b1a98ba",
   "metadata": {},
   "source": [
    "5. Make a new function, `make_request`, that takes user supplied arugments, makes a correctly formatted URL hardcoded to request county data, and passes that URL to the API; it should also use your API key.  Hardcode the function to return data at the county level and return the response object.  Use `make_request` to request the same information as for the previous problem, then convert the response to a dataframe called `perc_span2014b`. Confirm the results have the same number of rows and columns as the dataframe object make above."
   ]
  },
  {
   "cell_type": "markdown",
   "id": "df4034d6-9a7d-4568-96af-5c88ec273239",
   "metadata": {},
   "source": [
    "6. Using the two functions you have made, download the 2016 values for three variables: DP02_0114PE, the estimate for total households with a broadband internet connection, and population 25 years and over with a bachelor's degree. Make the data a dataframe called `mult_2016.`  Look at the first 12 rows and rows 400:408 to see if everything looks normal."
   ]
  },
  {
   "cell_type": "markdown",
   "id": "480192c9-edff-48b2-ac2e-8bf5746f4cba",
   "metadata": {},
   "source": [
    "7. Next, analyze the same three variables but for the years 2013-2018.  Make sure the final dataframe has a column indicating the ACS year, and name the final dataframe containing all the years `mult_201318`."
   ]
  },
  {
   "cell_type": "markdown",
   "id": "e9d2fddb-1d57-4007-a1b6-525c62d21b80",
   "metadata": {},
   "source": [
    "8. Now, modify `response_to_df` so that it saves the dataframe it creates.  For this functionality, add an argument called `outfile` that expects a string value.  The modified function will write a .csv to that location _if the user passes a string_, otherwise it writes nothing.  Test it by with the `temp` response from above and name the file 'mult_2016.csv'. "
   ]
  },
  {
   "cell_type": "markdown",
   "id": "8de71898-ae45-4947-bc56-dc25c490be2d",
   "metadata": {},
   "source": [
    "9. Finally, download subject table S2507 from 2018, convert it to a dataframe named `s2507`, and save it as 's2507_2018.csv'. _NB: S tables are known as subject tables and have slightly different URLs than for individual variables or a group.  Modify code accordingly._ "
   ]
  },
  {
   "cell_type": "markdown",
   "id": "f5b89544-0f91-42bc-8d96-303f5477bcb4",
   "metadata": {},
   "source": [
    "## Debugging\n",
    "The final questions of the problem set provides code with error(s).  You have to debug the code as asked.\n",
    "\n",
    "10. The below code tries to create a dataframe using functions made earlier, yet it does not work.  Why?  Answer in a Markdown cell and then provide the correct code in a code cell."
   ]
  },
  {
   "cell_type": "code",
   "execution_count": null,
   "id": "ca75cb7c-b011-4bed-8eb7-0779ff9ff376",
   "metadata": {},
   "outputs": [],
   "source": [
    "test = make__request(year='2014', name='acs', acronym='acs5', cols='DP02_0114PE,NAME', keyfile='census_key.txt')\n",
    "test_df = response_to_fd(test)"
   ]
  },
  {
   "cell_type": "markdown",
   "id": "047c0ef8-6d26-44c5-b30b-4e2da48c0808",
   "metadata": {},
   "source": [
    "11. There is an error in the code below.  Explain the error in a Markdown cell and then provide the correct code in a code cell."
   ]
  },
  {
   "cell_type": "code",
   "execution_count": null,
   "id": "975d0226-12e6-4a79-a052-0ff72ff7520d",
   "metadata": {},
   "outputs": [],
   "source": [
    "mult_bad = make_request(year='2018', name='acs', acronym='acs5', cols='DP02_0072E, DP02_0127PE, DP02_0024PE DP02_0014E,NAME', keyfile='census_key.txt')"
   ]
  },
  {
   "cell_type": "markdown",
   "id": "93782467-b265-49e7-9f4d-6a12d571bd22",
   "metadata": {},
   "source": [
    "12. The function `make_request_bad` contains two errors.  Make a new function called `make_request_good` that fixes those two errors, and provides comments in the function explaining the error fix.  Then test the good function by using it to make a dataframe called `perc_span2014c`, and compare the shape of this new dataframe to `perc_span2014`."
   ]
  },
  {
   "cell_type": "code",
   "execution_count": null,
   "id": "321bd779-ebd6-4175-97f4-e9c744450724",
   "metadata": {},
   "outputs": [],
   "source": [
    "def make_request_bad(year, name, acronym, cols, keyfile):\n",
    "    ## URL parts\n",
    "    year=year\n",
    "    name= name\n",
    "    acronym=acroym \n",
    "    cols= cols \n",
    "    county='*' \n",
    "    keyfile = keyfil \n",
    "    ## Read api key in from file\n",
    "    with open ('../../lessons/APIs/'+keyfile) as key:\n",
    "        api_key=key.read().strip()    \n",
    "    ## Retrieve data, print output to screen\n",
    "    base_url = f'https://api.census.gov/data/{year}/{name}/{acronym}/' \n",
    "    data_url = f'{base_url}profile?get={cols}&for=county:{county}&key={api_key}'\n",
    "    response = requests.get(data_url)\n",
    "\n",
    "    temp = response.json()\n",
    "    return temp\n",
    "\n"
   ]
  }
 ],
 "metadata": {
  "kernelspec": {
   "display_name": "Python 3 (ipykernel)",
   "language": "python",
   "name": "python3"
  },
  "language_info": {
   "codemirror_mode": {
    "name": "ipython",
    "version": 3
   },
   "file_extension": ".py",
   "mimetype": "text/x-python",
   "name": "python",
   "nbconvert_exporter": "python",
   "pygments_lexer": "ipython3",
   "version": "3.12.4"
  }
 },
 "nbformat": 4,
 "nbformat_minor": 5
}
