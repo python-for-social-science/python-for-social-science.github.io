{
 "cells": [
  {
   "cell_type": "markdown",
   "id": "a0c2160c-492c-4d89-bc2c-ebd63960512f",
   "metadata": {},
   "source": [
    "### Intro to Computing Problem Set\n",
    "\n",
    "<span style=\"color:red\">0 / 0 points</span>.\n",
    "\n",
    "In this first problem set, you are going to practice working within a jupyterlab notebook, creating code and Markdown cells, and \n",
    "\n",
    "1. Make a new code cell, import the os pakage and print the current working directory."
   ]
  },
  {
   "cell_type": "code",
   "execution_count": 1,
   "id": "284fd18c-ab7c-4775-be8f-f5cdade5a634",
   "metadata": {},
   "outputs": [
    {
     "name": "stdout",
     "output_type": "stream",
     "text": [
      "/home/fernando/Documents/UCLA/DataX/Python_for_Social_Science/problem_sets/intro_to_computing\n"
     ]
    }
   ],
   "source": [
    "import os\n",
    "print(os.getcwd()) "
   ]
  },
  {
   "cell_type": "markdown",
   "id": "cd9980cb-3937-45aa-a6b7-c25eb4557157",
   "metadata": {},
   "source": [
    "2. Use a text editor or your file browser to create a file named hello_world.py in the current working directory.\n",
    "3. Open hello_world.py and write code that prints \"Hello, world!\". Save your changes to hello_world.py."
   ]
  },
  {
   "cell_type": "markdown",
   "id": "05557af6-3851-42b2-82e0-697a2c2d5b79",
   "metadata": {},
   "source": [
    "4. Run hello_world.py in a new code cell below."
   ]
  },
  {
   "cell_type": "code",
   "execution_count": 2,
   "id": "5edded00-080d-4087-98bb-23a32b2363c3",
   "metadata": {},
   "outputs": [
    {
     "name": "stdout",
     "output_type": "stream",
     "text": [
      "Hello, world!\n"
     ]
    }
   ],
   "source": [
    "%run hello_world.py"
   ]
  },
  {
   "cell_type": "markdown",
   "id": "22abc528-528e-4ea8-8e4c-c6475bc07ce8",
   "metadata": {},
   "source": [
    "5. Copy the hello_world.py script to the lessons/intro_to_computing/scripts/ directory (don't move or cut, actually make a copy). Run the script from a new code cell using the relative path from the current directory to the scripts directory. "
   ]
  },
  {
   "cell_type": "code",
   "execution_count": 3,
   "id": "7e05b1ea-18e2-4f44-8865-9a9676d77ad8",
   "metadata": {},
   "outputs": [
    {
     "name": "stdout",
     "output_type": "stream",
     "text": [
      "Hello, world!\n"
     ]
    }
   ],
   "source": [
    "%run ../../lessons/intro_to_computing/scripts/hello_world.py"
   ]
  },
  {
   "cell_type": "markdown",
   "id": "01227881-5d5e-4b14-b40a-5709908f352b",
   "metadata": {},
   "source": [
    "6. Launch a terminal from jupyterlab and run hello_world.py from the current working directory. Copy and paste the command and output in a new Markdown cell."
   ]
  },
  {
   "cell_type": "markdown",
   "id": "27e0feec-251c-4f6c-9644-4e0b18406b70",
   "metadata": {},
   "source": [
    "❯ python hello_world.py\n",
    "\n",
    "Hello, world!"
   ]
  },
  {
   "cell_type": "markdown",
   "id": "28685ef2-6475-4845-a4ba-2d711f106c0d",
   "metadata": {},
   "source": [
    "7. Change to the parent folder and run hello_world.py using a relative path. Copy and paste the command and output in a new Markdown cell."
   ]
  },
  {
   "cell_type": "markdown",
   "id": "73439b09-962a-413d-aa8d-47f6f275f1db",
   "metadata": {},
   "source": [
    "❯ cd ..\n",
    "\n",
    "❯ python intro_to_computing/hello_world.py\n",
    "\n",
    "Hello, world!"
   ]
  },
  {
   "cell_type": "markdown",
   "id": "33950a80-6c80-4d86-a77b-19f73994fd6b",
   "metadata": {},
   "source": [
    "8. Create a new Markdown cell and make a bullet list of your top five places to visit."
   ]
  },
  {
   "cell_type": "markdown",
   "id": "5ff9074a-7787-4ac1-b82e-1082d24dd570",
   "metadata": {},
   "source": [
    "1. Vienna\n",
    "2. Berlin\n",
    "3. Tokyo\n",
    "4. Auckland\n",
    "5. The Moon"
   ]
  },
  {
   "cell_type": "markdown",
   "id": "a617c8d8-bb38-47c5-a686-42e97b79c20c",
   "metadata": {},
   "source": [
    "9. In a new code cell, import the pandas package and create a dataframe called `df` for three close friends or relatives. The dataframe should have their name, hometown, and age. Then display the dataframe."
   ]
  },
  {
   "cell_type": "code",
   "execution_count": 4,
   "id": "af9ecda9-9047-4616-b14b-10c252edd187",
   "metadata": {},
   "outputs": [
    {
     "data": {
      "text/html": [
       "<div>\n",
       "<style scoped>\n",
       "    .dataframe tbody tr th:only-of-type {\n",
       "        vertical-align: middle;\n",
       "    }\n",
       "\n",
       "    .dataframe tbody tr th {\n",
       "        vertical-align: top;\n",
       "    }\n",
       "\n",
       "    .dataframe thead th {\n",
       "        text-align: right;\n",
       "    }\n",
       "</style>\n",
       "<table border=\"1\" class=\"dataframe\">\n",
       "  <thead>\n",
       "    <tr style=\"text-align: right;\">\n",
       "      <th></th>\n",
       "      <th>Name</th>\n",
       "      <th>Hometown</th>\n",
       "      <th>Age</th>\n",
       "    </tr>\n",
       "  </thead>\n",
       "  <tbody>\n",
       "    <tr>\n",
       "      <th>0</th>\n",
       "      <td>Micaela Battiste</td>\n",
       "      <td>Flint, MI</td>\n",
       "      <td>38</td>\n",
       "    </tr>\n",
       "    <tr>\n",
       "      <th>1</th>\n",
       "      <td>Fabian Patzak</td>\n",
       "      <td>Vienna, AT</td>\n",
       "      <td>40</td>\n",
       "    </tr>\n",
       "    <tr>\n",
       "      <th>2</th>\n",
       "      <td>Pablo Flores</td>\n",
       "      <td>Santiago, CL</td>\n",
       "      <td>42</td>\n",
       "    </tr>\n",
       "  </tbody>\n",
       "</table>\n",
       "</div>"
      ],
      "text/plain": [
       "               Name      Hometown  Age\n",
       "0  Micaela Battiste     Flint, MI   38\n",
       "1     Fabian Patzak    Vienna, AT   40\n",
       "2      Pablo Flores  Santiago, CL   42"
      ]
     },
     "execution_count": 4,
     "metadata": {},
     "output_type": "execute_result"
    }
   ],
   "source": [
    "import pandas as pd\n",
    "df = pd.DataFrame(\n",
    "    {\n",
    "        \"Name\":[\"Micaela Battiste\", \"Fabian Patzak\", \"Pablo Flores\"],\n",
    "        \"Hometown\":[\"Flint, MI\",\"Vienna, AT\",\"Santiago, CL\"],\n",
    "        \"Age\":[38,40,42],\n",
    "    }\n",
    ")\n",
    "\n",
    "df"
   ]
  }
 ],
 "metadata": {
  "kernelspec": {
   "display_name": "Python 3 (ipykernel)",
   "language": "python",
   "name": "python3"
  },
  "language_info": {
   "codemirror_mode": {
    "name": "ipython",
    "version": 3
   },
   "file_extension": ".py",
   "mimetype": "text/x-python",
   "name": "python",
   "nbconvert_exporter": "python",
   "pygments_lexer": "ipython3",
   "version": "3.12.4"
  }
 },
 "nbformat": 4,
 "nbformat_minor": 5
}
