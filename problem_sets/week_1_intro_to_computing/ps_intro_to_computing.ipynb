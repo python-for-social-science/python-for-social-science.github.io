{
 "cells": [
  {
   "cell_type": "markdown",
   "id": "a0c2160c-492c-4d89-bc2c-ebd63960512f",
   "metadata": {},
   "source": [
    "### Intro to Computing Problem Set\n",
    "\n",
    "<span style=\"color:red\">0 / 0 points</span>.\n",
    "\n",
    "In this first problem set, you are going to practice working within a jupyterlab notebook, creating code and Markdown cells, and \n",
    "\n",
    "1. Make a new code cell, import the os pakage and print the current working directory."
   ]
  },
  {
   "cell_type": "markdown",
   "id": "e9b15138-0a3d-4d63-88e9-1d363ed02ab7",
   "metadata": {},
   "source": [
    "2. Use a text editor or your file browser to create a file named hello_world.py in the current working directory.\n",
    "3. Open hello_world.py and write code that prints \"Hello, world!\". Save your changes to hello_world.py."
   ]
  },
  {
   "cell_type": "markdown",
   "id": "4f1298f1-e852-47ec-b849-8ffcb8b5c4e2",
   "metadata": {},
   "source": [
    "4. Run hello_world.py in a new code cell below."
   ]
  },
  {
   "cell_type": "markdown",
   "id": "22abc528-528e-4ea8-8e4c-c6475bc07ce8",
   "metadata": {},
   "source": [
    "5. Copy the hello_world.py script to the lessons/intro_to_computing/scripts/ directory (don't move or cut, actually make a copy). Run the script from a new code cell using the relative path from the current directory to the scripts directory. "
   ]
  },
  {
   "cell_type": "markdown",
   "id": "01227881-5d5e-4b14-b40a-5709908f352b",
   "metadata": {},
   "source": [
    "6. Launch a terminal from jupyterlab and run hello_world.py from the current working directory. Copy and paste the command and output in a new Markdown cell."
   ]
  },
  {
   "cell_type": "markdown",
   "id": "28685ef2-6475-4845-a4ba-2d711f106c0d",
   "metadata": {},
   "source": [
    "7. Change to the parent folder and run hello_world.py using a relative path. Copy and paste the command and output in a new Markdown cell."
   ]
  },
  {
   "cell_type": "markdown",
   "id": "33950a80-6c80-4d86-a77b-19f73994fd6b",
   "metadata": {},
   "source": [
    "8. Create a new Markdown cell and make a bullet list of your top five places to visit."
   ]
  },
  {
   "cell_type": "markdown",
   "id": "a617c8d8-bb38-47c5-a686-42e97b79c20c",
   "metadata": {},
   "source": [
    "9. In a new code cell, import the pandas package and create a dataframe called `df` for three close friends or relatives. The dataframe should have their name, hometown, and age. Then display the dataframe."
   ]
  }
 ],
 "metadata": {
  "kernelspec": {
   "display_name": "Python 3 (ipykernel)",
   "language": "python",
   "name": "python3"
  },
  "language_info": {
   "codemirror_mode": {
    "name": "ipython",
    "version": 3
   },
   "file_extension": ".py",
   "mimetype": "text/x-python",
   "name": "python",
   "nbconvert_exporter": "python",
   "pygments_lexer": "ipython3",
   "version": "3.12.4"
  }
 },
 "nbformat": 4,
 "nbformat_minor": 5
}
