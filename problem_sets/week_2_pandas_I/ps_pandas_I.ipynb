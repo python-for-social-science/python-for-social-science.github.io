{
 "cells": [
  {
   "cell_type": "markdown",
   "id": "40e48ce8-b962-460d-8360-adddac77c14b",
   "metadata": {},
   "source": [
    "# Pandas I Problem Set\n",
    "\n",
    "<span style=\"color:red\">0 / 0 points</span>.\n",
    "\n",
    "In this problem set, you will be loading inspecting, sorting, and subsetting data. After every step in the problem set, please remember to create a new code cell for your answer/code. \n",
    "\n",
    "## Programming \n",
    "\n",
    "1. Import Pandas"
   ]
  },
  {
   "cell_type": "markdown",
   "id": "3fb88221-409c-4e57-9827-7ffbecb06b7f",
   "metadata": {},
   "source": [
    "2. Load education_pop.csv from the lessons/pandas_i folder using a relative path. Name the new object `education_pop`."
   ]
  },
  {
   "cell_type": "markdown",
   "id": "386c4fa0-f900-4769-a1e2-28dda47848c3",
   "metadata": {},
   "source": [
    "3. Inspect the dataframe so you can see what variables are in the data. In a new Markdown cell, write the number of columns and number of rows. "
   ]
  },
  {
   "cell_type": "markdown",
   "id": "0a179052-6bbf-4553-8a38-fb8b68543a52",
   "metadata": {},
   "source": [
    "4. Create a new dataframe from education_pop, and select the variables `COUNTY`, `STATE`, `POPULATION`, and `TOT_ENROLLED`. Name it `new_df`."
   ]
  },
  {
   "cell_type": "markdown",
   "id": "c08b9a87-5c79-4ad4-ba74-9159eeb51696",
   "metadata": {},
   "source": [
    "5. Display the first twelve observations of your new dataframe"
   ]
  },
  {
   "cell_type": "markdown",
   "id": "370d6ff2-892b-4e14-befe-5f6f46ed202c",
   "metadata": {},
   "source": [
    "6. Make a Markdown cell explaining what these variables represent in the real world."
   ]
  },
  {
   "cell_type": "markdown",
   "id": "8f5bc860-a0ca-4b80-8766-c14233b2521a",
   "metadata": {},
   "source": [
    "7. Create a new dataframe from `education_pop` that subsets the data based on observations for __one__ state: Georgia. Name the dataframe after the state, then display the first fifteen observations. "
   ]
  },
  {
   "cell_type": "markdown",
   "id": "33f6d78e-f73b-4a38-9208-2140dbf865ff",
   "metadata": {},
   "source": [
    "8. Create a new dataframe from `education_pop` and name it `small_counties`. This new dataframe should subset the data into observations where each county has __less than__ 80,000 inhabitants. Display the first seven observations."
   ]
  },
  {
   "cell_type": "markdown",
   "id": "afb5a714-9fe1-47f1-b12f-c8f07f3851fd",
   "metadata": {},
   "source": [
    "9. How many counties with less than 80,000 inhabitants exist in the ACS data? You can use a new code cell to check the length of the data and answer in another Markdown cell."
   ]
  },
  {
   "cell_type": "markdown",
   "id": "c7ef5afa-4a46-4fd2-851d-238eb80e9393",
   "metadata": {},
   "source": [
    "10. Display the __top seven largest__ counties in the `small_counties` dataframe in descending order."
   ]
  },
  {
   "cell_type": "markdown",
   "id": "94957fe3-7f34-4e4f-b2c7-13d595521524",
   "metadata": {},
   "source": [
    "11. Make a new Markdown cell explaining the difference between the last two dataframes that you displayed in the previous code cells; In your own words, how are the displays of seven observations different. In your answer, also explain what the numbers on the left of the dataframe mean and why they are each in a different order."
   ]
  },
  {
   "cell_type": "markdown",
   "id": "d774b3e0-698c-43f7-8517-b4eb4be1ff15",
   "metadata": {},
   "source": [
    "12. Now make a dataframe called `smaller_counties`. Subset the data in `education_pop` for counties with __less than 50,000__ inhabitants. "
   ]
  },
  {
   "cell_type": "markdown",
   "id": "47dd8ee0-dc24-44f8-8a63-f049442d4479",
   "metadata": {},
   "source": [
    "13. Inspect the `smaller_counties` dataframe in a new code cell using any of the functions you have learned about. There should be a _very_ obvious difference between it and the previous `small_counties` dataframe. In another Markdown cell beneath your code cell, explain what that difference is, and what is significant about that difference between counties with less than 80,000 people, and counties with less than 50,000 people."
   ]
  },
  {
   "cell_type": "markdown",
   "id": "742eb90b-c577-45c1-b41c-3a3635e06a67",
   "metadata": {},
   "source": [
    "14. You previously found the college population using vector math; that was `TOT_ENROLLED * (COLLEGE/100)`. Now do the same for every other level of education (Pre K, Kindergarten, Elementary, and High School) to create four new population variables. Be careful not to overwrite your existing variables: If `COLLEGE` became `COLLEGE_POP`, then `PRE_K` should transform to `PRE_K_POP`."
   ]
  },
  {
   "cell_type": "markdown",
   "id": "88076ff6-e10a-4f79-beac-936ca01dd548",
   "metadata": {},
   "source": [
    "15. Print a simple table with basic descriptive statistics of the five education_pop variables you have created (from Pre K to College). "
   ]
  },
  {
   "cell_type": "markdown",
   "id": "0ac0e5b6-0573-40da-a692-35449c01d173",
   "metadata": {},
   "source": [
    "## Debugging\n",
    "The final questions of the problem set provides code with error(s). You have to inspect the code carefully and debug the code as asked.\n",
    "\n",
    "16. The code cell below has code to sum the percentages from pre-k to college. Make a __new__ code cell to fix the code so that the sum of the percentages equals __100__.  What errors did you encounter? In a Markdown cell, please list what bugs you encountered and fixed."
   ]
  },
  {
   "cell_type": "code",
   "execution_count": 35,
   "id": "cc5bf4b7-8141-453a-86f5-f02eadc1bc71",
   "metadata": {},
   "outputs": [
    {
     "ename": "NameError",
     "evalue": "name 'educaitn_pop' is not defined",
     "output_type": "error",
     "traceback": [
      "\u001b[0;31m---------------------------------------------------------------------------\u001b[0m",
      "\u001b[0;31mNameError\u001b[0m                                 Traceback (most recent call last)",
      "Cell \u001b[0;32mIn[35], line 1\u001b[0m\n\u001b[0;32m----> 1\u001b[0m education_pop[\u001b[38;5;124m'\u001b[39m\u001b[38;5;124mPRE_K\u001b[39m\u001b[38;5;124m'\u001b[39m]\u001b[38;5;241m+\u001b[39meducaitn_pop[\u001b[38;5;124m'\u001b[39m\u001b[38;5;124mKINDER\u001b[39m\u001b[38;5;124m'\u001b[39m]\u001b[38;5;241m+\u001b[39meducation_pop[\u001b[38;5;124m'\u001b[39m\u001b[38;5;124mELEMENTARY\u001b[39m\u001b[38;5;124m'\u001b[39m]\u001b[38;5;241m+\u001b[39meducation_pop[\u001b[38;5;124m'\u001b[39m\u001b[38;5;124mHIGH SCHOOL\u001b[39m\u001b[38;5;124m'\u001b[39m]\u001b[38;5;241m+\u001b[39meducation_pop[\u001b[38;5;124m'\u001b[39m\u001b[38;5;124mCOLLEGE_POP\u001b[39m\u001b[38;5;124m'\u001b[39m]\n",
      "\u001b[0;31mNameError\u001b[0m: name 'educaitn_pop' is not defined"
     ]
    }
   ],
   "source": [
    "education_pop['PRE_K']+educaitn_pop['KINDER']+education_pop['ELEMENTARY']+education_pop['HIGH SCHOOL']+education_pop['COLLEGE_POP']"
   ]
  },
  {
   "cell_type": "markdown",
   "id": "dbc4f262-cbd1-4197-b741-c73c46174e9f",
   "metadata": {},
   "source": [
    "- \"NameError: name 'educaitn_pop' is not defined\" spelling to education_pop\n",
    "- \"KeyError: 'HIGH SCHOOL'\" spelling to HIGH_SCHOOL with underscore\n",
    "- Sums more than 100. Change COLLEGE_POP to COLLEGE"
   ]
  },
  {
   "cell_type": "markdown",
   "id": "59d1c3ef-8e8f-4af5-adb0-33866e91c77e",
   "metadata": {},
   "source": [
    "17. There is an error for an 'unsupported operand type' in the following code. Fix the code in a new code cell. The code should calculates the percentage of the population that is enrolled in school and assign it to a new `PCT_ENROLLED` variable. Explain what was wrong with the code and how you fixed it in a new Markdown cell. "
   ]
  },
  {
   "cell_type": "code",
   "execution_count": 21,
   "id": "16cf9b36-27df-4401-8184-dce80b87eaa0",
   "metadata": {},
   "outputs": [
    {
     "ename": "TypeError",
     "evalue": "unsupported operand type(s) for /: 'str' and 'str'",
     "output_type": "error",
     "traceback": [
      "\u001b[0;31m---------------------------------------------------------------------------\u001b[0m",
      "\u001b[0;31mTypeError\u001b[0m                                 Traceback (most recent call last)",
      "Cell \u001b[0;32mIn[21], line 1\u001b[0m\n\u001b[0;32m----> 1\u001b[0m education_pop[\u001b[38;5;124m'\u001b[39m\u001b[38;5;124mPCT_ENROLLED\u001b[39m\u001b[38;5;124m'\u001b[39m] \u001b[38;5;241m=\u001b[39m education_pop[\u001b[38;5;124m'\u001b[39m\u001b[38;5;124mTOT_ENROLLED\u001b[39m\u001b[38;5;124m'\u001b[39m\u001b[38;5;241m/\u001b[39m\u001b[38;5;124m'\u001b[39m\u001b[38;5;124mPOPULATION\u001b[39m\u001b[38;5;124m'\u001b[39m] \u001b[38;5;241m*\u001b[39m \u001b[38;5;241m100\u001b[39m\n\u001b[1;32m      2\u001b[0m education_pop[\u001b[38;5;124m'\u001b[39m\u001b[38;5;124mPCT_ENROLLED\u001b[39m\u001b[38;5;124m'\u001b[39m]\n",
      "\u001b[0;31mTypeError\u001b[0m: unsupported operand type(s) for /: 'str' and 'str'"
     ]
    }
   ],
   "source": [
    "education_pop['PCT_ENROLLED'] = education_pop['TOT_ENROLLED'/'POPULATION'] * 100\n",
    "education_pop['PCT_ENROLLED']"
   ]
  },
  {
   "cell_type": "markdown",
   "id": "072a6a11-3c81-4e60-bfa2-748893de59be",
   "metadata": {},
   "source": [
    "18. The code below is supposed to load the large_counties.xlsx data to an object named `large_counties`, then subset for observations in the state of New York. In the same line of code, it would then display the data sorting most to least Pre-K enrollment. The code has several mistakes, fix them in a new code cell. In a Markdown cell, please list what bugs you encountered and fixed."
   ]
  },
  {
   "cell_type": "code",
   "execution_count": 57,
   "id": "a78d757b-3d8c-4ff8-95d7-dd20d7c25a96",
   "metadata": {},
   "outputs": [
    {
     "ename": "UnicodeDecodeError",
     "evalue": "'utf-8' codec can't decode byte 0xcb in position 12: invalid continuation byte",
     "output_type": "error",
     "traceback": [
      "\u001b[0;31m---------------------------------------------------------------------------\u001b[0m",
      "\u001b[0;31mUnicodeDecodeError\u001b[0m                        Traceback (most recent call last)",
      "Cell \u001b[0;32mIn[57], line 1\u001b[0m\n\u001b[0;32m----> 1\u001b[0m large_counties \u001b[38;5;241m=\u001b[39m pd\u001b[38;5;241m.\u001b[39mread_csv(\u001b[38;5;124m'\u001b[39m\u001b[38;5;124m../../lessons/pandas_I/large_counties.xlsx\u001b[39m\u001b[38;5;124m'\u001b[39m)\n\u001b[1;32m      3\u001b[0m large_counties[large_counties[\u001b[38;5;124m'\u001b[39m\u001b[38;5;124mSTATE\u001b[39m\u001b[38;5;124m'\u001b[39m] \u001b[38;5;241m==\u001b[39m \u001b[38;5;124m'\u001b[39m\u001b[38;5;124mNew_York\u001b[39m\u001b[38;5;124m'\u001b[39m]\u001b[38;5;241m.\u001b[39msort_values(by\u001b[38;5;241m=\u001b[39m\u001b[38;5;124m'\u001b[39m\u001b[38;5;124mPRE K\u001b[39m\u001b[38;5;124m'\u001b[39m, descending\u001b[38;5;241m=\u001b[39m\u001b[38;5;28;01mTrue\u001b[39;00m)\n",
      "File \u001b[0;32m~/.local/lib/python3.11/site-packages/pandas/io/parsers/readers.py:948\u001b[0m, in \u001b[0;36mread_csv\u001b[0;34m(filepath_or_buffer, sep, delimiter, header, names, index_col, usecols, dtype, engine, converters, true_values, false_values, skipinitialspace, skiprows, skipfooter, nrows, na_values, keep_default_na, na_filter, verbose, skip_blank_lines, parse_dates, infer_datetime_format, keep_date_col, date_parser, date_format, dayfirst, cache_dates, iterator, chunksize, compression, thousands, decimal, lineterminator, quotechar, quoting, doublequote, escapechar, comment, encoding, encoding_errors, dialect, on_bad_lines, delim_whitespace, low_memory, memory_map, float_precision, storage_options, dtype_backend)\u001b[0m\n\u001b[1;32m    935\u001b[0m kwds_defaults \u001b[38;5;241m=\u001b[39m _refine_defaults_read(\n\u001b[1;32m    936\u001b[0m     dialect,\n\u001b[1;32m    937\u001b[0m     delimiter,\n\u001b[0;32m   (...)\u001b[0m\n\u001b[1;32m    944\u001b[0m     dtype_backend\u001b[38;5;241m=\u001b[39mdtype_backend,\n\u001b[1;32m    945\u001b[0m )\n\u001b[1;32m    946\u001b[0m kwds\u001b[38;5;241m.\u001b[39mupdate(kwds_defaults)\n\u001b[0;32m--> 948\u001b[0m \u001b[38;5;28;01mreturn\u001b[39;00m _read(filepath_or_buffer, kwds)\n",
      "File \u001b[0;32m~/.local/lib/python3.11/site-packages/pandas/io/parsers/readers.py:611\u001b[0m, in \u001b[0;36m_read\u001b[0;34m(filepath_or_buffer, kwds)\u001b[0m\n\u001b[1;32m    608\u001b[0m _validate_names(kwds\u001b[38;5;241m.\u001b[39mget(\u001b[38;5;124m\"\u001b[39m\u001b[38;5;124mnames\u001b[39m\u001b[38;5;124m\"\u001b[39m, \u001b[38;5;28;01mNone\u001b[39;00m))\n\u001b[1;32m    610\u001b[0m \u001b[38;5;66;03m# Create the parser.\u001b[39;00m\n\u001b[0;32m--> 611\u001b[0m parser \u001b[38;5;241m=\u001b[39m TextFileReader(filepath_or_buffer, \u001b[38;5;241m*\u001b[39m\u001b[38;5;241m*\u001b[39mkwds)\n\u001b[1;32m    613\u001b[0m \u001b[38;5;28;01mif\u001b[39;00m chunksize \u001b[38;5;129;01mor\u001b[39;00m iterator:\n\u001b[1;32m    614\u001b[0m     \u001b[38;5;28;01mreturn\u001b[39;00m parser\n",
      "File \u001b[0;32m~/.local/lib/python3.11/site-packages/pandas/io/parsers/readers.py:1448\u001b[0m, in \u001b[0;36mTextFileReader.__init__\u001b[0;34m(self, f, engine, **kwds)\u001b[0m\n\u001b[1;32m   1445\u001b[0m     \u001b[38;5;28mself\u001b[39m\u001b[38;5;241m.\u001b[39moptions[\u001b[38;5;124m\"\u001b[39m\u001b[38;5;124mhas_index_names\u001b[39m\u001b[38;5;124m\"\u001b[39m] \u001b[38;5;241m=\u001b[39m kwds[\u001b[38;5;124m\"\u001b[39m\u001b[38;5;124mhas_index_names\u001b[39m\u001b[38;5;124m\"\u001b[39m]\n\u001b[1;32m   1447\u001b[0m \u001b[38;5;28mself\u001b[39m\u001b[38;5;241m.\u001b[39mhandles: IOHandles \u001b[38;5;241m|\u001b[39m \u001b[38;5;28;01mNone\u001b[39;00m \u001b[38;5;241m=\u001b[39m \u001b[38;5;28;01mNone\u001b[39;00m\n\u001b[0;32m-> 1448\u001b[0m \u001b[38;5;28mself\u001b[39m\u001b[38;5;241m.\u001b[39m_engine \u001b[38;5;241m=\u001b[39m \u001b[38;5;28mself\u001b[39m\u001b[38;5;241m.\u001b[39m_make_engine(f, \u001b[38;5;28mself\u001b[39m\u001b[38;5;241m.\u001b[39mengine)\n",
      "File \u001b[0;32m~/.local/lib/python3.11/site-packages/pandas/io/parsers/readers.py:1723\u001b[0m, in \u001b[0;36mTextFileReader._make_engine\u001b[0;34m(self, f, engine)\u001b[0m\n\u001b[1;32m   1720\u001b[0m     \u001b[38;5;28;01mraise\u001b[39;00m \u001b[38;5;167;01mValueError\u001b[39;00m(msg)\n\u001b[1;32m   1722\u001b[0m \u001b[38;5;28;01mtry\u001b[39;00m:\n\u001b[0;32m-> 1723\u001b[0m     \u001b[38;5;28;01mreturn\u001b[39;00m mapping[engine](f, \u001b[38;5;241m*\u001b[39m\u001b[38;5;241m*\u001b[39m\u001b[38;5;28mself\u001b[39m\u001b[38;5;241m.\u001b[39moptions)\n\u001b[1;32m   1724\u001b[0m \u001b[38;5;28;01mexcept\u001b[39;00m \u001b[38;5;167;01mException\u001b[39;00m:\n\u001b[1;32m   1725\u001b[0m     \u001b[38;5;28;01mif\u001b[39;00m \u001b[38;5;28mself\u001b[39m\u001b[38;5;241m.\u001b[39mhandles \u001b[38;5;129;01mis\u001b[39;00m \u001b[38;5;129;01mnot\u001b[39;00m \u001b[38;5;28;01mNone\u001b[39;00m:\n",
      "File \u001b[0;32m~/.local/lib/python3.11/site-packages/pandas/io/parsers/c_parser_wrapper.py:93\u001b[0m, in \u001b[0;36mCParserWrapper.__init__\u001b[0;34m(self, src, **kwds)\u001b[0m\n\u001b[1;32m     90\u001b[0m \u001b[38;5;28;01mif\u001b[39;00m kwds[\u001b[38;5;124m\"\u001b[39m\u001b[38;5;124mdtype_backend\u001b[39m\u001b[38;5;124m\"\u001b[39m] \u001b[38;5;241m==\u001b[39m \u001b[38;5;124m\"\u001b[39m\u001b[38;5;124mpyarrow\u001b[39m\u001b[38;5;124m\"\u001b[39m:\n\u001b[1;32m     91\u001b[0m     \u001b[38;5;66;03m# Fail here loudly instead of in cython after reading\u001b[39;00m\n\u001b[1;32m     92\u001b[0m     import_optional_dependency(\u001b[38;5;124m\"\u001b[39m\u001b[38;5;124mpyarrow\u001b[39m\u001b[38;5;124m\"\u001b[39m)\n\u001b[0;32m---> 93\u001b[0m \u001b[38;5;28mself\u001b[39m\u001b[38;5;241m.\u001b[39m_reader \u001b[38;5;241m=\u001b[39m parsers\u001b[38;5;241m.\u001b[39mTextReader(src, \u001b[38;5;241m*\u001b[39m\u001b[38;5;241m*\u001b[39mkwds)\n\u001b[1;32m     95\u001b[0m \u001b[38;5;28mself\u001b[39m\u001b[38;5;241m.\u001b[39munnamed_cols \u001b[38;5;241m=\u001b[39m \u001b[38;5;28mself\u001b[39m\u001b[38;5;241m.\u001b[39m_reader\u001b[38;5;241m.\u001b[39munnamed_cols\n\u001b[1;32m     97\u001b[0m \u001b[38;5;66;03m# error: Cannot determine type of 'names'\u001b[39;00m\n",
      "File \u001b[0;32mparsers.pyx:579\u001b[0m, in \u001b[0;36mpandas._libs.parsers.TextReader.__cinit__\u001b[0;34m()\u001b[0m\n",
      "File \u001b[0;32mparsers.pyx:668\u001b[0m, in \u001b[0;36mpandas._libs.parsers.TextReader._get_header\u001b[0;34m()\u001b[0m\n",
      "File \u001b[0;32mparsers.pyx:879\u001b[0m, in \u001b[0;36mpandas._libs.parsers.TextReader._tokenize_rows\u001b[0;34m()\u001b[0m\n",
      "File \u001b[0;32mparsers.pyx:890\u001b[0m, in \u001b[0;36mpandas._libs.parsers.TextReader._check_tokenize_status\u001b[0;34m()\u001b[0m\n",
      "File \u001b[0;32mparsers.pyx:2050\u001b[0m, in \u001b[0;36mpandas._libs.parsers.raise_parser_error\u001b[0;34m()\u001b[0m\n",
      "\u001b[0;31mUnicodeDecodeError\u001b[0m: 'utf-8' codec can't decode byte 0xcb in position 12: invalid continuation byte"
     ]
    }
   ],
   "source": [
    "large_counties = pd.read_csv('../../lessons/pandas_I/large_counties.xlsx')\n",
    "\n",
    "large_counties[large_counties['STATE'] == 'New_York'].sort_values(by='PRE K', descending=True)"
   ]
  }
 ],
 "metadata": {
  "kernelspec": {
   "display_name": "Python 3 (ipykernel)",
   "language": "python",
   "name": "python3"
  },
  "language_info": {
   "codemirror_mode": {
    "name": "ipython",
    "version": 3
   },
   "file_extension": ".py",
   "mimetype": "text/x-python",
   "name": "python",
   "nbconvert_exporter": "python",
   "pygments_lexer": "ipython3",
   "version": "3.12.4"
  }
 },
 "nbformat": 4,
 "nbformat_minor": 5
}
