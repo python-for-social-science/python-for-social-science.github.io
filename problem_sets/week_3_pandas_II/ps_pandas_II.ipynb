{
 "cells": [
  {
   "cell_type": "markdown",
   "id": "002857f1-d9c4-417c-acef-d2151bbd5f33",
   "metadata": {},
   "source": [
    "# Pandas II Problem Set\n",
    "\n",
    "<span style=\"color:red\">0 / 0 points</span>.\n",
    "\n",
    "In this problem set, you will be loading inspecting, merging, subsetting, and analyzing data from the ACLED conflict data set. After every step in the problem set, please remebber to create a new code cell for your code, and a Markdown cell if asked. "
   ]
  },
  {
   "cell_type": "code",
   "execution_count": 1,
   "id": "d003c89e-dfb4-4c86-8853-eee77d6645aa",
   "metadata": {},
   "outputs": [],
   "source": [
    "# This code cell allows you to see every line of output when the code has multiple lines\n",
    "# We include it in this assignment to see multiple outputs for a single cell\n",
    "from IPython.core.interactiveshell import InteractiveShell\n",
    "InteractiveShell.ast_node_interactivity = 'all'"
   ]
  },
  {
   "cell_type": "markdown",
   "id": "13752427-76be-40a6-86b2-03c450fb51b1",
   "metadata": {},
   "source": [
    "## Programming \n",
    "\n",
    "1. Import Pandas"
   ]
  },
  {
   "cell_type": "markdown",
   "id": "a43e5a92-751d-4a64-8884-6bb489ec5522",
   "metadata": {
    "jp-MarkdownHeadingCollapsed": true
   },
   "source": [
    "2. Load ACS conflict data for North, Middle, and East Africa into objects `north`, `middle`, and `east`."
   ]
  },
  {
   "cell_type": "markdown",
   "id": "d377a262-4ac0-4fd5-b67c-c599c8efaf97",
   "metadata": {
    "jp-MarkdownHeadingCollapsed": true
   },
   "source": [
    "3. In a new Markdown cell, explain what is the correct method to merge the three dataframes: north, middle, and east. Why is this the correct method."
   ]
  },
  {
   "cell_type": "markdown",
   "id": "485469f2-799b-4da7-bc1a-f2a1d5292baf",
   "metadata": {},
   "source": [
    "4. Display all the unique values for the `country` variable in each of the three dataframes (`north`, `middle`, and `east`)"
   ]
  },
  {
   "cell_type": "markdown",
   "id": "24df791a-8178-4288-8050-f2c75f60f0c6",
   "metadata": {
    "jp-MarkdownHeadingCollapsed": true
   },
   "source": [
    "5. Merge north, middle, and east into a new object named `nme_africa`. In the same code cell, list all the unique country names in the dataframe"
   ]
  },
  {
   "cell_type": "markdown",
   "id": "08ab2d82-ab1b-448f-8156-49d0998d598e",
   "metadata": {
    "jp-MarkdownHeadingCollapsed": true
   },
   "source": [
    "6. Load the cnts.csv data into an object named `cnts`.\n",
    "7. In the same code cell, capitalize all the values in the `country` variable so that we can merge it with `nme_africa` later."
   ]
  },
  {
   "cell_type": "markdown",
   "id": "c4deba13-5ef8-4fd1-b95d-480366cace00",
   "metadata": {
    "jp-MarkdownHeadingCollapsed": true
   },
   "source": [
    "8. Select the following four columns 'country','year','pop1','economics2', into a new object called `cnts_pop`"
   ]
  },
  {
   "cell_type": "markdown",
   "id": "829d4b90-783d-4dfb-bcdb-5b6c8d21db5f",
   "metadata": {
    "jp-MarkdownHeadingCollapsed": true
   },
   "source": [
    "9. In a new Markdown cell, explain which method you would choose to merge `cnts_pop` data with `nme_africa` so that every observation from the `nma_africa` conflict data has the corresponding population and population density variables."
   ]
  },
  {
   "cell_type": "markdown",
   "id": "9423b3b7-1c0d-4dd3-af01-b56946ca7528",
   "metadata": {
    "jp-MarkdownHeadingCollapsed": true
   },
   "source": [
    "10. Merge `nme_africa` according to the method you chose. Name this new object `merge_nme`, then display the observations for Angola."
   ]
  },
  {
   "cell_type": "markdown",
   "id": "0321cd13-a799-4ed4-bb85-8253081a85a7",
   "metadata": {
    "jp-MarkdownHeadingCollapsed": true
   },
   "source": [
    "11. Create a subset of `merge_nme` for only observations where the year is __either__ 2007 __or__ 1997. We don't mean that the dataframe should be for just 1997 or just 2007; we mean that we want observations for both years. Name the object `years_nme`."
   ]
  },
  {
   "cell_type": "markdown",
   "id": "ede944c0-607a-45b1-b387-7c09ccdecfbe",
   "metadata": {
    "jp-MarkdownHeadingCollapsed": true
   },
   "source": [
    "12. Make a crosstab of the types of conflict events for `year_nme`. "
   ]
  },
  {
   "cell_type": "markdown",
   "id": "1362e701-f243-42c0-8bbc-b2750621bbc7",
   "metadata": {
    "jp-MarkdownHeadingCollapsed": true
   },
   "source": [
    "13. In a Markdown cell, explain how the conflicts across those two years differed in the entire north, middle, and east region."
   ]
  },
  {
   "cell_type": "markdown",
   "id": "792946d0-134c-45fa-81d7-3f1585ec09c0",
   "metadata": {
    "jp-MarkdownHeadingCollapsed": true
   },
   "source": [
    "14. Using the `nme_africa` dataframe, make a crosstab of countries and event type, sort values by 'Battles' in descending order."
   ]
  },
  {
   "cell_type": "markdown",
   "id": "4bbe5ce9-b196-4233-ad87-a9adc6d165d1",
   "metadata": {
    "jp-MarkdownHeadingCollapsed": true
   },
   "source": [
    "15. In a Markdown cell, describe two facts you learned reading this crosstab."
   ]
  },
  {
   "cell_type": "markdown",
   "id": "f892df0e-b639-4921-a351-e63521ce76a8",
   "metadata": {
    "jp-MarkdownHeadingCollapsed": true
   },
   "source": [
    "16. Make three original tables using the `.groupby().aggregate()` nested functions to describe the data. Feel free to use `merge_nme`, `nme_africa`, or `years_nme` depending on the kind of data shapes you want to inspect. "
   ]
  },
  {
   "cell_type": "markdown",
   "id": "e2a892a8-9f3b-49b8-9e2c-27c9c5d0a073",
   "metadata": {},
   "source": [
    "## Debugging\n",
    "The final questions of the problem set provides code with error(s). You have to inspect the code carefully and debug the code as asked.\n",
    "\n",
    "17. The aggregate table below is meant to display a table with summed fatalities and mean GDP per capita for the country of Angola in the year 1999 and the year 2000, crosstabulated with different conflict event types. In a new code cell, fix any mistakes in the code and please write about all the errors that you fixed in a new Markdown cell."
   ]
  },
  {
   "cell_type": "code",
   "execution_count": 28,
   "id": "3cc3f339-0f65-4ee1-9963-834269ac8a3c",
   "metadata": {},
   "outputs": [
    {
     "ename": "SyntaxError",
     "evalue": "invalid syntax (2063709020.py, line 4)",
     "output_type": "error",
     "traceback": [
      "\u001b[0;36m  Cell \u001b[0;32mIn[28], line 4\u001b[0;36m\u001b[0m\n\u001b[0;31m    ['country','event_type','year']).aggregate('fatalities':'sum','economic2':'mean').reset_index()\u001b[0m\n\u001b[0m                                                           ^\u001b[0m\n\u001b[0;31mSyntaxError\u001b[0m\u001b[0;31m:\u001b[0m invalid syntax\n"
     ]
    }
   ],
   "source": [
    "merge_nme[(merge_nme['country']=='Angola') & (\n",
    "    (nme_merge['year']=='1999') | \n",
    "    (merge_nme['year']=='2007'))].groupby(\n",
    "    ['country','event_type','year']).aggregate('fatalities':'sum','economic2':'mean').reset_index()"
   ]
  },
  {
   "cell_type": "markdown",
   "id": "d7651749-ab44-40ca-bde8-284d18f0d245",
   "metadata": {},
   "source": [
    "18. This line of code should return a crosstab of a subset of the `merge_nme` dataframe for Rwanda and Somalia, but there is a bug in the way we subset by country that is stopping `.groupby()` from doing its job. In a new code cell, fix this line of code. Then in a new Markdown cell describe what the bug was that you encountered."
   ]
  },
  {
   "cell_type": "code",
   "execution_count": 42,
   "id": "c63eca82-81db-4a3e-bb0d-c73e2cc7a061",
   "metadata": {},
   "outputs": [
    {
     "ename": "KeyError",
     "evalue": "'country'",
     "output_type": "error",
     "traceback": [
      "\u001b[0;31m---------------------------------------------------------------------------\u001b[0m",
      "\u001b[0;31mKeyError\u001b[0m                                  Traceback (most recent call last)",
      "Cell \u001b[0;32mIn[42], line 1\u001b[0m\n\u001b[0;32m----> 1\u001b[0m merge_nme[\u001b[38;5;124m'\u001b[39m\u001b[38;5;124mcountry\u001b[39m\u001b[38;5;124m'\u001b[39m]\u001b[38;5;241m.\u001b[39mstr\u001b[38;5;241m.\u001b[39mcontains(\u001b[38;5;124m'\u001b[39m\u001b[38;5;124mRwanda|Somalia\u001b[39m\u001b[38;5;124m'\u001b[39m)\u001b[38;5;241m.\u001b[39mgroupby([\u001b[38;5;124m'\u001b[39m\u001b[38;5;124mcountry\u001b[39m\u001b[38;5;124m'\u001b[39m,\u001b[38;5;124m'\u001b[39m\u001b[38;5;124mevent_type\u001b[39m\u001b[38;5;124m'\u001b[39m])\u001b[38;5;241m.\u001b[39maggregate({\u001b[38;5;124m'\u001b[39m\u001b[38;5;124mfatalities\u001b[39m\u001b[38;5;124m'\u001b[39m:\u001b[38;5;124m'\u001b[39m\u001b[38;5;124msum\u001b[39m\u001b[38;5;124m'\u001b[39m})\u001b[38;5;241m.\u001b[39mreset_index()\n",
      "File \u001b[0;32m~/.local/lib/python3.11/site-packages/pandas/core/series.py:2131\u001b[0m, in \u001b[0;36mSeries.groupby\u001b[0;34m(self, by, axis, level, as_index, sort, group_keys, observed, dropna)\u001b[0m\n\u001b[1;32m   2128\u001b[0m     \u001b[38;5;28;01mraise\u001b[39;00m \u001b[38;5;167;01mTypeError\u001b[39;00m(\u001b[38;5;124m\"\u001b[39m\u001b[38;5;124mas_index=False only valid with DataFrame\u001b[39m\u001b[38;5;124m\"\u001b[39m)\n\u001b[1;32m   2129\u001b[0m axis \u001b[38;5;241m=\u001b[39m \u001b[38;5;28mself\u001b[39m\u001b[38;5;241m.\u001b[39m_get_axis_number(axis)\n\u001b[0;32m-> 2131\u001b[0m \u001b[38;5;28;01mreturn\u001b[39;00m SeriesGroupBy(\n\u001b[1;32m   2132\u001b[0m     obj\u001b[38;5;241m=\u001b[39m\u001b[38;5;28mself\u001b[39m,\n\u001b[1;32m   2133\u001b[0m     keys\u001b[38;5;241m=\u001b[39mby,\n\u001b[1;32m   2134\u001b[0m     axis\u001b[38;5;241m=\u001b[39maxis,\n\u001b[1;32m   2135\u001b[0m     level\u001b[38;5;241m=\u001b[39mlevel,\n\u001b[1;32m   2136\u001b[0m     as_index\u001b[38;5;241m=\u001b[39mas_index,\n\u001b[1;32m   2137\u001b[0m     sort\u001b[38;5;241m=\u001b[39msort,\n\u001b[1;32m   2138\u001b[0m     group_keys\u001b[38;5;241m=\u001b[39mgroup_keys,\n\u001b[1;32m   2139\u001b[0m     observed\u001b[38;5;241m=\u001b[39mobserved,\n\u001b[1;32m   2140\u001b[0m     dropna\u001b[38;5;241m=\u001b[39mdropna,\n\u001b[1;32m   2141\u001b[0m )\n",
      "File \u001b[0;32m~/.local/lib/python3.11/site-packages/pandas/core/groupby/groupby.py:1274\u001b[0m, in \u001b[0;36mGroupBy.__init__\u001b[0;34m(self, obj, keys, axis, level, grouper, exclusions, selection, as_index, sort, group_keys, observed, dropna)\u001b[0m\n\u001b[1;32m   1271\u001b[0m \u001b[38;5;28mself\u001b[39m\u001b[38;5;241m.\u001b[39mdropna \u001b[38;5;241m=\u001b[39m dropna\n\u001b[1;32m   1273\u001b[0m \u001b[38;5;28;01mif\u001b[39;00m grouper \u001b[38;5;129;01mis\u001b[39;00m \u001b[38;5;28;01mNone\u001b[39;00m:\n\u001b[0;32m-> 1274\u001b[0m     grouper, exclusions, obj \u001b[38;5;241m=\u001b[39m get_grouper(\n\u001b[1;32m   1275\u001b[0m         obj,\n\u001b[1;32m   1276\u001b[0m         keys,\n\u001b[1;32m   1277\u001b[0m         axis\u001b[38;5;241m=\u001b[39maxis,\n\u001b[1;32m   1278\u001b[0m         level\u001b[38;5;241m=\u001b[39mlevel,\n\u001b[1;32m   1279\u001b[0m         sort\u001b[38;5;241m=\u001b[39msort,\n\u001b[1;32m   1280\u001b[0m         observed\u001b[38;5;241m=\u001b[39m\u001b[38;5;28;01mFalse\u001b[39;00m \u001b[38;5;28;01mif\u001b[39;00m observed \u001b[38;5;129;01mis\u001b[39;00m lib\u001b[38;5;241m.\u001b[39mno_default \u001b[38;5;28;01melse\u001b[39;00m observed,\n\u001b[1;32m   1281\u001b[0m         dropna\u001b[38;5;241m=\u001b[39m\u001b[38;5;28mself\u001b[39m\u001b[38;5;241m.\u001b[39mdropna,\n\u001b[1;32m   1282\u001b[0m     )\n\u001b[1;32m   1284\u001b[0m \u001b[38;5;28;01mif\u001b[39;00m observed \u001b[38;5;129;01mis\u001b[39;00m lib\u001b[38;5;241m.\u001b[39mno_default:\n\u001b[1;32m   1285\u001b[0m     \u001b[38;5;28;01mif\u001b[39;00m \u001b[38;5;28many\u001b[39m(ping\u001b[38;5;241m.\u001b[39m_passed_categorical \u001b[38;5;28;01mfor\u001b[39;00m ping \u001b[38;5;129;01min\u001b[39;00m grouper\u001b[38;5;241m.\u001b[39mgroupings):\n",
      "File \u001b[0;32m~/.local/lib/python3.11/site-packages/pandas/core/groupby/grouper.py:1009\u001b[0m, in \u001b[0;36mget_grouper\u001b[0;34m(obj, key, axis, level, sort, observed, validate, dropna)\u001b[0m\n\u001b[1;32m   1007\u001b[0m         in_axis, level, gpr \u001b[38;5;241m=\u001b[39m \u001b[38;5;28;01mFalse\u001b[39;00m, gpr, \u001b[38;5;28;01mNone\u001b[39;00m\n\u001b[1;32m   1008\u001b[0m     \u001b[38;5;28;01melse\u001b[39;00m:\n\u001b[0;32m-> 1009\u001b[0m         \u001b[38;5;28;01mraise\u001b[39;00m \u001b[38;5;167;01mKeyError\u001b[39;00m(gpr)\n\u001b[1;32m   1010\u001b[0m \u001b[38;5;28;01melif\u001b[39;00m \u001b[38;5;28misinstance\u001b[39m(gpr, Grouper) \u001b[38;5;129;01mand\u001b[39;00m gpr\u001b[38;5;241m.\u001b[39mkey \u001b[38;5;129;01mis\u001b[39;00m \u001b[38;5;129;01mnot\u001b[39;00m \u001b[38;5;28;01mNone\u001b[39;00m:\n\u001b[1;32m   1011\u001b[0m     \u001b[38;5;66;03m# Add key to exclusions\u001b[39;00m\n\u001b[1;32m   1012\u001b[0m     exclusions\u001b[38;5;241m.\u001b[39madd(gpr\u001b[38;5;241m.\u001b[39mkey)\n",
      "\u001b[0;31mKeyError\u001b[0m: 'country'"
     ]
    }
   ],
   "source": [
    "merge_nme['country'].str.contains('Rwanda|Somalia').groupby(['country','event_type']).aggregate({'fatalities':'sum'}).reset_index()"
   ]
  }
 ],
 "metadata": {
  "kernelspec": {
   "display_name": "Python 3 (ipykernel)",
   "language": "python",
   "name": "python3"
  },
  "language_info": {
   "codemirror_mode": {
    "name": "ipython",
    "version": 3
   },
   "file_extension": ".py",
   "mimetype": "text/x-python",
   "name": "python",
   "nbconvert_exporter": "python",
   "pygments_lexer": "ipython3",
   "version": "3.12.4"
  }
 },
 "nbformat": 4,
 "nbformat_minor": 5
}
