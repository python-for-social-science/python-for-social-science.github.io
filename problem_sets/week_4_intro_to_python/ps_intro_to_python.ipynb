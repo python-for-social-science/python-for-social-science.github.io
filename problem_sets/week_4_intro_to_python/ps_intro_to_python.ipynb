{
 "cells": [
  {
   "cell_type": "markdown",
   "id": "ee824f0d-467a-4989-beb8-a397d54ef1f8",
   "metadata": {},
   "source": [
    "# Introduction to Python Problem Set\n",
    "\n",
    "<span style=\"color:red\">0 / 0 points</span>.\n",
    "\n",
    "In this problem set, you will practice the basics of programming in Python. There will be problems on basic math and logic operations, working with different data types, writing functions, and using Python packages. As ever, you will create new code cells and Markdown cells to write out your answers to the problems."
   ]
  },
  {
   "cell_type": "code",
   "execution_count": 1,
   "id": "cb2f3b75-cab2-4a86-a79e-97119bbb8bb3",
   "metadata": {},
   "outputs": [],
   "source": [
    "# This code cell allows you to see every line of output when the code has multiple lines\n",
    "# We include it in this assignment to see multiple outputs for a single cell\n",
    "from IPython.core.interactiveshell import InteractiveShell\n",
    "InteractiveShell.ast_node_interactivity = 'all'"
   ]
  },
  {
   "cell_type": "markdown",
   "id": "6a97fcdb-c538-43fa-aa39-989763d6dd20",
   "metadata": {},
   "source": [
    "## Programming \n",
    "\n",
    "1. Write line of code that performs the following math operation: $7 \\times 10$. Use the numbers 7 and 10 to get the answer."
   ]
  },
  {
   "cell_type": "markdown",
   "id": "df952763-8fd4-4d5f-ae20-41b631b1e86e",
   "metadata": {},
   "source": [
    "2. Now create three objects: `seven`, `two`, and `five` and assign them each their corresponding values as numbers."
   ]
  },
  {
   "cell_type": "markdown",
   "id": "530f9b39-6fd0-4935-947b-4c97392e73f3",
   "metadata": {},
   "source": [
    "3. Use all three objects you created above, `seven`, `two`, and `five`, to get the same answer you got in problem 1. Do not use any numbers in your code, just those three objects."
   ]
  },
  {
   "cell_type": "markdown",
   "id": "86a35d51-bc47-4f2e-a36a-3e988415b187",
   "metadata": {},
   "source": [
    "4. Use the `print()` function and the objects you created above to write\n",
    "\n",
    "- 'The result of [seven] divided by [five] equals [your result].'.\n",
    "\n",
    "For the words we put in square brackets `[]`, use the actual python objects. Use a mix of quotation marks and commas, not f-strings."
   ]
  },
  {
   "cell_type": "markdown",
   "id": "7b420f6b-c71e-4be5-b677-eb67a06f7c9c",
   "metadata": {},
   "source": [
    "5. Use the `print()` function _with f-strings_, the numeric objects, _and_ the `type()` function to write the following two sentences.\n",
    "\n",
    "- The number [two]' is a [datatype for two], while the word \"seven\" is a [dataype for string 'seven'].\n",
    "- \"[Two * five]\" is a [datatype for 2 * 5] class, while \"[two/five]\" is a [dataype for 2/5]'"
   ]
  },
  {
   "cell_type": "markdown",
   "id": "ac550a5a-9a70-4afa-9fca-54d71b192f42",
   "metadata": {},
   "source": [
    "7. Create all three major data structures in the code cell below: `List`, `tuple`, and `dictionary`. The structures should have the following data:\n",
    "    - `cities` = A list of five cities in Europe: Dublin, London, Krakow, Milan, and Zurich.\n",
    "    - `odd` A tuple of the first ten odd numbers.\n",
    "    - `city_dict` A dictionary where the keys are the same five cities in Europe, and the values are the countries where the cities are located.\n",
    "\n",
    "Show that you created the correct datatype by using the `type()` function"
   ]
  },
  {
   "cell_type": "markdown",
   "id": "824fd663-2c28-4802-9f68-4cb9f7be1117",
   "metadata": {},
   "source": [
    "7. Update the `city_dict` dictionary with a new key for Vatican City. The Vatican is not part of any one country, and dictionaries can have any size values you wish. So for the Vatican City key, supply a list of location values: `'Rome', 'Italy', 'E.U.'`. In another line of code, use a dictionary function that will display all of the keys within `city_dict`"
   ]
  },
  {
   "cell_type": "markdown",
   "id": "59bd02d9-33bb-4b21-82de-97981460ad8e",
   "metadata": {},
   "source": [
    "8. Use indexing to find the following items in your three data structures, 'cities', 'odd', and 'city_dict'. You can write all of these in a single code cell.\n",
    "    - The fourth value in `cities`.\n",
    "    - Add the first and fifth values of `odd`.\n",
    "    - Extract the highest level of geographic aggregation for the `Vatican City` key in `city_dict`. "
   ]
  },
  {
   "cell_type": "markdown",
   "id": "8181088a-0b30-4d0d-9e55-4ab1d9f9a534",
   "metadata": {},
   "source": [
    "9. Append the value `Vatican City` to the `cities` list. In another line of code append `Earth` to the values for the `Vatican City` key in `city_dict`. Print the contents for both updated objects. "
   ]
  },
  {
   "cell_type": "markdown",
   "id": "24a4deb2-43de-498b-8b5f-2a920dd91d64",
   "metadata": {},
   "source": [
    "10. In one line of code for each question below, use comparison and logical operators to evaluate the following statements. In your code cell, make a comment next to each line of code and state whether your expression evaluated as True or False.\n",
    "\n",
    "    - Is the object `seven` greater than the object `five`?\n",
    "    - Is either Dublin __or__ Cork in `city_dict`?\n",
    "    - Is 7 in the tuple `odd` __and__ 2 in the tuple `odd` at the same time? \n",
    "    - Is the `[0]` index in `cities` equal to the `['Dublin']` key in `city_dict`?\n",
    "    - Is the object `two` of the same datatype as the number 2? Use the `is` operator.\n",
    "    - Is the length of `cities` __not equal__ to the length of the `city_dict` keys?"
   ]
  },
  {
   "cell_type": "markdown",
   "id": "5a27b2f2-d2f8-455b-b21f-5250952786ec",
   "metadata": {},
   "source": [
    "11. Import the NumPy package in a code cell below and calculate the mean, median, and standard deviation of the `odd` vector. You can [search here](https://numpy.org/doc/stable/reference/routines.statistics.html) for an official list of available statistics functions. "
   ]
  },
  {
   "cell_type": "markdown",
   "id": "17f40acf-2bce-476f-b873-3416aaa29c65",
   "metadata": {},
   "source": [
    "12. Create a function that converts inches to centimeters. Name the function `in2cm` and call its argument `inches`. Within the function, import and use NumPy to make sure you can multiply vectors, as well as objects with different datatypes. After writing the function, test it with the following commands:\n",
    "    - `in2cm(inches=1)`\n",
    "    - `in2cm(inches=odd)`\n",
    "    - `in2cm((1.5, 34, 100, 58))`"
   ]
  },
  {
   "cell_type": "markdown",
   "id": "6fb3a4c2",
   "metadata": {},
   "source": [
    "## Interpretation Questions\n",
    "\n",
    "13. In a Markdown cell below, please explain the difference between `string`, `int`, and `float` variable types in your own words. "
   ]
  },
  {
   "cell_type": "markdown",
   "id": "f2f4765c-0cdd-4e5e-960c-d4849fb2fe02",
   "metadata": {},
   "source": [
    "14. Discuss a couple of different situations where mixing datatypes in an operation _can_ work in Python, and two more situations where some operation between different dataypes would _not work. By datatypes we mean every general class of data from Python's variable and structure classes like `str` and `tuple`, and package dataypes like `pandas DataFrame` and `NumPy array`."
   ]
  },
  {
   "cell_type": "markdown",
   "id": "1fae7f15-8833-4b35-b27f-ccc29841011f",
   "metadata": {},
   "source": [
    "## Debugging\n",
    "\n",
    "The final questions of the problem set provides code with error(s). You have to inspect the code carefully and debug the code as asked.\n",
    "\n",
    "15. The line of code below is to create a new dictionary of person's health measurements for the last twenty days, as recorded by a fitness monitoring app. There are bugs in the code that you must fix in a new code cell below. In a Markdown cell, please list the errors you encountered and what you did to fix them."
   ]
  },
  {
   "cell_type": "code",
   "execution_count": 14,
   "id": "9d6b577c-d0f3-4c62-a4e6-a36c73455338",
   "metadata": {},
   "outputs": [
    {
     "ename": "SyntaxError",
     "evalue": "invalid syntax (653211872.py, line 2)",
     "output_type": "error",
     "traceback": [
      "\u001b[0;36m  Cell \u001b[0;32mIn[14], line 2\u001b[0;36m\u001b[0m\n\u001b[0;31m    'steps';[6895, 4898, 4667, 3617, 4333, 5225, 5820, 5356, 3635, 4637, 5112,\u001b[0m\n\u001b[0m           ^\u001b[0m\n\u001b[0;31mSyntaxError\u001b[0m\u001b[0;31m:\u001b[0m invalid syntax\n"
     ]
    }
   ],
   "source": [
    "fit_stats = {\n",
    "    'steps';[6895, 4898, 4667, 3617, 4333, 5225, 5820, 5356, 3635, 4637, 5112,\n",
    "       6342, 6163, 3167, 5696, 6394, 5913, 3294, 6948, 4561,]\n",
    "    'body_temp';[98.09, 97.82, 97.32, 98.1 , 97.93, 97.71, 98.02, 97.94, 98.16,\n",
    "       98.54, 98.17, 98.17, 97.96, 98.06, 97.25, 97.93, 97.97, 97.91, 97.98, 97.81],\n",
    "    'avg_heart';[68.1, 79.9, 64.3, 61.8, 68.1, 61.5, 62.7, 68.4, 59.2, 70.4, 75.7,\n",
    "       60.4, 52.4, 70.1, 75.6, 64.4, 58. , 77.9, 58.2, 64.7],\n",
    "    'calories';[1623, 4093, 1918, 1894, 4252, 4330, 3676, 4462, 2317, 3647, 3792,\n",
    "       3354, 3852, 2586, 4895, 3031, 2052, 3305, 2469, 2082]\n",
    "    'sleep_disrupt';[5, 1, 4, 4, 2, 3, 1, 4, 5, 2, 3, 1, 3, 4, 6, 3, 4, 2, 2, 4]\n",
    "}"
   ]
  },
  {
   "cell_type": "markdown",
   "id": "83a78993-f3ce-47fc-b169-a44916793538",
   "metadata": {},
   "source": [
    "16. The `print()` command below has a couple of bugs that stop the code from running correctly. Fix the code in a new code cell so that it prints the sentence correctly."
   ]
  },
  {
   "cell_type": "code",
   "execution_count": 28,
   "id": "396b79ad-a84c-423e-9832-e6d2fe12e8be",
   "metadata": {},
   "outputs": [
    {
     "ename": "SyntaxError",
     "evalue": "unterminated string literal (detected at line 1) (3037496956.py, line 1)",
     "output_type": "error",
     "traceback": [
      "\u001b[0;36m  Cell \u001b[0;32mIn[28], line 1\u001b[0;36m\u001b[0m\n\u001b[0;31m    print(f'The statement \"Vienna is in the city_dict object\" is,' {'Vienna' in city_dict}')\u001b[0m\n\u001b[0m                                                                                          ^\u001b[0m\n\u001b[0;31mSyntaxError\u001b[0m\u001b[0;31m:\u001b[0m unterminated string literal (detected at line 1)\n"
     ]
    }
   ],
   "source": [
    "print(f'The statement \"Vienna is in the city_dict object\" is,' {'Vienna' in city_dict}')"
   ]
  },
  {
   "cell_type": "markdown",
   "id": "bdfbccad-9b33-49c6-b0bd-1f2c541e037a",
   "metadata": {},
   "source": [
    "17. In the code below, we mistakenly included 'tomato' in the `vegetables` object. However, the code we wrote to remove 'tomato' doesn't work. In a new Markdown cell explain why we got this error and how you would fix this bug. Then, in a new code cell, fix the code so that you can create the same `vegetables` object and then successfully remove 'tomato' from it."
   ]
  },
  {
   "cell_type": "code",
   "execution_count": 38,
   "id": "1564a76c-d800-4957-aa86-a7faa3822aff",
   "metadata": {},
   "outputs": [
    {
     "ename": "AttributeError",
     "evalue": "'tuple' object has no attribute 'remove'",
     "output_type": "error",
     "traceback": [
      "\u001b[0;31m---------------------------------------------------------------------------\u001b[0m",
      "\u001b[0;31mAttributeError\u001b[0m                            Traceback (most recent call last)",
      "Cell \u001b[0;32mIn[38], line 3\u001b[0m\n\u001b[1;32m      1\u001b[0m vegetables \u001b[38;5;241m=\u001b[39m (\u001b[38;5;124m'\u001b[39m\u001b[38;5;124mlettuce\u001b[39m\u001b[38;5;124m'\u001b[39m, \u001b[38;5;124m'\u001b[39m\u001b[38;5;124mcarrot\u001b[39m\u001b[38;5;124m'\u001b[39m, \u001b[38;5;124m'\u001b[39m\u001b[38;5;124mcabbage\u001b[39m\u001b[38;5;124m'\u001b[39m, \u001b[38;5;124m'\u001b[39m\u001b[38;5;124mtomato\u001b[39m\u001b[38;5;124m'\u001b[39m)\n\u001b[0;32m----> 3\u001b[0m vegetables\u001b[38;5;241m.\u001b[39mremove(\u001b[38;5;124m'\u001b[39m\u001b[38;5;124mtomato\u001b[39m\u001b[38;5;124m'\u001b[39m)\n\u001b[1;32m      5\u001b[0m vegetables\n",
      "\u001b[0;31mAttributeError\u001b[0m: 'tuple' object has no attribute 'remove'"
     ]
    }
   ],
   "source": [
    "vegetables = ('lettuce', 'carrot', 'cabbage', 'tomato')\n",
    "\n",
    "vegetables.remove('tomato')\n",
    "\n",
    "vegetables # display the values"
   ]
  },
  {
   "cell_type": "markdown",
   "id": "bf7f7127-93ec-4e68-aa5b-fed34f4eae8f",
   "metadata": {},
   "source": [
    "The `remove()` function does not work because `vegetables` is a tuple and tuples are immutable. You cannot add alter or remove any item in a tuple. I would solve this by re-assigning `vegetables` as a list instead. "
   ]
  }
 ],
 "metadata": {
  "kernelspec": {
   "display_name": "Python 3 (ipykernel)",
   "language": "python",
   "name": "python3"
  },
  "language_info": {
   "codemirror_mode": {
    "name": "ipython",
    "version": 3
   },
   "file_extension": ".py",
   "mimetype": "text/x-python",
   "name": "python",
   "nbconvert_exporter": "python",
   "pygments_lexer": "ipython3",
   "version": "3.12.4"
  }
 },
 "nbformat": 4,
 "nbformat_minor": 5
}
