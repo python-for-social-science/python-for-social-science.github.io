{
 "cells": [
  {
   "cell_type": "markdown",
   "id": "87a7081c-71ff-4f38-9659-01ac4ede0b95",
   "metadata": {},
   "source": [
    "# A Housing Dataframe Through Loops\n",
    "\n",
    "In the next lesson, we would like to visualize data for specific points in time a well as across several years of data. The American Community Survey DP04 housing dataset has data files from 2010 to 2022, which is suitable for visualizing group and time-series variables. \n",
    "\n",
    "Instead of loading twelve individual datasets, you will be merging all the data available like you practiced in the control structures chapter. This means loading in multiple ACS datasets with a for-loop. Then the data needs cleaning. The variables we are interested in visualizing U.S. Housing data, including descriptions and suggested new names, are in the table below.\n",
    "\n",
    "\n",
    "|Variable|New Name|Label|\n",
    "|:-:|:-:|:-:|\n",
    "|NAME|CITY + STATE|\tGeographic Area Name|\n",
    "|DP04_0001E |TOT_UNITS|HOUSING OCCUPANCY Total housing units\n",
    "|DP04_0088E |MED_VALUE|Estimate Median Value (dollars)\n",
    "|DP04_0132E\t|MED_RENT|Estimate|Median Rent(dollars)\n",
    "|DP04_0002E |OCCUP_OCCUP | HOUSING OCCUPANCY Total housing units Occupied housing units\n",
    "|DP04_0003E\t|VACANT| HOUSING OCCUPANCY Total housing units Vacant housing units\n",
    "|DP04_0045E\t|OCCUP_TENURE| HOUSING TENURE Occupied housing units\n",
    "|DP04_0046E\t|OCCUP_OWNR | HOUSING TENURE Occupied housing units Owner-occupied\n",
    "|DP04_0047E |OCCUP_RENTR | HOUSING TENURE Occupied housing units Renter-occupied\n",
    "|DP04_0017E |BUILT_2020 |Year housing built: 2020 or later|\n",
    "|DP04_0018E |BUILT_2010 |Year housing built: 2010 to 2019|\n",
    "|DP04_0019E |BUILT_2000 |Year housing built: 2000 to 2009|\n",
    "|DP04_0020E |BUILT_1990 |Year housing built: 1990 to 1999|\n",
    "|DP04_0021E |BUILT_1980 |Year housing built: 1980 to 1989|\n",
    "|DP04_0022E |BUILT_1970 |Year housing built: 1970 to 1979|\n",
    "|DP04_0023E |BUILT_1960 |Year housing built: 1960 to 1969|\n",
    "|DP04_0024E |BUILT_1950 |Year housing built: 1950 to 1959|\n",
    "|DP04_0025E |BUILT_1940 |Year housing built: 1940 to 1949|\n",
    "|DP04_0026E |BUILT_1939 |Year housing built: 1939 or earlier|\n",
    "\n",
    "For this task you will need to create a for-loop to read the multiple ACS files, which you have practice doing. There is also a bit of cleaning and and manipulation, like you have seen in the introduction to pandas chapters one and two. We'll provide step by step instructions for each code cell, and by the end of this assignment, you should have one `housing` dataframe that encompasses every year of housing information for the DP04 1-Year data, from 2010 to 2022"
   ]
  },
  {
   "cell_type": "code",
   "execution_count": 1,
   "id": "5ff3f457-94c8-4b10-9cec-6b519b881a00",
   "metadata": {},
   "outputs": [],
   "source": [
    "# This code cell will be in every one of our chapters in Jupyter Notebook\n",
    "# The function allows you to see every line of output when the code has multiple lines\n",
    "from IPython.core.interactiveshell import InteractiveShell\n",
    "InteractiveShell.ast_node_interactivity = 'all'"
   ]
  },
  {
   "cell_type": "code",
   "execution_count": 2,
   "id": "f40b9f77-4c01-4323-9f14-df424b60b1cf",
   "metadata": {},
   "outputs": [],
   "source": [
    "import pandas as pd\n",
    "import os"
   ]
  },
  {
   "cell_type": "markdown",
   "id": "ab4a0495-7d27-44d0-b4a2-9c1509ed54d3",
   "metadata": {},
   "source": [
    "## Step 1\n",
    "\n",
    "Make the non-variable objects that will help you iterate over your data files.\n",
    "\n",
    "1. A `path` object that is a string leading back to the DP04 'Place' data. Remeber to use `os.getcwd()` if you can't recall where this Jupyter Notebook's path is.\n",
    "2. A `csv_files` list object, created with list comprehension, which contains all the files within the `path` directory that end in 'Data.csv'\n",
    "3. Use `.sort()` on `csv_files` to sort the list alphabetically (i.e.: by year).\n",
    "4. A `years` list, which is a range of values from 2010 to 2022. Remember that the range() gives a final number _lower_ the end number you provide, so check that `years` list.\n",
    "5. Remove the year 2022 from `years`, because the ACS did not collect data during the COVID-19 pandemic. _HINT: Use the .remove() function we introduced in the intro to python chapter_"
   ]
  },
  {
   "cell_type": "markdown",
   "id": "ef7b2d1b-f44d-4622-8fce-0ec8130771c4",
   "metadata": {},
   "source": [
    "## Step 2\n",
    "Make a for-loop that iterates over the `csv_files` list and concatenates the opened dataframes into a new dataframe.\n",
    "\n",
    "1. Make an empty python object called `ACS`, then reassign it as a `pd.DataFrame()` object.\n",
    "2. Make your for loop iterate over the range in the length of `csv_files`\n",
    "3. In the loop, make a `file_path` object that is the name of the `path` plus the name of the csv file for index `[i]` of csv_files.\n",
    "4. In the loop, make a `temp` object that is assigned the current the csv file name with `pd.read_csv()`\n",
    "5. In the loop, create a new variable in the temp object, `temp['YEAR']` and assign the value of the year in index `[i]` of `year`. It is one year per iteration so you won't need to make any fancy nested loops at all.\n",
    "6. in the last line of the loop, concatenate the `ACS` dataframe with the current `temp` dataframe.\n",
    "7. Inspect the `ACS` dataframe out of the loop"
   ]
  },
  {
   "cell_type": "markdown",
   "id": "3e8e802e-5958-41bd-8885-a366987096f5",
   "metadata": {},
   "source": [
    "## Step 3\n",
    "\n",
    "1. Select the following variables from `ACS` into a new dataframe called `housing`: \n",
    "```\n",
    "'NAME','YEAR','DP04_0001E','DP04_0088E','DP04_0132E','DP04_0002E','DP04_0003E','DP04_0045E','DP04_0046E','DP04_0047E','DP04_0017E','DP04_0018E', 'DP04_0019E','DP04_0020E','DP04_0021E','DP04_0022E','DP04_0023E','DP04_0024E','DP04_0025E','DP04_0026E'\n",
    "```\n",
    "2. Check the first few rows of `housing` and see if there is a row of labels.\n",
    "3. Drop the 'labels' row on index 0 and check the first few rows again."
   ]
  },
  {
   "cell_type": "markdown",
   "id": "1d8384af-110e-4586-9301-ac90c14662e6",
   "metadata": {},
   "source": [
    "## Step 4\n",
    "1. Create a `city` object that takes first string value in `housing['NAME']` before the comma. Use `.str.split().str[0]` that you learned about in the first intro to pandas chapter.\n",
    "2. Create a `state` object that takes the _second_ string value in `housing['NAME']`.\n",
    "3. Insert the values of `city` into a new `housing` variables called `CITY` (with capital letters). Try inserting this on the second column of the dataframe.\n",
    "4. Insert the values of `state` into a new `housing` variables called `STATE`. Insert the new variable on the third column of the dataframe."
   ]
  },
  {
   "cell_type": "markdown",
   "id": "a1966e3f-8e15-4e13-b009-7203d2e147b9",
   "metadata": {},
   "source": [
    "## Step 5\n",
    "\n",
    "Referencing data cleanup from intro to pandas 1, coerce the data types of the numeric variables from 'object' to a numeric Dtype with `pd.to_numeric()`. You can check your work with the `.info()` function"
   ]
  },
  {
   "cell_type": "markdown",
   "id": "4d228629-4cd6-4687-8acf-d598ea1a5579",
   "metadata": {},
   "source": [
    "## Step 6\n",
    "\n",
    "Rename the variables into something more legible. We'll provide the new names for you because they will need to match in order for the code in the data visualization chapter to work!\n",
    "```\n",
    "'DP04_0001E' to 'TOT_UNITS',\n",
    "'DP04_0088E' to 'MED_VALUE',\n",
    "'DP04_0132E' to 'MED_RENT',\n",
    "'DP04_0002E' to 'OCCUP_OCCUP',\n",
    "'DP04_0003E' to 'VACANT',\n",
    "'DP04_0045E' to 'OCCUP_TENURE',\n",
    "'DP04_0046E' to 'OCCUP_OWNR',\n",
    "'DP04_0047E' to 'OCCUP_RENTR',\n",
    "'DP04_0017E' to 'BUILT_2020',\n",
    "'DP04_0018E' to 'BUILT_2010',\n",
    "'DP04_0019E' to 'BUILT_2000',\n",
    "'DP04_0020E' to 'BUILT_1990',\n",
    "'DP04_0021E' to 'BUILT_1980',\n",
    "'DP04_0022E' to 'BUILT_1970',\n",
    "'DP04_0023E' to 'BUILT_1960',\n",
    "'DP04_0024E' to 'BUILT_1950',\n",
    "'DP04_0025E' to 'BUILT_1940',\n",
    "'DP04_0026E' to 'BUILT_1939'},\n",
    "```\n",
    "\n",
    "_Hint: You can use the inplace=True argument in the .rename() function. Check intro to pandas chapter 1_"
   ]
  },
  {
   "cell_type": "markdown",
   "id": "aa0232c0-1f7d-4dee-bba5-eff5f1cf7f2c",
   "metadata": {},
   "source": [
    "## Step 7\n",
    "\n",
    "Save your work! Use os.getcwd() if you need to remember your current working directory, and use `.to_csv()` so save the `housing` dataframe as housing.csv, in your current working directory ('Python for Social Science/assignments/control_structures/'). Always remember to use the `index=False` argument in .to_csv() to keep the row index from saving as a new column. "
   ]
  }
 ],
 "metadata": {
  "kernelspec": {
   "display_name": "Python 3 (ipykernel)",
   "language": "python",
   "name": "python3"
  },
  "language_info": {
   "codemirror_mode": {
    "name": "ipython",
    "version": 3
   },
   "file_extension": ".py",
   "mimetype": "text/x-python",
   "name": "python",
   "nbconvert_exporter": "python",
   "pygments_lexer": "ipython3",
   "version": "3.12.4"
  }
 },
 "nbformat": 4,
 "nbformat_minor": 5
}
