{
 "cells": [
  {
   "cell_type": "markdown",
   "id": "5be30ed8-34c2-4a8a-9d66-b5b859a830ac",
   "metadata": {},
   "source": [
    "# Data Visualization Problem Set\n",
    "\n",
    "<span style=\"color:red\">0 / 0 points</span>.\n",
    "\n",
    "In this problem set, you will be making different plots from the same `housing` dataset you used in the Data Visualization chapter. For all of the questions where  ask you to generate a plot, there will be a list of 'requirements' that your plot must include, so please pay attention to the description of the plot. \n",
    "\n",
    "This problem set also requires you to perform very specific subsets and grouped tables of the `housing` dataframe. Thus, you will need to do a fair amount of recalling from pandas chapters one and two: Mainly subsetting by multiple string values, grouping with `groupby()`, choosing value columns with `aggregate()`, etc... \n",
    "\n",
    "After every question in the problem set, please remember to create a new code cell for your answer/code. "
   ]
  },
  {
   "cell_type": "code",
   "execution_count": 1,
   "id": "0dc8f2e4-0e95-479d-bfcb-d416379f7828",
   "metadata": {},
   "outputs": [],
   "source": [
    "# This code cell will be in every one of our chapters in Jupyter Notebook\n",
    "# The function allows you to see every line of output when the code has multiple lines\n",
    "from IPython.core.interactiveshell import InteractiveShell\n",
    "InteractiveShell.ast_node_interactivity = 'all'\n",
    "\n",
    "# load packages\n",
    "import pandas as pd\n",
    "import matplotlib.pyplot as plt"
   ]
  },
  {
   "cell_type": "markdown",
   "id": "61ce93d9-204f-49e1-8dfe-68ec1991ab88",
   "metadata": {},
   "source": [
    "## Programming \n",
    "\n",
    "1. Read in the `housing.csv` dataset that you used in the Data Visualization chapter, and name the object `housing`. "
   ]
  },
  {
   "cell_type": "markdown",
   "id": "d55193f0-d3c8-488a-9e22-a684ebb7d95d",
   "metadata": {},
   "source": [
    "2. Assign a new dataframe named `df` that takes the following data from the `housing` dataframe:\n",
    "   - Subset `housing` for just two states: 'Georgia' and 'Michigan'.\n",
    "   - From that subset, group the data by state.\n",
    "   - From that grouping, aggregate all of the `BUILT_0000` variables, from `BUILT_2020` to `BUILT_1939`. The aggregate function should be 'sum'.\n",
    "You should make this dataframe in a single line of code.\n",
    "3. In the same code cell, display `df` and display a [transposed](https://pandas.pydata.org/docs/reference/api/pandas.DataFrame.transpose.html) `df`."
   ]
  },
  {
   "cell_type": "markdown",
   "id": "9f1d8a4f-b003-4de3-a196-cb37873ff897",
   "metadata": {},
   "source": [
    "4. Create a bar plot from the transposed `df`. Make sure that the plot has the following features:\n",
    "   - The legend _only_ shows the names of the two states. In other words, without the variable name `STATE` in the legend.\n",
    "   - Change the Y-axis numeric notation from scientific to plain\n",
    "   - Add a title describing this plot.\n",
    "   - Rotate the x-axis text 45 degrees clockwise.\n",
    "   - Label both y and x axes.\n",
    "   - Change the values of the x-axis ticks to just the decades (i.e.: 2020, 2010, 2000...)\n",
    "   - Extra 0.5 point: specify `color=('crimson','navy')`. We did not teach this argument in the chapter. Find the right place for this line such that the bars for Georgia are crimson, and the bars for Michigan are navy."
   ]
  },
  {
   "cell_type": "markdown",
   "id": "814e8a8b-53c1-4a6e-853d-7a5d2e36ea47",
   "metadata": {},
   "source": [
    "5. The previous plot's dates on the x-axis are in reverse order. Fix them so the values go in chronological order from left to right. _Hint: It'll be easier to reverse the decade order in the dataframe than with pyplot._"
   ]
  },
  {
   "cell_type": "markdown",
   "id": "55b72d2d-5287-41f4-b810-c551ab8c5d4c",
   "metadata": {},
   "source": [
    "6. Make another bar plot on a grouped table for the ten states with the lowest average values of 'median rent'. This time you do not need to assign a new object. In one line create a new data table that has the following characteristics:\n",
    "   - The value of `YEAR` is greater than 2015.\n",
    "   - Grouped by the variable `STATE`.\n",
    "   - The aggregate function takes the mean of `MED_RENT`.\n",
    "   - Sort the values in ascending order, and pick the first ten observations.\n",
    "\n",
    "    In the very same line of code, attach the `.plot()` function to make a bar chart. Then add the following features to the plot:\n",
    "   - The bars should be green.\n",
    "   - Add a title that says 'Ten Lowest Median Rents in the USA - 2016-2022 Average'.\n",
    "   - Remove the legend entirely.\n",
    "   - Label the y-axis 'Rent in dollars'. Remove the x-axis label."
   ]
  },
  {
   "cell_type": "markdown",
   "id": "d6c14a13-e962-4d30-a8d7-f39b78794cf5",
   "metadata": {},
   "source": [
    "7. Visualize the trends for median home value `MED_VALUE` from 2015 to 2022 in Arkansas, Ohio, Puerto Rico, North Dakota, and South Dakota. To do this, create a new `df2` dataframe object that takes the following data from `housing`:\n",
    "   - Filters for values of `STATE` containing the five states mentioned, __and__ `YEAR` is greater than 2014.\n",
    "   - Group the subset by `YEAR` and `STATE`.\n",
    "   - Aggregate the mean value of `MED_VALUE`.\n",
    "  \n",
    "    This should be in a single line of code. _Do not forget to unstack the table._\n",
    "\n",
    "    Make a line plot from `df2` that has the following visual features:\n",
    "   - Add a descriptive title to this plot.\n",
    "   - The legend box should contain only state names.\n",
    "   - Label the y-axis 'Median home value in dollars'. Remove the x-axis label.\n",
    "   - Make the line style dotted, and the line width 5.\n",
    "   - Use the 'Accent' colormap.\n",
    "   - Annotate the plot with an arrow pointing at the top of the 'Iowa' line where it intersects with the year '2020'. Write 'No data collected 2020'."
   ]
  },
  {
   "cell_type": "markdown",
   "id": "b3df6b98-a8eb-40c3-8856-486a8bc9180a",
   "metadata": {},
   "source": [
    "8. Create a scatter plots to investigate the relationship between total housing units `TOT_UNITS` available and the number of vacant units `VACANT`. Subset the `housing` dataframe for 2022 an plot a scatterplot with the following parameters:\n",
    "    - `TOT_UNITS` should be $x$, and `VACANT` should be $y$\n",
    "    - Title your plot 'Total Housing Units and Vacant Units- 2022'\n",
    "    - Scale the plot axes to zoom in past the outlier points. Use the following coordinates: -100000,200000 on the x-axis; -10000, 200000 on the y-axis.\n",
    "    - Change the x-axis values from scientific to plain, and rotate them 45 degrees.\n",
    "    - Make the dot colors red with an transparency of 50%.\n",
    "    - Label your x and y-axis 'Total housing units' and 'Total vacant units'. \n",
    "    \n",
    "9. In the same cell, repeat the plot but for the year 2010. Change the title accordingly, and change the dot color to blue."
   ]
  },
  {
   "cell_type": "markdown",
   "id": "79997a37-abe0-4929-9002-67839a166c56",
   "metadata": {},
   "source": [
    "10. Create a custom function named `custom_mv_line_plot` that re-creates the plot from question seven. The function should make the same plot as question seven, with the same parameters but the user can provide different states and starting years. The function should have three arguments:\n",
    "    - An argument for the `housing` data, named `data`\n",
    "    - An argument for the list of states the user can provide to the function, named `states`\n",
    "    - An argument for the year that the user wishes to start tracking median home values, names `starting`\n",
    "\n",
    "    The function should subset `data` by the `states` and `starting` year. _Hint:_ look for a lesson on joining strings in a previous chapter if you get stuck on what to place in `.str.contains()`\n",
    "\n",
    "    Do not annotate the plot for the year when no data was collected. In the end, you should call `custom_mv_line_plot` twice with the following two sets of arguments:\n",
    "    - `custom_mv_line_plot(data=housing, states=['California', 'Arizona', 'Washington'], starting=2014)`\n",
    "    - `custom_mv_line_plot(data=housing, states=['Wyoming', 'Hawaii', 'Florida', 'Vermont', 'Idaho'], starting=2010)`"
   ]
  },
  {
   "cell_type": "markdown",
   "id": "0b1f7eca-3dd7-4e6f-879b-1b3a36fb4e1f",
   "metadata": {},
   "source": [
    "## Interpretation Questions\n",
    "\n",
    "11. In question four, the plot show values for `BUILT_1939` far exceeding any other decade. In your own words explain why that is. "
   ]
  },
  {
   "cell_type": "markdown",
   "id": "7b272257-f1bf-4330-a8c2-3163de0e7f7e",
   "metadata": {},
   "source": [
    "12. Explain why the dots in the scatterplots from question 9 cluster so densely towards the left, and why there are so few observations in the right side of the chart? What does this mean, regarding the density of observations, the number of housing units, and what each dot actually represents?"
   ]
  },
  {
   "cell_type": "markdown",
   "id": "b17f597d-5a99-4d3b-87ca-5b3d8e330381",
   "metadata": {},
   "source": [
    "13. It appears that there is a close relationship between total housing units and vacant units, such that the cluster of observations is in a relatively dense diagonal line pointing up and to the right. How do you interpret this relationship, in your own words? Is there an obvious explanation?"
   ]
  },
  {
   "cell_type": "markdown",
   "id": "03d52902-8572-4bd7-9edc-268a2190d7b1",
   "metadata": {},
   "source": [
    "## Debugging\n",
    "\n",
    "14. The code below has bugs in the code that keep it from rendering a box plot. Make a new code cell and fix the code so the plot displays correctly."
   ]
  },
  {
   "cell_type": "code",
   "execution_count": null,
   "id": "9885faa2-0909-4aa7-9ed0-0f022df9f801",
   "metadata": {},
   "outputs": [],
   "source": [
    "housing[housing['STATE'].str.contains('Puerto Rico|Ohio|North Dakota|Arkansas|South Dakota')].plot(kind='box', column='tot_units', by='state')"
   ]
  },
  {
   "cell_type": "markdown",
   "id": "52fb574c-95e0-43b9-b992-3b87a3f5993a",
   "metadata": {},
   "source": [
    "15. The code below should display a scatterplot of median home values by median rent for the year 2022. There are several bugs in the code that you must fix in a new code cell. "
   ]
  },
  {
   "cell_type": "code",
   "execution_count": null,
   "id": "4110bb81-946d-4cdc-b82b-37c26a9e284d",
   "metadata": {},
   "outputs": [],
   "source": [
    "housing[housing['YEAR']=2022].plot(kind='scater', x='MED_VALUE', y='MED_RENT', color='red', alpha=0.0, rot=45)\n",
    "plt.title('Median Housing Value by Median Rent - 2022')\n",
    "plt.ticklabel_format(style='plain', axis='x')\n",
    "plt.xlabel('Median House Value')\n",
    "plt.ylabel('Median Rent');"
   ]
  }
 ],
 "metadata": {
  "kernelspec": {
   "display_name": "Python 3 (ipykernel)",
   "language": "python",
   "name": "python3"
  },
  "language_info": {
   "codemirror_mode": {
    "name": "ipython",
    "version": 3
   },
   "file_extension": ".py",
   "mimetype": "text/x-python",
   "name": "python",
   "nbconvert_exporter": "python",
   "pygments_lexer": "ipython3",
   "version": "3.12.4"
  }
 },
 "nbformat": 4,
 "nbformat_minor": 5
}
