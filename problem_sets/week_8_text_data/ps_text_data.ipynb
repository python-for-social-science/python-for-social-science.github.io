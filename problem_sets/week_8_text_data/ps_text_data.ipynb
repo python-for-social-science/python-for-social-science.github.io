{
 "cells": [
  {
   "cell_type": "markdown",
   "id": "ed777768-2f7e-4868-865e-6fbe223db792",
   "metadata": {},
   "source": [
    "# Text Data Problem Set\n",
    "\n",
    "<span style=\"color:red\">0 / 0 points</span>."
   ]
  },
  {
   "cell_type": "code",
   "execution_count": 1,
   "id": "c08d4758-5312-487f-b24f-bcb30bab119f",
   "metadata": {},
   "outputs": [],
   "source": [
    "# This code cell will be in every one of our chapters in Jupyter Notebook\n",
    "# The function allows you to see every line of output when the code has multiple lines\n",
    "from IPython.core.interactiveshell import InteractiveShell\n",
    "InteractiveShell.ast_node_interactivity = 'all'\n",
    "\n",
    "# Load packages\n",
    "import pandas as pd\n",
    "import matplotlib.pyplot as plt"
   ]
  },
  {
   "cell_type": "markdown",
   "id": "db3f515c-3907-41d5-acaf-a3dafcec0f8a",
   "metadata": {},
   "source": [
    "## Programming\n",
    "\n",
    "1. Read in the housing.csv file from `problem_sets/control_structures/` and name it `housing`. If you remember, the `CITY` variables all have the word 'city' attached to the end of the actual city name, i.e.: 'Miami city, Boise City city, Santa Fe city' etc.\n",
    "    - Use regex and string functions to extract the clean city name from `CITY` and update the values of the `CITY` variable.\n",
    "    - Use [regex101](https://regex101.com) and Dave Child's [regex cheat sheet](https://cheatography.com/davechild/cheat-sheets/regular-expressions/) for reference."
   ]
  },
  {
   "cell_type": "markdown",
   "id": "1de8750e-0e58-4a92-a8b0-865e3b912499",
   "metadata": {},
   "source": [
    "2. Show the fruits of your labor: Re-create the plot 'Vacant Properties - Top Ten Cities in California' from the Data Visualization chapter. The city names should no longer have the string 'city' at the end. (You will need to subset housing to observations where `STATE` = California and `YEAR` = 2022)"
   ]
  },
  {
   "cell_type": "markdown",
   "id": "b740d7e3-b40f-4563-9980-747845a349d5",
   "metadata": {},
   "source": [
    "3. Read in the Central America CSV file inside of the `DATA/ACLED/` folder and name the new dataframe `central_america`. Imagine you wish to find conflicts between government forces and organized crime. You do not want conflicts between gangs or against civilians. Using string functions, search for events that involved either a 'cartel' _or_ a 'gang', __and__ military forces (_either_ army, navy, air force, armed forces, or police).\n",
    "\n",
    "4. With the subset of the data you created using the above search conditions from question 3, display what unique values of `event_type` were most common when gangs and armed forces were involved. "
   ]
  },
  {
   "cell_type": "markdown",
   "id": "abf2566a-5a21-49bf-be3c-0ffac314a4df",
   "metadata": {},
   "source": [
    "5. Create an object called `date` and assign it this exact string value: `99 31 dec`"
   ]
  },
  {
   "cell_type": "markdown",
   "id": "6672fc0b-2f47-4267-bde0-d4fbaf8b3730",
   "metadata": {},
   "source": [
    "6. Transform the `date` string into a datetime object, with assignment. You can refer to this [manual](https://4js.com/online_documentation/fjs-fgl-3.00.05-manual-html/c_fgl_DataConversions_format_datetimes.html) to parse the string's format into datetime."
   ]
  },
  {
   "cell_type": "markdown",
   "id": "e69bad38-b4b2-4a02-9c3a-64c0cc2bb267",
   "metadata": {},
   "source": [
    "7. Turn the `date` object into a new string with the format `Friday. December 31, 1999`, _without_ assignment."
   ]
  },
  {
   "cell_type": "markdown",
   "id": "db2e45d0-4312-4506-b22c-548a320ed228",
   "metadata": {},
   "source": [
    "8. Turn the `date` object into another new string with the format `12-31-99`, _without_ assignment."
   ]
  },
  {
   "cell_type": "markdown",
   "id": "a2d3abc7-796c-48f0-a410-fd316f164eb4",
   "metadata": {},
   "source": [
    "9. From the `central_america` dataframe, display every unique value of the `actor1` variable."
   ]
  },
  {
   "cell_type": "markdown",
   "id": "106fabdb-2a49-407a-b40e-ef713d7545ba",
   "metadata": {},
   "source": [
    "10. The variable for the main actor, `actor1`, sometimes includes text in parentheses, sometimes not. Extract the clean string value without the parenthetical text using regular expressions to a new `clean_actors` object.\n",
    "    - You should use a list comprehension with an if-else condition to check for parentheticals. If there is text within parentheses, extract the name of the actor. Otherwise, use the value of `actor1` as-is.\n",
    "    - The `i` iteration object should be every `i in central_america['actor1']` instead of a range of numbers, because it makes the list comprehension _much_ faster.\n",
    "    - The `i` iteration object needs to be a `pd.Series()` object for `.str` functions to work, so wrap it in the `pd.Series()` command. Series get assigned an index number and that number appears in your new list, so use a simple `[0]` subset after each `pd.Series()` object to extract a value without an index number.\n",
    "    - Assign `clean_actors` to a new variable in `central_america` with the same name. Check your work by displaying the first ten observations of `central_america`.\n",
    "    - Like question nine, display every unique value of `central_america['clean_actors']`."
   ]
  },
  {
   "cell_type": "markdown",
   "id": "9b61d7b3-38bb-42de-bbd1-2541314a15ef",
   "metadata": {},
   "source": [
    "\n",
    "\n",
    "11. You will make a new variable in the `central_america` datafrime that is a sentence in natural English. This sentence will be a concatenation of the string values in several different columns in the data plus your own words. The sentence should read like this:\n",
    "\n",
    "    `On [date], [an/the/... actors was/were] involved in [conflict event] in the [region] region of [country].`\n",
    "\n",
    "    Your first step is to make a new variable that places 'an/the/...' and 'was/were' before and after the actor, based on the values of the strings inside `clean_actors`. There are three conditions:\n",
    "    1. First make a variable named `actors` that concatenates the string `the ` plus any value of `clean_actor` plus ` were`. The new variable should 'the [Organization X] were'. Do not worry if there are some grammar mistakes. The next steps will replace those.\n",
    "    2. Using conditional replacement, replace any values in `actors` if the string in `clean_actor` ends with an `s` (use regex). Turn the entire new string to lowercase. Also add the string ` were` to the end so that it reads 'actors were'.\n",
    "    3. Using conditional replacement, replace any values in `actors` when the string in `clean_actor` starts with the string `Unidentified` (regex or a literal search both work). Turn this entire new string to lowercase as well. Add strings `an ` plus the lowercase value of `clean_actor` plus the string ` was` so that it reads 'an unidentified actor was'.\n",
    "\n",
    "    Display the first seven observations of `central_america[['actor1', 'clean_actors', 'actors']]`"
   ]
  },
  {
   "cell_type": "markdown",
   "id": "5c856b5e-7fa5-4441-9f8f-820e5e434720",
   "metadata": {},
   "source": [
    "12. Make the entire concatenated sentence we mentioned in question 11 in a new variable named `sentence`. The variable for conflict event is capitalized, but your sentence should make it lowercase. Change the cell display width to 300 (`pd.options.display.max_colwidth = 300`), in order to display `sentence` and `notes` side by side as a two-column table. "
   ]
  },
  {
   "cell_type": "markdown",
   "id": "eb13032b-50fd-40c0-b47d-67a7ef4b0c98",
   "metadata": {},
   "source": [
    "13. Create a custom function named `no_parentheses` which takes a single dataframe column as an argument. Name that argument `column`. The function should use your list comprehension loop from question 10 to strip the final parenthetical from a column of strings and return a clean list of strings that you can re-assign to a dataframe. In the answer,  display the first twenty observations of `central_america['source']`.  Then use the `no_parentheses` function to assign a new variable called `clean_source` in the `central_america` dataframe. Display the first 20 observations of this new column."
   ]
  },
  {
   "cell_type": "code",
   "execution_count": null,
   "id": "7f2cbb11-227c-48b2-bbcc-6d46a5424e0e",
   "metadata": {},
   "outputs": [],
   "source": [
    "clean_actors = [pd.Series(i).str.extract(r'(.+)\\s\\(.+\\)', expand=False)[0] if pd.Series(i).str.contains(r'\\(.+\\)')[0]\n",
    " else pd.Series(i)[0] for i in central_america['actor1']]\n",
    "central_america['clean_actors'] = clean_actors"
   ]
  },
  {
   "cell_type": "markdown",
   "id": "6a51ae08-6f4f-419b-baed-ab1b27b1a75f",
   "metadata": {},
   "source": [
    "## Interpretation Questions\n",
    "\n",
    "14. What other variables in the ACLED data can be cleaned with your custom `no_parentheses` function?"
   ]
  },
  {
   "cell_type": "markdown",
   "id": "1ecba53f-6854-4832-a2ed-0ed51b9f111f",
   "metadata": {
    "jp-MarkdownHeadingCollapsed": true
   },
   "source": [
    "15. Considering __all__ of the variables available in the ACLED data, could a programmer recreate the descriptions in the `notes` variable using only automated text processing? Give two examples why this would or would not be achievable. "
   ]
  },
  {
   "cell_type": "markdown",
   "id": "db8d8a23-9356-4f9e-906d-011a6d492c11",
   "metadata": {},
   "source": [
    "## Debugging\n",
    "\n",
    "16. The string matching code below is meant to display all 133 observations where the `notes` variable contains both terms 'protest' and 'pension'. In a new cell, fix the code syntax so that you get all matching rows of `notes`. "
   ]
  },
  {
   "cell_type": "code",
   "execution_count": 22,
   "id": "e14ac093-44f1-4669-a727-5925ce31d3c5",
   "metadata": {},
   "outputs": [
    {
     "ename": "TypeError",
     "evalue": "unsupported operand type(s) for &: 'str' and 'str'",
     "output_type": "error",
     "traceback": [
      "\u001b[0;31m---------------------------------------------------------------------------\u001b[0m",
      "\u001b[0;31mTypeError\u001b[0m                                 Traceback (most recent call last)",
      "Cell \u001b[0;32mIn[22], line 1\u001b[0m\n\u001b[0;32m----> 1\u001b[0m central_america[central_america[\u001b[38;5;124m'\u001b[39m\u001b[38;5;124mnotes\u001b[39m\u001b[38;5;124m'\u001b[39m]\u001b[38;5;241m.\u001b[39mstr\u001b[38;5;241m.\u001b[39mcontains(\u001b[38;5;124m'\u001b[39m\u001b[38;5;124mprotest\u001b[39m\u001b[38;5;124m'\u001b[39m \u001b[38;5;241m&\u001b[39m \u001b[38;5;124m'\u001b[39m\u001b[38;5;124mpension\u001b[39m\u001b[38;5;124m'\u001b[39m)][\u001b[38;5;124m'\u001b[39m\u001b[38;5;124mnotes\u001b[39m\u001b[38;5;124m'\u001b[39m]\n",
      "\u001b[0;31mTypeError\u001b[0m: unsupported operand type(s) for &: 'str' and 'str'"
     ]
    }
   ],
   "source": [
    "central_america[central_america['notes'].str.contains('protest' & 'pension')]['notes']"
   ]
  },
  {
   "cell_type": "markdown",
   "id": "9cd88953-79b4-4ff7-81d9-eb09d0fe7d32",
   "metadata": {},
   "source": [
    "15. The `to_datetime` function is having trouble parsing the date string '1987 01 12' (that is December 1, 1987). Correct the datetime formatting in a new code cell so that the string correctly transforms to a datetime object for this date. "
   ]
  },
  {
   "cell_type": "code",
   "execution_count": 17,
   "id": "ec4b092d-8ad9-4ab6-884c-8f2b5e43e63a",
   "metadata": {},
   "outputs": [
    {
     "ename": "ValueError",
     "evalue": "time data \"1987 01 12\" doesn't match format \"%y, %d %b\", at position 0. You might want to try:\n    - passing `format` if your strings have a consistent format;\n    - passing `format='ISO8601'` if your strings are all ISO8601 but not necessarily in exactly the same format;\n    - passing `format='mixed'`, and the format will be inferred for each element individually. You might want to use `dayfirst` alongside this.",
     "output_type": "error",
     "traceback": [
      "\u001b[0;31m---------------------------------------------------------------------------\u001b[0m",
      "\u001b[0;31mValueError\u001b[0m                                Traceback (most recent call last)",
      "Cell \u001b[0;32mIn[17], line 1\u001b[0m\n\u001b[0;32m----> 1\u001b[0m pd\u001b[38;5;241m.\u001b[39mto_datetime(\u001b[38;5;124m'\u001b[39m\u001b[38;5;124m1987 01 12\u001b[39m\u001b[38;5;124m'\u001b[39m, \u001b[38;5;28mformat\u001b[39m\u001b[38;5;241m=\u001b[39m\u001b[38;5;124m'\u001b[39m\u001b[38;5;124m%\u001b[39m\u001b[38;5;124my, \u001b[39m\u001b[38;5;132;01m%d\u001b[39;00m\u001b[38;5;124m \u001b[39m\u001b[38;5;124m%\u001b[39m\u001b[38;5;124mb\u001b[39m\u001b[38;5;124m'\u001b[39m)\n",
      "File \u001b[0;32m~/.local/lib/python3.11/site-packages/pandas/core/tools/datetimes.py:1146\u001b[0m, in \u001b[0;36mto_datetime\u001b[0;34m(arg, errors, dayfirst, yearfirst, utc, format, exact, unit, infer_datetime_format, origin, cache)\u001b[0m\n\u001b[1;32m   1144\u001b[0m         result \u001b[38;5;241m=\u001b[39m convert_listlike(argc, \u001b[38;5;28mformat\u001b[39m)\n\u001b[1;32m   1145\u001b[0m \u001b[38;5;28;01melse\u001b[39;00m:\n\u001b[0;32m-> 1146\u001b[0m     result \u001b[38;5;241m=\u001b[39m convert_listlike(np\u001b[38;5;241m.\u001b[39marray([arg]), \u001b[38;5;28mformat\u001b[39m)[\u001b[38;5;241m0\u001b[39m]\n\u001b[1;32m   1147\u001b[0m     \u001b[38;5;28;01mif\u001b[39;00m \u001b[38;5;28misinstance\u001b[39m(arg, \u001b[38;5;28mbool\u001b[39m) \u001b[38;5;129;01mand\u001b[39;00m \u001b[38;5;28misinstance\u001b[39m(result, np\u001b[38;5;241m.\u001b[39mbool_):\n\u001b[1;32m   1148\u001b[0m         result \u001b[38;5;241m=\u001b[39m \u001b[38;5;28mbool\u001b[39m(result)  \u001b[38;5;66;03m# TODO: avoid this kludge.\u001b[39;00m\n",
      "File \u001b[0;32m~/.local/lib/python3.11/site-packages/pandas/core/tools/datetimes.py:488\u001b[0m, in \u001b[0;36m_convert_listlike_datetimes\u001b[0;34m(arg, format, name, utc, unit, errors, dayfirst, yearfirst, exact)\u001b[0m\n\u001b[1;32m    486\u001b[0m \u001b[38;5;66;03m# `format` could be inferred, or user didn't ask for mixed-format parsing.\u001b[39;00m\n\u001b[1;32m    487\u001b[0m \u001b[38;5;28;01mif\u001b[39;00m \u001b[38;5;28mformat\u001b[39m \u001b[38;5;129;01mis\u001b[39;00m \u001b[38;5;129;01mnot\u001b[39;00m \u001b[38;5;28;01mNone\u001b[39;00m \u001b[38;5;129;01mand\u001b[39;00m \u001b[38;5;28mformat\u001b[39m \u001b[38;5;241m!=\u001b[39m \u001b[38;5;124m\"\u001b[39m\u001b[38;5;124mmixed\u001b[39m\u001b[38;5;124m\"\u001b[39m:\n\u001b[0;32m--> 488\u001b[0m     \u001b[38;5;28;01mreturn\u001b[39;00m _array_strptime_with_fallback(arg, name, utc, \u001b[38;5;28mformat\u001b[39m, exact, errors)\n\u001b[1;32m    490\u001b[0m result, tz_parsed \u001b[38;5;241m=\u001b[39m objects_to_datetime64ns(\n\u001b[1;32m    491\u001b[0m     arg,\n\u001b[1;32m    492\u001b[0m     dayfirst\u001b[38;5;241m=\u001b[39mdayfirst,\n\u001b[0;32m   (...)\u001b[0m\n\u001b[1;32m    496\u001b[0m     allow_object\u001b[38;5;241m=\u001b[39m\u001b[38;5;28;01mTrue\u001b[39;00m,\n\u001b[1;32m    497\u001b[0m )\n\u001b[1;32m    499\u001b[0m \u001b[38;5;28;01mif\u001b[39;00m tz_parsed \u001b[38;5;129;01mis\u001b[39;00m \u001b[38;5;129;01mnot\u001b[39;00m \u001b[38;5;28;01mNone\u001b[39;00m:\n\u001b[1;32m    500\u001b[0m     \u001b[38;5;66;03m# We can take a shortcut since the datetime64 numpy array\u001b[39;00m\n\u001b[1;32m    501\u001b[0m     \u001b[38;5;66;03m# is in UTC\u001b[39;00m\n",
      "File \u001b[0;32m~/.local/lib/python3.11/site-packages/pandas/core/tools/datetimes.py:519\u001b[0m, in \u001b[0;36m_array_strptime_with_fallback\u001b[0;34m(arg, name, utc, fmt, exact, errors)\u001b[0m\n\u001b[1;32m    508\u001b[0m \u001b[38;5;28;01mdef\u001b[39;00m \u001b[38;5;21m_array_strptime_with_fallback\u001b[39m(\n\u001b[1;32m    509\u001b[0m     arg,\n\u001b[1;32m    510\u001b[0m     name,\n\u001b[0;32m   (...)\u001b[0m\n\u001b[1;32m    514\u001b[0m     errors: \u001b[38;5;28mstr\u001b[39m,\n\u001b[1;32m    515\u001b[0m ) \u001b[38;5;241m-\u001b[39m\u001b[38;5;241m>\u001b[39m Index:\n\u001b[1;32m    516\u001b[0m \u001b[38;5;250m    \u001b[39m\u001b[38;5;124;03m\"\"\"\u001b[39;00m\n\u001b[1;32m    517\u001b[0m \u001b[38;5;124;03m    Call array_strptime, with fallback behavior depending on 'errors'.\u001b[39;00m\n\u001b[1;32m    518\u001b[0m \u001b[38;5;124;03m    \"\"\"\u001b[39;00m\n\u001b[0;32m--> 519\u001b[0m     result, timezones \u001b[38;5;241m=\u001b[39m array_strptime(arg, fmt, exact\u001b[38;5;241m=\u001b[39mexact, errors\u001b[38;5;241m=\u001b[39merrors, utc\u001b[38;5;241m=\u001b[39mutc)\n\u001b[1;32m    520\u001b[0m     \u001b[38;5;28;01mif\u001b[39;00m \u001b[38;5;28many\u001b[39m(tz \u001b[38;5;129;01mis\u001b[39;00m \u001b[38;5;129;01mnot\u001b[39;00m \u001b[38;5;28;01mNone\u001b[39;00m \u001b[38;5;28;01mfor\u001b[39;00m tz \u001b[38;5;129;01min\u001b[39;00m timezones):\n\u001b[1;32m    521\u001b[0m         \u001b[38;5;28;01mreturn\u001b[39;00m _return_parsed_timezone_results(result, timezones, utc, name)\n",
      "File \u001b[0;32mstrptime.pyx:534\u001b[0m, in \u001b[0;36mpandas._libs.tslibs.strptime.array_strptime\u001b[0;34m()\u001b[0m\n",
      "File \u001b[0;32mstrptime.pyx:355\u001b[0m, in \u001b[0;36mpandas._libs.tslibs.strptime.array_strptime\u001b[0;34m()\u001b[0m\n",
      "\u001b[0;31mValueError\u001b[0m: time data \"1987 01 12\" doesn't match format \"%y, %d %b\", at position 0. You might want to try:\n    - passing `format` if your strings have a consistent format;\n    - passing `format='ISO8601'` if your strings are all ISO8601 but not necessarily in exactly the same format;\n    - passing `format='mixed'`, and the format will be inferred for each element individually. You might want to use `dayfirst` alongside this."
     ]
    }
   ],
   "source": [
    "pd.to_datetime('1987 01 12', format='%y, %d %b')"
   ]
  },
  {
   "cell_type": "markdown",
   "id": "c24dd00a-fda2-4bf7-96f6-eec36338aa9a",
   "metadata": {},
   "source": [
    "16. In the line of code below, we are trying to make a string that simply reads `Unidentified Armed Group in Central America`, but the `str.extract` output in `ex1` has a zero and some additional 'meta' information about the extracted value. In a new cell fix the code so that `print()` correctly displays the string we want. Do not change anything about the `print()` line"
   ]
  },
  {
   "cell_type": "code",
   "execution_count": 18,
   "id": "f363666c-f0f7-4b5d-a063-64e0ab5b16ca",
   "metadata": {},
   "outputs": [
    {
     "name": "stdout",
     "output_type": "stream",
     "text": [
      "0    Unidentified Armed Group in Central America\n",
      "Name: actor1, dtype: object\n"
     ]
    }
   ],
   "source": [
    "ex1 = central_america['actor1'].str.extract(r'(.+)\\s\\(.+\\)', expand=False)[[0]]\n",
    "\n",
    "print(ex1 + ' in Central America')"
   ]
  }
 ],
 "metadata": {
  "kernelspec": {
   "display_name": "Python 3 (ipykernel)",
   "language": "python",
   "name": "python3"
  },
  "language_info": {
   "codemirror_mode": {
    "name": "ipython",
    "version": 3
   },
   "file_extension": ".py",
   "mimetype": "text/x-python",
   "name": "python",
   "nbconvert_exporter": "python",
   "pygments_lexer": "ipython3",
   "version": "3.12.4"
  }
 },
 "nbformat": 4,
 "nbformat_minor": 5
}
