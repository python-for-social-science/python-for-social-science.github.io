{
 "cells": [
  {
   "cell_type": "markdown",
   "id": "ba2a54a6-1adb-4eca-9242-f0ebbfea1abd",
   "metadata": {},
   "source": [
    "# Geospatial Analysis Problem Set\n",
    "\n",
    "<span style=\"color:red\">0 / 0 points</span>.\n",
    "\n",
    "In this problem set, you will continue to work with geospatial California data. After every step in the problem set, create a new cell, code or Markdown as appropriate, for the answer. "
   ]
  },
  {
   "cell_type": "markdown",
   "id": "e047c5c6-fda4-4ee1-aa33-4174be78b05e",
   "metadata": {},
   "source": [
    "# Programming\n",
    "1. Make a map of California where each county is colored by its land area; this value is in a shapefile used in the Geospatial chapter.  Remove the x and y axis, do not display a legend, and save the file as 'CA_county_area.jpg' with a resolution of 450 dots per inch.  "
   ]
  },
  {
   "cell_type": "code",
   "execution_count": null,
   "id": "398ede55-d923-41ab-8015-e81a50493b6a",
   "metadata": {},
   "outputs": [],
   "source": [
    "# import the necessary packages\n",
    "import geopandas as gpd\n",
    "import matplotlib.pyplot as plt # Necessary for saving\n",
    "\n",
    "# The shapefile\n",
    "ca_counties = gpd.read_file('../../Data/California/shapefiles/CA_Counties/CA_Counties_TIGER2016.shp')\n",
    "\n",
    "# Finding the column name for land area\n",
    "ca_counties.head()\n",
    "\n",
    "# The plot\n",
    "ca_counties.plot(column='ALAND').set_axis_off()\n",
    "plt.savefig('CA_county_area.jpg', dpi=450, format='jpg')"
   ]
  },
  {
   "cell_type": "markdown",
   "id": "447e6db8-b17a-488c-83ea-bb10424ae99b",
   "metadata": {},
   "source": [
    "2. Make the same map but add a legend with the label 'Land area'.  Save it using the same name as in step 1."
   ]
  },
  {
   "cell_type": "code",
   "execution_count": null,
   "id": "e9751c23-d7f8-49c7-b03d-c0ac83acd4bc",
   "metadata": {},
   "outputs": [],
   "source": [
    "ca_counties.plot(column='ALAND', legend=True, legend_kwds={'label': 'Land area'}).set_axis_off()\n",
    "plt.savefig('CA_county_area.jpg', dpi=450, format='jpg')"
   ]
  },
  {
   "cell_type": "markdown",
   "id": "3ba518e0-37f0-4fb5-86aa-dee4ab585d3a",
   "metadata": {},
   "source": [
    "3. Make a new variable that is the percent of each county whose area is water; call it `water_perc`.  What is the mean percent of countries that is water?  Provide the answer using a print statement."
   ]
  },
  {
   "cell_type": "code",
   "execution_count": null,
   "id": "a3558d30-820b-47f8-85a0-80708550494a",
   "metadata": {},
   "outputs": [],
   "source": [
    "ca_counties['water_perc'] = ca_counties['AWATER']/(ca_counties['AWATER'] + ca_counties['ALAND'])\n",
    "\n",
    "ca_counties['water_perc'].describe()  # Inspecting to confirm it works\n",
    "\n",
    "mean = ca_counties['water_perc'].describe()[1]\n",
    "\n",
    "print('The mean percent of area in California counties that is water is ' + str(mean*100) + '.')"
   ]
  },
  {
   "cell_type": "markdown",
   "id": "18f7b8cf-189a-4ff0-8665-95543f3844e0",
   "metadata": {},
   "source": [
    "4. Make a map of California where each county is colored by this new variable.  Display a legend but do not display x and y axes or save."
   ]
  },
  {
   "cell_type": "code",
   "execution_count": null,
   "id": "d3ee07ce-3907-40dd-a7cb-48fde6aca5ac",
   "metadata": {},
   "outputs": [],
   "source": [
    "ca_counties.plot(column='water_perc', legend=True, legend_kwds={'label': 'Percent Area as Water'}).set_axis_off()"
   ]
  },
  {
   "cell_type": "markdown",
   "id": "3a8df66f-5355-43d3-ba2b-cfaed097153d",
   "metadata": {},
   "source": [
    "5. Make a map of California where each county is colored by the number of transit stops.  Display a legend and give it a title.  Do not display the axes.  Save the map as 'CA_transitStops_byCounty.jpg' with a 300 dots per inch resolution."
   ]
  },
  {
   "cell_type": "code",
   "execution_count": null,
   "id": "b6675881-75ef-4570-9e43-73f82754126f",
   "metadata": {},
   "outputs": [],
   "source": [
    "# Load, inspect data\n",
    "transit = gpd.read_file('../../Data/California/transit/CA_Transit_Stops.csv')\n",
    "\n",
    "# Make the geometry column, assuming X is longitude and Y is latitude\n",
    "transit['geometry'] = gpd.points_from_xy(transit['X'], transit['Y'])\n",
    "\n",
    "# Assume the projection system is EPSG 3857, planar. \n",
    "# planar means meters from the Prime Meridian and equator respectively.\n",
    "transit.crs = 'epsg:3857'\n",
    "\n",
    "# Convert to degrees, the longitude and latitude that is most common.\n",
    "transit = transit.to_crs('epsg:4326')\n",
    "\n",
    "# Make CA counties data the same coordinate system\n",
    "ca_counties4326 = ca_counties.to_crs('epsg:4326')\n",
    "\n",
    "# Make a new column of the county geometry.  The spatial join only keeps the left dataframe's geometry.\n",
    "ca_counties4326['geometry_later'] = ca_counties4326['geometry']  \n",
    "\n",
    "# Map stops to county with a spatial join\n",
    "transit2 = transit.sjoin(ca_counties4326, how='left', predicate='within')\n",
    "\n",
    "# The below lines are to figure out which column name to use for aggregation, they are not necessary for a correct answer.\n",
    "import pandas as pd\n",
    "pd.options.display.max_columns = None\n",
    "\n",
    "transit2.head()  # Will use COUNTYFP\n",
    "\n",
    "# Make dataframe to plot\n",
    "# You can count using any column.  'first' takes the first item per COUNTYFP, giving county name.\n",
    "transit2_agg = transit2.dissolve(by='COUNTYFP', aggfunc={'stop_id':'count', 'NAMELSAD':'first', 'geometry_later':'first'}, as_index=False)\n",
    "transit2_agg['geometry'] = transit2_agg['geometry_later']\n",
    "\n",
    "# Plot\n",
    "transit2_agg.plot(column='stop_id', legend=True, legend_kwds={'label': 'Transit Stops'}).set_axis_off()\n",
    "plt.savefig('CA_transitStops_byCounty.jpg', dpi=300, format='jpg')"
   ]
  },
  {
   "cell_type": "markdown",
   "id": "882ad66c-9ed5-436d-a444-9ff96dd7c987",
   "metadata": {},
   "source": [
    "6. Use the California overcrowding data to make a map of the percent of households overcrowded by county from 2011-2015 regardless of race.  Display a legend and give it a title.  Do not display the axes.  "
   ]
  },
  {
   "cell_type": "code",
   "execution_count": 106,
   "id": "9dc66322-5c7e-465f-a344-efd2962029d8",
   "metadata": {},
   "outputs": [],
   "source": [
    "crowding = gpd.read_file('../../Data/California/housingCrowding/hci_housing_crowding.csv')\n",
    "\n",
    "crowding = crowding[crowding['geotype']=='CO']  # For county\n",
    "crowding = crowding[crowding['reportyear']=='2011-2015'] \n",
    "crowding = crowding[crowding['race_eth_code']=='9']  # 9 is Total, all races.  In the dataset it is a string variable.\n",
    "# crowding = crowding[crowding['race_eth_name']=='Total'] # This line also selects for all races\n",
    "\n",
    "## Merge in geometry for plotting\n",
    "# Load the shapefile\n",
    "counties = gpd.read_file('../../Data/California/shapefiles/CA_Counties/CA_Counties_TIGER2016.shp')\n",
    "\n",
    "# Merge\n",
    "crowding_shp = crowding.merge(counties, left_on='geoname', right_on='NAME')\n",
    "\n",
    "crowding_shp['numerator'] = pd.to_numeric(crowding_shp['numerator'])\n",
    "crowding_shp['denominator'] = pd.to_numeric(crowding_shp['denominator'])\n",
    "\n",
    "crowding_shp['perc_overcrowded'] = crowding_shp['numerator']/crowding_shp['denominator']\n",
    "\n",
    "# Get correct geometry name\n",
    "crowding_shp['geometry'] = crowding_shp['geometry_y']\n",
    "crowding_shp = crowding_shp.set_geometry('geometry') # If you do not set a geometry, it will not work.  Notice the original dataframe is not a geodataframe.\n",
    "\n",
    "crowding_shp.plot(column='perc_overcrowded', legend=True, legend_kwds={'label': 'Percent Households Overcrowded'}).set_axis_off()\n",
    "              \n"
   ]
  },
  {
   "cell_type": "markdown",
   "id": "4c3d4aef-2e13-4865-baab-dd170c02860e",
   "metadata": {},
   "source": [
    "7. Make a map of California cities in Imperial, Kern, Los Angeles, Orange, Riverside, San Bernardino, San Diego, San Luis Obispo, Santa Barbara, and Ventura counties that shows the number of transit stops per city.  This problem is quite long, so here are some hints:\n",
    "\n",
    "- You need three datasets.\n",
    "- You should get an error about 'index_right' and 'index_left'.  When that error comes, drop the problematic column(s).\n",
    "- Before plotting you will need to aggregate stops to the city.  This process will take a very long time, so to save time use `pandas` to take a random subset of 5000 rows chosen with the random_state seed of 1039.  "
   ]
  },
  {
   "cell_type": "code",
   "execution_count": 5,
   "id": "ec3adb3f-3408-4c57-b935-f03de88d6328",
   "metadata": {},
   "outputs": [],
   "source": [
    "# You do not need to load the data again but I like to for clarity's sake.\n",
    "transit = gpd.read_file('../../Data/California/transit/CA_Transit_Stops.csv')\n",
    "ca_places = gpd.read_file('../../Data/California/shapefiles/ca-places-boundaries/CA_Places_TIGER2016.shp')\n",
    "ca_counties = gpd.read_file('../../Data/California/shapefiles/CA_Counties/CA_Counties_TIGER2016.shp')\n",
    "\n",
    "# Keep only the required countries\n",
    "these = ['Imperial', 'Kern', 'Los Angeles', 'Orange', 'Riverside', 'San Bernardino', 'San Diego', 'San Luis Obispo', 'Santa Barbara', 'Ventura']\n",
    "ca_counties = ca_counties[ca_counties['NAME'].isin(these)]\n",
    "\n",
    "# Make the geometry column, assuming X is longitude and Y is latitude\n",
    "transit['geometry'] = gpd.points_from_xy(transit['X'], transit['Y'])\n",
    "\n",
    "# Coordinate systems\n",
    "transit.crs = 'epsg:3857'\n",
    "transit = transit.to_crs('epsg:4326')\n",
    "ca_counties = ca_counties.to_crs('epsg:4326')\n",
    "\n",
    "# Merge, inner keeps only those in the counties\n",
    "transit = transit.sjoin(ca_counties, how='inner', predicate='within')\n",
    "\n",
    "## Prepare cities data\n",
    "# Subset to only cities\n",
    "ca_cities = ca_places[ca_places['NAMELSAD'].str.contains('city')]\n",
    "ca_cities = ca_cities.to_crs('epsg:4326')\n",
    "ca_cities['geometry_later'] = ca_cities['geometry']\n",
    "\n",
    "# Merge\n",
    "transit = transit.drop(columns=['index_right'])  # Needed to prevent an error\n",
    "transit2 = transit.sjoin(ca_cities, how='inner', predicate='within') # inner to keep only those cities in the \n",
    "transit2['geometry'] = transit2['geometry_later']  # Makes the geometry the city outlines\n",
    "\n",
    "# Randomly sample before aggregating.  Otherwise, aggregating will take a very long time.\n",
    "transit2 = transit2.sample(n=5000, random_state=1039)\n",
    "\n",
    "# Aggregate to city\n",
    "transit2_city = transit2.dissolve(by='NAME_right', aggfunc={'stop_id':'count', 'geometry_later':'first', 'NAMELSAD_left': 'first'}, as_index=False)\n",
    "\n",
    "# Plot\n",
    "transit2_city.plot(column='stop_id', legend=True, legend_kwds={'label': 'Number of Transit Stops'}).set_axis_off()"
   ]
  },
  {
   "cell_type": "markdown",
   "id": "d0f3729f-0e67-40a3-ad40-3e53f457d3e9",
   "metadata": {},
   "source": [
    "8. It is a bit difficult to see city variation when looking at so many counties at once.  For this problem, plot the number of transit stops only in Los Angeles County."
   ]
  },
  {
   "cell_type": "code",
   "execution_count": null,
   "id": "90accb4e-2060-45b7-aad6-7511e1157f93",
   "metadata": {},
   "outputs": [
    {
     "ename": "NameError",
     "evalue": "name 'transit2_city' is not defined",
     "output_type": "error",
     "traceback": [
      "\u001b[0;31m---------------------------------------------------------------------------\u001b[0m",
      "\u001b[0;31mNameError\u001b[0m                                 Traceback (most recent call last)",
      "Cell \u001b[0;32mIn[16], line 1\u001b[0m\n\u001b[0;32m----> 1\u001b[0m la_county \u001b[38;5;241m=\u001b[39m \u001b[43mtransit2_city\u001b[49m[transit2_city[\u001b[38;5;124m'\u001b[39m\u001b[38;5;124mNAMELSAD_left\u001b[39m\u001b[38;5;124m'\u001b[39m]\u001b[38;5;241m==\u001b[39m\u001b[38;5;124m'\u001b[39m\u001b[38;5;124mSan Diego County\u001b[39m\u001b[38;5;124m'\u001b[39m]\n\u001b[1;32m      3\u001b[0m la_county\u001b[38;5;241m.\u001b[39mplot(column\u001b[38;5;241m=\u001b[39m\u001b[38;5;124m'\u001b[39m\u001b[38;5;124mstop_id\u001b[39m\u001b[38;5;124m'\u001b[39m, scheme\u001b[38;5;241m=\u001b[39m\u001b[38;5;124m'\u001b[39m\u001b[38;5;124mEqualInterval\u001b[39m\u001b[38;5;124m'\u001b[39m, k\u001b[38;5;241m=\u001b[39m\u001b[38;5;241m5\u001b[39m, legend\u001b[38;5;241m=\u001b[39m\u001b[38;5;28;01mTrue\u001b[39;00m, legend_kwds\u001b[38;5;241m=\u001b[39m{\u001b[38;5;124m'\u001b[39m\u001b[38;5;124mtitle\u001b[39m\u001b[38;5;124m'\u001b[39m: \u001b[38;5;124m'\u001b[39m\u001b[38;5;124mNumber of Transit Stops\u001b[39m\u001b[38;5;124m'\u001b[39m})\u001b[38;5;241m.\u001b[39mset_axis_off()\n",
      "\u001b[0;31mNameError\u001b[0m: name 'transit2_city' is not defined"
     ]
    }
   ],
   "source": [
    "la_county = transit2_city[transit2_city['NAMELSAD_left']=='Los Angeles County']\n",
    "\n",
    "la_county.plot(column='stop_id', legend=True, legend_kwds={'label': 'Number of Transit Stops'}).set_axis_off()"
   ]
  },
  {
   "cell_type": "markdown",
   "id": "bc66b466-0b94-40f9-aa65-bd2a3268b964",
   "metadata": {},
   "source": [
    "# Interpretation\n",
    "8. According to the map you made of transit stops, Los Angeles County has significantly more transit stops than the other counties, and most of the Southern California counties appear to have as many transit stops as the California counties situated around San Francisco Bay.  This pattern goes against conventional wisdom which says that Southern California is more car centric than the San Francisco Bay area.  What explains why the map shows a different pattern?  If the pattern should match conventional wisdom, what would you change in the plot?"
   ]
  },
  {
   "cell_type": "markdown",
   "id": "00b6b922-aa07-4656-968e-b0afa8c219ad",
   "metadata": {},
   "source": [
    "The map shows a different pattern because Southern California counties have many more people than the San Francisco Bay area ones.  Since they have more people, they should have more transit stops even if a greater proportion of people use cars in Southern California than in the San Francisco Bay counties.  To correct for the population imbalance, a more appropriate measure would be transit stops per capita, which requires a county population variable.  Once transit stops per capita is mapped, the pattern should match conventional wisdom."
   ]
  },
  {
   "cell_type": "markdown",
   "id": "db28f193-4d9b-49a8-b4b5-3de9442c55a0",
   "metadata": {},
   "source": [
    "9. According to the overcrowding map, which county is the most overcrowded?  Where are other overcrowded counties?  What part of the state contains the least overcrowding?"
   ]
  },
  {
   "cell_type": "markdown",
   "id": "65683530-a9f7-400d-9994-730fa03e46d3",
   "metadata": {},
   "source": [
    "The most overcrowded county is Monterey.  The overcrowded counties are concentrated near the major metropolitan areas.  For example, Los Angeles County appears to have the second highest rate of overcrowding.  The least crowded countries are in the Central and North East, essentially the eastern side of the Sierra Nevada mountain range."
   ]
  },
  {
   "cell_type": "markdown",
   "id": "d6749455-c21d-41cd-bfe4-61d607f51016",
   "metadata": {},
   "source": [
    "# Debugging"
   ]
  },
  {
   "cell_type": "markdown",
   "id": "2b94fcbf-cc56-429f-a1ca-f79cb2580713",
   "metadata": {},
   "source": [
    "10. Below is code that is supposed to plot the percent overcrowded by county.  It does not work.  Why?"
   ]
  },
  {
   "cell_type": "code",
   "execution_count": null,
   "id": "48485ea3-8d0e-43c4-9a5b-585031eb7cf2",
   "metadata": {},
   "outputs": [],
   "source": [
    "crowding.plot(coolumn='perc_overcrowded', legend=True, legend_kwds={'label': 'Percent Households Overcrowded'}).set_axis_off()"
   ]
  },
  {
   "cell_type": "markdown",
   "id": "dc8f7e4a-e77d-431b-981b-e24586ff8b34",
   "metadata": {},
   "source": [
    "`coolumn` is misspelled, it should be `column`."
   ]
  },
  {
   "cell_type": "markdown",
   "id": "f0d1f0e2-819f-41db-be1c-117992e5b802",
   "metadata": {},
   "source": [
    "11.  Below is code that should read in the places shapefile.  If you execute it you will find it does not.  Why?"
   ]
  },
  {
   "cell_type": "code",
   "execution_count": null,
   "id": "cbaff1b1-fb9d-4388-83ad-fb06ce8bf0e5",
   "metadata": {},
   "outputs": [],
   "source": [
    "ca_places = gpd.read_file('CA_Places_TIGER2016.shp')"
   ]
  },
  {
   "cell_type": "markdown",
   "id": "305950ab-8d0b-429e-bdff-4104d0fe3472",
   "metadata": {},
   "source": [
    "The path is not relative to this notebook and there is no file with that name in the directory where this notebook is.  A relative path is needed."
   ]
  }
 ],
 "metadata": {
  "kernelspec": {
   "display_name": "Python 3 (ipykernel)",
   "language": "python",
   "name": "python3"
  },
  "language_info": {
   "codemirror_mode": {
    "name": "ipython",
    "version": 3
   },
   "file_extension": ".py",
   "mimetype": "text/x-python",
   "name": "python",
   "nbconvert_exporter": "python",
   "pygments_lexer": "ipython3",
   "version": "3.12.4"
  }
 },
 "nbformat": 4,
 "nbformat_minor": 5
}
