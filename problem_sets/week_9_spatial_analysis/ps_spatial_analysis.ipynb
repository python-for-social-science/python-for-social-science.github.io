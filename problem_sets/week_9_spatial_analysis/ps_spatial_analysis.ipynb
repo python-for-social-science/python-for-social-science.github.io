{
 "cells": [
  {
   "cell_type": "markdown",
   "id": "ba2a54a6-1adb-4eca-9242-f0ebbfea1abd",
   "metadata": {},
   "source": [
    "# Geospatial Analysis Problem Set\n",
    "\n",
    "<span style=\"color:red\">0 / 0 points</span>.\n",
    "\n",
    "In this problem set, you will continue to work with geospatial California data. After every step in the problem set, create a new cell, code or Markdown as appropriate, for the answer. "
   ]
  },
  {
   "cell_type": "markdown",
   "id": "e047c5c6-fda4-4ee1-aa33-4174be78b05e",
   "metadata": {},
   "source": [
    "# Programming\n",
    "1. Make a map of California where each county is colored by its land area; this value is in a shapefile used in the Geospatial chapter.  Remove the x and y axis, do not display a legend, and save the file as 'CA_county_area.jpg' with a resolution of 450 dots per inch.  "
   ]
  },
  {
   "cell_type": "markdown",
   "id": "447e6db8-b17a-488c-83ea-bb10424ae99b",
   "metadata": {},
   "source": [
    "2. Make the same map but add a legend with the label 'Land area'.  Save it using the same name as in step 1."
   ]
  },
  {
   "cell_type": "markdown",
   "id": "3ba518e0-37f0-4fb5-86aa-dee4ab585d3a",
   "metadata": {},
   "source": [
    "3. Make a new variable that is the percent of each county whose area is water; call it `water_perc`.  What is the mean percent of countries that is water?  Provide the answer using a print statement."
   ]
  },
  {
   "cell_type": "markdown",
   "id": "18f7b8cf-189a-4ff0-8665-95543f3844e0",
   "metadata": {},
   "source": [
    "4. Make a map of California where each county is colored by this new variable.  Display a legend but do not display x and y axes or save."
   ]
  },
  {
   "cell_type": "markdown",
   "id": "3a8df66f-5355-43d3-ba2b-cfaed097153d",
   "metadata": {},
   "source": [
    "5. Make a map of California where each county is colored by the number of transit stops.  Display a legend and give it a title.  Do not display the axes.  Save the map as 'CA_transitStops_byCounty.jpg' with a 300 dots per inch resolution."
   ]
  },
  {
   "cell_type": "markdown",
   "id": "882ad66c-9ed5-436d-a444-9ff96dd7c987",
   "metadata": {},
   "source": [
    "6. Use the California overcrowding data to make a map of the percent of households overcrowded by county from 2011-2015 regardless of race.  Display a legend and give it a title.  Do not display the axes.  "
   ]
  },
  {
   "cell_type": "markdown",
   "id": "4c3d4aef-2e13-4865-baab-dd170c02860e",
   "metadata": {},
   "source": [
    "7. Make a map of California cities in Imperial, Kern, Los Angeles, Orange, Riverside, San Bernardino, San Diego, San Luis Obispo, Santa Barbara, and Ventura counties that shows the number of transit stops per city.  This problem is quite long, so here are some hints:\n",
    "\n",
    "- You need three datasets.\n",
    "- You should get an error about 'index_right' and 'index_left'.  When that error comes, drop the problematic column(s).\n",
    "- Before plotting you will need to aggregate stops to the city.  This process will take a very long time, so to save time use `pandas` to take a random subset of 5000 rows chosen with the random_state seed of 1039.  "
   ]
  },
  {
   "cell_type": "markdown",
   "id": "d0f3729f-0e67-40a3-ad40-3e53f457d3e9",
   "metadata": {},
   "source": [
    "8. It is a bit difficult to see city variation when looking at so many counties at once.  For this problem, plot the number of transit stops only in Los Angeles County."
   ]
  },
  {
   "cell_type": "markdown",
   "id": "bc66b466-0b94-40f9-aa65-bd2a3268b964",
   "metadata": {},
   "source": [
    "# Interpretation\n",
    "8. According to the map you made of transit stops, Los Angeles County has significantly more transit stops than the other counties, and most of the Southern California counties appear to have as many transit stops as the California counties situated around San Francisco Bay.  This pattern goes against conventional wisdom which says that Southern California is more car centric than the San Francisco Bay area.  What explains why the map shows a different pattern?  If the pattern should match conventional wisdom, what would you change in the plot?"
   ]
  },
  {
   "cell_type": "markdown",
   "id": "db28f193-4d9b-49a8-b4b5-3de9442c55a0",
   "metadata": {},
   "source": [
    "9. According to the overcrowding map, which county is the most overcrowded?  Where are other overcrowded counties?  What part of the state contains the least overcrowding?"
   ]
  },
  {
   "cell_type": "markdown",
   "id": "d6749455-c21d-41cd-bfe4-61d607f51016",
   "metadata": {},
   "source": [
    "# Debugging"
   ]
  },
  {
   "cell_type": "markdown",
   "id": "2b94fcbf-cc56-429f-a1ca-f79cb2580713",
   "metadata": {},
   "source": [
    "10. Below is code that is supposed to plot the percent overcrowded by county.  It does not work.  Why?"
   ]
  },
  {
   "cell_type": "code",
   "execution_count": null,
   "id": "48485ea3-8d0e-43c4-9a5b-585031eb7cf2",
   "metadata": {},
   "outputs": [],
   "source": [
    "crowding.plot(coolumn='perc_overcrowded', legend=True, legend_kwds={'label': 'Percent Households Overcrowded'}).set_axis_off()"
   ]
  },
  {
   "cell_type": "markdown",
   "id": "f0d1f0e2-819f-41db-be1c-117992e5b802",
   "metadata": {},
   "source": [
    "11.  Below is code that should read in the places shapefile.  If you execute it you will find it does not.  Why?"
   ]
  },
  {
   "cell_type": "code",
   "execution_count": null,
   "id": "cbaff1b1-fb9d-4388-83ad-fb06ce8bf0e5",
   "metadata": {},
   "outputs": [],
   "source": [
    "ca_places = gpd.read_file('CA_Places_TIGER2016.shp')"
   ]
  }
 ],
 "metadata": {
  "kernelspec": {
   "display_name": "Python 3 (ipykernel)",
   "language": "python",
   "name": "python3"
  },
  "language_info": {
   "codemirror_mode": {
    "name": "ipython",
    "version": 3
   },
   "file_extension": ".py",
   "mimetype": "text/x-python",
   "name": "python",
   "nbconvert_exporter": "python",
   "pygments_lexer": "ipython3",
   "version": "3.12.4"
  }
 },
 "nbformat": 4,
 "nbformat_minor": 5
}
